{
 "cells": [
  {
   "cell_type": "markdown",
   "id": "61a07cd7",
   "metadata": {},
   "source": [
    "## Load necessary packages"
   ]
  },
  {
   "cell_type": "code",
   "execution_count": 1,
   "id": "053231cd",
   "metadata": {},
   "outputs": [],
   "source": [
    "import torch\n",
    "import torch.nn as nn\n",
    "from torch.nn import functional as F\n",
    "import torch.optim as optim\n",
    "from torch.utils.data import TensorDataset, DataLoader, Dataset, ConcatDataset"
   ]
  },
  {
   "cell_type": "code",
   "execution_count": 2,
   "id": "c73cf8f6",
   "metadata": {},
   "outputs": [
    {
     "data": {
      "text/plain": [
       "True"
      ]
     },
     "execution_count": 2,
     "metadata": {},
     "output_type": "execute_result"
    }
   ],
   "source": [
    "torch.cuda.is_available()"
   ]
  },
  {
   "cell_type": "code",
   "execution_count": 3,
   "id": "b73f7833",
   "metadata": {},
   "outputs": [],
   "source": [
    "import sys\n",
    "sys.path.append('C:\\\\Users\\\\AFischer\\\\PycharmProjects\\\\term_preterm_database')\n",
    "sys.path.append('C:\\\\Users\\\\AFischer\\\\PycharmProjects\\\\term_preterm_database\\\\src_pre_term_database')"
   ]
  },
  {
   "cell_type": "code",
   "execution_count": 4,
   "id": "8f77149a",
   "metadata": {},
   "outputs": [
    {
     "data": {
      "text/html": [
       "        <script type=\"text/javascript\">\n",
       "        window.PlotlyConfig = {MathJaxConfig: 'local'};\n",
       "        if (window.MathJax) {MathJax.Hub.Config({SVG: {font: \"STIX-Web\"}});}\n",
       "        if (typeof require !== 'undefined') {\n",
       "        require.undef(\"plotly\");\n",
       "        requirejs.config({\n",
       "            paths: {\n",
       "                'plotly': ['https://cdn.plot.ly/plotly-2.2.0.min']\n",
       "            }\n",
       "        });\n",
       "        require(['plotly'], function(Plotly) {\n",
       "            window._Plotly = Plotly;\n",
       "        });\n",
       "        }\n",
       "        </script>\n",
       "        "
      ]
     },
     "metadata": {},
     "output_type": "display_data"
    },
    {
     "data": {
      "text/html": [
       "        <script type=\"text/javascript\">\n",
       "        window.PlotlyConfig = {MathJaxConfig: 'local'};\n",
       "        if (window.MathJax) {MathJax.Hub.Config({SVG: {font: \"STIX-Web\"}});}\n",
       "        if (typeof require !== 'undefined') {\n",
       "        require.undef(\"plotly\");\n",
       "        requirejs.config({\n",
       "            paths: {\n",
       "                'plotly': ['https://cdn.plot.ly/plotly-2.2.0.min']\n",
       "            }\n",
       "        });\n",
       "        require(['plotly'], function(Plotly) {\n",
       "            window._Plotly = Plotly;\n",
       "        });\n",
       "        }\n",
       "        </script>\n",
       "        "
      ]
     },
     "metadata": {},
     "output_type": "display_data"
    }
   ],
   "source": [
    "import math\n",
    "import wfdb\n",
    "import numpy as np\n",
    "import pandas as pd \n",
    "import constants as c\n",
    "from src_pre_term_database.load_dataset import build_signal_dataframe, build_clinical_information_dataframe\n",
    "from utils import read_settings, replace_inf_with_zero, replace_na_with_zero\n",
    "from pathlib import Path\n",
    "import matplotlib.pyplot as plt\n",
    "from datetime import datetime\n",
    "from tqdm.auto import tqdm\n",
    "from sklearn.preprocessing import LabelEncoder\n",
    "from sklearn.model_selection import train_test_split\n",
    "from sklearn.preprocessing import StandardScaler\n",
    "from sklearn.compose import ColumnTransformer\n",
    "from sklearn.pipeline import Pipeline\n",
    "from scipy.signal import butter, filtfilt\n",
    "from src_pre_term_database.visualizing import plot_histogram, plot_distribution_feature\n",
    "from src_pre_term_database.data_processing_and_feature_engineering import create_filtered_channels, remove_first_n_samples_of_signals, remove_last_n_samples_of_signals, train_val_test_split, feature_label_split, pad_sequences_to_fixed_length, pad_sequences_to_fixed_length_df, custom_sort_for_stateful_lstm, NonOverlappingSequencesDataset, calculate_samp_en_over_fixed_time_window\n",
    "from pandas._testing import assert_frame_equal\n",
    "from IPython.display import Latex\n",
    "from sklearn.metrics import precision_score, recall_score, f1_score, precision_recall_curve"
   ]
  },
  {
   "cell_type": "markdown",
   "id": "b3a9917a",
   "metadata": {},
   "source": [
    "## Load in data"
   ]
  },
  {
   "cell_type": "code",
   "execution_count": 5,
   "id": "376123e9",
   "metadata": {},
   "outputs": [],
   "source": [
    "settings_path = 'C:/Users/AFischer/PycharmProjects/term_preterm_database/references/settings'\n",
    "\n",
    "file_paths = read_settings(settings_path, 'file_paths')\n",
    "\n",
    "SIGNAL_COLUMN_NAMES = ['1', '1_DOCFILT-4-0.08-4', '1_DOCFILT-4-0.3-3', '1_DOCFILT-4-0.3-4',\n",
    "                       '2', '2_DOCFILT-4-0.08-4', '2_DOCFILT-4-0.3-3', '2_DOCFILT-4-0.3-4',\n",
    "                       '3', '3_DOCFILT-4-0.08-4', '3_DOCFILT-4-0.3-3', '3_DOCFILT-4-0.3-4']"
   ]
  },
  {
   "cell_type": "code",
   "execution_count": 6,
   "id": "af95835c",
   "metadata": {},
   "outputs": [],
   "source": [
    "data_path = file_paths['data_path']"
   ]
  },
  {
   "cell_type": "code",
   "execution_count": 7,
   "id": "c84ab0a1",
   "metadata": {},
   "outputs": [
    {
     "data": {
      "application/vnd.jupyter.widget-view+json": {
       "model_id": "10cb87798dab456a89a082cd3bdc568d",
       "version_major": 2,
       "version_minor": 0
      },
      "text/plain": [
       "  0%|          | 0/300 [00:00<?, ?it/s]"
      ]
     },
     "metadata": {},
     "output_type": "display_data"
    }
   ],
   "source": [
    "df_signals = build_signal_dataframe(data_path, settings_path)"
   ]
  },
  {
   "cell_type": "code",
   "execution_count": 8,
   "id": "0c8001a4",
   "metadata": {},
   "outputs": [
    {
     "data": {
      "text/html": [
       "<div>\n",
       "<style scoped>\n",
       "    .dataframe tbody tr th:only-of-type {\n",
       "        vertical-align: middle;\n",
       "    }\n",
       "\n",
       "    .dataframe tbody tr th {\n",
       "        vertical-align: top;\n",
       "    }\n",
       "\n",
       "    .dataframe thead th {\n",
       "        text-align: right;\n",
       "    }\n",
       "</style>\n",
       "<table border=\"1\" class=\"dataframe\">\n",
       "  <thead>\n",
       "    <tr style=\"text-align: right;\">\n",
       "      <th></th>\n",
       "      <th>rec_id</th>\n",
       "      <th>channel_1</th>\n",
       "      <th>channel_1_filt_0.08_4_hz</th>\n",
       "      <th>channel_1_filt_0.3_3_hz</th>\n",
       "      <th>channel_1_filt_0.3_4_hz</th>\n",
       "      <th>channel_2</th>\n",
       "      <th>channel_2_filt_0.08_4_hz</th>\n",
       "      <th>channel_2_filt_0.3_3_hz</th>\n",
       "      <th>channel_2_filt_0.3_4_hz</th>\n",
       "      <th>channel_3</th>\n",
       "      <th>channel_3_filt_0.08_4_hz</th>\n",
       "      <th>channel_3_filt_0.3_3_hz</th>\n",
       "      <th>channel_3_filt_0.3_4_hz</th>\n",
       "    </tr>\n",
       "  </thead>\n",
       "  <tbody>\n",
       "    <tr>\n",
       "      <th>0</th>\n",
       "      <td>1007</td>\n",
       "      <td>0.083391</td>\n",
       "      <td>0.002441</td>\n",
       "      <td>0.000763</td>\n",
       "      <td>0.002213</td>\n",
       "      <td>0.013046</td>\n",
       "      <td>0.000763</td>\n",
       "      <td>0.000458</td>\n",
       "      <td>0.001221</td>\n",
       "      <td>-0.057069</td>\n",
       "      <td>-0.000534</td>\n",
       "      <td>-0.000153</td>\n",
       "      <td>-0.000534</td>\n",
       "    </tr>\n",
       "    <tr>\n",
       "      <th>1</th>\n",
       "      <td>1007</td>\n",
       "      <td>0.087358</td>\n",
       "      <td>0.013962</td>\n",
       "      <td>0.005188</td>\n",
       "      <td>0.012741</td>\n",
       "      <td>0.013733</td>\n",
       "      <td>0.004425</td>\n",
       "      <td>0.003204</td>\n",
       "      <td>0.007172</td>\n",
       "      <td>-0.060273</td>\n",
       "      <td>-0.003204</td>\n",
       "      <td>-0.000992</td>\n",
       "      <td>-0.002976</td>\n",
       "    </tr>\n",
       "    <tr>\n",
       "      <th>2</th>\n",
       "      <td>1007</td>\n",
       "      <td>0.082246</td>\n",
       "      <td>0.034867</td>\n",
       "      <td>0.015640</td>\n",
       "      <td>0.031434</td>\n",
       "      <td>0.016251</td>\n",
       "      <td>0.011063</td>\n",
       "      <td>0.009613</td>\n",
       "      <td>0.018387</td>\n",
       "      <td>-0.058061</td>\n",
       "      <td>-0.007935</td>\n",
       "      <td>-0.003052</td>\n",
       "      <td>-0.006867</td>\n",
       "    </tr>\n",
       "    <tr>\n",
       "      <th>3</th>\n",
       "      <td>1007</td>\n",
       "      <td>0.074464</td>\n",
       "      <td>0.051423</td>\n",
       "      <td>0.029374</td>\n",
       "      <td>0.045548</td>\n",
       "      <td>0.015259</td>\n",
       "      <td>0.015946</td>\n",
       "      <td>0.018006</td>\n",
       "      <td>0.027771</td>\n",
       "      <td>-0.054322</td>\n",
       "      <td>-0.011902</td>\n",
       "      <td>-0.005951</td>\n",
       "      <td>-0.009155</td>\n",
       "    </tr>\n",
       "    <tr>\n",
       "      <th>4</th>\n",
       "      <td>1007</td>\n",
       "      <td>0.070268</td>\n",
       "      <td>0.052949</td>\n",
       "      <td>0.039750</td>\n",
       "      <td>0.045396</td>\n",
       "      <td>0.011215</td>\n",
       "      <td>0.014725</td>\n",
       "      <td>0.024109</td>\n",
       "      <td>0.028534</td>\n",
       "      <td>-0.054398</td>\n",
       "      <td>-0.013733</td>\n",
       "      <td>-0.008469</td>\n",
       "      <td>-0.008774</td>\n",
       "    </tr>\n",
       "  </tbody>\n",
       "</table>\n",
       "</div>"
      ],
      "text/plain": [
       "   rec_id  channel_1  channel_1_filt_0.08_4_hz  channel_1_filt_0.3_3_hz  \\\n",
       "0    1007   0.083391                  0.002441                 0.000763   \n",
       "1    1007   0.087358                  0.013962                 0.005188   \n",
       "2    1007   0.082246                  0.034867                 0.015640   \n",
       "3    1007   0.074464                  0.051423                 0.029374   \n",
       "4    1007   0.070268                  0.052949                 0.039750   \n",
       "\n",
       "   channel_1_filt_0.3_4_hz  channel_2  channel_2_filt_0.08_4_hz  \\\n",
       "0                 0.002213   0.013046                  0.000763   \n",
       "1                 0.012741   0.013733                  0.004425   \n",
       "2                 0.031434   0.016251                  0.011063   \n",
       "3                 0.045548   0.015259                  0.015946   \n",
       "4                 0.045396   0.011215                  0.014725   \n",
       "\n",
       "   channel_2_filt_0.3_3_hz  channel_2_filt_0.3_4_hz  channel_3  \\\n",
       "0                 0.000458                 0.001221  -0.057069   \n",
       "1                 0.003204                 0.007172  -0.060273   \n",
       "2                 0.009613                 0.018387  -0.058061   \n",
       "3                 0.018006                 0.027771  -0.054322   \n",
       "4                 0.024109                 0.028534  -0.054398   \n",
       "\n",
       "   channel_3_filt_0.08_4_hz  channel_3_filt_0.3_3_hz  channel_3_filt_0.3_4_hz  \n",
       "0                 -0.000534                -0.000153                -0.000534  \n",
       "1                 -0.003204                -0.000992                -0.002976  \n",
       "2                 -0.007935                -0.003052                -0.006867  \n",
       "3                 -0.011902                -0.005951                -0.009155  \n",
       "4                 -0.013733                -0.008469                -0.008774  "
      ]
     },
     "execution_count": 8,
     "metadata": {},
     "output_type": "execute_result"
    }
   ],
   "source": [
    "df_signals.head()"
   ]
  },
  {
   "cell_type": "markdown",
   "id": "ab4b30e6",
   "metadata": {},
   "source": [
    "A Butterworth filter with forward and backward filter is used to filter the signals. The combined filter has zero phase. Different bandwidths can be used."
   ]
  },
  {
   "cell_type": "code",
   "execution_count": 9,
   "id": "41a6985b",
   "metadata": {
    "scrolled": true
   },
   "outputs": [],
   "source": [
    "df_signals_new = create_filtered_channels(df_signals, ['channel_1', 'channel_2', 'channel_3'], \n",
    "                                          [[0.08, 4], [0.3, 3], [0.3, 4]], fs=20, order=4)"
   ]
  },
  {
   "cell_type": "code",
   "execution_count": 10,
   "id": "e3f6100d",
   "metadata": {},
   "outputs": [],
   "source": [
    "del df_signals"
   ]
  },
  {
   "cell_type": "markdown",
   "id": "e6e46715",
   "metadata": {},
   "source": [
    "The first and last 180 seconds of the signals should be ignored since these intervals contain transient effects of the filters(source: https://physionet.org/content/tpehgdb/1.0.1/#ref1).\n",
    "\n",
    "The sampling frequency is 20 Hz, so the first and last 20*180 datapoints should be removed."
   ]
  },
  {
   "cell_type": "code",
   "execution_count": 11,
   "id": "c43490bd",
   "metadata": {},
   "outputs": [
    {
     "name": "stdout",
     "output_type": "stream",
     "text": [
      "The number of data points before removing the first 3600 data points (per rec_id) is: 10655901\n",
      "The number of data points after removing the first 3600 data points (per rec_id) is: 9575901\n"
     ]
    }
   ],
   "source": [
    "df_signals_new = remove_first_n_samples_of_signals(df_signals_new, n=3600)"
   ]
  },
  {
   "cell_type": "code",
   "execution_count": 12,
   "id": "0cde2268",
   "metadata": {},
   "outputs": [
    {
     "name": "stdout",
     "output_type": "stream",
     "text": [
      "The number of data points before removing the last 3600 data points (per rec_id) is: 9575901\n",
      "The number of data points after removing the last 3600 data points (per rec_id) is: 8495901\n"
     ]
    }
   ],
   "source": [
    "df_signals_new = remove_last_n_samples_of_signals(df_signals_new, n=3600)"
   ]
  },
  {
   "cell_type": "markdown",
   "id": "62710bf3",
   "metadata": {},
   "source": [
    "We need to check the distribution of the sequence length of all the rec ids. Later on, we will need to pad/truncate every sequence to the same length. Based on the plot we will choose 28800 (which is the mode) as the fixed sequence length we will pad/truncate all the sequences to."
   ]
  },
  {
   "cell_type": "code",
   "execution_count": 13,
   "id": "1b56b5cd",
   "metadata": {},
   "outputs": [
    {
     "data": {
      "application/vnd.plotly.v1+json": {
       "config": {
        "linkText": "Export to plot.ly",
        "plotlyServerURL": "https://plot.ly",
        "showLink": false
       },
       "data": [
        {
         "marker": {
          "color": [
           "rgba(222,45,38,0.8)",
           "rgba(222,45,38,0.8)",
           "rgba(222,45,38,0.8)",
           "rgba(222,45,38,0.8)",
           "rgba(204,204,204,1)",
           "rgba(204,204,204,1)",
           "rgba(204,204,204,1)",
           "rgba(204,204,204,1)",
           "rgba(204,204,204,1)",
           "rgba(204,204,204,1)",
           "rgba(204,204,204,1)",
           "rgba(204,204,204,1)",
           "rgba(204,204,204,1)",
           "rgba(204,204,204,1)",
           "rgba(204,204,204,1)",
           "rgba(204,204,204,1)",
           "rgba(204,204,204,1)",
           "rgba(222,45,38,0.8)",
           "rgba(222,45,38,0.8)",
           "rgba(222,45,38,0.8)",
           "rgba(204,204,204,1)",
           "rgba(204,204,204,1)",
           "rgba(204,204,204,1)",
           "rgba(222,45,38,0.8)",
           "rgba(222,45,38,0.8)"
          ]
         },
         "type": "bar",
         "x": [
          "7860",
          "24105",
          "27880",
          "27900",
          "27940",
          "27960",
          "27980",
          "28000",
          "28020",
          "28040",
          "28060",
          "28080",
          "28100",
          "28120",
          "28140",
          "28160",
          "28180",
          "28200",
          "28220",
          "28240",
          "28260",
          "28799",
          "28800",
          "30856",
          "32673"
         ],
         "y": [
          1,
          1,
          1,
          1,
          2,
          2,
          10,
          13,
          14,
          21,
          21,
          13,
          17,
          21,
          12,
          8,
          3,
          1,
          1,
          1,
          11,
          33,
          90,
          1,
          1
         ]
        }
       ],
       "layout": {
        "template": {
         "data": {
          "bar": [
           {
            "error_x": {
             "color": "#2a3f5f"
            },
            "error_y": {
             "color": "#2a3f5f"
            },
            "marker": {
             "line": {
              "color": "#E5ECF6",
              "width": 0.5
             },
             "pattern": {
              "fillmode": "overlay",
              "size": 10,
              "solidity": 0.2
             }
            },
            "type": "bar"
           }
          ],
          "barpolar": [
           {
            "marker": {
             "line": {
              "color": "#E5ECF6",
              "width": 0.5
             },
             "pattern": {
              "fillmode": "overlay",
              "size": 10,
              "solidity": 0.2
             }
            },
            "type": "barpolar"
           }
          ],
          "carpet": [
           {
            "aaxis": {
             "endlinecolor": "#2a3f5f",
             "gridcolor": "white",
             "linecolor": "white",
             "minorgridcolor": "white",
             "startlinecolor": "#2a3f5f"
            },
            "baxis": {
             "endlinecolor": "#2a3f5f",
             "gridcolor": "white",
             "linecolor": "white",
             "minorgridcolor": "white",
             "startlinecolor": "#2a3f5f"
            },
            "type": "carpet"
           }
          ],
          "choropleth": [
           {
            "colorbar": {
             "outlinewidth": 0,
             "ticks": ""
            },
            "type": "choropleth"
           }
          ],
          "contour": [
           {
            "colorbar": {
             "outlinewidth": 0,
             "ticks": ""
            },
            "colorscale": [
             [
              0,
              "#0d0887"
             ],
             [
              0.1111111111111111,
              "#46039f"
             ],
             [
              0.2222222222222222,
              "#7201a8"
             ],
             [
              0.3333333333333333,
              "#9c179e"
             ],
             [
              0.4444444444444444,
              "#bd3786"
             ],
             [
              0.5555555555555556,
              "#d8576b"
             ],
             [
              0.6666666666666666,
              "#ed7953"
             ],
             [
              0.7777777777777778,
              "#fb9f3a"
             ],
             [
              0.8888888888888888,
              "#fdca26"
             ],
             [
              1,
              "#f0f921"
             ]
            ],
            "type": "contour"
           }
          ],
          "contourcarpet": [
           {
            "colorbar": {
             "outlinewidth": 0,
             "ticks": ""
            },
            "type": "contourcarpet"
           }
          ],
          "heatmap": [
           {
            "colorbar": {
             "outlinewidth": 0,
             "ticks": ""
            },
            "colorscale": [
             [
              0,
              "#0d0887"
             ],
             [
              0.1111111111111111,
              "#46039f"
             ],
             [
              0.2222222222222222,
              "#7201a8"
             ],
             [
              0.3333333333333333,
              "#9c179e"
             ],
             [
              0.4444444444444444,
              "#bd3786"
             ],
             [
              0.5555555555555556,
              "#d8576b"
             ],
             [
              0.6666666666666666,
              "#ed7953"
             ],
             [
              0.7777777777777778,
              "#fb9f3a"
             ],
             [
              0.8888888888888888,
              "#fdca26"
             ],
             [
              1,
              "#f0f921"
             ]
            ],
            "type": "heatmap"
           }
          ],
          "heatmapgl": [
           {
            "colorbar": {
             "outlinewidth": 0,
             "ticks": ""
            },
            "colorscale": [
             [
              0,
              "#0d0887"
             ],
             [
              0.1111111111111111,
              "#46039f"
             ],
             [
              0.2222222222222222,
              "#7201a8"
             ],
             [
              0.3333333333333333,
              "#9c179e"
             ],
             [
              0.4444444444444444,
              "#bd3786"
             ],
             [
              0.5555555555555556,
              "#d8576b"
             ],
             [
              0.6666666666666666,
              "#ed7953"
             ],
             [
              0.7777777777777778,
              "#fb9f3a"
             ],
             [
              0.8888888888888888,
              "#fdca26"
             ],
             [
              1,
              "#f0f921"
             ]
            ],
            "type": "heatmapgl"
           }
          ],
          "histogram": [
           {
            "marker": {
             "pattern": {
              "fillmode": "overlay",
              "size": 10,
              "solidity": 0.2
             }
            },
            "type": "histogram"
           }
          ],
          "histogram2d": [
           {
            "colorbar": {
             "outlinewidth": 0,
             "ticks": ""
            },
            "colorscale": [
             [
              0,
              "#0d0887"
             ],
             [
              0.1111111111111111,
              "#46039f"
             ],
             [
              0.2222222222222222,
              "#7201a8"
             ],
             [
              0.3333333333333333,
              "#9c179e"
             ],
             [
              0.4444444444444444,
              "#bd3786"
             ],
             [
              0.5555555555555556,
              "#d8576b"
             ],
             [
              0.6666666666666666,
              "#ed7953"
             ],
             [
              0.7777777777777778,
              "#fb9f3a"
             ],
             [
              0.8888888888888888,
              "#fdca26"
             ],
             [
              1,
              "#f0f921"
             ]
            ],
            "type": "histogram2d"
           }
          ],
          "histogram2dcontour": [
           {
            "colorbar": {
             "outlinewidth": 0,
             "ticks": ""
            },
            "colorscale": [
             [
              0,
              "#0d0887"
             ],
             [
              0.1111111111111111,
              "#46039f"
             ],
             [
              0.2222222222222222,
              "#7201a8"
             ],
             [
              0.3333333333333333,
              "#9c179e"
             ],
             [
              0.4444444444444444,
              "#bd3786"
             ],
             [
              0.5555555555555556,
              "#d8576b"
             ],
             [
              0.6666666666666666,
              "#ed7953"
             ],
             [
              0.7777777777777778,
              "#fb9f3a"
             ],
             [
              0.8888888888888888,
              "#fdca26"
             ],
             [
              1,
              "#f0f921"
             ]
            ],
            "type": "histogram2dcontour"
           }
          ],
          "mesh3d": [
           {
            "colorbar": {
             "outlinewidth": 0,
             "ticks": ""
            },
            "type": "mesh3d"
           }
          ],
          "parcoords": [
           {
            "line": {
             "colorbar": {
              "outlinewidth": 0,
              "ticks": ""
             }
            },
            "type": "parcoords"
           }
          ],
          "pie": [
           {
            "automargin": true,
            "type": "pie"
           }
          ],
          "scatter": [
           {
            "marker": {
             "colorbar": {
              "outlinewidth": 0,
              "ticks": ""
             }
            },
            "type": "scatter"
           }
          ],
          "scatter3d": [
           {
            "line": {
             "colorbar": {
              "outlinewidth": 0,
              "ticks": ""
             }
            },
            "marker": {
             "colorbar": {
              "outlinewidth": 0,
              "ticks": ""
             }
            },
            "type": "scatter3d"
           }
          ],
          "scattercarpet": [
           {
            "marker": {
             "colorbar": {
              "outlinewidth": 0,
              "ticks": ""
             }
            },
            "type": "scattercarpet"
           }
          ],
          "scattergeo": [
           {
            "marker": {
             "colorbar": {
              "outlinewidth": 0,
              "ticks": ""
             }
            },
            "type": "scattergeo"
           }
          ],
          "scattergl": [
           {
            "marker": {
             "colorbar": {
              "outlinewidth": 0,
              "ticks": ""
             }
            },
            "type": "scattergl"
           }
          ],
          "scattermapbox": [
           {
            "marker": {
             "colorbar": {
              "outlinewidth": 0,
              "ticks": ""
             }
            },
            "type": "scattermapbox"
           }
          ],
          "scatterpolar": [
           {
            "marker": {
             "colorbar": {
              "outlinewidth": 0,
              "ticks": ""
             }
            },
            "type": "scatterpolar"
           }
          ],
          "scatterpolargl": [
           {
            "marker": {
             "colorbar": {
              "outlinewidth": 0,
              "ticks": ""
             }
            },
            "type": "scatterpolargl"
           }
          ],
          "scatterternary": [
           {
            "marker": {
             "colorbar": {
              "outlinewidth": 0,
              "ticks": ""
             }
            },
            "type": "scatterternary"
           }
          ],
          "surface": [
           {
            "colorbar": {
             "outlinewidth": 0,
             "ticks": ""
            },
            "colorscale": [
             [
              0,
              "#0d0887"
             ],
             [
              0.1111111111111111,
              "#46039f"
             ],
             [
              0.2222222222222222,
              "#7201a8"
             ],
             [
              0.3333333333333333,
              "#9c179e"
             ],
             [
              0.4444444444444444,
              "#bd3786"
             ],
             [
              0.5555555555555556,
              "#d8576b"
             ],
             [
              0.6666666666666666,
              "#ed7953"
             ],
             [
              0.7777777777777778,
              "#fb9f3a"
             ],
             [
              0.8888888888888888,
              "#fdca26"
             ],
             [
              1,
              "#f0f921"
             ]
            ],
            "type": "surface"
           }
          ],
          "table": [
           {
            "cells": {
             "fill": {
              "color": "#EBF0F8"
             },
             "line": {
              "color": "white"
             }
            },
            "header": {
             "fill": {
              "color": "#C8D4E3"
             },
             "line": {
              "color": "white"
             }
            },
            "type": "table"
           }
          ]
         },
         "layout": {
          "annotationdefaults": {
           "arrowcolor": "#2a3f5f",
           "arrowhead": 0,
           "arrowwidth": 1
          },
          "autotypenumbers": "strict",
          "coloraxis": {
           "colorbar": {
            "outlinewidth": 0,
            "ticks": ""
           }
          },
          "colorscale": {
           "diverging": [
            [
             0,
             "#8e0152"
            ],
            [
             0.1,
             "#c51b7d"
            ],
            [
             0.2,
             "#de77ae"
            ],
            [
             0.3,
             "#f1b6da"
            ],
            [
             0.4,
             "#fde0ef"
            ],
            [
             0.5,
             "#f7f7f7"
            ],
            [
             0.6,
             "#e6f5d0"
            ],
            [
             0.7,
             "#b8e186"
            ],
            [
             0.8,
             "#7fbc41"
            ],
            [
             0.9,
             "#4d9221"
            ],
            [
             1,
             "#276419"
            ]
           ],
           "sequential": [
            [
             0,
             "#0d0887"
            ],
            [
             0.1111111111111111,
             "#46039f"
            ],
            [
             0.2222222222222222,
             "#7201a8"
            ],
            [
             0.3333333333333333,
             "#9c179e"
            ],
            [
             0.4444444444444444,
             "#bd3786"
            ],
            [
             0.5555555555555556,
             "#d8576b"
            ],
            [
             0.6666666666666666,
             "#ed7953"
            ],
            [
             0.7777777777777778,
             "#fb9f3a"
            ],
            [
             0.8888888888888888,
             "#fdca26"
            ],
            [
             1,
             "#f0f921"
            ]
           ],
           "sequentialminus": [
            [
             0,
             "#0d0887"
            ],
            [
             0.1111111111111111,
             "#46039f"
            ],
            [
             0.2222222222222222,
             "#7201a8"
            ],
            [
             0.3333333333333333,
             "#9c179e"
            ],
            [
             0.4444444444444444,
             "#bd3786"
            ],
            [
             0.5555555555555556,
             "#d8576b"
            ],
            [
             0.6666666666666666,
             "#ed7953"
            ],
            [
             0.7777777777777778,
             "#fb9f3a"
            ],
            [
             0.8888888888888888,
             "#fdca26"
            ],
            [
             1,
             "#f0f921"
            ]
           ]
          },
          "colorway": [
           "#636efa",
           "#EF553B",
           "#00cc96",
           "#ab63fa",
           "#FFA15A",
           "#19d3f3",
           "#FF6692",
           "#B6E880",
           "#FF97FF",
           "#FECB52"
          ],
          "font": {
           "color": "#2a3f5f"
          },
          "geo": {
           "bgcolor": "white",
           "lakecolor": "white",
           "landcolor": "#E5ECF6",
           "showlakes": true,
           "showland": true,
           "subunitcolor": "white"
          },
          "hoverlabel": {
           "align": "left"
          },
          "hovermode": "closest",
          "mapbox": {
           "style": "light"
          },
          "paper_bgcolor": "white",
          "plot_bgcolor": "#E5ECF6",
          "polar": {
           "angularaxis": {
            "gridcolor": "white",
            "linecolor": "white",
            "ticks": ""
           },
           "bgcolor": "#E5ECF6",
           "radialaxis": {
            "gridcolor": "white",
            "linecolor": "white",
            "ticks": ""
           }
          },
          "scene": {
           "xaxis": {
            "backgroundcolor": "#E5ECF6",
            "gridcolor": "white",
            "gridwidth": 2,
            "linecolor": "white",
            "showbackground": true,
            "ticks": "",
            "zerolinecolor": "white"
           },
           "yaxis": {
            "backgroundcolor": "#E5ECF6",
            "gridcolor": "white",
            "gridwidth": 2,
            "linecolor": "white",
            "showbackground": true,
            "ticks": "",
            "zerolinecolor": "white"
           },
           "zaxis": {
            "backgroundcolor": "#E5ECF6",
            "gridcolor": "white",
            "gridwidth": 2,
            "linecolor": "white",
            "showbackground": true,
            "ticks": "",
            "zerolinecolor": "white"
           }
          },
          "shapedefaults": {
           "line": {
            "color": "#2a3f5f"
           }
          },
          "ternary": {
           "aaxis": {
            "gridcolor": "white",
            "linecolor": "white",
            "ticks": ""
           },
           "baxis": {
            "gridcolor": "white",
            "linecolor": "white",
            "ticks": ""
           },
           "bgcolor": "#E5ECF6",
           "caxis": {
            "gridcolor": "white",
            "linecolor": "white",
            "ticks": ""
           }
          },
          "title": {
           "x": 0.05
          },
          "xaxis": {
           "automargin": true,
           "gridcolor": "white",
           "linecolor": "white",
           "ticks": "",
           "title": {
            "standoff": 15
           },
           "zerolinecolor": "white",
           "zerolinewidth": 2
          },
          "yaxis": {
           "automargin": true,
           "gridcolor": "white",
           "linecolor": "white",
           "ticks": "",
           "title": {
            "standoff": 15
           },
           "zerolinecolor": "white",
           "zerolinewidth": 2
          }
         }
        },
        "title": {
         "text": "Distribution of count"
        },
        "xaxis": {
         "title": {
          "font": {
           "color": "#7f7f7f",
           "family": "Courier New, monospace",
           "size": 18
          },
          "text": "count"
         }
        },
        "yaxis": {
         "title": {
          "font": {
           "color": "#7f7f7f",
           "family": "Courier New, monospace",
           "size": 18
          },
          "text": "Number of patients"
         }
        }
       }
      },
      "text/html": [
       "<div>                            <div id=\"9af8da84-d67e-4169-a95e-0fe43488d644\" class=\"plotly-graph-div\" style=\"height:525px; width:100%;\"></div>            <script type=\"text/javascript\">                require([\"plotly\"], function(Plotly) {                    window.PLOTLYENV=window.PLOTLYENV || {};                                    if (document.getElementById(\"9af8da84-d67e-4169-a95e-0fe43488d644\")) {                    Plotly.newPlot(                        \"9af8da84-d67e-4169-a95e-0fe43488d644\",                        [{\"marker\":{\"color\":[\"rgba(222,45,38,0.8)\",\"rgba(222,45,38,0.8)\",\"rgba(222,45,38,0.8)\",\"rgba(222,45,38,0.8)\",\"rgba(204,204,204,1)\",\"rgba(204,204,204,1)\",\"rgba(204,204,204,1)\",\"rgba(204,204,204,1)\",\"rgba(204,204,204,1)\",\"rgba(204,204,204,1)\",\"rgba(204,204,204,1)\",\"rgba(204,204,204,1)\",\"rgba(204,204,204,1)\",\"rgba(204,204,204,1)\",\"rgba(204,204,204,1)\",\"rgba(204,204,204,1)\",\"rgba(204,204,204,1)\",\"rgba(222,45,38,0.8)\",\"rgba(222,45,38,0.8)\",\"rgba(222,45,38,0.8)\",\"rgba(204,204,204,1)\",\"rgba(204,204,204,1)\",\"rgba(204,204,204,1)\",\"rgba(222,45,38,0.8)\",\"rgba(222,45,38,0.8)\"]},\"type\":\"bar\",\"x\":[\"7860\",\"24105\",\"27880\",\"27900\",\"27940\",\"27960\",\"27980\",\"28000\",\"28020\",\"28040\",\"28060\",\"28080\",\"28100\",\"28120\",\"28140\",\"28160\",\"28180\",\"28200\",\"28220\",\"28240\",\"28260\",\"28799\",\"28800\",\"30856\",\"32673\"],\"y\":[1,1,1,1,2,2,10,13,14,21,21,13,17,21,12,8,3,1,1,1,11,33,90,1,1]}],                        {\"template\":{\"data\":{\"bar\":[{\"error_x\":{\"color\":\"#2a3f5f\"},\"error_y\":{\"color\":\"#2a3f5f\"},\"marker\":{\"line\":{\"color\":\"#E5ECF6\",\"width\":0.5},\"pattern\":{\"fillmode\":\"overlay\",\"size\":10,\"solidity\":0.2}},\"type\":\"bar\"}],\"barpolar\":[{\"marker\":{\"line\":{\"color\":\"#E5ECF6\",\"width\":0.5},\"pattern\":{\"fillmode\":\"overlay\",\"size\":10,\"solidity\":0.2}},\"type\":\"barpolar\"}],\"carpet\":[{\"aaxis\":{\"endlinecolor\":\"#2a3f5f\",\"gridcolor\":\"white\",\"linecolor\":\"white\",\"minorgridcolor\":\"white\",\"startlinecolor\":\"#2a3f5f\"},\"baxis\":{\"endlinecolor\":\"#2a3f5f\",\"gridcolor\":\"white\",\"linecolor\":\"white\",\"minorgridcolor\":\"white\",\"startlinecolor\":\"#2a3f5f\"},\"type\":\"carpet\"}],\"choropleth\":[{\"colorbar\":{\"outlinewidth\":0,\"ticks\":\"\"},\"type\":\"choropleth\"}],\"contour\":[{\"colorbar\":{\"outlinewidth\":0,\"ticks\":\"\"},\"colorscale\":[[0.0,\"#0d0887\"],[0.1111111111111111,\"#46039f\"],[0.2222222222222222,\"#7201a8\"],[0.3333333333333333,\"#9c179e\"],[0.4444444444444444,\"#bd3786\"],[0.5555555555555556,\"#d8576b\"],[0.6666666666666666,\"#ed7953\"],[0.7777777777777778,\"#fb9f3a\"],[0.8888888888888888,\"#fdca26\"],[1.0,\"#f0f921\"]],\"type\":\"contour\"}],\"contourcarpet\":[{\"colorbar\":{\"outlinewidth\":0,\"ticks\":\"\"},\"type\":\"contourcarpet\"}],\"heatmap\":[{\"colorbar\":{\"outlinewidth\":0,\"ticks\":\"\"},\"colorscale\":[[0.0,\"#0d0887\"],[0.1111111111111111,\"#46039f\"],[0.2222222222222222,\"#7201a8\"],[0.3333333333333333,\"#9c179e\"],[0.4444444444444444,\"#bd3786\"],[0.5555555555555556,\"#d8576b\"],[0.6666666666666666,\"#ed7953\"],[0.7777777777777778,\"#fb9f3a\"],[0.8888888888888888,\"#fdca26\"],[1.0,\"#f0f921\"]],\"type\":\"heatmap\"}],\"heatmapgl\":[{\"colorbar\":{\"outlinewidth\":0,\"ticks\":\"\"},\"colorscale\":[[0.0,\"#0d0887\"],[0.1111111111111111,\"#46039f\"],[0.2222222222222222,\"#7201a8\"],[0.3333333333333333,\"#9c179e\"],[0.4444444444444444,\"#bd3786\"],[0.5555555555555556,\"#d8576b\"],[0.6666666666666666,\"#ed7953\"],[0.7777777777777778,\"#fb9f3a\"],[0.8888888888888888,\"#fdca26\"],[1.0,\"#f0f921\"]],\"type\":\"heatmapgl\"}],\"histogram\":[{\"marker\":{\"pattern\":{\"fillmode\":\"overlay\",\"size\":10,\"solidity\":0.2}},\"type\":\"histogram\"}],\"histogram2d\":[{\"colorbar\":{\"outlinewidth\":0,\"ticks\":\"\"},\"colorscale\":[[0.0,\"#0d0887\"],[0.1111111111111111,\"#46039f\"],[0.2222222222222222,\"#7201a8\"],[0.3333333333333333,\"#9c179e\"],[0.4444444444444444,\"#bd3786\"],[0.5555555555555556,\"#d8576b\"],[0.6666666666666666,\"#ed7953\"],[0.7777777777777778,\"#fb9f3a\"],[0.8888888888888888,\"#fdca26\"],[1.0,\"#f0f921\"]],\"type\":\"histogram2d\"}],\"histogram2dcontour\":[{\"colorbar\":{\"outlinewidth\":0,\"ticks\":\"\"},\"colorscale\":[[0.0,\"#0d0887\"],[0.1111111111111111,\"#46039f\"],[0.2222222222222222,\"#7201a8\"],[0.3333333333333333,\"#9c179e\"],[0.4444444444444444,\"#bd3786\"],[0.5555555555555556,\"#d8576b\"],[0.6666666666666666,\"#ed7953\"],[0.7777777777777778,\"#fb9f3a\"],[0.8888888888888888,\"#fdca26\"],[1.0,\"#f0f921\"]],\"type\":\"histogram2dcontour\"}],\"mesh3d\":[{\"colorbar\":{\"outlinewidth\":0,\"ticks\":\"\"},\"type\":\"mesh3d\"}],\"parcoords\":[{\"line\":{\"colorbar\":{\"outlinewidth\":0,\"ticks\":\"\"}},\"type\":\"parcoords\"}],\"pie\":[{\"automargin\":true,\"type\":\"pie\"}],\"scatter\":[{\"marker\":{\"colorbar\":{\"outlinewidth\":0,\"ticks\":\"\"}},\"type\":\"scatter\"}],\"scatter3d\":[{\"line\":{\"colorbar\":{\"outlinewidth\":0,\"ticks\":\"\"}},\"marker\":{\"colorbar\":{\"outlinewidth\":0,\"ticks\":\"\"}},\"type\":\"scatter3d\"}],\"scattercarpet\":[{\"marker\":{\"colorbar\":{\"outlinewidth\":0,\"ticks\":\"\"}},\"type\":\"scattercarpet\"}],\"scattergeo\":[{\"marker\":{\"colorbar\":{\"outlinewidth\":0,\"ticks\":\"\"}},\"type\":\"scattergeo\"}],\"scattergl\":[{\"marker\":{\"colorbar\":{\"outlinewidth\":0,\"ticks\":\"\"}},\"type\":\"scattergl\"}],\"scattermapbox\":[{\"marker\":{\"colorbar\":{\"outlinewidth\":0,\"ticks\":\"\"}},\"type\":\"scattermapbox\"}],\"scatterpolar\":[{\"marker\":{\"colorbar\":{\"outlinewidth\":0,\"ticks\":\"\"}},\"type\":\"scatterpolar\"}],\"scatterpolargl\":[{\"marker\":{\"colorbar\":{\"outlinewidth\":0,\"ticks\":\"\"}},\"type\":\"scatterpolargl\"}],\"scatterternary\":[{\"marker\":{\"colorbar\":{\"outlinewidth\":0,\"ticks\":\"\"}},\"type\":\"scatterternary\"}],\"surface\":[{\"colorbar\":{\"outlinewidth\":0,\"ticks\":\"\"},\"colorscale\":[[0.0,\"#0d0887\"],[0.1111111111111111,\"#46039f\"],[0.2222222222222222,\"#7201a8\"],[0.3333333333333333,\"#9c179e\"],[0.4444444444444444,\"#bd3786\"],[0.5555555555555556,\"#d8576b\"],[0.6666666666666666,\"#ed7953\"],[0.7777777777777778,\"#fb9f3a\"],[0.8888888888888888,\"#fdca26\"],[1.0,\"#f0f921\"]],\"type\":\"surface\"}],\"table\":[{\"cells\":{\"fill\":{\"color\":\"#EBF0F8\"},\"line\":{\"color\":\"white\"}},\"header\":{\"fill\":{\"color\":\"#C8D4E3\"},\"line\":{\"color\":\"white\"}},\"type\":\"table\"}]},\"layout\":{\"annotationdefaults\":{\"arrowcolor\":\"#2a3f5f\",\"arrowhead\":0,\"arrowwidth\":1},\"autotypenumbers\":\"strict\",\"coloraxis\":{\"colorbar\":{\"outlinewidth\":0,\"ticks\":\"\"}},\"colorscale\":{\"diverging\":[[0,\"#8e0152\"],[0.1,\"#c51b7d\"],[0.2,\"#de77ae\"],[0.3,\"#f1b6da\"],[0.4,\"#fde0ef\"],[0.5,\"#f7f7f7\"],[0.6,\"#e6f5d0\"],[0.7,\"#b8e186\"],[0.8,\"#7fbc41\"],[0.9,\"#4d9221\"],[1,\"#276419\"]],\"sequential\":[[0.0,\"#0d0887\"],[0.1111111111111111,\"#46039f\"],[0.2222222222222222,\"#7201a8\"],[0.3333333333333333,\"#9c179e\"],[0.4444444444444444,\"#bd3786\"],[0.5555555555555556,\"#d8576b\"],[0.6666666666666666,\"#ed7953\"],[0.7777777777777778,\"#fb9f3a\"],[0.8888888888888888,\"#fdca26\"],[1.0,\"#f0f921\"]],\"sequentialminus\":[[0.0,\"#0d0887\"],[0.1111111111111111,\"#46039f\"],[0.2222222222222222,\"#7201a8\"],[0.3333333333333333,\"#9c179e\"],[0.4444444444444444,\"#bd3786\"],[0.5555555555555556,\"#d8576b\"],[0.6666666666666666,\"#ed7953\"],[0.7777777777777778,\"#fb9f3a\"],[0.8888888888888888,\"#fdca26\"],[1.0,\"#f0f921\"]]},\"colorway\":[\"#636efa\",\"#EF553B\",\"#00cc96\",\"#ab63fa\",\"#FFA15A\",\"#19d3f3\",\"#FF6692\",\"#B6E880\",\"#FF97FF\",\"#FECB52\"],\"font\":{\"color\":\"#2a3f5f\"},\"geo\":{\"bgcolor\":\"white\",\"lakecolor\":\"white\",\"landcolor\":\"#E5ECF6\",\"showlakes\":true,\"showland\":true,\"subunitcolor\":\"white\"},\"hoverlabel\":{\"align\":\"left\"},\"hovermode\":\"closest\",\"mapbox\":{\"style\":\"light\"},\"paper_bgcolor\":\"white\",\"plot_bgcolor\":\"#E5ECF6\",\"polar\":{\"angularaxis\":{\"gridcolor\":\"white\",\"linecolor\":\"white\",\"ticks\":\"\"},\"bgcolor\":\"#E5ECF6\",\"radialaxis\":{\"gridcolor\":\"white\",\"linecolor\":\"white\",\"ticks\":\"\"}},\"scene\":{\"xaxis\":{\"backgroundcolor\":\"#E5ECF6\",\"gridcolor\":\"white\",\"gridwidth\":2,\"linecolor\":\"white\",\"showbackground\":true,\"ticks\":\"\",\"zerolinecolor\":\"white\"},\"yaxis\":{\"backgroundcolor\":\"#E5ECF6\",\"gridcolor\":\"white\",\"gridwidth\":2,\"linecolor\":\"white\",\"showbackground\":true,\"ticks\":\"\",\"zerolinecolor\":\"white\"},\"zaxis\":{\"backgroundcolor\":\"#E5ECF6\",\"gridcolor\":\"white\",\"gridwidth\":2,\"linecolor\":\"white\",\"showbackground\":true,\"ticks\":\"\",\"zerolinecolor\":\"white\"}},\"shapedefaults\":{\"line\":{\"color\":\"#2a3f5f\"}},\"ternary\":{\"aaxis\":{\"gridcolor\":\"white\",\"linecolor\":\"white\",\"ticks\":\"\"},\"baxis\":{\"gridcolor\":\"white\",\"linecolor\":\"white\",\"ticks\":\"\"},\"bgcolor\":\"#E5ECF6\",\"caxis\":{\"gridcolor\":\"white\",\"linecolor\":\"white\",\"ticks\":\"\"}},\"title\":{\"x\":0.05},\"xaxis\":{\"automargin\":true,\"gridcolor\":\"white\",\"linecolor\":\"white\",\"ticks\":\"\",\"title\":{\"standoff\":15},\"zerolinecolor\":\"white\",\"zerolinewidth\":2},\"yaxis\":{\"automargin\":true,\"gridcolor\":\"white\",\"linecolor\":\"white\",\"ticks\":\"\",\"title\":{\"standoff\":15},\"zerolinecolor\":\"white\",\"zerolinewidth\":2}}},\"title\":{\"text\":\"Distribution of count\"},\"xaxis\":{\"title\":{\"font\":{\"color\":\"#7f7f7f\",\"family\":\"Courier New, monospace\",\"size\":18},\"text\":\"count\"}},\"yaxis\":{\"title\":{\"font\":{\"color\":\"#7f7f7f\",\"family\":\"Courier New, monospace\",\"size\":18},\"text\":\"Number of patients\"}}},                        {\"responsive\": true}                    ).then(function(){\n",
       "                            \n",
       "var gd = document.getElementById('9af8da84-d67e-4169-a95e-0fe43488d644');\n",
       "var x = new MutationObserver(function (mutations, observer) {{\n",
       "        var display = window.getComputedStyle(gd).display;\n",
       "        if (!display || display === 'none') {{\n",
       "            console.log([gd, 'removed!']);\n",
       "            Plotly.purge(gd);\n",
       "            observer.disconnect();\n",
       "        }}\n",
       "}});\n",
       "\n",
       "// Listen for the removal of the full notebook cells\n",
       "var notebookContainer = gd.closest('#notebook-container');\n",
       "if (notebookContainer) {{\n",
       "    x.observe(notebookContainer, {childList: true});\n",
       "}}\n",
       "\n",
       "// Listen for the clearing of the current output cell\n",
       "var outputEl = gd.closest('.output');\n",
       "if (outputEl) {{\n",
       "    x.observe(outputEl, {childList: true});\n",
       "}}\n",
       "\n",
       "                        })                };                });            </script>        </div>"
      ]
     },
     "metadata": {},
     "output_type": "display_data"
    }
   ],
   "source": [
    "plot_distribution_feature(df_signals_new.groupby('rec_id', sort=False).agg({'rec_id': 'size'}).rename(columns={'rec_id': 'count'}).reset_index(), 'count', categorical=False)"
   ]
  },
  {
   "cell_type": "markdown",
   "id": "2df92130",
   "metadata": {},
   "source": [
    "# This part is to calculate the sample entropy and in effect reduce the sequence length"
   ]
  },
  {
   "cell_type": "code",
   "execution_count": 14,
   "id": "039e0553",
   "metadata": {},
   "outputs": [],
   "source": [
    "import antropy as ant"
   ]
  },
  {
   "cell_type": "code",
   "execution_count": 15,
   "id": "92834a84",
   "metadata": {
    "scrolled": true
   },
   "outputs": [
    {
     "name": "stdout",
     "output_type": "stream",
     "text": [
      "Sample Entropy.\n",
      "\n",
      "    Parameters\n",
      "    ----------\n",
      "    x : list or np.array\n",
      "        One-dimensional time series of shape (n_times).\n",
      "    order : int\n",
      "        Embedding dimension. Default is 2.\n",
      "    metric : str\n",
      "        Name of the distance metric function used with\n",
      "        :py:class:`sklearn.neighbors.KDTree`. Default is to use the\n",
      "        `Chebyshev <https://en.wikipedia.org/wiki/Chebyshev_distance>`_\n",
      "        distance.\n",
      "\n",
      "    Returns\n",
      "    -------\n",
      "    se : float\n",
      "        Sample Entropy.\n",
      "\n",
      "    Notes\n",
      "    -----\n",
      "    Sample entropy is a modification of approximate entropy, used for assessing\n",
      "    the complexity of physiological time-series signals. It has two advantages\n",
      "    over approximate entropy: data length independence and a relatively\n",
      "    trouble-free implementation. Large values indicate high complexity whereas\n",
      "    smaller values characterize more self-similar and regular signals.\n",
      "\n",
      "    The sample entropy of a signal :math:`x` is defined as:\n",
      "\n",
      "    .. math:: H(x, m, r) = -\\log\\frac{C(m + 1, r)}{C(m, r)}\n",
      "\n",
      "    where :math:`m` is the embedding dimension (= order), :math:`r` is\n",
      "    the radius of the neighbourhood (default = :math:`0.2 * \\text{std}(x)`),\n",
      "    :math:`C(m + 1, r)` is the number of embedded vectors of length\n",
      "    :math:`m + 1` having a\n",
      "    `Chebyshev distance <https://en.wikipedia.org/wiki/Chebyshev_distance>`_\n",
      "    inferior to :math:`r` and :math:`C(m, r)` is the number of embedded\n",
      "    vectors of length :math:`m` having a Chebyshev distance inferior to\n",
      "    :math:`r`.\n",
      "\n",
      "    Note that if ``metric == 'chebyshev'`` and ``len(x) < 5000`` points,\n",
      "    then the sample entropy is computed using a fast custom Numba script.\n",
      "    For other distance metric or longer time-series, the sample entropy is\n",
      "    computed using a code from the\n",
      "    `mne-features <https://mne.tools/mne-features/>`_ package by Jean-Baptiste\n",
      "    Schiratti and Alexandre Gramfort (requires sklearn).\n",
      "\n",
      "    References\n",
      "    ----------\n",
      "    Richman, J. S. et al. (2000). Physiological time-series analysis\n",
      "    using approximate entropy and sample entropy. American Journal of\n",
      "    Physiology-Heart and Circulatory Physiology, 278(6), H2039-H2049.\n",
      "\n",
      "    https://scikit-learn.org/stable/modules/generated/sklearn.neighbors.DistanceMetric.html\n",
      "\n",
      "    Examples\n",
      "    --------\n",
      "    Fractional Gaussian noise with H = 0.5\n",
      "\n",
      "    >>> import numpy as np\n",
      "    >>> import antropy as ant\n",
      "    >>> import stochastic.processes.noise as sn\n",
      "    >>> rng = np.random.default_rng(seed=42)\n",
      "    >>> x = sn.FractionalGaussianNoise(hurst=0.5, rng=rng).sample(10000)\n",
      "    >>> print(f\"{ant.sample_entropy(x, order=2):.4f}\")\n",
      "    2.1819\n",
      "\n",
      "    Same with order = 3 and using the Euclidean distance\n",
      "\n",
      "    >>> print(f\"{ant.sample_entropy(x, order=3, metric='euclidean'):.4f}\")\n",
      "    2.6806\n",
      "\n",
      "    Fractional Gaussian noise with H = 0.9\n",
      "\n",
      "    >>> rng = np.random.default_rng(seed=42)\n",
      "    >>> x = sn.FractionalGaussianNoise(hurst=0.9, rng=rng).sample(10000)\n",
      "    >>> print(f\"{ant.sample_entropy(x):.4f}\")\n",
      "    1.9078\n",
      "\n",
      "    Fractional Gaussian noise with H = 0.1\n",
      "\n",
      "    >>> rng = np.random.default_rng(seed=42)\n",
      "    >>> x = sn.FractionalGaussianNoise(hurst=0.1, rng=rng).sample(10000)\n",
      "    >>> print(f\"{ant.sample_entropy(x):.4f}\")\n",
      "    2.0555\n",
      "\n",
      "    Random\n",
      "\n",
      "    >>> rng = np.random.default_rng(seed=42)\n",
      "    >>> print(f\"{ant.sample_entropy(rng.random(1000)):.4f}\")\n",
      "    2.2017\n",
      "\n",
      "    Pure sine wave\n",
      "\n",
      "    >>> x = np.sin(2 * np.pi * 1 * np.arange(3000) / 100)\n",
      "    >>> print(f\"{ant.sample_entropy(x):.4f}\")\n",
      "    0.1633\n",
      "\n",
      "    Linearly-increasing time-series\n",
      "\n",
      "    >>> x = np.arange(1000)\n",
      "    >>> print(f\"{ant.sample_entropy(x):.4f}\")\n",
      "    -0.0000\n",
      "    \n"
     ]
    }
   ],
   "source": [
    "print(ant.sample_entropy.__doc__)"
   ]
  },
  {
   "cell_type": "markdown",
   "id": "cfc7ac6e",
   "metadata": {},
   "source": [
    "We calculate the sample entropy over fixed_seq_length time windows. In effect, we reduce the total sequence length to fixed_seq_length.\n",
    "\n",
    "Example: If the total sequence length of a rec_id is 27790 time steps and the fixed_seq_length is set at 300 time steps, then the sample entropy will be calculated over 300 consecutive subsequences. Each subsequence will have approximately the same length (and in this case the total length of the subsequences sums up to 27790). Thus, the subsequences over which the sample entropy is calculated will not have had the exact same length."
   ]
  },
  {
   "cell_type": "code",
   "execution_count": 16,
   "id": "a2091872",
   "metadata": {},
   "outputs": [],
   "source": [
    "df_samp_en = calculate_samp_en_over_fixed_time_window(df_signals_new, fixed_seq_length = 300, \n",
    "                                                      feature_list = ['channel_1', 'channel_1_filt_0.08_4_hz', \n",
    "                                                                      'channel_1_filt_0.3_3_hz', 'channel_1_filt_0.3_4_hz', \n",
    "                                                                      'channel_2', 'channel_2_filt_0.08_4_hz', \n",
    "                                                                      'channel_2_filt_0.3_3_hz', 'channel_2_filt_0.3_4_hz', \n",
    "                                                                      'channel_3', 'channel_3_filt_0.08_4_hz', \n",
    "                                                                      'channel_3_filt_0.3_3_hz', 'channel_3_filt_0.3_4_hz'])"
   ]
  },
  {
   "cell_type": "code",
   "execution_count": 17,
   "id": "d4de7292",
   "metadata": {},
   "outputs": [
    {
     "data": {
      "text/html": [
       "<div>\n",
       "<style scoped>\n",
       "    .dataframe tbody tr th:only-of-type {\n",
       "        vertical-align: middle;\n",
       "    }\n",
       "\n",
       "    .dataframe tbody tr th {\n",
       "        vertical-align: top;\n",
       "    }\n",
       "\n",
       "    .dataframe thead th {\n",
       "        text-align: right;\n",
       "    }\n",
       "</style>\n",
       "<table border=\"1\" class=\"dataframe\">\n",
       "  <thead>\n",
       "    <tr style=\"text-align: right;\">\n",
       "      <th></th>\n",
       "      <th>rec_id</th>\n",
       "      <th>channel_1</th>\n",
       "      <th>channel_1_filt_0.08_4_hz</th>\n",
       "      <th>channel_1_filt_0.3_3_hz</th>\n",
       "      <th>channel_1_filt_0.3_4_hz</th>\n",
       "      <th>channel_2</th>\n",
       "      <th>channel_2_filt_0.08_4_hz</th>\n",
       "      <th>channel_2_filt_0.3_3_hz</th>\n",
       "      <th>channel_2_filt_0.3_4_hz</th>\n",
       "      <th>channel_3</th>\n",
       "      <th>channel_3_filt_0.08_4_hz</th>\n",
       "      <th>channel_3_filt_0.3_3_hz</th>\n",
       "      <th>channel_3_filt_0.3_4_hz</th>\n",
       "    </tr>\n",
       "  </thead>\n",
       "  <tbody>\n",
       "    <tr>\n",
       "      <th>0</th>\n",
       "      <td>1007</td>\n",
       "      <td>0.634408</td>\n",
       "      <td>0.433720</td>\n",
       "      <td>0.324358</td>\n",
       "      <td>0.425987</td>\n",
       "      <td>0.448845</td>\n",
       "      <td>0.359795</td>\n",
       "      <td>0.370261</td>\n",
       "      <td>0.408861</td>\n",
       "      <td>0.922722</td>\n",
       "      <td>0.629159</td>\n",
       "      <td>0.828693</td>\n",
       "      <td>1.751754</td>\n",
       "    </tr>\n",
       "    <tr>\n",
       "      <th>1</th>\n",
       "      <td>1007</td>\n",
       "      <td>0.530628</td>\n",
       "      <td>0.537462</td>\n",
       "      <td>0.528217</td>\n",
       "      <td>0.632059</td>\n",
       "      <td>0.639080</td>\n",
       "      <td>0.397459</td>\n",
       "      <td>0.315609</td>\n",
       "      <td>0.360103</td>\n",
       "      <td>1.386294</td>\n",
       "      <td>0.565634</td>\n",
       "      <td>0.753772</td>\n",
       "      <td>0.994934</td>\n",
       "    </tr>\n",
       "    <tr>\n",
       "      <th>2</th>\n",
       "      <td>1007</td>\n",
       "      <td>0.613341</td>\n",
       "      <td>0.360560</td>\n",
       "      <td>0.508718</td>\n",
       "      <td>0.685050</td>\n",
       "      <td>0.256462</td>\n",
       "      <td>0.251314</td>\n",
       "      <td>0.433903</td>\n",
       "      <td>0.453784</td>\n",
       "      <td>1.284512</td>\n",
       "      <td>0.697237</td>\n",
       "      <td>0.512176</td>\n",
       "      <td>0.998529</td>\n",
       "    </tr>\n",
       "    <tr>\n",
       "      <th>3</th>\n",
       "      <td>1007</td>\n",
       "      <td>0.228706</td>\n",
       "      <td>0.149781</td>\n",
       "      <td>0.342286</td>\n",
       "      <td>0.372840</td>\n",
       "      <td>0.201273</td>\n",
       "      <td>0.174210</td>\n",
       "      <td>0.219886</td>\n",
       "      <td>0.235280</td>\n",
       "      <td>0.284194</td>\n",
       "      <td>0.239059</td>\n",
       "      <td>0.244985</td>\n",
       "      <td>0.369533</td>\n",
       "    </tr>\n",
       "    <tr>\n",
       "      <th>4</th>\n",
       "      <td>1007</td>\n",
       "      <td>0.536016</td>\n",
       "      <td>0.570890</td>\n",
       "      <td>0.741937</td>\n",
       "      <td>0.719464</td>\n",
       "      <td>0.288990</td>\n",
       "      <td>0.230822</td>\n",
       "      <td>0.495943</td>\n",
       "      <td>0.621174</td>\n",
       "      <td>0.400402</td>\n",
       "      <td>0.702717</td>\n",
       "      <td>0.523806</td>\n",
       "      <td>0.875469</td>\n",
       "    </tr>\n",
       "    <tr>\n",
       "      <th>...</th>\n",
       "      <td>...</td>\n",
       "      <td>...</td>\n",
       "      <td>...</td>\n",
       "      <td>...</td>\n",
       "      <td>...</td>\n",
       "      <td>...</td>\n",
       "      <td>...</td>\n",
       "      <td>...</td>\n",
       "      <td>...</td>\n",
       "      <td>...</td>\n",
       "      <td>...</td>\n",
       "      <td>...</td>\n",
       "      <td>...</td>\n",
       "    </tr>\n",
       "    <tr>\n",
       "      <th>89995</th>\n",
       "      <td>994</td>\n",
       "      <td>1.203973</td>\n",
       "      <td>0.582169</td>\n",
       "      <td>0.684779</td>\n",
       "      <td>1.061911</td>\n",
       "      <td>0.891423</td>\n",
       "      <td>0.742744</td>\n",
       "      <td>0.516868</td>\n",
       "      <td>0.593397</td>\n",
       "      <td>1.238078</td>\n",
       "      <td>0.424883</td>\n",
       "      <td>0.796944</td>\n",
       "      <td>1.321756</td>\n",
       "    </tr>\n",
       "    <tr>\n",
       "      <th>89996</th>\n",
       "      <td>994</td>\n",
       "      <td>0.983230</td>\n",
       "      <td>0.501069</td>\n",
       "      <td>0.756661</td>\n",
       "      <td>1.163151</td>\n",
       "      <td>0.940983</td>\n",
       "      <td>0.597837</td>\n",
       "      <td>0.639801</td>\n",
       "      <td>0.590868</td>\n",
       "      <td>1.632695</td>\n",
       "      <td>0.637058</td>\n",
       "      <td>0.652562</td>\n",
       "      <td>0.789877</td>\n",
       "    </tr>\n",
       "    <tr>\n",
       "      <th>89997</th>\n",
       "      <td>994</td>\n",
       "      <td>1.386294</td>\n",
       "      <td>0.883016</td>\n",
       "      <td>0.871395</td>\n",
       "      <td>1.128465</td>\n",
       "      <td>0.869499</td>\n",
       "      <td>0.588834</td>\n",
       "      <td>0.611597</td>\n",
       "      <td>0.758152</td>\n",
       "      <td>0.999521</td>\n",
       "      <td>0.800292</td>\n",
       "      <td>0.731613</td>\n",
       "      <td>1.098612</td>\n",
       "    </tr>\n",
       "    <tr>\n",
       "      <th>89998</th>\n",
       "      <td>994</td>\n",
       "      <td>1.239691</td>\n",
       "      <td>0.993252</td>\n",
       "      <td>0.748207</td>\n",
       "      <td>1.423108</td>\n",
       "      <td>0.543802</td>\n",
       "      <td>0.555277</td>\n",
       "      <td>0.510826</td>\n",
       "      <td>0.481303</td>\n",
       "      <td>1.219240</td>\n",
       "      <td>0.958255</td>\n",
       "      <td>0.766351</td>\n",
       "      <td>1.089310</td>\n",
       "    </tr>\n",
       "    <tr>\n",
       "      <th>89999</th>\n",
       "      <td>994</td>\n",
       "      <td>0.797660</td>\n",
       "      <td>0.489548</td>\n",
       "      <td>0.745791</td>\n",
       "      <td>0.909122</td>\n",
       "      <td>0.755846</td>\n",
       "      <td>0.733421</td>\n",
       "      <td>0.621688</td>\n",
       "      <td>0.623719</td>\n",
       "      <td>0.731108</td>\n",
       "      <td>0.494413</td>\n",
       "      <td>0.755948</td>\n",
       "      <td>1.271225</td>\n",
       "    </tr>\n",
       "  </tbody>\n",
       "</table>\n",
       "<p>90000 rows × 13 columns</p>\n",
       "</div>"
      ],
      "text/plain": [
       "       rec_id  channel_1  channel_1_filt_0.08_4_hz  channel_1_filt_0.3_3_hz  \\\n",
       "0        1007   0.634408                  0.433720                 0.324358   \n",
       "1        1007   0.530628                  0.537462                 0.528217   \n",
       "2        1007   0.613341                  0.360560                 0.508718   \n",
       "3        1007   0.228706                  0.149781                 0.342286   \n",
       "4        1007   0.536016                  0.570890                 0.741937   \n",
       "...       ...        ...                       ...                      ...   \n",
       "89995     994   1.203973                  0.582169                 0.684779   \n",
       "89996     994   0.983230                  0.501069                 0.756661   \n",
       "89997     994   1.386294                  0.883016                 0.871395   \n",
       "89998     994   1.239691                  0.993252                 0.748207   \n",
       "89999     994   0.797660                  0.489548                 0.745791   \n",
       "\n",
       "       channel_1_filt_0.3_4_hz  channel_2  channel_2_filt_0.08_4_hz  \\\n",
       "0                     0.425987   0.448845                  0.359795   \n",
       "1                     0.632059   0.639080                  0.397459   \n",
       "2                     0.685050   0.256462                  0.251314   \n",
       "3                     0.372840   0.201273                  0.174210   \n",
       "4                     0.719464   0.288990                  0.230822   \n",
       "...                        ...        ...                       ...   \n",
       "89995                 1.061911   0.891423                  0.742744   \n",
       "89996                 1.163151   0.940983                  0.597837   \n",
       "89997                 1.128465   0.869499                  0.588834   \n",
       "89998                 1.423108   0.543802                  0.555277   \n",
       "89999                 0.909122   0.755846                  0.733421   \n",
       "\n",
       "       channel_2_filt_0.3_3_hz  channel_2_filt_0.3_4_hz  channel_3  \\\n",
       "0                     0.370261                 0.408861   0.922722   \n",
       "1                     0.315609                 0.360103   1.386294   \n",
       "2                     0.433903                 0.453784   1.284512   \n",
       "3                     0.219886                 0.235280   0.284194   \n",
       "4                     0.495943                 0.621174   0.400402   \n",
       "...                        ...                      ...        ...   \n",
       "89995                 0.516868                 0.593397   1.238078   \n",
       "89996                 0.639801                 0.590868   1.632695   \n",
       "89997                 0.611597                 0.758152   0.999521   \n",
       "89998                 0.510826                 0.481303   1.219240   \n",
       "89999                 0.621688                 0.623719   0.731108   \n",
       "\n",
       "       channel_3_filt_0.08_4_hz  channel_3_filt_0.3_3_hz  \\\n",
       "0                      0.629159                 0.828693   \n",
       "1                      0.565634                 0.753772   \n",
       "2                      0.697237                 0.512176   \n",
       "3                      0.239059                 0.244985   \n",
       "4                      0.702717                 0.523806   \n",
       "...                         ...                      ...   \n",
       "89995                  0.424883                 0.796944   \n",
       "89996                  0.637058                 0.652562   \n",
       "89997                  0.800292                 0.731613   \n",
       "89998                  0.958255                 0.766351   \n",
       "89999                  0.494413                 0.755948   \n",
       "\n",
       "       channel_3_filt_0.3_4_hz  \n",
       "0                     1.751754  \n",
       "1                     0.994934  \n",
       "2                     0.998529  \n",
       "3                     0.369533  \n",
       "4                     0.875469  \n",
       "...                        ...  \n",
       "89995                 1.321756  \n",
       "89996                 0.789877  \n",
       "89997                 1.098612  \n",
       "89998                 1.089310  \n",
       "89999                 1.271225  \n",
       "\n",
       "[90000 rows x 13 columns]"
      ]
     },
     "execution_count": 17,
     "metadata": {},
     "output_type": "execute_result"
    }
   ],
   "source": [
    "df_samp_en"
   ]
  },
  {
   "cell_type": "markdown",
   "id": "06598e2a",
   "metadata": {},
   "source": [
    "df_clinical_information contains the labels (the column premature) for each rec_id. We will add this column to the signals dataframe."
   ]
  },
  {
   "cell_type": "code",
   "execution_count": 18,
   "id": "536df1d3",
   "metadata": {},
   "outputs": [],
   "source": [
    "df_clinical_information = build_clinical_information_dataframe(data_path, settings_path)"
   ]
  },
  {
   "cell_type": "code",
   "execution_count": 19,
   "id": "9a69c754",
   "metadata": {},
   "outputs": [
    {
     "data": {
      "text/html": [
       "<div>\n",
       "<style scoped>\n",
       "    .dataframe tbody tr th:only-of-type {\n",
       "        vertical-align: middle;\n",
       "    }\n",
       "\n",
       "    .dataframe tbody tr th {\n",
       "        vertical-align: top;\n",
       "    }\n",
       "\n",
       "    .dataframe thead th {\n",
       "        text-align: right;\n",
       "    }\n",
       "</style>\n",
       "<table border=\"1\" class=\"dataframe\">\n",
       "  <thead>\n",
       "    <tr style=\"text-align: right;\">\n",
       "      <th></th>\n",
       "      <th>rec_id</th>\n",
       "      <th>gestation</th>\n",
       "      <th>gestation_at_rec_time</th>\n",
       "      <th>group</th>\n",
       "      <th>premature</th>\n",
       "      <th>early</th>\n",
       "    </tr>\n",
       "  </thead>\n",
       "  <tbody>\n",
       "    <tr>\n",
       "      <th>0</th>\n",
       "      <td>1007</td>\n",
       "      <td>35.00</td>\n",
       "      <td>31.29</td>\n",
       "      <td>&gt;=26-PRE</td>\n",
       "      <td>t</td>\n",
       "      <td>f</td>\n",
       "    </tr>\n",
       "    <tr>\n",
       "      <th>1</th>\n",
       "      <td>1021</td>\n",
       "      <td>38.57</td>\n",
       "      <td>22.29</td>\n",
       "      <td>&lt;26-TERM</td>\n",
       "      <td>f</td>\n",
       "      <td>t</td>\n",
       "    </tr>\n",
       "    <tr>\n",
       "      <th>2</th>\n",
       "      <td>1022</td>\n",
       "      <td>38.57</td>\n",
       "      <td>31.00</td>\n",
       "      <td>&gt;=26-TERM</td>\n",
       "      <td>f</td>\n",
       "      <td>f</td>\n",
       "    </tr>\n",
       "    <tr>\n",
       "      <th>3</th>\n",
       "      <td>1027</td>\n",
       "      <td>37.14</td>\n",
       "      <td>31.29</td>\n",
       "      <td>&gt;=26-TERM</td>\n",
       "      <td>f</td>\n",
       "      <td>f</td>\n",
       "    </tr>\n",
       "    <tr>\n",
       "      <th>4</th>\n",
       "      <td>1029</td>\n",
       "      <td>38.57</td>\n",
       "      <td>31.00</td>\n",
       "      <td>&gt;=26-TERM</td>\n",
       "      <td>f</td>\n",
       "      <td>f</td>\n",
       "    </tr>\n",
       "  </tbody>\n",
       "</table>\n",
       "</div>"
      ],
      "text/plain": [
       "   rec_id  gestation  gestation_at_rec_time        group    premature early\n",
       "0    1007      35.00                  31.29   >=26-PRE     t              f\n",
       "1    1021      38.57                  22.29   <26-TERM     f              t\n",
       "2    1022      38.57                  31.00   >=26-TERM    f              f\n",
       "3    1027      37.14                  31.29   >=26-TERM    f              f\n",
       "4    1029      38.57                  31.00   >=26-TERM    f              f"
      ]
     },
     "execution_count": 19,
     "metadata": {},
     "output_type": "execute_result"
    }
   ],
   "source": [
    "df_clinical_information.head()"
   ]
  },
  {
   "cell_type": "code",
   "execution_count": 20,
   "id": "d94c3519",
   "metadata": {},
   "outputs": [],
   "source": [
    "df_signals = df_signals_new.merge(df_clinical_information[['rec_id', 'premature']], how='left', on='rec_id')"
   ]
  },
  {
   "cell_type": "code",
   "execution_count": 21,
   "id": "77fc9364",
   "metadata": {},
   "outputs": [],
   "source": [
    "df_samp_en = df_samp_en.merge(df_clinical_information[['rec_id', 'premature']], how='left', on='rec_id')"
   ]
  },
  {
   "cell_type": "code",
   "execution_count": 22,
   "id": "ccbac46a",
   "metadata": {},
   "outputs": [],
   "source": [
    "del df_signals_new"
   ]
  },
  {
   "cell_type": "code",
   "execution_count": 23,
   "id": "94a30cc4",
   "metadata": {},
   "outputs": [
    {
     "data": {
      "text/html": [
       "<div>\n",
       "<style scoped>\n",
       "    .dataframe tbody tr th:only-of-type {\n",
       "        vertical-align: middle;\n",
       "    }\n",
       "\n",
       "    .dataframe tbody tr th {\n",
       "        vertical-align: top;\n",
       "    }\n",
       "\n",
       "    .dataframe thead th {\n",
       "        text-align: right;\n",
       "    }\n",
       "</style>\n",
       "<table border=\"1\" class=\"dataframe\">\n",
       "  <thead>\n",
       "    <tr style=\"text-align: right;\">\n",
       "      <th></th>\n",
       "      <th>rec_id</th>\n",
       "      <th>channel_1</th>\n",
       "      <th>channel_1_filt_0.08_4_hz</th>\n",
       "      <th>channel_1_filt_0.3_3_hz</th>\n",
       "      <th>channel_1_filt_0.3_4_hz</th>\n",
       "      <th>channel_2</th>\n",
       "      <th>channel_2_filt_0.08_4_hz</th>\n",
       "      <th>channel_2_filt_0.3_3_hz</th>\n",
       "      <th>channel_2_filt_0.3_4_hz</th>\n",
       "      <th>channel_3</th>\n",
       "      <th>channel_3_filt_0.08_4_hz</th>\n",
       "      <th>channel_3_filt_0.3_3_hz</th>\n",
       "      <th>channel_3_filt_0.3_4_hz</th>\n",
       "      <th>premature</th>\n",
       "    </tr>\n",
       "  </thead>\n",
       "  <tbody>\n",
       "    <tr>\n",
       "      <th>0</th>\n",
       "      <td>1007</td>\n",
       "      <td>-0.054246</td>\n",
       "      <td>-0.040048</td>\n",
       "      <td>-0.030088</td>\n",
       "      <td>-0.028181</td>\n",
       "      <td>-0.062409</td>\n",
       "      <td>-0.026641</td>\n",
       "      <td>-0.021161</td>\n",
       "      <td>-0.020855</td>\n",
       "      <td>-0.105440</td>\n",
       "      <td>-0.006349</td>\n",
       "      <td>-0.003682</td>\n",
       "      <td>-0.004561</td>\n",
       "      <td>t</td>\n",
       "    </tr>\n",
       "    <tr>\n",
       "      <th>1</th>\n",
       "      <td>1007</td>\n",
       "      <td>-0.061952</td>\n",
       "      <td>-0.045426</td>\n",
       "      <td>-0.032965</td>\n",
       "      <td>-0.032240</td>\n",
       "      <td>-0.065232</td>\n",
       "      <td>-0.028712</td>\n",
       "      <td>-0.022736</td>\n",
       "      <td>-0.022297</td>\n",
       "      <td>-0.101625</td>\n",
       "      <td>-0.004590</td>\n",
       "      <td>-0.003498</td>\n",
       "      <td>-0.003235</td>\n",
       "      <td>t</td>\n",
       "    </tr>\n",
       "    <tr>\n",
       "      <th>2</th>\n",
       "      <td>1007</td>\n",
       "      <td>-0.067750</td>\n",
       "      <td>-0.051825</td>\n",
       "      <td>-0.036908</td>\n",
       "      <td>-0.037472</td>\n",
       "      <td>-0.067216</td>\n",
       "      <td>-0.030902</td>\n",
       "      <td>-0.024211</td>\n",
       "      <td>-0.023947</td>\n",
       "      <td>-0.102235</td>\n",
       "      <td>-0.002846</td>\n",
       "      <td>-0.002748</td>\n",
       "      <td>-0.001898</td>\n",
       "      <td>t</td>\n",
       "    </tr>\n",
       "    <tr>\n",
       "      <th>3</th>\n",
       "      <td>1007</td>\n",
       "      <td>-0.070878</td>\n",
       "      <td>-0.056119</td>\n",
       "      <td>-0.040185</td>\n",
       "      <td>-0.040739</td>\n",
       "      <td>-0.069047</td>\n",
       "      <td>-0.032685</td>\n",
       "      <td>-0.025322</td>\n",
       "      <td>-0.025273</td>\n",
       "      <td>-0.101549</td>\n",
       "      <td>-0.002277</td>\n",
       "      <td>-0.002000</td>\n",
       "      <td>-0.001732</td>\n",
       "      <td>t</td>\n",
       "    </tr>\n",
       "    <tr>\n",
       "      <th>4</th>\n",
       "      <td>1007</td>\n",
       "      <td>-0.071336</td>\n",
       "      <td>-0.056939</td>\n",
       "      <td>-0.040799</td>\n",
       "      <td>-0.040650</td>\n",
       "      <td>-0.070420</td>\n",
       "      <td>-0.033362</td>\n",
       "      <td>-0.025601</td>\n",
       "      <td>-0.025583</td>\n",
       "      <td>-0.101854</td>\n",
       "      <td>-0.002350</td>\n",
       "      <td>-0.001758</td>\n",
       "      <td>-0.002222</td>\n",
       "      <td>t</td>\n",
       "    </tr>\n",
       "  </tbody>\n",
       "</table>\n",
       "</div>"
      ],
      "text/plain": [
       "   rec_id  channel_1  channel_1_filt_0.08_4_hz  channel_1_filt_0.3_3_hz  \\\n",
       "0    1007  -0.054246                 -0.040048                -0.030088   \n",
       "1    1007  -0.061952                 -0.045426                -0.032965   \n",
       "2    1007  -0.067750                 -0.051825                -0.036908   \n",
       "3    1007  -0.070878                 -0.056119                -0.040185   \n",
       "4    1007  -0.071336                 -0.056939                -0.040799   \n",
       "\n",
       "   channel_1_filt_0.3_4_hz  channel_2  channel_2_filt_0.08_4_hz  \\\n",
       "0                -0.028181  -0.062409                 -0.026641   \n",
       "1                -0.032240  -0.065232                 -0.028712   \n",
       "2                -0.037472  -0.067216                 -0.030902   \n",
       "3                -0.040739  -0.069047                 -0.032685   \n",
       "4                -0.040650  -0.070420                 -0.033362   \n",
       "\n",
       "   channel_2_filt_0.3_3_hz  channel_2_filt_0.3_4_hz  channel_3  \\\n",
       "0                -0.021161                -0.020855  -0.105440   \n",
       "1                -0.022736                -0.022297  -0.101625   \n",
       "2                -0.024211                -0.023947  -0.102235   \n",
       "3                -0.025322                -0.025273  -0.101549   \n",
       "4                -0.025601                -0.025583  -0.101854   \n",
       "\n",
       "   channel_3_filt_0.08_4_hz  channel_3_filt_0.3_3_hz  channel_3_filt_0.3_4_hz  \\\n",
       "0                 -0.006349                -0.003682                -0.004561   \n",
       "1                 -0.004590                -0.003498                -0.003235   \n",
       "2                 -0.002846                -0.002748                -0.001898   \n",
       "3                 -0.002277                -0.002000                -0.001732   \n",
       "4                 -0.002350                -0.001758                -0.002222   \n",
       "\n",
       "     premature  \n",
       "0   t           \n",
       "1   t           \n",
       "2   t           \n",
       "3   t           \n",
       "4   t           "
      ]
     },
     "execution_count": 23,
     "metadata": {},
     "output_type": "execute_result"
    }
   ],
   "source": [
    "df_signals.head()"
   ]
  },
  {
   "cell_type": "code",
   "execution_count": 24,
   "id": "5fb7e8ec",
   "metadata": {},
   "outputs": [],
   "source": [
    "# Assign 0 to non-premature cases and assign 1 to premature cases\n",
    "lb = LabelEncoder()\n",
    "df_signals['premature'] = lb.fit_transform(df_signals['premature'])\n",
    "df_samp_en['premature'] = lb.fit_transform(df_samp_en['premature'])"
   ]
  },
  {
   "cell_type": "code",
   "execution_count": 25,
   "id": "1dd896f5",
   "metadata": {},
   "outputs": [
    {
     "data": {
      "text/html": [
       "<div>\n",
       "<style scoped>\n",
       "    .dataframe tbody tr th:only-of-type {\n",
       "        vertical-align: middle;\n",
       "    }\n",
       "\n",
       "    .dataframe tbody tr th {\n",
       "        vertical-align: top;\n",
       "    }\n",
       "\n",
       "    .dataframe thead th {\n",
       "        text-align: right;\n",
       "    }\n",
       "</style>\n",
       "<table border=\"1\" class=\"dataframe\">\n",
       "  <thead>\n",
       "    <tr style=\"text-align: right;\">\n",
       "      <th></th>\n",
       "      <th>rec_id</th>\n",
       "      <th>channel_1</th>\n",
       "      <th>channel_1_filt_0.08_4_hz</th>\n",
       "      <th>channel_1_filt_0.3_3_hz</th>\n",
       "      <th>channel_1_filt_0.3_4_hz</th>\n",
       "      <th>channel_2</th>\n",
       "      <th>channel_2_filt_0.08_4_hz</th>\n",
       "      <th>channel_2_filt_0.3_3_hz</th>\n",
       "      <th>channel_2_filt_0.3_4_hz</th>\n",
       "      <th>channel_3</th>\n",
       "      <th>channel_3_filt_0.08_4_hz</th>\n",
       "      <th>channel_3_filt_0.3_3_hz</th>\n",
       "      <th>channel_3_filt_0.3_4_hz</th>\n",
       "      <th>premature</th>\n",
       "    </tr>\n",
       "  </thead>\n",
       "  <tbody>\n",
       "    <tr>\n",
       "      <th>0</th>\n",
       "      <td>1007</td>\n",
       "      <td>-0.054246</td>\n",
       "      <td>-0.040048</td>\n",
       "      <td>-0.030088</td>\n",
       "      <td>-0.028181</td>\n",
       "      <td>-0.062409</td>\n",
       "      <td>-0.026641</td>\n",
       "      <td>-0.021161</td>\n",
       "      <td>-0.020855</td>\n",
       "      <td>-0.105440</td>\n",
       "      <td>-0.006349</td>\n",
       "      <td>-0.003682</td>\n",
       "      <td>-0.004561</td>\n",
       "      <td>1</td>\n",
       "    </tr>\n",
       "    <tr>\n",
       "      <th>1</th>\n",
       "      <td>1007</td>\n",
       "      <td>-0.061952</td>\n",
       "      <td>-0.045426</td>\n",
       "      <td>-0.032965</td>\n",
       "      <td>-0.032240</td>\n",
       "      <td>-0.065232</td>\n",
       "      <td>-0.028712</td>\n",
       "      <td>-0.022736</td>\n",
       "      <td>-0.022297</td>\n",
       "      <td>-0.101625</td>\n",
       "      <td>-0.004590</td>\n",
       "      <td>-0.003498</td>\n",
       "      <td>-0.003235</td>\n",
       "      <td>1</td>\n",
       "    </tr>\n",
       "    <tr>\n",
       "      <th>2</th>\n",
       "      <td>1007</td>\n",
       "      <td>-0.067750</td>\n",
       "      <td>-0.051825</td>\n",
       "      <td>-0.036908</td>\n",
       "      <td>-0.037472</td>\n",
       "      <td>-0.067216</td>\n",
       "      <td>-0.030902</td>\n",
       "      <td>-0.024211</td>\n",
       "      <td>-0.023947</td>\n",
       "      <td>-0.102235</td>\n",
       "      <td>-0.002846</td>\n",
       "      <td>-0.002748</td>\n",
       "      <td>-0.001898</td>\n",
       "      <td>1</td>\n",
       "    </tr>\n",
       "    <tr>\n",
       "      <th>3</th>\n",
       "      <td>1007</td>\n",
       "      <td>-0.070878</td>\n",
       "      <td>-0.056119</td>\n",
       "      <td>-0.040185</td>\n",
       "      <td>-0.040739</td>\n",
       "      <td>-0.069047</td>\n",
       "      <td>-0.032685</td>\n",
       "      <td>-0.025322</td>\n",
       "      <td>-0.025273</td>\n",
       "      <td>-0.101549</td>\n",
       "      <td>-0.002277</td>\n",
       "      <td>-0.002000</td>\n",
       "      <td>-0.001732</td>\n",
       "      <td>1</td>\n",
       "    </tr>\n",
       "    <tr>\n",
       "      <th>4</th>\n",
       "      <td>1007</td>\n",
       "      <td>-0.071336</td>\n",
       "      <td>-0.056939</td>\n",
       "      <td>-0.040799</td>\n",
       "      <td>-0.040650</td>\n",
       "      <td>-0.070420</td>\n",
       "      <td>-0.033362</td>\n",
       "      <td>-0.025601</td>\n",
       "      <td>-0.025583</td>\n",
       "      <td>-0.101854</td>\n",
       "      <td>-0.002350</td>\n",
       "      <td>-0.001758</td>\n",
       "      <td>-0.002222</td>\n",
       "      <td>1</td>\n",
       "    </tr>\n",
       "  </tbody>\n",
       "</table>\n",
       "</div>"
      ],
      "text/plain": [
       "   rec_id  channel_1  channel_1_filt_0.08_4_hz  channel_1_filt_0.3_3_hz  \\\n",
       "0    1007  -0.054246                 -0.040048                -0.030088   \n",
       "1    1007  -0.061952                 -0.045426                -0.032965   \n",
       "2    1007  -0.067750                 -0.051825                -0.036908   \n",
       "3    1007  -0.070878                 -0.056119                -0.040185   \n",
       "4    1007  -0.071336                 -0.056939                -0.040799   \n",
       "\n",
       "   channel_1_filt_0.3_4_hz  channel_2  channel_2_filt_0.08_4_hz  \\\n",
       "0                -0.028181  -0.062409                 -0.026641   \n",
       "1                -0.032240  -0.065232                 -0.028712   \n",
       "2                -0.037472  -0.067216                 -0.030902   \n",
       "3                -0.040739  -0.069047                 -0.032685   \n",
       "4                -0.040650  -0.070420                 -0.033362   \n",
       "\n",
       "   channel_2_filt_0.3_3_hz  channel_2_filt_0.3_4_hz  channel_3  \\\n",
       "0                -0.021161                -0.020855  -0.105440   \n",
       "1                -0.022736                -0.022297  -0.101625   \n",
       "2                -0.024211                -0.023947  -0.102235   \n",
       "3                -0.025322                -0.025273  -0.101549   \n",
       "4                -0.025601                -0.025583  -0.101854   \n",
       "\n",
       "   channel_3_filt_0.08_4_hz  channel_3_filt_0.3_3_hz  channel_3_filt_0.3_4_hz  \\\n",
       "0                 -0.006349                -0.003682                -0.004561   \n",
       "1                 -0.004590                -0.003498                -0.003235   \n",
       "2                 -0.002846                -0.002748                -0.001898   \n",
       "3                 -0.002277                -0.002000                -0.001732   \n",
       "4                 -0.002350                -0.001758                -0.002222   \n",
       "\n",
       "   premature  \n",
       "0          1  \n",
       "1          1  \n",
       "2          1  \n",
       "3          1  \n",
       "4          1  "
      ]
     },
     "execution_count": 25,
     "metadata": {},
     "output_type": "execute_result"
    }
   ],
   "source": [
    "df_signals.head()"
   ]
  },
  {
   "cell_type": "code",
   "execution_count": 26,
   "id": "e925936b",
   "metadata": {},
   "outputs": [
    {
     "data": {
      "text/html": [
       "<div>\n",
       "<style scoped>\n",
       "    .dataframe tbody tr th:only-of-type {\n",
       "        vertical-align: middle;\n",
       "    }\n",
       "\n",
       "    .dataframe tbody tr th {\n",
       "        vertical-align: top;\n",
       "    }\n",
       "\n",
       "    .dataframe thead th {\n",
       "        text-align: right;\n",
       "    }\n",
       "</style>\n",
       "<table border=\"1\" class=\"dataframe\">\n",
       "  <thead>\n",
       "    <tr style=\"text-align: right;\">\n",
       "      <th></th>\n",
       "      <th>rec_id</th>\n",
       "      <th>channel_1</th>\n",
       "      <th>channel_1_filt_0.08_4_hz</th>\n",
       "      <th>channel_1_filt_0.3_3_hz</th>\n",
       "      <th>channel_1_filt_0.3_4_hz</th>\n",
       "      <th>channel_2</th>\n",
       "      <th>channel_2_filt_0.08_4_hz</th>\n",
       "      <th>channel_2_filt_0.3_3_hz</th>\n",
       "      <th>channel_2_filt_0.3_4_hz</th>\n",
       "      <th>channel_3</th>\n",
       "      <th>channel_3_filt_0.08_4_hz</th>\n",
       "      <th>channel_3_filt_0.3_3_hz</th>\n",
       "      <th>channel_3_filt_0.3_4_hz</th>\n",
       "      <th>premature</th>\n",
       "    </tr>\n",
       "  </thead>\n",
       "  <tbody>\n",
       "    <tr>\n",
       "      <th>0</th>\n",
       "      <td>1007</td>\n",
       "      <td>0.634408</td>\n",
       "      <td>0.433720</td>\n",
       "      <td>0.324358</td>\n",
       "      <td>0.425987</td>\n",
       "      <td>0.448845</td>\n",
       "      <td>0.359795</td>\n",
       "      <td>0.370261</td>\n",
       "      <td>0.408861</td>\n",
       "      <td>0.922722</td>\n",
       "      <td>0.629159</td>\n",
       "      <td>0.828693</td>\n",
       "      <td>1.751754</td>\n",
       "      <td>1</td>\n",
       "    </tr>\n",
       "    <tr>\n",
       "      <th>1</th>\n",
       "      <td>1007</td>\n",
       "      <td>0.530628</td>\n",
       "      <td>0.537462</td>\n",
       "      <td>0.528217</td>\n",
       "      <td>0.632059</td>\n",
       "      <td>0.639080</td>\n",
       "      <td>0.397459</td>\n",
       "      <td>0.315609</td>\n",
       "      <td>0.360103</td>\n",
       "      <td>1.386294</td>\n",
       "      <td>0.565634</td>\n",
       "      <td>0.753772</td>\n",
       "      <td>0.994934</td>\n",
       "      <td>1</td>\n",
       "    </tr>\n",
       "    <tr>\n",
       "      <th>2</th>\n",
       "      <td>1007</td>\n",
       "      <td>0.613341</td>\n",
       "      <td>0.360560</td>\n",
       "      <td>0.508718</td>\n",
       "      <td>0.685050</td>\n",
       "      <td>0.256462</td>\n",
       "      <td>0.251314</td>\n",
       "      <td>0.433903</td>\n",
       "      <td>0.453784</td>\n",
       "      <td>1.284512</td>\n",
       "      <td>0.697237</td>\n",
       "      <td>0.512176</td>\n",
       "      <td>0.998529</td>\n",
       "      <td>1</td>\n",
       "    </tr>\n",
       "    <tr>\n",
       "      <th>3</th>\n",
       "      <td>1007</td>\n",
       "      <td>0.228706</td>\n",
       "      <td>0.149781</td>\n",
       "      <td>0.342286</td>\n",
       "      <td>0.372840</td>\n",
       "      <td>0.201273</td>\n",
       "      <td>0.174210</td>\n",
       "      <td>0.219886</td>\n",
       "      <td>0.235280</td>\n",
       "      <td>0.284194</td>\n",
       "      <td>0.239059</td>\n",
       "      <td>0.244985</td>\n",
       "      <td>0.369533</td>\n",
       "      <td>1</td>\n",
       "    </tr>\n",
       "    <tr>\n",
       "      <th>4</th>\n",
       "      <td>1007</td>\n",
       "      <td>0.536016</td>\n",
       "      <td>0.570890</td>\n",
       "      <td>0.741937</td>\n",
       "      <td>0.719464</td>\n",
       "      <td>0.288990</td>\n",
       "      <td>0.230822</td>\n",
       "      <td>0.495943</td>\n",
       "      <td>0.621174</td>\n",
       "      <td>0.400402</td>\n",
       "      <td>0.702717</td>\n",
       "      <td>0.523806</td>\n",
       "      <td>0.875469</td>\n",
       "      <td>1</td>\n",
       "    </tr>\n",
       "  </tbody>\n",
       "</table>\n",
       "</div>"
      ],
      "text/plain": [
       "   rec_id  channel_1  channel_1_filt_0.08_4_hz  channel_1_filt_0.3_3_hz  \\\n",
       "0    1007   0.634408                  0.433720                 0.324358   \n",
       "1    1007   0.530628                  0.537462                 0.528217   \n",
       "2    1007   0.613341                  0.360560                 0.508718   \n",
       "3    1007   0.228706                  0.149781                 0.342286   \n",
       "4    1007   0.536016                  0.570890                 0.741937   \n",
       "\n",
       "   channel_1_filt_0.3_4_hz  channel_2  channel_2_filt_0.08_4_hz  \\\n",
       "0                 0.425987   0.448845                  0.359795   \n",
       "1                 0.632059   0.639080                  0.397459   \n",
       "2                 0.685050   0.256462                  0.251314   \n",
       "3                 0.372840   0.201273                  0.174210   \n",
       "4                 0.719464   0.288990                  0.230822   \n",
       "\n",
       "   channel_2_filt_0.3_3_hz  channel_2_filt_0.3_4_hz  channel_3  \\\n",
       "0                 0.370261                 0.408861   0.922722   \n",
       "1                 0.315609                 0.360103   1.386294   \n",
       "2                 0.433903                 0.453784   1.284512   \n",
       "3                 0.219886                 0.235280   0.284194   \n",
       "4                 0.495943                 0.621174   0.400402   \n",
       "\n",
       "   channel_3_filt_0.08_4_hz  channel_3_filt_0.3_3_hz  channel_3_filt_0.3_4_hz  \\\n",
       "0                  0.629159                 0.828693                 1.751754   \n",
       "1                  0.565634                 0.753772                 0.994934   \n",
       "2                  0.697237                 0.512176                 0.998529   \n",
       "3                  0.239059                 0.244985                 0.369533   \n",
       "4                  0.702717                 0.523806                 0.875469   \n",
       "\n",
       "   premature  \n",
       "0          1  \n",
       "1          1  \n",
       "2          1  \n",
       "3          1  \n",
       "4          1  "
      ]
     },
     "execution_count": 26,
     "metadata": {},
     "output_type": "execute_result"
    }
   ],
   "source": [
    "df_samp_en.head()"
   ]
  },
  {
   "cell_type": "markdown",
   "id": "f220f5ca",
   "metadata": {},
   "source": [
    "We use df_clinical_information for this operation as this df is much smaller and therefore way faster. Also the\n",
    "order of the dataframe does not matter as each rec_id occurs only once in the data. The train/val/test split is made with stratification"
   ]
  },
  {
   "cell_type": "code",
   "execution_count": 27,
   "id": "5207275f",
   "metadata": {},
   "outputs": [],
   "source": [
    "X_train, X_val, X_test, y_train, y_val, y_test = train_val_test_split(df_clinical_information, 'premature', test_ratio=0.2, \n",
    "                                                                      shuffle=True, random_state=0)"
   ]
  },
  {
   "cell_type": "code",
   "execution_count": 28,
   "id": "a53840e4",
   "metadata": {},
   "outputs": [
    {
     "data": {
      "text/html": [
       "<div>\n",
       "<style scoped>\n",
       "    .dataframe tbody tr th:only-of-type {\n",
       "        vertical-align: middle;\n",
       "    }\n",
       "\n",
       "    .dataframe tbody tr th {\n",
       "        vertical-align: top;\n",
       "    }\n",
       "\n",
       "    .dataframe thead th {\n",
       "        text-align: right;\n",
       "    }\n",
       "</style>\n",
       "<table border=\"1\" class=\"dataframe\">\n",
       "  <thead>\n",
       "    <tr style=\"text-align: right;\">\n",
       "      <th></th>\n",
       "      <th>rec_id</th>\n",
       "      <th>channel_1</th>\n",
       "      <th>channel_1_filt_0.08_4_hz</th>\n",
       "      <th>channel_1_filt_0.3_3_hz</th>\n",
       "      <th>channel_1_filt_0.3_4_hz</th>\n",
       "      <th>channel_2</th>\n",
       "      <th>channel_2_filt_0.08_4_hz</th>\n",
       "      <th>channel_2_filt_0.3_3_hz</th>\n",
       "      <th>channel_2_filt_0.3_4_hz</th>\n",
       "      <th>channel_3</th>\n",
       "      <th>channel_3_filt_0.08_4_hz</th>\n",
       "      <th>channel_3_filt_0.3_3_hz</th>\n",
       "      <th>channel_3_filt_0.3_4_hz</th>\n",
       "      <th>premature</th>\n",
       "    </tr>\n",
       "  </thead>\n",
       "  <tbody>\n",
       "    <tr>\n",
       "      <th>0</th>\n",
       "      <td>1007</td>\n",
       "      <td>-0.054246</td>\n",
       "      <td>-0.040048</td>\n",
       "      <td>-0.030088</td>\n",
       "      <td>-0.028181</td>\n",
       "      <td>-0.062409</td>\n",
       "      <td>-0.026641</td>\n",
       "      <td>-0.021161</td>\n",
       "      <td>-0.020855</td>\n",
       "      <td>-0.105440</td>\n",
       "      <td>-0.006349</td>\n",
       "      <td>-0.003682</td>\n",
       "      <td>-0.004561</td>\n",
       "      <td>1</td>\n",
       "    </tr>\n",
       "    <tr>\n",
       "      <th>1</th>\n",
       "      <td>1007</td>\n",
       "      <td>-0.061952</td>\n",
       "      <td>-0.045426</td>\n",
       "      <td>-0.032965</td>\n",
       "      <td>-0.032240</td>\n",
       "      <td>-0.065232</td>\n",
       "      <td>-0.028712</td>\n",
       "      <td>-0.022736</td>\n",
       "      <td>-0.022297</td>\n",
       "      <td>-0.101625</td>\n",
       "      <td>-0.004590</td>\n",
       "      <td>-0.003498</td>\n",
       "      <td>-0.003235</td>\n",
       "      <td>1</td>\n",
       "    </tr>\n",
       "    <tr>\n",
       "      <th>2</th>\n",
       "      <td>1007</td>\n",
       "      <td>-0.067750</td>\n",
       "      <td>-0.051825</td>\n",
       "      <td>-0.036908</td>\n",
       "      <td>-0.037472</td>\n",
       "      <td>-0.067216</td>\n",
       "      <td>-0.030902</td>\n",
       "      <td>-0.024211</td>\n",
       "      <td>-0.023947</td>\n",
       "      <td>-0.102235</td>\n",
       "      <td>-0.002846</td>\n",
       "      <td>-0.002748</td>\n",
       "      <td>-0.001898</td>\n",
       "      <td>1</td>\n",
       "    </tr>\n",
       "    <tr>\n",
       "      <th>3</th>\n",
       "      <td>1007</td>\n",
       "      <td>-0.070878</td>\n",
       "      <td>-0.056119</td>\n",
       "      <td>-0.040185</td>\n",
       "      <td>-0.040739</td>\n",
       "      <td>-0.069047</td>\n",
       "      <td>-0.032685</td>\n",
       "      <td>-0.025322</td>\n",
       "      <td>-0.025273</td>\n",
       "      <td>-0.101549</td>\n",
       "      <td>-0.002277</td>\n",
       "      <td>-0.002000</td>\n",
       "      <td>-0.001732</td>\n",
       "      <td>1</td>\n",
       "    </tr>\n",
       "    <tr>\n",
       "      <th>4</th>\n",
       "      <td>1007</td>\n",
       "      <td>-0.071336</td>\n",
       "      <td>-0.056939</td>\n",
       "      <td>-0.040799</td>\n",
       "      <td>-0.040650</td>\n",
       "      <td>-0.070420</td>\n",
       "      <td>-0.033362</td>\n",
       "      <td>-0.025601</td>\n",
       "      <td>-0.025583</td>\n",
       "      <td>-0.101854</td>\n",
       "      <td>-0.002350</td>\n",
       "      <td>-0.001758</td>\n",
       "      <td>-0.002222</td>\n",
       "      <td>1</td>\n",
       "    </tr>\n",
       "  </tbody>\n",
       "</table>\n",
       "</div>"
      ],
      "text/plain": [
       "   rec_id  channel_1  channel_1_filt_0.08_4_hz  channel_1_filt_0.3_3_hz  \\\n",
       "0    1007  -0.054246                 -0.040048                -0.030088   \n",
       "1    1007  -0.061952                 -0.045426                -0.032965   \n",
       "2    1007  -0.067750                 -0.051825                -0.036908   \n",
       "3    1007  -0.070878                 -0.056119                -0.040185   \n",
       "4    1007  -0.071336                 -0.056939                -0.040799   \n",
       "\n",
       "   channel_1_filt_0.3_4_hz  channel_2  channel_2_filt_0.08_4_hz  \\\n",
       "0                -0.028181  -0.062409                 -0.026641   \n",
       "1                -0.032240  -0.065232                 -0.028712   \n",
       "2                -0.037472  -0.067216                 -0.030902   \n",
       "3                -0.040739  -0.069047                 -0.032685   \n",
       "4                -0.040650  -0.070420                 -0.033362   \n",
       "\n",
       "   channel_2_filt_0.3_3_hz  channel_2_filt_0.3_4_hz  channel_3  \\\n",
       "0                -0.021161                -0.020855  -0.105440   \n",
       "1                -0.022736                -0.022297  -0.101625   \n",
       "2                -0.024211                -0.023947  -0.102235   \n",
       "3                -0.025322                -0.025273  -0.101549   \n",
       "4                -0.025601                -0.025583  -0.101854   \n",
       "\n",
       "   channel_3_filt_0.08_4_hz  channel_3_filt_0.3_3_hz  channel_3_filt_0.3_4_hz  \\\n",
       "0                 -0.006349                -0.003682                -0.004561   \n",
       "1                 -0.004590                -0.003498                -0.003235   \n",
       "2                 -0.002846                -0.002748                -0.001898   \n",
       "3                 -0.002277                -0.002000                -0.001732   \n",
       "4                 -0.002350                -0.001758                -0.002222   \n",
       "\n",
       "   premature  \n",
       "0          1  \n",
       "1          1  \n",
       "2          1  \n",
       "3          1  \n",
       "4          1  "
      ]
     },
     "execution_count": 28,
     "metadata": {},
     "output_type": "execute_result"
    }
   ],
   "source": [
    "df_signals.head()"
   ]
  },
  {
   "cell_type": "code",
   "execution_count": 29,
   "id": "63cf27ee",
   "metadata": {},
   "outputs": [
    {
     "data": {
      "text/plain": [
       "180"
      ]
     },
     "execution_count": 29,
     "metadata": {},
     "output_type": "execute_result"
    }
   ],
   "source": [
    "X_train['rec_id'].nunique()"
   ]
  },
  {
   "cell_type": "code",
   "execution_count": 30,
   "id": "6ac8a407",
   "metadata": {},
   "outputs": [
    {
     "data": {
      "text/plain": [
       "60"
      ]
     },
     "execution_count": 30,
     "metadata": {},
     "output_type": "execute_result"
    }
   ],
   "source": [
    "X_val['rec_id'].nunique()"
   ]
  },
  {
   "cell_type": "code",
   "execution_count": 31,
   "id": "297bc895",
   "metadata": {},
   "outputs": [
    {
     "data": {
      "text/plain": [
       "60"
      ]
     },
     "execution_count": 31,
     "metadata": {},
     "output_type": "execute_result"
    }
   ],
   "source": [
    "X_test['rec_id'].nunique()"
   ]
  },
  {
   "cell_type": "markdown",
   "id": "4dab4ab1",
   "metadata": {},
   "source": [
    "And now we'll use the signal data in the X dataframes"
   ]
  },
  {
   "cell_type": "markdown",
   "id": "e3512fd9",
   "metadata": {},
   "source": [
    "## This part is with the original signal data (so not subsampled to a fixed time window by using a feature such as sample entropy). The original signal data will be used to apply a stateful LSTM model"
   ]
  },
  {
   "cell_type": "code",
   "execution_count": 32,
   "id": "8522b2f4",
   "metadata": {},
   "outputs": [],
   "source": [
    "# These dfs contain the original signal data\n",
    "X_train_orig = df_signals[df_signals['rec_id'].isin(X_train['rec_id'].unique())].reset_index(drop=True)\n",
    "X_val_orig = df_signals[df_signals['rec_id'].isin(X_val['rec_id'].unique())].reset_index(drop=True)\n",
    "X_test_orig = df_signals[df_signals['rec_id'].isin(X_test['rec_id'].unique())].reset_index(drop=True)"
   ]
  },
  {
   "cell_type": "code",
   "execution_count": 33,
   "id": "8c39875b",
   "metadata": {},
   "outputs": [
    {
     "data": {
      "text/html": [
       "<div>\n",
       "<style scoped>\n",
       "    .dataframe tbody tr th:only-of-type {\n",
       "        vertical-align: middle;\n",
       "    }\n",
       "\n",
       "    .dataframe tbody tr th {\n",
       "        vertical-align: top;\n",
       "    }\n",
       "\n",
       "    .dataframe thead th {\n",
       "        text-align: right;\n",
       "    }\n",
       "</style>\n",
       "<table border=\"1\" class=\"dataframe\">\n",
       "  <thead>\n",
       "    <tr style=\"text-align: right;\">\n",
       "      <th></th>\n",
       "      <th>rec_id</th>\n",
       "      <th>channel_1</th>\n",
       "      <th>channel_1_filt_0.08_4_hz</th>\n",
       "      <th>channel_1_filt_0.3_3_hz</th>\n",
       "      <th>channel_1_filt_0.3_4_hz</th>\n",
       "      <th>channel_2</th>\n",
       "      <th>channel_2_filt_0.08_4_hz</th>\n",
       "      <th>channel_2_filt_0.3_3_hz</th>\n",
       "      <th>channel_2_filt_0.3_4_hz</th>\n",
       "      <th>channel_3</th>\n",
       "      <th>channel_3_filt_0.08_4_hz</th>\n",
       "      <th>channel_3_filt_0.3_3_hz</th>\n",
       "      <th>channel_3_filt_0.3_4_hz</th>\n",
       "      <th>premature</th>\n",
       "    </tr>\n",
       "  </thead>\n",
       "  <tbody>\n",
       "    <tr>\n",
       "      <th>0</th>\n",
       "      <td>1021</td>\n",
       "      <td>0.066529</td>\n",
       "      <td>0.020685</td>\n",
       "      <td>0.000455</td>\n",
       "      <td>-0.000606</td>\n",
       "      <td>-0.130083</td>\n",
       "      <td>0.008509</td>\n",
       "      <td>-0.001534</td>\n",
       "      <td>-0.001203</td>\n",
       "      <td>-0.160220</td>\n",
       "      <td>0.009194</td>\n",
       "      <td>-0.002570</td>\n",
       "      <td>-0.001528</td>\n",
       "      <td>0</td>\n",
       "    </tr>\n",
       "    <tr>\n",
       "      <th>1</th>\n",
       "      <td>1021</td>\n",
       "      <td>0.068360</td>\n",
       "      <td>0.021130</td>\n",
       "      <td>-0.000204</td>\n",
       "      <td>-0.001955</td>\n",
       "      <td>-0.130312</td>\n",
       "      <td>0.008454</td>\n",
       "      <td>-0.003143</td>\n",
       "      <td>-0.003246</td>\n",
       "      <td>-0.159228</td>\n",
       "      <td>0.009254</td>\n",
       "      <td>-0.004263</td>\n",
       "      <td>-0.002532</td>\n",
       "      <td>0</td>\n",
       "    </tr>\n",
       "    <tr>\n",
       "      <th>2</th>\n",
       "      <td>1021</td>\n",
       "      <td>0.075074</td>\n",
       "      <td>0.024423</td>\n",
       "      <td>0.000105</td>\n",
       "      <td>-0.000459</td>\n",
       "      <td>-0.127260</td>\n",
       "      <td>0.009700</td>\n",
       "      <td>-0.003568</td>\n",
       "      <td>-0.003995</td>\n",
       "      <td>-0.163653</td>\n",
       "      <td>0.007483</td>\n",
       "      <td>-0.005885</td>\n",
       "      <td>-0.005385</td>\n",
       "      <td>0</td>\n",
       "    </tr>\n",
       "    <tr>\n",
       "      <th>3</th>\n",
       "      <td>1021</td>\n",
       "      <td>0.080720</td>\n",
       "      <td>0.028421</td>\n",
       "      <td>0.000898</td>\n",
       "      <td>0.001844</td>\n",
       "      <td>-0.124514</td>\n",
       "      <td>0.012850</td>\n",
       "      <td>-0.002362</td>\n",
       "      <td>-0.002792</td>\n",
       "      <td>-0.167239</td>\n",
       "      <td>0.006129</td>\n",
       "      <td>-0.006837</td>\n",
       "      <td>-0.007900</td>\n",
       "      <td>0</td>\n",
       "    </tr>\n",
       "    <tr>\n",
       "      <th>4</th>\n",
       "      <td>1021</td>\n",
       "      <td>0.080797</td>\n",
       "      <td>0.030545</td>\n",
       "      <td>0.001196</td>\n",
       "      <td>0.002415</td>\n",
       "      <td>-0.120928</td>\n",
       "      <td>0.017476</td>\n",
       "      <td>0.000148</td>\n",
       "      <td>-0.000007</td>\n",
       "      <td>-0.161593</td>\n",
       "      <td>0.007441</td>\n",
       "      <td>-0.006634</td>\n",
       "      <td>-0.007821</td>\n",
       "      <td>0</td>\n",
       "    </tr>\n",
       "  </tbody>\n",
       "</table>\n",
       "</div>"
      ],
      "text/plain": [
       "   rec_id  channel_1  channel_1_filt_0.08_4_hz  channel_1_filt_0.3_3_hz  \\\n",
       "0    1021   0.066529                  0.020685                 0.000455   \n",
       "1    1021   0.068360                  0.021130                -0.000204   \n",
       "2    1021   0.075074                  0.024423                 0.000105   \n",
       "3    1021   0.080720                  0.028421                 0.000898   \n",
       "4    1021   0.080797                  0.030545                 0.001196   \n",
       "\n",
       "   channel_1_filt_0.3_4_hz  channel_2  channel_2_filt_0.08_4_hz  \\\n",
       "0                -0.000606  -0.130083                  0.008509   \n",
       "1                -0.001955  -0.130312                  0.008454   \n",
       "2                -0.000459  -0.127260                  0.009700   \n",
       "3                 0.001844  -0.124514                  0.012850   \n",
       "4                 0.002415  -0.120928                  0.017476   \n",
       "\n",
       "   channel_2_filt_0.3_3_hz  channel_2_filt_0.3_4_hz  channel_3  \\\n",
       "0                -0.001534                -0.001203  -0.160220   \n",
       "1                -0.003143                -0.003246  -0.159228   \n",
       "2                -0.003568                -0.003995  -0.163653   \n",
       "3                -0.002362                -0.002792  -0.167239   \n",
       "4                 0.000148                -0.000007  -0.161593   \n",
       "\n",
       "   channel_3_filt_0.08_4_hz  channel_3_filt_0.3_3_hz  channel_3_filt_0.3_4_hz  \\\n",
       "0                  0.009194                -0.002570                -0.001528   \n",
       "1                  0.009254                -0.004263                -0.002532   \n",
       "2                  0.007483                -0.005885                -0.005385   \n",
       "3                  0.006129                -0.006837                -0.007900   \n",
       "4                  0.007441                -0.006634                -0.007821   \n",
       "\n",
       "   premature  \n",
       "0          0  \n",
       "1          0  \n",
       "2          0  \n",
       "3          0  \n",
       "4          0  "
      ]
     },
     "execution_count": 33,
     "metadata": {},
     "output_type": "execute_result"
    }
   ],
   "source": [
    "X_train_orig.head()"
   ]
  },
  {
   "cell_type": "code",
   "execution_count": 34,
   "id": "03bd37ec",
   "metadata": {},
   "outputs": [],
   "source": [
    "# We need to re-do this step because the X dataframes now contain the label column\n",
    "X_train_orig, y_train_orig = feature_label_split(X_train_orig, 'premature')\n",
    "X_val_orig, y_val_orig = feature_label_split(X_val_orig, 'premature')\n",
    "X_test_orig, y_test_orig = feature_label_split(X_test_orig, 'premature')"
   ]
  },
  {
   "cell_type": "code",
   "execution_count": 35,
   "id": "6e442dcb",
   "metadata": {},
   "outputs": [
    {
     "data": {
      "text/html": [
       "<div>\n",
       "<style scoped>\n",
       "    .dataframe tbody tr th:only-of-type {\n",
       "        vertical-align: middle;\n",
       "    }\n",
       "\n",
       "    .dataframe tbody tr th {\n",
       "        vertical-align: top;\n",
       "    }\n",
       "\n",
       "    .dataframe thead th {\n",
       "        text-align: right;\n",
       "    }\n",
       "</style>\n",
       "<table border=\"1\" class=\"dataframe\">\n",
       "  <thead>\n",
       "    <tr style=\"text-align: right;\">\n",
       "      <th></th>\n",
       "      <th>rec_id</th>\n",
       "      <th>channel_1</th>\n",
       "      <th>channel_1_filt_0.08_4_hz</th>\n",
       "      <th>channel_1_filt_0.3_3_hz</th>\n",
       "      <th>channel_1_filt_0.3_4_hz</th>\n",
       "      <th>channel_2</th>\n",
       "      <th>channel_2_filt_0.08_4_hz</th>\n",
       "      <th>channel_2_filt_0.3_3_hz</th>\n",
       "      <th>channel_2_filt_0.3_4_hz</th>\n",
       "      <th>channel_3</th>\n",
       "      <th>channel_3_filt_0.08_4_hz</th>\n",
       "      <th>channel_3_filt_0.3_3_hz</th>\n",
       "      <th>channel_3_filt_0.3_4_hz</th>\n",
       "    </tr>\n",
       "  </thead>\n",
       "  <tbody>\n",
       "    <tr>\n",
       "      <th>0</th>\n",
       "      <td>1022</td>\n",
       "      <td>-0.059358</td>\n",
       "      <td>-0.004791</td>\n",
       "      <td>0.004419</td>\n",
       "      <td>0.004277</td>\n",
       "      <td>0.011673</td>\n",
       "      <td>0.000882</td>\n",
       "      <td>0.001624</td>\n",
       "      <td>0.001417</td>\n",
       "      <td>-0.003204</td>\n",
       "      <td>-0.019362</td>\n",
       "      <td>-0.002038</td>\n",
       "      <td>-0.002105</td>\n",
       "    </tr>\n",
       "    <tr>\n",
       "      <th>1</th>\n",
       "      <td>1022</td>\n",
       "      <td>-0.062715</td>\n",
       "      <td>-0.008798</td>\n",
       "      <td>0.000817</td>\n",
       "      <td>0.000526</td>\n",
       "      <td>0.008621</td>\n",
       "      <td>-0.002357</td>\n",
       "      <td>-0.000937</td>\n",
       "      <td>-0.000942</td>\n",
       "      <td>-0.003052</td>\n",
       "      <td>-0.019682</td>\n",
       "      <td>-0.002784</td>\n",
       "      <td>-0.002745</td>\n",
       "    </tr>\n",
       "    <tr>\n",
       "      <th>2</th>\n",
       "      <td>1022</td>\n",
       "      <td>-0.066987</td>\n",
       "      <td>-0.011931</td>\n",
       "      <td>-0.001659</td>\n",
       "      <td>-0.002346</td>\n",
       "      <td>0.004501</td>\n",
       "      <td>-0.005256</td>\n",
       "      <td>-0.002676</td>\n",
       "      <td>-0.002973</td>\n",
       "      <td>-0.003281</td>\n",
       "      <td>-0.019849</td>\n",
       "      <td>-0.003706</td>\n",
       "      <td>-0.003366</td>\n",
       "    </tr>\n",
       "    <tr>\n",
       "      <th>3</th>\n",
       "      <td>1022</td>\n",
       "      <td>-0.068437</td>\n",
       "      <td>-0.013105</td>\n",
       "      <td>-0.002886</td>\n",
       "      <td>-0.003336</td>\n",
       "      <td>-0.000153</td>\n",
       "      <td>-0.007429</td>\n",
       "      <td>-0.003967</td>\n",
       "      <td>-0.004364</td>\n",
       "      <td>-0.002289</td>\n",
       "      <td>-0.020592</td>\n",
       "      <td>-0.004761</td>\n",
       "      <td>-0.004628</td>\n",
       "    </tr>\n",
       "    <tr>\n",
       "      <th>4</th>\n",
       "      <td>1022</td>\n",
       "      <td>-0.069505</td>\n",
       "      <td>-0.012605</td>\n",
       "      <td>-0.003301</td>\n",
       "      <td>-0.002786</td>\n",
       "      <td>-0.002289</td>\n",
       "      <td>-0.008949</td>\n",
       "      <td>-0.005409</td>\n",
       "      <td>-0.005257</td>\n",
       "      <td>-0.003357</td>\n",
       "      <td>-0.021958</td>\n",
       "      <td>-0.005861</td>\n",
       "      <td>-0.006503</td>\n",
       "    </tr>\n",
       "  </tbody>\n",
       "</table>\n",
       "</div>"
      ],
      "text/plain": [
       "   rec_id  channel_1  channel_1_filt_0.08_4_hz  channel_1_filt_0.3_3_hz  \\\n",
       "0    1022  -0.059358                 -0.004791                 0.004419   \n",
       "1    1022  -0.062715                 -0.008798                 0.000817   \n",
       "2    1022  -0.066987                 -0.011931                -0.001659   \n",
       "3    1022  -0.068437                 -0.013105                -0.002886   \n",
       "4    1022  -0.069505                 -0.012605                -0.003301   \n",
       "\n",
       "   channel_1_filt_0.3_4_hz  channel_2  channel_2_filt_0.08_4_hz  \\\n",
       "0                 0.004277   0.011673                  0.000882   \n",
       "1                 0.000526   0.008621                 -0.002357   \n",
       "2                -0.002346   0.004501                 -0.005256   \n",
       "3                -0.003336  -0.000153                 -0.007429   \n",
       "4                -0.002786  -0.002289                 -0.008949   \n",
       "\n",
       "   channel_2_filt_0.3_3_hz  channel_2_filt_0.3_4_hz  channel_3  \\\n",
       "0                 0.001624                 0.001417  -0.003204   \n",
       "1                -0.000937                -0.000942  -0.003052   \n",
       "2                -0.002676                -0.002973  -0.003281   \n",
       "3                -0.003967                -0.004364  -0.002289   \n",
       "4                -0.005409                -0.005257  -0.003357   \n",
       "\n",
       "   channel_3_filt_0.08_4_hz  channel_3_filt_0.3_3_hz  channel_3_filt_0.3_4_hz  \n",
       "0                 -0.019362                -0.002038                -0.002105  \n",
       "1                 -0.019682                -0.002784                -0.002745  \n",
       "2                 -0.019849                -0.003706                -0.003366  \n",
       "3                 -0.020592                -0.004761                -0.004628  \n",
       "4                 -0.021958                -0.005861                -0.006503  "
      ]
     },
     "execution_count": 35,
     "metadata": {},
     "output_type": "execute_result"
    }
   ],
   "source": [
    "X_val_orig.head()"
   ]
  },
  {
   "cell_type": "code",
   "execution_count": 37,
   "id": "0caf55a5",
   "metadata": {},
   "outputs": [
    {
     "data": {
      "text/html": [
       "<div>\n",
       "<style scoped>\n",
       "    .dataframe tbody tr th:only-of-type {\n",
       "        vertical-align: middle;\n",
       "    }\n",
       "\n",
       "    .dataframe tbody tr th {\n",
       "        vertical-align: top;\n",
       "    }\n",
       "\n",
       "    .dataframe thead th {\n",
       "        text-align: right;\n",
       "    }\n",
       "</style>\n",
       "<table border=\"1\" class=\"dataframe\">\n",
       "  <thead>\n",
       "    <tr style=\"text-align: right;\">\n",
       "      <th></th>\n",
       "      <th>rec_id</th>\n",
       "      <th>channel_1</th>\n",
       "      <th>channel_1_filt_0.08_4_hz</th>\n",
       "      <th>channel_1_filt_0.3_3_hz</th>\n",
       "      <th>channel_1_filt_0.3_4_hz</th>\n",
       "      <th>channel_2</th>\n",
       "      <th>channel_2_filt_0.08_4_hz</th>\n",
       "      <th>channel_2_filt_0.3_3_hz</th>\n",
       "      <th>channel_2_filt_0.3_4_hz</th>\n",
       "      <th>channel_3</th>\n",
       "      <th>channel_3_filt_0.08_4_hz</th>\n",
       "      <th>channel_3_filt_0.3_3_hz</th>\n",
       "      <th>channel_3_filt_0.3_4_hz</th>\n",
       "    </tr>\n",
       "  </thead>\n",
       "  <tbody>\n",
       "    <tr>\n",
       "      <th>0</th>\n",
       "      <td>1007</td>\n",
       "      <td>-0.054246</td>\n",
       "      <td>-0.040048</td>\n",
       "      <td>-0.030088</td>\n",
       "      <td>-0.028181</td>\n",
       "      <td>-0.062409</td>\n",
       "      <td>-0.026641</td>\n",
       "      <td>-0.021161</td>\n",
       "      <td>-0.020855</td>\n",
       "      <td>-0.105440</td>\n",
       "      <td>-0.006349</td>\n",
       "      <td>-0.003682</td>\n",
       "      <td>-0.004561</td>\n",
       "    </tr>\n",
       "    <tr>\n",
       "      <th>1</th>\n",
       "      <td>1007</td>\n",
       "      <td>-0.061952</td>\n",
       "      <td>-0.045426</td>\n",
       "      <td>-0.032965</td>\n",
       "      <td>-0.032240</td>\n",
       "      <td>-0.065232</td>\n",
       "      <td>-0.028712</td>\n",
       "      <td>-0.022736</td>\n",
       "      <td>-0.022297</td>\n",
       "      <td>-0.101625</td>\n",
       "      <td>-0.004590</td>\n",
       "      <td>-0.003498</td>\n",
       "      <td>-0.003235</td>\n",
       "    </tr>\n",
       "    <tr>\n",
       "      <th>2</th>\n",
       "      <td>1007</td>\n",
       "      <td>-0.067750</td>\n",
       "      <td>-0.051825</td>\n",
       "      <td>-0.036908</td>\n",
       "      <td>-0.037472</td>\n",
       "      <td>-0.067216</td>\n",
       "      <td>-0.030902</td>\n",
       "      <td>-0.024211</td>\n",
       "      <td>-0.023947</td>\n",
       "      <td>-0.102235</td>\n",
       "      <td>-0.002846</td>\n",
       "      <td>-0.002748</td>\n",
       "      <td>-0.001898</td>\n",
       "    </tr>\n",
       "    <tr>\n",
       "      <th>3</th>\n",
       "      <td>1007</td>\n",
       "      <td>-0.070878</td>\n",
       "      <td>-0.056119</td>\n",
       "      <td>-0.040185</td>\n",
       "      <td>-0.040739</td>\n",
       "      <td>-0.069047</td>\n",
       "      <td>-0.032685</td>\n",
       "      <td>-0.025322</td>\n",
       "      <td>-0.025273</td>\n",
       "      <td>-0.101549</td>\n",
       "      <td>-0.002277</td>\n",
       "      <td>-0.002000</td>\n",
       "      <td>-0.001732</td>\n",
       "    </tr>\n",
       "    <tr>\n",
       "      <th>4</th>\n",
       "      <td>1007</td>\n",
       "      <td>-0.071336</td>\n",
       "      <td>-0.056939</td>\n",
       "      <td>-0.040799</td>\n",
       "      <td>-0.040650</td>\n",
       "      <td>-0.070420</td>\n",
       "      <td>-0.033362</td>\n",
       "      <td>-0.025601</td>\n",
       "      <td>-0.025583</td>\n",
       "      <td>-0.101854</td>\n",
       "      <td>-0.002350</td>\n",
       "      <td>-0.001758</td>\n",
       "      <td>-0.002222</td>\n",
       "    </tr>\n",
       "  </tbody>\n",
       "</table>\n",
       "</div>"
      ],
      "text/plain": [
       "   rec_id  channel_1  channel_1_filt_0.08_4_hz  channel_1_filt_0.3_3_hz  \\\n",
       "0    1007  -0.054246                 -0.040048                -0.030088   \n",
       "1    1007  -0.061952                 -0.045426                -0.032965   \n",
       "2    1007  -0.067750                 -0.051825                -0.036908   \n",
       "3    1007  -0.070878                 -0.056119                -0.040185   \n",
       "4    1007  -0.071336                 -0.056939                -0.040799   \n",
       "\n",
       "   channel_1_filt_0.3_4_hz  channel_2  channel_2_filt_0.08_4_hz  \\\n",
       "0                -0.028181  -0.062409                 -0.026641   \n",
       "1                -0.032240  -0.065232                 -0.028712   \n",
       "2                -0.037472  -0.067216                 -0.030902   \n",
       "3                -0.040739  -0.069047                 -0.032685   \n",
       "4                -0.040650  -0.070420                 -0.033362   \n",
       "\n",
       "   channel_2_filt_0.3_3_hz  channel_2_filt_0.3_4_hz  channel_3  \\\n",
       "0                -0.021161                -0.020855  -0.105440   \n",
       "1                -0.022736                -0.022297  -0.101625   \n",
       "2                -0.024211                -0.023947  -0.102235   \n",
       "3                -0.025322                -0.025273  -0.101549   \n",
       "4                -0.025601                -0.025583  -0.101854   \n",
       "\n",
       "   channel_3_filt_0.08_4_hz  channel_3_filt_0.3_3_hz  channel_3_filt_0.3_4_hz  \n",
       "0                 -0.006349                -0.003682                -0.004561  \n",
       "1                 -0.004590                -0.003498                -0.003235  \n",
       "2                 -0.002846                -0.002748                -0.001898  \n",
       "3                 -0.002277                -0.002000                -0.001732  \n",
       "4                 -0.002350                -0.001758                -0.002222  "
      ]
     },
     "execution_count": 37,
     "metadata": {},
     "output_type": "execute_result"
    }
   ],
   "source": [
    "X_test_orig.head()"
   ]
  },
  {
   "cell_type": "code",
   "execution_count": 38,
   "id": "58d22317",
   "metadata": {},
   "outputs": [],
   "source": [
    "new_column_names_signal = ['channel_1', 'channel_1_filt_0.08_4_hz', 'channel_1_filt_0.3_3_hz', 'channel_1_filt_0.3_4_hz', \n",
    "                           'channel_2', 'channel_2_filt_0.08_4_hz', 'channel_2_filt_0.3_3_hz', 'channel_2_filt_0.3_4_hz', \n",
    "                           'channel_3', 'channel_3_filt_0.08_4_hz', 'channel_3_filt_0.3_3_hz', 'channel_3_filt_0.3_4_hz']"
   ]
  },
  {
   "cell_type": "code",
   "execution_count": 39,
   "id": "b7d54d63",
   "metadata": {},
   "outputs": [],
   "source": [
    "features_to_use = ['channel_1_filt_0.08_4_hz', 'channel_2_filt_0.08_4_hz', 'channel_3_filt_0.08_4_hz']"
   ]
  },
  {
   "cell_type": "code",
   "execution_count": 40,
   "id": "8529a99e",
   "metadata": {},
   "outputs": [],
   "source": [
    "# We don't want to have the rec_ids scaled\n",
    "preprocessor_features = ColumnTransformer(\n",
    "        remainder='drop', #passthough features not listed\n",
    "        transformers=[\n",
    "            ('standard', StandardScaler(), features_to_use)\n",
    "        ])"
   ]
  },
  {
   "cell_type": "code",
   "execution_count": 41,
   "id": "7e7620e0",
   "metadata": {},
   "outputs": [],
   "source": [
    "X_train_arr_orig = preprocessor_features.fit_transform(X_train_orig)\n",
    "X_val_arr_orig = preprocessor_features.transform(X_val_orig)\n",
    "X_test_arr_orig = preprocessor_features.transform(X_test_orig)\n",
    "\n",
    "y_train_arr_orig = lb.fit_transform(y_train_orig['premature'])\n",
    "y_val_arr_orig = lb.transform(y_val_orig['premature'])\n",
    "y_test_arr_orig = lb.transform(y_test_orig['premature'])"
   ]
  },
  {
   "cell_type": "markdown",
   "id": "da4dbd0d",
   "metadata": {},
   "source": [
    "We will use X_train_scaled to verify our results later on (after we've padded/truncataed the sequences)"
   ]
  },
  {
   "cell_type": "code",
   "execution_count": 42,
   "id": "f404c062",
   "metadata": {},
   "outputs": [],
   "source": [
    "X_train_scaled_orig = pd.concat([X_train_orig['rec_id'], pd.DataFrame(X_train_arr_orig, columns=features_to_use)], axis=1) "
   ]
  },
  {
   "cell_type": "code",
   "execution_count": 43,
   "id": "ca94264f",
   "metadata": {},
   "outputs": [
    {
     "data": {
      "text/html": [
       "<div>\n",
       "<style scoped>\n",
       "    .dataframe tbody tr th:only-of-type {\n",
       "        vertical-align: middle;\n",
       "    }\n",
       "\n",
       "    .dataframe tbody tr th {\n",
       "        vertical-align: top;\n",
       "    }\n",
       "\n",
       "    .dataframe thead th {\n",
       "        text-align: right;\n",
       "    }\n",
       "</style>\n",
       "<table border=\"1\" class=\"dataframe\">\n",
       "  <thead>\n",
       "    <tr style=\"text-align: right;\">\n",
       "      <th></th>\n",
       "      <th>rec_id</th>\n",
       "      <th>channel_1_filt_0.08_4_hz</th>\n",
       "      <th>channel_2_filt_0.08_4_hz</th>\n",
       "      <th>channel_3_filt_0.08_4_hz</th>\n",
       "    </tr>\n",
       "  </thead>\n",
       "  <tbody>\n",
       "    <tr>\n",
       "      <th>0</th>\n",
       "      <td>1021</td>\n",
       "      <td>1.231128</td>\n",
       "      <td>0.547986</td>\n",
       "      <td>0.795841</td>\n",
       "    </tr>\n",
       "    <tr>\n",
       "      <th>1</th>\n",
       "      <td>1021</td>\n",
       "      <td>1.257606</td>\n",
       "      <td>0.544407</td>\n",
       "      <td>0.800998</td>\n",
       "    </tr>\n",
       "    <tr>\n",
       "      <th>2</th>\n",
       "      <td>1021</td>\n",
       "      <td>1.453623</td>\n",
       "      <td>0.624696</td>\n",
       "      <td>0.647683</td>\n",
       "    </tr>\n",
       "    <tr>\n",
       "      <th>3</th>\n",
       "      <td>1021</td>\n",
       "      <td>1.691579</td>\n",
       "      <td>0.827560</td>\n",
       "      <td>0.530496</td>\n",
       "    </tr>\n",
       "    <tr>\n",
       "      <th>4</th>\n",
       "      <td>1021</td>\n",
       "      <td>1.817988</td>\n",
       "      <td>1.125461</td>\n",
       "      <td>0.644114</td>\n",
       "    </tr>\n",
       "  </tbody>\n",
       "</table>\n",
       "</div>"
      ],
      "text/plain": [
       "   rec_id  channel_1_filt_0.08_4_hz  channel_2_filt_0.08_4_hz  \\\n",
       "0    1021                  1.231128                  0.547986   \n",
       "1    1021                  1.257606                  0.544407   \n",
       "2    1021                  1.453623                  0.624696   \n",
       "3    1021                  1.691579                  0.827560   \n",
       "4    1021                  1.817988                  1.125461   \n",
       "\n",
       "   channel_3_filt_0.08_4_hz  \n",
       "0                  0.795841  \n",
       "1                  0.800998  \n",
       "2                  0.647683  \n",
       "3                  0.530496  \n",
       "4                  0.644114  "
      ]
     },
     "execution_count": 43,
     "metadata": {},
     "output_type": "execute_result"
    }
   ],
   "source": [
    "X_train_scaled_orig.head()"
   ]
  },
  {
   "cell_type": "markdown",
   "id": "93e7559f",
   "metadata": {},
   "source": [
    "We pad/truncate the sequence of each rec_id to length fixed_seq_length (this is set at 28800 time steps). \n",
    "Padding must be done AFTER scaling the features, otherwise the zeros will be taken into account when scaling"
   ]
  },
  {
   "cell_type": "code",
   "execution_count": 44,
   "id": "3b2736a6",
   "metadata": {},
   "outputs": [],
   "source": [
    "X_train_arr_padded_orig, y_train_arr_padded_orig = pad_sequences_to_fixed_length(X_train_orig, X_train_arr_orig, y_train_arr_orig, \n",
    "                                                                       num_features=len(features_to_use), \n",
    "                                                                       fixed_seq_length=28800)\n",
    "X_val_arr_padded_orig, y_val_arr_padded_orig = pad_sequences_to_fixed_length(X_val_orig, X_val_arr_orig, y_val_arr_orig, \n",
    "                                                                   num_features=len(features_to_use), \n",
    "                                                                   fixed_seq_length=28800) \n",
    "X_test_arr_padded_orig, y_test_arr_padded_orig = pad_sequences_to_fixed_length(X_test_orig, X_test_arr_orig, y_test_arr_orig, \n",
    "                                                                     num_features=len(features_to_use), \n",
    "                                                                     fixed_seq_length=28800)"
   ]
  },
  {
   "cell_type": "code",
   "execution_count": 45,
   "id": "afb3862e",
   "metadata": {},
   "outputs": [],
   "source": [
    "# We create df_final to later on to check if the output of custom_sort_for_stateful_lstm is correct\n",
    "df_final_orig = pad_sequences_to_fixed_length_df(X_train_scaled_orig, num_features=len(features_to_use), fixed_seq_length=28800)"
   ]
  },
  {
   "cell_type": "code",
   "execution_count": 46,
   "id": "6094b549",
   "metadata": {},
   "outputs": [],
   "source": [
    "df_final_orig['time_step'] = df_final_orig.groupby('rec_id').cumcount()"
   ]
  },
  {
   "cell_type": "code",
   "execution_count": 47,
   "id": "2e3e0173",
   "metadata": {},
   "outputs": [
    {
     "data": {
      "text/html": [
       "<div>\n",
       "<style scoped>\n",
       "    .dataframe tbody tr th:only-of-type {\n",
       "        vertical-align: middle;\n",
       "    }\n",
       "\n",
       "    .dataframe tbody tr th {\n",
       "        vertical-align: top;\n",
       "    }\n",
       "\n",
       "    .dataframe thead th {\n",
       "        text-align: right;\n",
       "    }\n",
       "</style>\n",
       "<table border=\"1\" class=\"dataframe\">\n",
       "  <thead>\n",
       "    <tr style=\"text-align: right;\">\n",
       "      <th></th>\n",
       "      <th>rec_id</th>\n",
       "      <th>channel_1_filt_0.08_4_hz</th>\n",
       "      <th>channel_2_filt_0.08_4_hz</th>\n",
       "      <th>channel_3_filt_0.08_4_hz</th>\n",
       "      <th>time_step</th>\n",
       "    </tr>\n",
       "  </thead>\n",
       "  <tbody>\n",
       "    <tr>\n",
       "      <th>0</th>\n",
       "      <td>1021</td>\n",
       "      <td>1.231128</td>\n",
       "      <td>0.547986</td>\n",
       "      <td>0.795841</td>\n",
       "      <td>0</td>\n",
       "    </tr>\n",
       "    <tr>\n",
       "      <th>1</th>\n",
       "      <td>1021</td>\n",
       "      <td>1.257606</td>\n",
       "      <td>0.544407</td>\n",
       "      <td>0.800998</td>\n",
       "      <td>1</td>\n",
       "    </tr>\n",
       "    <tr>\n",
       "      <th>2</th>\n",
       "      <td>1021</td>\n",
       "      <td>1.453623</td>\n",
       "      <td>0.624696</td>\n",
       "      <td>0.647683</td>\n",
       "      <td>2</td>\n",
       "    </tr>\n",
       "    <tr>\n",
       "      <th>3</th>\n",
       "      <td>1021</td>\n",
       "      <td>1.691579</td>\n",
       "      <td>0.827560</td>\n",
       "      <td>0.530496</td>\n",
       "      <td>3</td>\n",
       "    </tr>\n",
       "    <tr>\n",
       "      <th>4</th>\n",
       "      <td>1021</td>\n",
       "      <td>1.817988</td>\n",
       "      <td>1.125461</td>\n",
       "      <td>0.644114</td>\n",
       "      <td>4</td>\n",
       "    </tr>\n",
       "  </tbody>\n",
       "</table>\n",
       "</div>"
      ],
      "text/plain": [
       "   rec_id  channel_1_filt_0.08_4_hz  channel_2_filt_0.08_4_hz  \\\n",
       "0    1021                  1.231128                  0.547986   \n",
       "1    1021                  1.257606                  0.544407   \n",
       "2    1021                  1.453623                  0.624696   \n",
       "3    1021                  1.691579                  0.827560   \n",
       "4    1021                  1.817988                  1.125461   \n",
       "\n",
       "   channel_3_filt_0.08_4_hz  time_step  \n",
       "0                  0.795841          0  \n",
       "1                  0.800998          1  \n",
       "2                  0.647683          2  \n",
       "3                  0.530496          3  \n",
       "4                  0.644114          4  "
      ]
     },
     "execution_count": 47,
     "metadata": {},
     "output_type": "execute_result"
    }
   ],
   "source": [
    "df_final_orig.head()"
   ]
  },
  {
   "cell_type": "markdown",
   "id": "4b38521f",
   "metadata": {},
   "source": [
    "We custom sort x_arr_padded and y_arr_padded such that we can correctly batchify the data using the DataLoader class.\n",
    "\n",
    "In this function, we sort the x_arr_padded and y_arr_padded in such way that we take a batch (60 in our case) of rec_ids \n",
    "and take the first sub_seq_length (200) time steps for the first rec id, then the first sub_seq_length time steps for the second rec id, ..., the last sub_seq_length time steps of the last rec_id (of the first batch of 60 rec ids). After that, we move on to the next batch of 60 rec ids and we take the first sub_seq_length time steps of rec id 61, etc.\n",
    "\n",
    "In the end, we want to have our data in the following form: \n",
    "\n",
    "There are 180 rec ids in X_train, each rec id consisting of 28800 time steps. As we want to feed the data to a stateful LSTM model, we need to ensure that we correctly batchify our data. Stateful means that the last state for each sample at index i in a batch will be used as initial state for the sample of index i in the following batch:\n",
    "\n",
    "    batch1 = [sample10, sample20, sample30, sample40]\n",
    "    batch2 = [sample11, sample21, sample31, sample41]\n",
    "    \n",
    "In the case of X_train this means that our batches will have the form as we sketched below. With $P$ being the rec id and $\\textit{t}$ the timestep. In total, X_train will be batched into 432 batches, with 144 batches needed to finish an entire sequence. As we put 60 rec ids in one batch, the first 144 batches will be dedicated to the first 60 rec ids, the second 144 batches will be dedicated to rec id 61-120 and the last 144 batches will be dedicated to rec id 121-180.\n",
    "\n",
    "The same procedure will be repeated for X_val and X_test and as they both contain only 60 rec ids, they both need 144 batches to process their rec ids."
   ]
  },
  {
   "cell_type": "markdown",
   "id": "c15b0259",
   "metadata": {},
   "source": [
    "$$B_{1} = \\begin{pmatrix} P_{1}, t_{0} & P_{1}, t_{1} & P_{1}, t_{2} & ... & P_{1}, t_{198} & P_{1}, t_{199} \\\\ P_{2}, t_{0} & P_{2}, t_{1} & P_{2}, t_{2} & ... & P_{2}, t_{198} & P_{2}, t_{199} \\\\ ... & ... & ... & ... & ... & ... \\\\ P_{59}, t_{0} & P_{59}, t_{1} & P_{59}, t_{2} & ... & P_{59}, t_{198} & P_{59}, t_{199} \\\\ P_{60}, t_{0} & P_{60}, t_{1} & P_{60}, t_{2} & ... & P_{60}, t_{198} & P_{60}, t_{199} \\end{pmatrix}$$\n",
    "\n",
    "$$B_{2} = \\begin{pmatrix} P_{1}, t_{200} & P_{1}, t_{201} & P_{1}, t_{202} & ... & P_{1}, t_{398} & P_{1}, t_{399} \\\\ P_{2}, t_{200} & P_{2}, t_{201} & P_{2}, t_{202} & ... & P_{2}, t_{398} & P_{2}, t_{399} \\\\ ... & ... & ... & ... & ... & ... \\\\  P_{59}, t_{200} & P_{59}, t_{201} & P_{59}, t_{202} & ... & P_{59}, t_{398} & P_{59}, t_{399} \\\\P_{60}, t_{200} & P_{60}, t_{201} & P_{60}, t_{202} & ... & P_{60}, t_{398} & P_{60}, t_{399} \\end{pmatrix}$$\n",
    "\n",
    "$$\\begin{pmatrix} ... \\end{pmatrix}$$\n",
    "\n",
    "$$B_{144} = \\begin{pmatrix} P_{1}, t_{28600} & P_{1}, t_{28601} & P_{1}, t_{28602} & ... & P_{1}, t_{28798} & P_{1}, t_{28799} \\\\ P_{2}, t_{28600} & P_{2}, t_{28601} & P_{2}, t_{28602} & ... & P_{2}, t_{28798} & P_{2}, t_{28799} \\\\ ... & ... & ... & ... & ... & ... \\\\  P_{59}, t_{28600} & P_{59}, t_{28601} & P_{59}, t_{28602} & ... & P_{59}, t_{28798} & P_{59}, t_{28799}\\\\P_{60}, t_{28600} & P_{60}, t_{28601} & P_{60}, t_{28602} & ... & P_{60}, t_{28798} & P_{60}, t_{28799} \\end{pmatrix}$$\n",
    "\n",
    "$$B_{145} = \\begin{pmatrix} P_{61}, t_{0} & P_{61}, t_{1} & P_{61}, t_{2} & ... & P_{61}, t_{198} & P_{61}, t_{199} \\\\ P_{62}, t_{0} & P_{62}, t_{1} & P_{62}, t_{2} & ... & P_{62}, t_{198} & P_{62}, t_{199} \\\\ ... & ... & ... & ... & ... & ... \\\\ P_{119}, t_{0} & P_{119}, t_{1} & P_{119}, t_{2} & ... & P_{119}, t_{198} & P_{119}, t_{199} \\\\ P_{120}, t_{0} & P_{120}, t_{1} & P_{120}, t_{2} & ... & P_{120}, t_{198} & P_{120}, t_{199} \\end{pmatrix}$$\n",
    "\n",
    "$$\\begin{pmatrix} ... \\end{pmatrix}$$\n",
    "\n",
    "$$B_{288} = \\begin{pmatrix} P_{61}, t_{28600} & P_{61}, t_{28601} & P_{61}, t_{28602} & ... & P_{61}, t_{28798} & P_{61}, t_{28799} \\\\ P_{62}, t_{28600} & P_{62}, t_{28601} & P_{62}, t_{28602} & ... & P_{62}, t_{28798} & P_{62}, t_{28799} \\\\ ... & ... & ... & ... & ... & ... \\\\  P_{119}, t_{28600} & P_{119}, t_{28601} & P_{119}, t_{28602} & ... & P_{119}, t_{28798} & P_{119}, t_{28799}\\\\P_{120}, t_{28600} & P_{120}, t_{28601} & P_{120}, t_{28602} & ... & P_{120}, t_{28798} & P_{120}, t_{28799} \\end{pmatrix}$$\n",
    "\n",
    "$$B_{289} = \\begin{pmatrix} P_{121}, t_{0} & P_{121}, t_{1} & P_{121}, t_{2} & ... & P_{121}, t_{198} & P_{121}, t_{199} \\\\ P_{122}, t_{0} & P_{122}, t_{1} & P_{122}, t_{2} & ... & P_{122}, t_{198} & P_{122}, t_{199} \\\\ ... & ... & ... & ... & ... & ... \\\\ P_{179}, t_{0} & P_{179}, t_{1} & P_{179}, t_{2} & ... & P_{179}, t_{198} & P_{179}, t_{199} \\\\ P_{180}, t_{0} & P_{180}, t_{1} & P_{180}, t_{2} & ... & P_{180}, t_{198} & P_{180}, t_{199} \\end{pmatrix}$$\n",
    "\n",
    "$$\\begin{pmatrix} ... \\end{pmatrix}$$\n",
    "\n",
    "$$B_{432} = \\begin{pmatrix} P_{121}, t_{28600} & P_{121}, t_{28601} & P_{121}, t_{28602} & ... & P_{121}, t_{28798} & P_{121}, t_{28799} \\\\ P_{122}, t_{28600} & P_{122}, t_{28601} & P_{122}, t_{28602} & ... & P_{122}, t_{28798} & P_{122}, t_{28799} \\\\ ... & ... & ... & ... & ... & ... \\\\  P_{179}, t_{28600} & P_{179}, t_{28601} & P_{179}, t_{28602} & ... & P_{179}, t_{28798} & P_{179}, t_{28799}\\\\P_{180}, t_{28600} & P_{180}, t_{28601} & P_{180}, t_{28602} & ... & P_{180}, t_{28798} & P_{180}, t_{28799} \\end{pmatrix}$$"
   ]
  },
  {
   "cell_type": "code",
   "execution_count": 48,
   "id": "9e2a3148",
   "metadata": {},
   "outputs": [],
   "source": [
    "X_train_arr_padded_sorted_orig, y_train_arr_padded_sorted_orig = custom_sort_for_stateful_lstm(X_train_orig, \n",
    "                                                                                               X_train_arr_padded_orig, \n",
    "                                                                                               y_train_arr_padded_orig, \n",
    "                                                                                               fixed_seq_length=28800, \n",
    "                                                                                               sub_seq_length=200, \n",
    "                                                                                               batch_size=60, \n",
    "                                                                                               num_features=len(features_to_use))"
   ]
  },
  {
   "cell_type": "code",
   "execution_count": 49,
   "id": "b78b2cfb",
   "metadata": {},
   "outputs": [],
   "source": [
    "X_val_arr_padded_sorted_orig, y_val_arr_padded_sorted_orig = custom_sort_for_stateful_lstm(X_val_orig, \n",
    "                                                                                           X_val_arr_padded_orig, \n",
    "                                                                                           y_val_arr_padded_orig, \n",
    "                                                                                           fixed_seq_length=28800, \n",
    "                                                                                           sub_seq_length=200, \n",
    "                                                                                           batch_size=60, \n",
    "                                                                                           num_features=len(features_to_use))"
   ]
  },
  {
   "cell_type": "code",
   "execution_count": 50,
   "id": "81d42b17",
   "metadata": {},
   "outputs": [],
   "source": [
    "X_test_arr_padded_sorted_orig, y_test_arr_padded_sorted_orig = custom_sort_for_stateful_lstm(X_test_orig, \n",
    "                                                                                             X_test_arr_padded_orig, \n",
    "                                                                                             y_test_arr_padded_orig, \n",
    "                                                                                             fixed_seq_length=28800, \n",
    "                                                                                             sub_seq_length=200, \n",
    "                                                                                             batch_size=60, \n",
    "                                                                                             num_features=len(features_to_use))"
   ]
  },
  {
   "cell_type": "code",
   "execution_count": 51,
   "id": "d92e5b24",
   "metadata": {},
   "outputs": [],
   "source": [
    "# We create this df to quickly check whether our results from the custom sort function are correct.\n",
    "df1 = df_final_orig[(df_final_orig['rec_id'].isin(df_final_orig['rec_id'].unique()[0:60])) & (df_final_orig['time_step']<200)].reset_index(drop=True)"
   ]
  },
  {
   "cell_type": "code",
   "execution_count": 52,
   "id": "106fbf88",
   "metadata": {},
   "outputs": [],
   "source": [
    "# We want to test whether the custom sorted data is correctly sorted.\n",
    "assert_frame_equal(df1[features_to_use], pd.DataFrame(X_train_arr_padded_sorted_orig[0:12000], columns=features_to_use), check_dtype=False)"
   ]
  },
  {
   "cell_type": "code",
   "execution_count": 53,
   "id": "cd616551",
   "metadata": {},
   "outputs": [],
   "source": [
    "del df_final_orig, df1"
   ]
  },
  {
   "cell_type": "markdown",
   "id": "967f8726",
   "metadata": {},
   "source": [
    "Create tensors of the X and y data. BCEWithLogitsLoss requires its target to be a float tensor, not long."
   ]
  },
  {
   "cell_type": "code",
   "execution_count": 54,
   "id": "6f5afe8d",
   "metadata": {},
   "outputs": [],
   "source": [
    "train_features_orig = torch.from_numpy(X_train_arr_padded_sorted_orig)\n",
    "train_targets_orig = torch.from_numpy(y_train_arr_padded_sorted_orig).float().view(-1, 1)\n",
    "val_features_orig = torch.from_numpy(X_val_arr_padded_sorted_orig)\n",
    "val_targets_orig = torch.from_numpy(y_val_arr_padded_sorted_orig).float().view(-1, 1)\n",
    "test_features_orig = torch.from_numpy(X_test_arr_padded_sorted_orig)\n",
    "test_targets_orig = torch.from_numpy(y_test_arr_padded_sorted_orig).float().view(-1, 1)"
   ]
  },
  {
   "cell_type": "code",
   "execution_count": 55,
   "id": "f17b36e2",
   "metadata": {},
   "outputs": [
    {
     "data": {
      "text/plain": [
       "'torch.DoubleTensor'"
      ]
     },
     "execution_count": 55,
     "metadata": {},
     "output_type": "execute_result"
    }
   ],
   "source": [
    "train_features_orig.type()"
   ]
  },
  {
   "cell_type": "code",
   "execution_count": 56,
   "id": "62bb3db6",
   "metadata": {},
   "outputs": [
    {
     "data": {
      "text/plain": [
       "'torch.FloatTensor'"
      ]
     },
     "execution_count": 56,
     "metadata": {},
     "output_type": "execute_result"
    }
   ],
   "source": [
    "train_targets_orig.type()"
   ]
  },
  {
   "cell_type": "code",
   "execution_count": 92,
   "id": "ebb884b9",
   "metadata": {},
   "outputs": [],
   "source": [
    "# This class can be used to create overlapping windows!\n",
    "class MyDataset(Dataset):\n",
    "    def __init__(self, data, window):\n",
    "        self.data = data\n",
    "        self.window = window\n",
    "\n",
    "    def __getitem__(self, index):\n",
    "        return self.data[index:index+self.window], self.data[index + self.window]        \n",
    "\n",
    "    def __len__(self):\n",
    "        return len(self.data) - self.window"
   ]
  },
  {
   "cell_type": "code",
   "execution_count": 103,
   "id": "6ce0a549",
   "metadata": {
    "scrolled": true
   },
   "outputs": [],
   "source": [
    "# def create_padded_sequence2(X, features, targets, df_signals, sub_seq_length=200, n_features=12):\n",
    "#     \"\"\"Pad the remainder of the total sequence of each rec_id with zeros if the total sequence length is not a \n",
    "#     multiple of sub_seq_length.\n",
    "    \n",
    "#     We want to have the total sequence of each rec_id divided in sub sequences of length sub_seq_length.\n",
    "#     If the total sequence length is not a multiple of sub_seq_length, then the last sub-sequence will have fewer \n",
    "#     time steps. We want to pad those sub-sequences with zeros up until sub_seq_length.\n",
    "    \n",
    "#     For example:\n",
    "    \n",
    "#     Assume we have a total sequence length of 35260 time steps and we want to divide this total sequence\n",
    "#     into sub-sequences of 200 time steps (sub_seq_length). Then the last sub-sequence will contain 60 time steps \n",
    "#     instead of 200. Therefore we will pad this last sub-sequence with 140 timesteps that all have a value of zero.\n",
    "    \n",
    "#     It is important to carry out this step, as after this step we want to create custom Datasets of the form\n",
    "#     [sub_seq_length, n_features] and we want each sample of [sub_seq_length, n_features] only containing data of one\n",
    "#     rec_id. By applying this function we ensure that a sub-sequence can only contain time steps of one rec_id. So it \n",
    "#     cannot happen that a sub-sequence consists of half the time steps of one rec_id, directly followed by the time \n",
    "#     steps of another rec_id.\n",
    "    \n",
    "#     After creating the padded sequences, you can forward this TensorDataset to a (custom) Dataset class.\n",
    "\n",
    "#     Parameters\n",
    "#     ----------\n",
    "#     X : pd.DataFrame\n",
    "#         Original data of the features (so not scaled, etc.). Must not include the target. It is very important that \n",
    "#         X has not been shuffled!\n",
    "#     features : torch.Tensor\n",
    "#         List of tensors containing the features X. This list of tensors must have been preprocessed if necessary \n",
    "#         (i.e., scaled, etc).\n",
    "#     targets : torch.Tensor\n",
    "#         List of tensors containing the targets of X. Also this list must not have been shuffled!\n",
    "#     df_signals : pd.DataFrame\n",
    "#         Dataframe containing the original signal data. This dataframe must not be shuffled!\n",
    "#     sub_seq_length : int\n",
    "#         The number of time steps you want to include in each sub-sequence. Default is 200 time steps.\n",
    "#     n_features : int\n",
    "#         The number of features present in X.\n",
    "\n",
    "#     Returns\n",
    "#     -------\n",
    "#     datasets : ConcatDataset\n",
    "#         Concatenated Datasets in which the total sequence of each rec_id is padded with zeros such that the\n",
    "#         total sequence length can be nicely divided into sub-sequences of length sub_seq_length.\n",
    "#     \"\"\"\n",
    "#     new_column_names_signal = ['channel_1', 'channel_1_filt_0.08_4_hz', 'channel_1_filt_0.3_3_hz', \n",
    "#                                'channel_1_filt_0.3_4_hz', \n",
    "#                                'channel_2', 'channel_2_filt_0.08_4_hz', 'channel_2_filt_0.3_3_hz', \n",
    "#                                'channel_2_filt_0.3_4_hz', \n",
    "#                                'channel_3', 'channel_3_filt_0.08_4_hz', 'channel_3_filt_0.3_3_hz', \n",
    "#                                'channel_3_filt_0.3_4_hz']\n",
    "    \n",
    "#     # We need to know how often each rec_id occurs in X. This is not the same for each rec_id\n",
    "#     X_rec_id_count = X.groupby('rec_id', sort=False).agg({'rec_id': 'size'}).rename(columns={'rec_id': 'count'}).reset_index()\n",
    "#     X = X.drop(columns=['rec_id'])\n",
    "\n",
    "#     start_index = 0\n",
    "#     datasets = []\n",
    "#     for rec_id in X_rec_id_count['rec_id']:\n",
    "#         len_total_sequence_rec_id = X_rec_id_count.query('rec_id == @rec_id')['count'].values[0]\n",
    "#         end_index = start_index + len_total_sequence_rec_id\n",
    "\n",
    "#         df_signals_rec_id = df_signals.query('rec_id == @rec_id')[new_column_names_signal].reset_index(drop=True).round(5)\n",
    "#         X_rec_id = X[start_index:end_index].reset_index(drop=True).round(5)\n",
    "        \n",
    "#         # Just to be sure we check if the original signal data for a rec_id is the same as the data in X for that specific \n",
    "#         # rec id. (And check whether there has not been a shuffle on accident as we want to be absolutely sure that\n",
    "#         # the original sequence has not been shuffled.)\n",
    "#         assert df_signals_rec_id.equals(X_rec_id)\n",
    "\n",
    "#         # Calculate the remainder number of tensors necessary to create the last sub-sequence that is of length \n",
    "#         # sub_seq_length\n",
    "#         padded_seq_length = (math.ceil((len_total_sequence_rec_id) / sub_seq_length) * sub_seq_length) - len_total_sequence_rec_id\n",
    "    \n",
    "#         # We concatenate the extra padded sequence that is necessary to fill the last sub-sequence up until length\n",
    "#         # sub_seq_length to the total sequence. The padded sequence consists of zeros and has the shape \n",
    "#         # [padded_seq_length, n_features]\n",
    "#         padded_features = torch.cat((features[start_index:end_index], torch.zeros(padded_seq_length, n_features)), 0)\n",
    "        \n",
    "#         # Also for the targets we need to add padded_seq_length of extra tensors. The target will be the same for the\n",
    "#         # entire sequence\n",
    "#         padded_targets = torch.cat((targets[start_index:end_index], \n",
    "#                                     targets[start_index].repeat(padded_seq_length)), 0).view(-1, 1)\n",
    "\n",
    "#         assert len(padded_features) == len(padded_targets)\n",
    "\n",
    "#         dataset = TensorDataset(padded_features, padded_targets)\n",
    "#         datasets.append(dataset)\n",
    "        \n",
    "#         start_index += len_total_sequence_rec_id\n",
    "        \n",
    "#     datasets = ConcatDataset(datasets)\n",
    "    \n",
    "#     return datasets"
   ]
  },
  {
   "cell_type": "markdown",
   "id": "0e644b66",
   "metadata": {},
   "source": [
    "We put the features and targets in TensorDataset format"
   ]
  },
  {
   "cell_type": "code",
   "execution_count": 57,
   "id": "168e0bf4",
   "metadata": {
    "scrolled": true
   },
   "outputs": [],
   "source": [
    "train_dataset_orig = TensorDataset(train_features_orig, train_targets_orig)"
   ]
  },
  {
   "cell_type": "code",
   "execution_count": 58,
   "id": "60ffaba3",
   "metadata": {},
   "outputs": [],
   "source": [
    "val_dataset_orig = TensorDataset(val_features_orig, val_targets_orig)"
   ]
  },
  {
   "cell_type": "code",
   "execution_count": 59,
   "id": "c5492383",
   "metadata": {},
   "outputs": [],
   "source": [
    "test_dataset_orig = TensorDataset(test_features_orig, test_targets_orig)"
   ]
  },
  {
   "cell_type": "code",
   "execution_count": 60,
   "id": "3304ff71",
   "metadata": {},
   "outputs": [
    {
     "data": {
      "text/plain": [
       "torch.Size([5184000, 1])"
      ]
     },
     "execution_count": 60,
     "metadata": {},
     "output_type": "execute_result"
    }
   ],
   "source": [
    "train_targets_orig.shape"
   ]
  },
  {
   "cell_type": "code",
   "execution_count": 61,
   "id": "a18db4e1",
   "metadata": {},
   "outputs": [
    {
     "name": "stdout",
     "output_type": "stream",
     "text": [
      "tensor([1.2311, 0.5480, 0.7958], dtype=torch.float64) torch.Size([3]) torch.Size([1])\n"
     ]
    }
   ],
   "source": [
    "for x, y in train_dataset_orig:\n",
    "    print(x, x.shape, y.shape)\n",
    "    break"
   ]
  },
  {
   "cell_type": "code",
   "execution_count": 62,
   "id": "62846bce",
   "metadata": {},
   "outputs": [
    {
     "data": {
      "text/plain": [
       "25920"
      ]
     },
     "execution_count": 62,
     "metadata": {},
     "output_type": "execute_result"
    }
   ],
   "source": [
    "144 * 60 + 144 * 60 + 144 * 60"
   ]
  },
  {
   "cell_type": "markdown",
   "id": "ed16d3d0",
   "metadata": {},
   "source": [
    "At this moment, each time step is a separate dedicated tensor. We want to merge together the time steps in chunks of 200 time steps. The time steps in a chunk must have no overlap with other chunks.\n",
    "\n",
    "The features will have the shape [sub_seq_length (=200), num_features] and the target will have the shape [num_targets]."
   ]
  },
  {
   "cell_type": "code",
   "execution_count": 63,
   "id": "eab88482",
   "metadata": {},
   "outputs": [],
   "source": [
    "# Create custom Datasets with non-overlapping sequences of length 200\n",
    "custom_non_overlap_train_dataset_orig = NonOverlappingSequencesDataset(train_dataset_orig, 200, len(features_to_use), 1, 0)\n",
    "custom_non_overlap_val_dataset_orig = NonOverlappingSequencesDataset(val_dataset_orig, 200, len(features_to_use), 1, 0)\n",
    "custom_non_overlap_test_dataset_orig = NonOverlappingSequencesDataset(test_dataset_orig, 200, len(features_to_use), 1, 0)"
   ]
  },
  {
   "cell_type": "markdown",
   "id": "f714b016",
   "metadata": {},
   "source": [
    "The custom_non_overlap_train_dataset will have length len(train_dataset) / sub_seq_length"
   ]
  },
  {
   "cell_type": "code",
   "execution_count": 65,
   "id": "fd209c4b",
   "metadata": {},
   "outputs": [
    {
     "data": {
      "text/plain": [
       "25920"
      ]
     },
     "execution_count": 65,
     "metadata": {},
     "output_type": "execute_result"
    }
   ],
   "source": [
    "len(custom_non_overlap_train_dataset_orig)"
   ]
  },
  {
   "cell_type": "code",
   "execution_count": 66,
   "id": "c2b72066",
   "metadata": {},
   "outputs": [
    {
     "name": "stdout",
     "output_type": "stream",
     "text": [
      "tensor([[ 1.2311e+00,  5.4799e-01,  7.9584e-01],\n",
      "        [ 1.2576e+00,  5.4441e-01,  8.0100e-01],\n",
      "        [ 1.4536e+00,  6.2470e-01,  6.4768e-01],\n",
      "        [ 1.6916e+00,  8.2756e-01,  5.3050e-01],\n",
      "        [ 1.8180e+00,  1.1255e+00,  6.4411e-01],\n",
      "        [ 1.8201e+00,  1.4547e+00,  9.5017e-01],\n",
      "        [ 1.7859e+00,  1.7390e+00,  1.2431e+00],\n",
      "        [ 1.7868e+00,  1.9162e+00,  1.3663e+00],\n",
      "        [ 1.8651e+00,  1.9871e+00,  1.3034e+00],\n",
      "        [ 2.0675e+00,  2.0331e+00,  1.1260e+00],\n",
      "        [ 2.3885e+00,  2.1413e+00,  9.3673e-01],\n",
      "        [ 2.7024e+00,  2.3006e+00,  8.4201e-01],\n",
      "        [ 2.8606e+00,  2.4137e+00,  8.9313e-01],\n",
      "        [ 2.8774e+00,  2.4233e+00,  1.0234e+00],\n",
      "        [ 2.9225e+00,  2.3783e+00,  1.0967e+00],\n",
      "        [ 3.0938e+00,  2.3567e+00,  1.0568e+00],\n",
      "        [ 3.2889e+00,  2.3802e+00,  9.9660e-01],\n",
      "        [ 3.3543e+00,  2.4345e+00,  1.0492e+00],\n",
      "        [ 3.2801e+00,  2.5166e+00,  1.2394e+00],\n",
      "        [ 3.1818e+00,  2.6158e+00,  1.4703e+00],\n",
      "        [ 3.1498e+00,  2.6888e+00,  1.6247e+00],\n",
      "        [ 3.1976e+00,  2.7089e+00,  1.6418e+00],\n",
      "        [ 3.3212e+00,  2.7213e+00,  1.5217e+00],\n",
      "        [ 3.5041e+00,  2.7922e+00,  1.3271e+00],\n",
      "        [ 3.6449e+00,  2.8936e+00,  1.1937e+00],\n",
      "        [ 3.5853e+00,  2.8976e+00,  1.2615e+00],\n",
      "        [ 3.2887e+00,  2.7195e+00,  1.5380e+00],\n",
      "        [ 2.9223e+00,  2.4237e+00,  1.8720e+00],\n",
      "        [ 2.6762e+00,  2.1475e+00,  2.1183e+00],\n",
      "        [ 2.5460e+00,  1.9539e+00,  2.2899e+00],\n",
      "        [ 2.3817e+00,  1.8063e+00,  2.4971e+00],\n",
      "        [ 2.1087e+00,  1.6554e+00,  2.7793e+00],\n",
      "        [ 1.8012e+00,  1.4921e+00,  3.0641e+00],\n",
      "        [ 1.5567e+00,  1.3231e+00,  3.2661e+00],\n",
      "        [ 1.4037e+00,  1.1541e+00,  3.3562e+00],\n",
      "        [ 1.3459e+00,  1.0118e+00,  3.3488e+00],\n",
      "        [ 1.3904e+00,  9.4004e-01,  3.2972e+00],\n",
      "        [ 1.4845e+00,  9.4272e-01,  3.3101e+00],\n",
      "        [ 1.5162e+00,  9.6562e-01,  3.4868e+00],\n",
      "        [ 1.4543e+00,  9.6804e-01,  3.7969e+00],\n",
      "        [ 1.4138e+00,  9.7739e-01,  4.0858e+00],\n",
      "        [ 1.4940e+00,  1.0300e+00,  4.2482e+00],\n",
      "        [ 1.6117e+00,  1.0947e+00,  4.3404e+00],\n",
      "        [ 1.5958e+00,  1.1128e+00,  4.4658e+00],\n",
      "        [ 1.4059e+00,  1.0872e+00,  4.5977e+00],\n",
      "        [ 1.1569e+00,  1.0695e+00,  4.5831e+00],\n",
      "        [ 9.5461e-01,  1.0636e+00,  4.2950e+00],\n",
      "        [ 8.1567e-01,  1.0067e+00,  3.7181e+00],\n",
      "        [ 7.4494e-01,  8.6319e-01,  2.9011e+00],\n",
      "        [ 7.6826e-01,  6.7867e-01,  1.9048e+00],\n",
      "        [ 8.3551e-01,  5.0322e-01,  8.2661e-01],\n",
      "        [ 7.9736e-01,  3.1144e-01, -1.9445e-01],\n",
      "        [ 5.8145e-01,  6.1415e-02, -1.0702e+00],\n",
      "        [ 3.2961e-01, -1.9732e-01, -1.8361e+00],\n",
      "        [ 2.4651e-01, -3.5166e-01, -2.5745e+00],\n",
      "        [ 3.4386e-01, -3.6056e-01, -3.2986e+00],\n",
      "        [ 4.4544e-01, -3.0144e-01, -3.9805e+00],\n",
      "        [ 4.3349e-01, -2.7236e-01, -4.6555e+00],\n",
      "        [ 3.7941e-01, -2.9589e-01, -5.4065e+00],\n",
      "        [ 4.1201e-01, -3.3293e-01, -6.2398e+00],\n",
      "        [ 5.5970e-01, -3.5173e-01, -7.0579e+00],\n",
      "        [ 7.8258e-01, -3.5887e-01, -7.7877e+00],\n",
      "        [ 1.0777e+00, -3.8647e-01, -8.4729e+00],\n",
      "        [ 1.4431e+00, -4.7894e-01, -9.1759e+00],\n",
      "        [ 1.7681e+00, -6.8150e-01, -9.8362e+00],\n",
      "        [ 1.8893e+00, -1.0030e+00, -1.0329e+01],\n",
      "        [ 1.7839e+00, -1.3807e+00, -1.0654e+01],\n",
      "        [ 1.6001e+00, -1.7165e+00, -1.0933e+01],\n",
      "        [ 1.4570e+00, -1.9692e+00, -1.1197e+01],\n",
      "        [ 1.3155e+00, -2.1891e+00, -1.1292e+01],\n",
      "        [ 1.0999e+00, -2.4437e+00, -1.1077e+01],\n",
      "        [ 8.4699e-01, -2.7305e+00, -1.0611e+01],\n",
      "        [ 6.5517e-01, -2.9934e+00, -1.0078e+01],\n",
      "        [ 5.4726e-01, -3.2114e+00, -9.6008e+00],\n",
      "        [ 4.7628e-01, -3.4287e+00, -9.2095e+00],\n",
      "        [ 4.3974e-01, -3.6807e+00, -8.9274e+00],\n",
      "        [ 4.8622e-01, -3.9341e+00, -8.7430e+00],\n",
      "        [ 5.7673e-01, -4.1347e+00, -8.5016e+00],\n",
      "        [ 5.2450e-01, -4.2910e+00, -7.9730e+00],\n",
      "        [ 1.6405e-01, -4.4615e+00, -7.1204e+00],\n",
      "        [-4.3929e-01, -4.6667e+00, -6.2139e+00],\n",
      "        [-1.0247e+00, -4.8492e+00, -5.5554e+00],\n",
      "        [-1.3794e+00, -4.9231e+00, -5.1439e+00],\n",
      "        [-1.4924e+00, -4.8444e+00, -4.7340e+00],\n",
      "        [-1.4870e+00, -4.6468e+00, -4.1924e+00],\n",
      "        [-1.4894e+00, -4.4280e+00, -3.6500e+00],\n",
      "        [-1.5819e+00, -4.2861e+00, -3.2842e+00],\n",
      "        [-1.7973e+00, -4.2414e+00, -3.0820e+00],\n",
      "        [-2.0824e+00, -4.2147e+00, -2.8922e+00],\n",
      "        [-2.3054e+00, -4.0973e+00, -2.6287e+00],\n",
      "        [-2.3903e+00, -3.8608e+00, -2.3192e+00],\n",
      "        [-2.4477e+00, -3.6096e+00, -1.9841e+00],\n",
      "        [-2.6713e+00, -3.4966e+00, -1.5953e+00],\n",
      "        [-3.0620e+00, -3.5582e+00, -1.1857e+00],\n",
      "        [-3.3625e+00, -3.6569e+00, -8.7883e-01],\n",
      "        [-3.3526e+00, -3.6283e+00, -7.2947e-01],\n",
      "        [-3.1208e+00, -3.4547e+00, -6.1674e-01],\n",
      "        [-2.9378e+00, -3.2380e+00, -3.8525e-01],\n",
      "        [-2.9295e+00, -3.0349e+00, -3.3684e-02],\n",
      "        [-2.9972e+00, -2.8041e+00,  3.2381e-01],\n",
      "        [-3.0244e+00, -2.5178e+00,  6.3376e-01],\n",
      "        [-3.0244e+00, -2.2425e+00,  9.3566e-01],\n",
      "        [-3.0496e+00, -2.0573e+00,  1.2287e+00],\n",
      "        [-3.0625e+00, -1.9293e+00,  1.4152e+00],\n",
      "        [-2.9770e+00, -1.7284e+00,  1.4331e+00],\n",
      "        [-2.7848e+00, -1.3723e+00,  1.3792e+00],\n",
      "        [-2.5538e+00, -9.1785e-01,  1.4060e+00],\n",
      "        [-2.3127e+00, -4.9320e-01,  1.5181e+00],\n",
      "        [-2.0332e+00, -1.7440e-01,  1.5843e+00],\n",
      "        [-1.7481e+00,  4.4806e-02,  1.5697e+00],\n",
      "        [-1.5820e+00,  2.0073e-01,  1.6274e+00],\n",
      "        [-1.5977e+00,  3.2868e-01,  1.8894e+00],\n",
      "        [-1.6811e+00,  4.7170e-01,  2.2601e+00],\n",
      "        [-1.6580e+00,  6.6739e-01,  2.5119e+00],\n",
      "        [-1.4911e+00,  9.0562e-01,  2.5352e+00],\n",
      "        [-1.2894e+00,  1.1269e+00,  2.4126e+00],\n",
      "        [-1.1356e+00,  1.2876e+00,  2.2712e+00],\n",
      "        [-9.9367e-01,  1.4119e+00,  2.1507e+00],\n",
      "        [-8.1992e-01,  1.5479e+00,  2.0372e+00],\n",
      "        [-6.8320e-01,  1.6824e+00,  1.9614e+00],\n",
      "        [-6.7950e-01,  1.7425e+00,  1.9817e+00],\n",
      "        [-7.5816e-01,  1.6979e+00,  2.0739e+00],\n",
      "        [-7.5094e-01,  1.6225e+00,  2.1262e+00],\n",
      "        [-5.9352e-01,  1.6376e+00,  2.1043e+00],\n",
      "        [-4.0992e-01,  1.8216e+00,  2.1558e+00],\n",
      "        [-3.2925e-01,  2.1752e+00,  2.4560e+00],\n",
      "        [-3.1406e-01,  2.6238e+00,  2.9690e+00],\n",
      "        [-2.4802e-01,  3.0341e+00,  3.4494e+00],\n",
      "        [-1.2561e-01,  3.2714e+00,  3.6861e+00],\n",
      "        [-5.1673e-02,  3.2864e+00,  3.6694e+00],\n",
      "        [-7.0469e-02,  3.1514e+00,  3.5190e+00],\n",
      "        [-9.7885e-02,  2.9996e+00,  3.3412e+00],\n",
      "        [-5.4135e-02,  2.9231e+00,  3.2089e+00],\n",
      "        [ 2.3753e-02,  2.9265e+00,  3.1962e+00],\n",
      "        [ 7.0567e-02,  2.9714e+00,  3.3236e+00],\n",
      "        [ 1.2313e-01,  3.0373e+00,  3.4879e+00],\n",
      "        [ 2.5588e-01,  3.1198e+00,  3.5520e+00],\n",
      "        [ 4.2075e-01,  3.1963e+00,  3.5128e+00],\n",
      "        [ 4.6788e-01,  3.2337e+00,  3.5004e+00],\n",
      "        [ 3.3355e-01,  3.2331e+00,  3.6031e+00],\n",
      "        [ 1.1910e-01,  3.2380e+00,  3.7765e+00],\n",
      "        [-3.1842e-02,  3.2904e+00,  3.9410e+00],\n",
      "        [-5.6747e-02,  3.3992e+00,  4.0775e+00],\n",
      "        [ 4.9925e-02,  3.5568e+00,  4.1786e+00],\n",
      "        [ 2.9581e-01,  3.7583e+00,  4.1769e+00],\n",
      "        [ 6.3970e-01,  3.9709e+00,  4.0213e+00],\n",
      "        [ 9.2050e-01,  4.1022e+00,  3.8053e+00],\n",
      "        [ 9.5645e-01,  4.0584e+00,  3.7131e+00],\n",
      "        [ 7.5122e-01,  3.8557e+00,  3.8049e+00],\n",
      "        [ 5.1214e-01,  3.6280e+00,  3.9399e+00],\n",
      "        [ 4.0948e-01,  3.4896e+00,  3.9592e+00],\n",
      "        [ 3.9122e-01,  3.4181e+00,  3.8677e+00],\n",
      "        [ 2.9420e-01,  3.3049e+00,  3.7777e+00],\n",
      "        [ 6.6882e-02,  3.0904e+00,  3.7372e+00],\n",
      "        [-1.9345e-01,  2.8132e+00,  3.6944e+00],\n",
      "        [-3.7396e-01,  2.5502e+00,  3.5983e+00],\n",
      "        [-4.2976e-01,  2.3513e+00,  3.4518e+00],\n",
      "        [-3.5421e-01,  2.2311e+00,  3.2581e+00],\n",
      "        [-1.6457e-01,  2.1837e+00,  2.9934e+00],\n",
      "        [ 4.7292e-02,  2.1714e+00,  2.6823e+00],\n",
      "        [ 1.3219e-01,  2.1231e+00,  2.4429e+00],\n",
      "        [ 3.5854e-02,  1.9919e+00,  2.3717e+00],\n",
      "        [-1.0582e-01,  1.8180e+00,  2.4062e+00],\n",
      "        [-1.1082e-01,  1.6964e+00,  2.3914e+00],\n",
      "        [ 3.0252e-02,  1.6804e+00,  2.2787e+00],\n",
      "        [ 1.5924e-01,  1.7424e+00,  2.1696e+00],\n",
      "        [ 1.5243e-01,  1.8089e+00,  2.1527e+00],\n",
      "        [ 2.8601e-02,  1.7935e+00,  2.1824e+00],\n",
      "        [-1.3652e-01,  1.6196e+00,  2.1521e+00],\n",
      "        [-2.9869e-01,  1.2774e+00,  2.0118e+00],\n",
      "        [-4.1224e-01,  8.8033e-01,  1.7734e+00],\n",
      "        [-4.0633e-01,  6.1221e-01,  1.4659e+00],\n",
      "        [-2.8452e-01,  5.6365e-01,  1.1575e+00],\n",
      "        [-1.9510e-01,  6.2676e-01,  9.6936e-01],\n",
      "        [-2.8724e-01,  6.0032e-01,  9.6275e-01],\n",
      "        [-5.0604e-01,  4.0578e-01,  1.0242e+00],\n",
      "        [-6.4273e-01,  1.5387e-01,  9.6405e-01],\n",
      "        [-6.0214e-01, -9.9571e-03,  7.4596e-01],\n",
      "        [-5.1046e-01, -6.9060e-02,  5.2771e-01],\n",
      "        [-5.2630e-01, -1.1951e-01,  4.4463e-01],\n",
      "        [-6.4846e-01, -2.3946e-01,  4.4275e-01],\n",
      "        [-7.6392e-01, -4.1633e-01,  3.7538e-01],\n",
      "        [-7.9555e-01, -5.8106e-01,  1.8290e-01],\n",
      "        [-7.2582e-01, -6.7502e-01, -9.4701e-02],\n",
      "        [-5.4282e-01, -6.8577e-01, -4.0971e-01],\n",
      "        [-2.7178e-01, -6.4865e-01, -7.0489e-01],\n",
      "        [-3.6053e-02, -6.2522e-01, -8.6249e-01],\n",
      "        [ 3.4877e-02, -6.5831e-01, -7.8836e-01],\n",
      "        [-1.8217e-02, -7.2913e-01, -5.6001e-01],\n",
      "        [-5.2129e-03, -7.6982e-01, -3.7195e-01],\n",
      "        [ 1.7114e-01, -7.3216e-01, -2.9321e-01],\n",
      "        [ 3.8323e-01, -6.3482e-01, -1.8731e-01],\n",
      "        [ 4.4378e-01, -5.3682e-01,  6.6852e-02],\n",
      "        [ 3.3011e-01, -4.8334e-01,  3.7605e-01],\n",
      "        [ 1.8037e-01, -4.9280e-01,  5.4374e-01],\n",
      "        [ 1.2283e-01, -5.7481e-01,  5.0663e-01],\n",
      "        [ 1.8913e-01, -7.1772e-01,  3.5909e-01],\n",
      "        [ 3.6858e-01, -8.5194e-01,  1.8668e-01],\n",
      "        [ 6.3889e-01, -8.8104e-01, -9.3312e-03],\n",
      "        [ 9.0198e-01, -7.9974e-01, -2.1805e-01]]) tensor([0.]) 200 torch.Size([200, 3]) torch.Size([1])\n"
     ]
    }
   ],
   "source": [
    "for x, y in custom_non_overlap_train_dataset_orig:\n",
    "    print(x, y, x.size(0), x.size(), y.size())\n",
    "    break"
   ]
  },
  {
   "cell_type": "markdown",
   "id": "8bd7ea12",
   "metadata": {},
   "source": [
    "We now create a DataLoader object that wraps an iterable around the Dataset to enable easy access to the samples. The DataLoader features will have shape [batch_size, sub_seq_length, num_features] and the target will have shape [batch_size, num_targets]"
   ]
  },
  {
   "cell_type": "code",
   "execution_count": 67,
   "id": "3e5876cf",
   "metadata": {},
   "outputs": [],
   "source": [
    "# Please note that the batch_size must be <= len(data) / sub_seq_length. Otherwise there are too few\n",
    "# datapoints to fit in the number of batches. \n",
    "custom_train_loader_orig = DataLoader(custom_non_overlap_train_dataset_orig, batch_size=60, shuffle=False, drop_last=False)\n",
    "custom_val_loader_orig = DataLoader(custom_non_overlap_val_dataset_orig, batch_size=60, shuffle=False, drop_last=False)\n",
    "custom_test_loader_orig = DataLoader(custom_non_overlap_test_dataset_orig, batch_size=60, shuffle=False, drop_last=False)"
   ]
  },
  {
   "cell_type": "markdown",
   "id": "6a415604",
   "metadata": {},
   "source": [
    "The total seq length is 28800 and the sub_seq_length is 200. So after 144 (28800 / 200) samples of the DataLoader you have completed the entire sequence for the first 60 (batch_size) rec_ids."
   ]
  },
  {
   "cell_type": "code",
   "execution_count": 68,
   "id": "1d06a333",
   "metadata": {},
   "outputs": [
    {
     "data": {
      "text/plain": [
       "432"
      ]
     },
     "execution_count": 68,
     "metadata": {},
     "output_type": "execute_result"
    }
   ],
   "source": [
    "144 * 3"
   ]
  },
  {
   "cell_type": "code",
   "execution_count": 70,
   "id": "720066f3",
   "metadata": {},
   "outputs": [
    {
     "data": {
      "text/plain": [
       "432"
      ]
     },
     "execution_count": 70,
     "metadata": {},
     "output_type": "execute_result"
    }
   ],
   "source": [
    "len(custom_train_loader_orig)"
   ]
  },
  {
   "cell_type": "code",
   "execution_count": 71,
   "id": "848f601f",
   "metadata": {},
   "outputs": [
    {
     "name": "stdout",
     "output_type": "stream",
     "text": [
      "torch.Size([60, 200, 3]) torch.Size([60, 1])\n",
      "tensor([[[ 1.2311,  0.5480,  0.7958],\n",
      "         [ 1.2576,  0.5444,  0.8010],\n",
      "         [ 1.4536,  0.6247,  0.6477],\n",
      "         ...,\n",
      "         [ 0.3686, -0.8519,  0.1867],\n",
      "         [ 0.6389, -0.8810, -0.0093],\n",
      "         [ 0.9020, -0.7997, -0.2180]],\n",
      "\n",
      "        [[-0.5549,  0.3198,  0.5399],\n",
      "         [-0.3520,  0.2978,  0.2927],\n",
      "         [-0.1477,  0.3111,  0.1159],\n",
      "         ...,\n",
      "         [-0.3582, -0.4034,  0.5409],\n",
      "         [-0.3507, -0.3774,  0.5023],\n",
      "         [-0.3942, -0.3385,  0.5347]],\n",
      "\n",
      "        [[ 0.4207,  0.1157, -0.6219],\n",
      "         [ 0.2215,  0.2043, -0.3792],\n",
      "         [ 0.0548,  0.3223, -0.1574],\n",
      "         ...,\n",
      "         [ 0.5793,  1.6248,  0.4724],\n",
      "         [ 0.4335,  1.6216,  0.5542],\n",
      "         [ 0.4565,  1.6365,  0.4870]],\n",
      "\n",
      "        ...,\n",
      "\n",
      "        [[ 0.5522,  0.0159, -0.1401],\n",
      "         [ 0.5025,  0.0126, -0.1717],\n",
      "         [ 0.3824,  0.0193, -0.1545],\n",
      "         ...,\n",
      "         [ 0.2248,  0.1092, -0.3921],\n",
      "         [ 0.2155,  0.0342, -0.4103],\n",
      "         [ 0.0464, -0.1078, -0.2255]],\n",
      "\n",
      "        [[-0.8948,  0.5531,  0.7090],\n",
      "         [-1.1024,  0.6754,  0.8618],\n",
      "         [-1.1457,  0.7270,  0.8488],\n",
      "         ...,\n",
      "         [-1.4599,  0.0859,  0.7773],\n",
      "         [-1.5003,  0.3025,  0.7616],\n",
      "         [-1.4085,  0.3580,  0.7250]],\n",
      "\n",
      "        [[-0.8300, -1.2399, -0.1377],\n",
      "         [-0.8331, -1.2986, -0.2470],\n",
      "         [-0.6760, -1.1875, -0.3715],\n",
      "         ...,\n",
      "         [ 1.0054,  0.1615, -0.7018],\n",
      "         [ 0.9326,  0.1307, -0.7073],\n",
      "         [ 0.9271,  0.0791, -0.7468]]]) tensor([[0.],\n",
      "        [0.],\n",
      "        [0.],\n",
      "        [0.],\n",
      "        [0.],\n",
      "        [0.],\n",
      "        [0.],\n",
      "        [0.],\n",
      "        [0.],\n",
      "        [0.],\n",
      "        [0.],\n",
      "        [0.],\n",
      "        [0.],\n",
      "        [0.],\n",
      "        [0.],\n",
      "        [0.],\n",
      "        [0.],\n",
      "        [0.],\n",
      "        [0.],\n",
      "        [0.],\n",
      "        [0.],\n",
      "        [0.],\n",
      "        [1.],\n",
      "        [0.],\n",
      "        [0.],\n",
      "        [0.],\n",
      "        [0.],\n",
      "        [1.],\n",
      "        [0.],\n",
      "        [0.],\n",
      "        [0.],\n",
      "        [0.],\n",
      "        [0.],\n",
      "        [0.],\n",
      "        [0.],\n",
      "        [0.],\n",
      "        [0.],\n",
      "        [0.],\n",
      "        [0.],\n",
      "        [0.],\n",
      "        [0.],\n",
      "        [0.],\n",
      "        [0.],\n",
      "        [0.],\n",
      "        [0.],\n",
      "        [0.],\n",
      "        [0.],\n",
      "        [0.],\n",
      "        [1.],\n",
      "        [0.],\n",
      "        [0.],\n",
      "        [0.],\n",
      "        [0.],\n",
      "        [0.],\n",
      "        [0.],\n",
      "        [0.],\n",
      "        [0.],\n",
      "        [1.],\n",
      "        [0.],\n",
      "        [0.]])\n"
     ]
    }
   ],
   "source": [
    "for index, (data, target) in enumerate(custom_train_loader_orig):\n",
    "    print(data.shape, target.shape)\n",
    "    print(data, target)\n",
    "    break"
   ]
  },
  {
   "cell_type": "code",
   "execution_count": 72,
   "id": "fb88e0aa",
   "metadata": {},
   "outputs": [
    {
     "name": "stdout",
     "output_type": "stream",
     "text": [
      "torch.Size([60, 200, 3]) torch.Size([60, 1])\n",
      "tensor([[[-2.3837, -1.7157, -0.5496],\n",
      "         [-2.7038, -1.8490, -0.3973],\n",
      "         [-3.0847, -1.9901, -0.2463],\n",
      "         ...,\n",
      "         [ 2.0563,  2.5753, -0.6537],\n",
      "         [ 2.2795,  2.7322, -0.5941],\n",
      "         [ 2.3289,  2.8049, -0.4596]],\n",
      "\n",
      "        [[-0.1274, -0.5957, -0.7251],\n",
      "         [-0.2191, -0.7050, -0.8472],\n",
      "         [-0.2543, -0.7677, -0.9724],\n",
      "         ...,\n",
      "         [-0.0971, -0.4941, -0.6721],\n",
      "         [-0.1886, -0.5336, -0.6036],\n",
      "         [-0.3354, -0.5763, -0.4865]],\n",
      "\n",
      "        [[ 0.5008,  0.0097, -0.3308],\n",
      "         [ 0.5794, -0.0081, -0.3829],\n",
      "         [ 0.2580, -0.0760, -0.1336],\n",
      "         ...,\n",
      "         [-0.6021, -0.2689,  0.5154],\n",
      "         [-0.3798, -0.1659,  0.3327],\n",
      "         [-0.2609, -0.0538,  0.2394]],\n",
      "\n",
      "        ...,\n",
      "\n",
      "        [[ 0.1693,  0.4264,  0.2876],\n",
      "         [ 0.1608,  0.3709,  0.3293],\n",
      "         [ 0.1223,  0.2766,  0.4167],\n",
      "         ...,\n",
      "         [-0.2697, -0.2367,  0.1598],\n",
      "         [-0.0963, -0.2244, -0.0420],\n",
      "         [-0.0340, -0.1993, -0.1006]],\n",
      "\n",
      "        [[-0.3121, -1.6650, -1.2111],\n",
      "         [-0.3106, -1.6843, -1.3339],\n",
      "         [-0.3023, -1.7198, -1.4180],\n",
      "         ...,\n",
      "         [ 0.2371,  0.3280, -0.4792],\n",
      "         [ 0.1427,  0.0281, -0.4102],\n",
      "         [ 0.1530, -0.1180, -0.5371]],\n",
      "\n",
      "        [[ 0.2674, -0.2423,  0.1740],\n",
      "         [ 0.3412, -0.0994,  0.1356],\n",
      "         [ 0.3807, -0.0183,  0.1375],\n",
      "         ...,\n",
      "         [-1.7772,  1.2104,  1.0345],\n",
      "         [-1.6576,  0.9968,  0.7669],\n",
      "         [-1.4818,  0.8813,  0.4830]]]) tensor([[1.],\n",
      "        [0.],\n",
      "        [0.],\n",
      "        [0.],\n",
      "        [0.],\n",
      "        [0.],\n",
      "        [0.],\n",
      "        [0.],\n",
      "        [0.],\n",
      "        [0.],\n",
      "        [1.],\n",
      "        [0.],\n",
      "        [0.],\n",
      "        [0.],\n",
      "        [0.],\n",
      "        [0.],\n",
      "        [0.],\n",
      "        [0.],\n",
      "        [0.],\n",
      "        [1.],\n",
      "        [0.],\n",
      "        [1.],\n",
      "        [0.],\n",
      "        [1.],\n",
      "        [0.],\n",
      "        [0.],\n",
      "        [0.],\n",
      "        [0.],\n",
      "        [0.],\n",
      "        [0.],\n",
      "        [0.],\n",
      "        [0.],\n",
      "        [0.],\n",
      "        [0.],\n",
      "        [0.],\n",
      "        [0.],\n",
      "        [0.],\n",
      "        [0.],\n",
      "        [0.],\n",
      "        [0.],\n",
      "        [1.],\n",
      "        [0.],\n",
      "        [0.],\n",
      "        [0.],\n",
      "        [0.],\n",
      "        [0.],\n",
      "        [0.],\n",
      "        [0.],\n",
      "        [0.],\n",
      "        [0.],\n",
      "        [1.],\n",
      "        [0.],\n",
      "        [0.],\n",
      "        [1.],\n",
      "        [0.],\n",
      "        [0.],\n",
      "        [0.],\n",
      "        [0.],\n",
      "        [0.],\n",
      "        [0.]])\n"
     ]
    }
   ],
   "source": [
    "for index, (data, target) in enumerate(custom_test_loader_orig):\n",
    "    print(data.shape, target.shape)\n",
    "    print(data, target)\n",
    "    break"
   ]
  },
  {
   "cell_type": "code",
   "execution_count": 73,
   "id": "9c0783ba",
   "metadata": {},
   "outputs": [],
   "source": [
    "# Source: https://discuss.pytorch.org/t/lstm-stateful-batch-size-1/81002\n",
    "class LSTMStateful(nn.Module):\n",
    "    \n",
    "    def __init__(self, input_size, hidden_size, batch_size, device, **kwargs):\n",
    "        \n",
    "        super().__init__()\n",
    "        self._hidden_state, self._hidden_cell = (None, None)\n",
    "        self._batch_size = batch_size\n",
    "        self._hidden_size = hidden_size\n",
    "        self.device = device\n",
    "        self.lstm = nn.LSTM(input_size, hidden_size, **kwargs)\n",
    "        self.reset_hidden_cell()\n",
    "        self.reset_hidden_state()\n",
    "        \n",
    "    @property\n",
    "    def batch_size(self):\n",
    "        return self._batch_size\n",
    "        \n",
    "    @property\n",
    "    def hidden_size(self):\n",
    "        return self._hidden_size\n",
    "    \n",
    "    @property    \n",
    "    def hidden_cell(self):\n",
    "        return self._hidden_cell\n",
    "    \n",
    "    @property    \n",
    "    def hidden_state(self):\n",
    "        return self._hidden_state\n",
    "    \n",
    "    def reset_hidden_cell(self):\n",
    "        self._hidden_cell = torch.zeros(self.lstm.num_layers, self.batch_size, self.hidden_size, device=self.device)\n",
    "        \n",
    "    def reset_hidden_state(self):\n",
    "        self._hidden_state = torch.zeros(self.lstm.num_layers, self.batch_size, self.hidden_size, device=self.device)   \n",
    "        \n",
    "    def forward(self, input_seq):\n",
    "        lstm_out, (self._hidden_cell, self._hidden_state) = self.lstm(input_seq, (self._hidden_cell, self._hidden_state))\n",
    "        \n",
    "        return lstm_out, (self._hidden_cell, self._hidden_state)"
   ]
  },
  {
   "cell_type": "code",
   "execution_count": 74,
   "id": "45a7ecad",
   "metadata": {},
   "outputs": [],
   "source": [
    "class LSTMStatefulClassification(nn.Module):\n",
    "    def __init__(self, input_size, hidden_size, output_size, batch_size, device, num_layers, batch_first):\n",
    "        super().__init__()\n",
    "        self.lstm = LSTMStateful(input_size=input_size, hidden_size=hidden_size, \n",
    "                                 batch_size=batch_size, device=device, num_layers=num_layers, batch_first=True)\n",
    "        \n",
    "        # Fully connected layer\n",
    "        self.linear = nn.Linear(hidden_size, output_size)\n",
    "        \n",
    "    def forward(self, x):\n",
    "        output, (hidden_cell, hidden_state) = self.lstm(x)\n",
    "        \n",
    "        # Decode the hidden state of the last time step. The shape will be [batch_size, output_dim]. We only\n",
    "        # want to know the hidden state of the last time step, as we're only interested in computing the loss \n",
    "        # after the entire sequence length has been processed\n",
    "        output = self.linear(output[:,-1,:]) \n",
    "        return output"
   ]
  },
  {
   "cell_type": "code",
   "execution_count": 75,
   "id": "d191bdb2",
   "metadata": {},
   "outputs": [],
   "source": [
    "def get_model(model, model_params):\n",
    "    models = {\n",
    "        \"lstm\": LSTMModel,\n",
    "        \"lstm_stateful\": LSTMStatefulClassification\n",
    "    }\n",
    "    return models.get(model.lower())(**model_params)"
   ]
  },
  {
   "cell_type": "code",
   "execution_count": 76,
   "id": "c5b9387d",
   "metadata": {},
   "outputs": [],
   "source": [
    "class OptimizationStatefulModel:\n",
    "    def __init__(self, model, num_sub_sequences, loss_fn, optimizer):\n",
    "        self.model = model\n",
    "        self.num_sub_sequences = num_sub_sequences\n",
    "        self.loss_fn = loss_fn\n",
    "        self.optimizer = optimizer\n",
    "        self.train_losses = []\n",
    "        self.val_losses = []\n",
    "        self.train_predictions = []\n",
    "        self.val_predictions = []\n",
    "        self.test_predictions = []\n",
    "        self.total_train_predictions = []\n",
    "        self.total_val_predictions = []\n",
    "        self.total_test_predictions = []\n",
    "        self.train_probabilities = []\n",
    "        self.val_probabilities = []\n",
    "        self.test_probabilities = []\n",
    "        self.total_train_prob = []\n",
    "        self.total_val_prob = []\n",
    "        self.total_test_prob = []\n",
    "        self.train_labels = []\n",
    "        self.val_labels = []\n",
    "        self.test_labels = []\n",
    "        \n",
    "    def reset_states(self):\n",
    "        for layer in self.model.modules():\n",
    "            if hasattr(layer, 'reset_hidden_cell'): \n",
    "                layer.reset_hidden_cell()\n",
    "            if hasattr(layer, 'reset_hidden_state'):  \n",
    "                layer.reset_hidden_state()\n",
    "                \n",
    "    def check_if_only_one_boolean(self, *args):\n",
    "        \"\"\"Method to check if only one variable in a list of variables has a True value.\n",
    "        Since Booleans are a subtype of plain integers, you can sum the list of integers \n",
    "        quite easily and you can also pass true booleans into this function as well.\n",
    "        \"\"\"\n",
    "        return sum(args) == 1\n",
    "\n",
    "        \n",
    "    def obtain_correct_classified_instances(self, y, t, epoch, train, val, test):\n",
    "        \"\"\"Obtain the number of correctly classified instances by taking the mean prediction over all \n",
    "        sub sequences and compare it against the true label.\n",
    "        \n",
    "        Parameters\n",
    "        ----------\n",
    "        y : torch.Tensor\n",
    "            Tensor containing the true labels. Shape [batch_size, output_size].\n",
    "        t : int\n",
    "            The time step in the data loader.\n",
    "        train : Boolean\n",
    "            If in train mode.\n",
    "        val : Boolean\n",
    "            If in validation mode.\n",
    "        test : Boolean\n",
    "            If in test mode.\n",
    "        \n",
    "        Returns\n",
    "        -------\n",
    "        num_correct : int\n",
    "            Percentage of change in prediction within the total sequences. \n",
    "        \"\"\"\n",
    "        assert self.check_if_only_one_boolean(train, val, test), f\"You can only be in either one of train/val/test mode, you are now in {len([var for var in [train, val, test] if var==True])} modes\"\n",
    "        if train:\n",
    "            predictions = self.train_predictions\n",
    "        elif val:\n",
    "            predictions = self.val_predictions\n",
    "        elif test:\n",
    "            predictions = self.test_predictions \n",
    "    \n",
    "        assert len(predictions) == self.num_sub_sequences, f'The number of predictions on time step {t} should be {self.num_sub_sequences}, but is {len(predictions)}'\n",
    "\n",
    "        perc_changes_in_pred, mean_pred = self.analyze_predictions(train, val, test)\n",
    "        print(f'The percentage of change in prediction within the entire sequence is: {perc_changes_in_pred}% in epoch {epoch} and batch {t}')\n",
    "                        \n",
    "        # y gets reshaped into the same form as pred in order to compute the accuracy \n",
    "        #num_correct = (mean_pred == y.view(1, -1)).sum().item()\n",
    "        num_correct = np.sum((mean_pred == y.view(1, -1)))\n",
    "                                \n",
    "        return num_correct, mean_pred\n",
    "        \n",
    "        \n",
    "    def analyze_predictions(self, train, val, test):\n",
    "        \"\"\"Analyze the predictions by checking how often there is a change in prediction within the entire sequence.\n",
    "        \n",
    "        If a total sequence is 28800 time steps and the sub_sequence length is 200 time steps, then there are \n",
    "        28800 / 200 = 144 sub_sequences. Meaning, that within an entire sequence, there can be a maximum of 143 changes \n",
    "        in prediction.\n",
    "        \n",
    "        Returns\n",
    "        -------\n",
    "        perc_changes_in_pred : float\n",
    "            Percentage of change in prediction within the total sequences. \n",
    "        mean_pred : torch.Tensor\n",
    "            Tensor of size [batch_size]. Containing the mean prediction for all batch_size rec ids.\n",
    "        \"\"\"\n",
    "        assert self.check_if_only_one_boolean(train, val, test), f\"You can only be in either one of train/val/test mode, you are now in {len([var for var in [train, val, test] if var==True])} modes\"\n",
    "        if train:\n",
    "            predictions = self.train_predictions\n",
    "        elif val:\n",
    "            predictions = self.val_predictions\n",
    "        elif test:\n",
    "            predictions = self.test_predictions            \n",
    "            \n",
    "        # Calculate the mean prediction by taking the average over all sub_sequences that make up one total sequence\n",
    "        # The variable predictions contains all the sub_sequence predictions belonging to batch_size rec ids.\n",
    "        #mean_pred = torch.mean(torch.stack(predictions), dim=0).round()\n",
    "        mean_pred = np.mean(np.stack(predictions, axis=0), axis=0)\n",
    "                    \n",
    "        # For each sub_sequence prediction we check whether the subsequent sub_sequence prediction is different\n",
    "        # If a subsequent sub_sequence prediction is different, the difference will be non-zero\n",
    "        changes_in_pred = np.diff(predictions, axis=0)  \n",
    "        \n",
    "        # Concatenate all values into one list\n",
    "        #changes_in_pred = torch.cat(list(changes_in_pred))\n",
    "        changes_in_pred = changes_in_pred.flatten()\n",
    "                    \n",
    "        # Here we sum all the cases where there has been a change in prediction going from one sub_sequence to the next one    \n",
    "        #num_changes_in_pred = torch.sum(changes_in_pred != 0).item()\n",
    "        num_changes_in_pred = np.sum(changes_in_pred != 0)\n",
    "                    \n",
    "        perc_changes_in_pred = (num_changes_in_pred / len(changes_in_pred)) * 100\n",
    "        \n",
    "        return perc_changes_in_pred, mean_pred\n",
    "        \n",
    "        \n",
    "    def get_predictions_binary_model(self, y_pred, train, val, test):\n",
    "        assert self.check_if_only_one_boolean(train, val, test), f\"You can only be in either one of train/val/test mode, you are now in {len([var for var in [train, val, test] if var==True])} modes\"\n",
    "        # Calculate the probabilities from the raw logits\n",
    "        output_prob = torch.sigmoid(y_pred)\n",
    "        \n",
    "        # removes the 1th dimension with a max, which is the classification layer\n",
    "        # which means it returns the most likely label. Also, note you need to choose .indices since \n",
    "        # you want to return the position of where the most likely label is (not it's raw logit value)\n",
    "        pred = output_prob.max(1).indices\n",
    "        \n",
    "        # Data is first moved to cpu and then converted to numpy array\n",
    "        if train:        \n",
    "            self.train_predictions.append(pred.cpu().data.numpy())\n",
    "            self.train_probabilities.append(output_prob.cpu().data.numpy())\n",
    "        elif val:\n",
    "            self.val_predictions.append(pred.cpu().data.numpy())\n",
    "            self.val_probabilities.append(output_prob.cpu().data.numpy())\n",
    "        elif test:\n",
    "            self.test_predictions.append(pred.cpu().data.numpy())\n",
    "            self.test_probabilities.append(output_prob.cpu().data.numpy())\n",
    "            \n",
    "            \n",
    "    def evaluate_after_entire_sequence(self, y, t, epoch, train, val, test):\n",
    "        assert self.check_if_only_one_boolean(train, val, test), f\"You can only be in either one of train/val/test mode, you are now in {len([var for var in [train, val, test] if var==True])} modes\"\n",
    "\n",
    "        # Data is first moved to cpu and then converted to numpy array \n",
    "        true_label = y.cpu().data.numpy()\n",
    "        correct_entire_seq, mean_pred = self.obtain_correct_classified_instances(y, t, epoch, \n",
    "                                                                                 train=train, \n",
    "                                                                                 val=val, \n",
    "                                                                                 test=test)\n",
    "                    \n",
    "        # We clear the list with the predictions for the next batch which contains the sequences of new rec ids\n",
    "        if train:\n",
    "            self.train_labels.append(true_label)\n",
    "            self.total_train_predictions.append(mean_pred)\n",
    "            self.train_predictions.clear() \n",
    "            mean_prob = np.mean(np.stack(self.train_probabilities, axis=0), axis=0)\n",
    "            self.total_train_prob.append(mean_prob)\n",
    "        elif val:\n",
    "            self.val_labels.append(true_label)\n",
    "            self.total_val_predictions.append(mean_pred)\n",
    "            self.val_predictions.clear()  \n",
    "            mean_prob = np.mean(np.stack(self.val_probabilities, axis=0), axis=0)\n",
    "            self.total_val_prob.append(mean_prob)\n",
    "        elif test:\n",
    "            self.test_labels.append(true_label)\n",
    "            self.total_test_predictions.append(mean_pred)\n",
    "            self.test_predictions.clear()  \n",
    "            mean_prob = np.mean(np.stack(self.test_probabilities, axis=0), axis=0)\n",
    "            self.total_test_prob.append(mean_prob)\n",
    "            \n",
    "        return correct_entire_seq\n",
    "                    \n",
    "    \n",
    "    def train_step(self, x, y):\n",
    "        # Sets model to train mode\n",
    "        self.model.train()\n",
    "        \n",
    "        # Zeroes gradients\n",
    "        self.optimizer.zero_grad()\n",
    "\n",
    "        # Forward pass to get output/logits\n",
    "        y_pred = self.model(x)\n",
    "\n",
    "        # Computes loss (input for BCEwithlogits loss should be (prediction, true label))\n",
    "        loss = self.loss_fn(y_pred, y)\n",
    "\n",
    "        # Getting gradients w.r.t. parameters\n",
    "        loss.backward()\n",
    "\n",
    "        # Updates parameters \n",
    "        self.optimizer.step()\n",
    "        \n",
    "        return loss, y_pred\n",
    "    \n",
    "    def train(self, train_loader, val_loader, batch_size=60, sequence_length=200, n_epochs=50):\n",
    "        output_path = Path(file_paths['output_path'])\n",
    "        model_path = output_path / \"model\" / 'test.pt'\n",
    "        \n",
    "        # The model is trained/validated/tested according to a stateful LSTM model. Meaning that we will propagate\n",
    "        # hidden states and cells up untill an entire sequence is proccessed. The entire sequence length is 28800\n",
    "        # time steps and the sub_sequence length is 200 time steps. This means that 1 batch contains 200 time steps of\n",
    "        # batch_size (60) rec ids. As a result, we will reset the hidden states and cells after 144 batches have been \n",
    "        # processed. Then we will start processing the entire sequences of the next batch_size rec ids and again reset\n",
    "        # the hidden states and cells after 144 batches have been processed. This process is repeated up untill the \n",
    "        # entire sequence of each rec id has been processed.\n",
    "\n",
    "        for epoch in range(1, n_epochs + 1):\n",
    "            total_train_loss_epoch = 0.0\n",
    "            correct_train, total_samples = 0, 0\n",
    "            total_runs_for_entire_sequence_completed = 0\n",
    "            for t, (x_batch, y_batch) in enumerate(train_loader):                \n",
    "                \n",
    "                # We manually reset the hidden states and cells after an entire sequence is processed\n",
    "                if (t % self.num_sub_sequences == 0):\n",
    "                    print(f'The hidden states and cells are resetted at the beginning of epoch {epoch}, batch {t} of train_loader')\n",
    "                    self.reset_states()\n",
    "                    \n",
    "                x_batch = x_batch.to(device)\n",
    "                y_batch = y_batch.to(device)\n",
    "\n",
    "                # avg_train_batch_loss contains the value of the average cost of all the training examples of the current batch\n",
    "                avg_train_batch_loss, y_pred = self.train_step(x_batch, y_batch)\n",
    "                \n",
    "                self.get_predictions_binary_model(y_pred, train=True, val=False, test=False)\n",
    "                \n",
    "                # After an entire sequence is processed, we want to know the average prediction over the entire \n",
    "                # sequence and use that as a final prediction for the entire sequence\n",
    "                if len(self.train_predictions) == self.num_sub_sequences:\n",
    "                    correct_train_entire_seq = self.evaluate_after_entire_sequence(y_batch, t, epoch, \n",
    "                                                                                   train=True, val=False, test=False)\n",
    "                    \n",
    "                    correct_train += correct_train_entire_seq\n",
    "          \n",
    "                # total_train_loss_epoch accumelates the total loss per train batch for each entire epoch\n",
    "                total_train_loss_epoch += avg_train_batch_loss.item()*x_batch.size(0)\n",
    "                \n",
    "                # We do truncated BPTT as the model otherwise would have to backpropagate through the entire sequence,\n",
    "                # which will lead to very long training times + vanishing/exploding gradients\n",
    "                self.model.lstm._hidden_state = self.model.lstm._hidden_state.detach()\n",
    "                self.model.lstm._hidden_cell = self.model.lstm._hidden_cell.detach()\n",
    "                            \n",
    "            # Calculate average sample train loss for this particular epoch.\n",
    "            avg_sample_train_loss_epoch = total_train_loss_epoch / len(train_loader.sampler)\n",
    "            self.train_losses.append(avg_sample_train_loss_epoch)\n",
    "            \n",
    "            precision_train, recall_train, _ = precision_recall_curve(list(np.array(self.train_labels).flat), \n",
    "                                                                      list(np.array(self.total_train_prob).flat))\n",
    "            self.plot_prec_recall_curve(recall_train, precision_train)\n",
    "                \n",
    "            with torch.no_grad():\n",
    "                total_val_loss_epoch = 0.0\n",
    "                correct_val, total_samples_val = 0, 0\n",
    "                for t, (x_val, y_val) in enumerate(val_loader):\n",
    "                    x_val = x_val.to(device)\n",
    "                    y_val = y_val.to(device)\n",
    "                    self.model.eval()\n",
    "                    \n",
    "                    if (t % self.num_sub_sequences == 0):\n",
    "                        print(f'The hidden states and cells are resetted at the beginning of epoch {epoch}, batch {t} of val_loader')\n",
    "                        self.reset_states()      \n",
    "                        \n",
    "                    # forward pass: compute predicted outputs by passing inputs to the model\n",
    "                    y_pred = self.model(x_val) # output shape is [batch_size, 1] and contains logits\n",
    "                    \n",
    "                    self.get_predictions_binary_model(y_pred, train=False, val=True, test=False)\n",
    "                    \n",
    "                    if len(self.val_predictions) == self.num_sub_sequences:\n",
    "                        correct_val_entire_seq = self.evaluate_after_entire_sequence(y_val, t, epoch, \n",
    "                                                                                     train=False, val=True, test=False)\n",
    "\n",
    "                        correct_val += correct_val_entire_seq\n",
    "            \n",
    "                    # TO DO: Find out if all samples are used for training/validating (i.e., are the last samples\n",
    "                    # that may not fit into a full batch now disregarded?)\n",
    "                    total_samples_val += y_val.size(0)\n",
    "                                        \n",
    "                    avg_val_batch_loss = self.loss_fn(y_pred, y_val)\n",
    "                    # total_val_loss_epoch accumelates the total loss per validation batch for the entire epoch -> total loss per epoch\n",
    "                    # update running training loss\n",
    "                    total_val_loss_epoch += avg_val_batch_loss.item()*x_val.size(0)\n",
    "                    \n",
    "                # Calculate average sample validation loss for this particular epoch.\n",
    "                avg_sample_val_loss_epoch = total_val_loss_epoch / len(val_loader.sampler)\n",
    "                self.val_losses.append(avg_sample_val_loss_epoch)\n",
    "                \n",
    "                acc = (correct_val / total_samples_val) * 100\n",
    "                \n",
    "                #print(len(self.total_val_prob))\n",
    "                precision_val, recall_val, _ = precision_recall_curve(list(np.array(self.val_labels).flat), \n",
    "                                                                      list(np.array(self.total_val_prob).flat))\n",
    "                self.plot_prec_recall_curve(recall_val, precision_val)\n",
    "\n",
    "            if (epoch <= 10) | (epoch % 50 == 0):\n",
    "                print(\n",
    "                    f\"Epoch [{epoch}/{n_epochs}] Training loss: {avg_sample_train_loss_epoch:.10f}\\t Validation loss: {avg_sample_val_loss_epoch:.10f} \\t Acc: {acc}\"\n",
    "                )\n",
    "\n",
    "        torch.save(self.model.state_dict(), model_path)\n",
    "        \n",
    "    def evaluate(self, test_loader, batch_size=60):\n",
    "        with torch.no_grad():\n",
    "            predictions = []\n",
    "            values = []\n",
    "            correct_test, total_samples_test = 0, 0\n",
    "            for t, (x_test, y_test) in enumerate(test_loader):\n",
    "                x_test = x_test.to(device)\n",
    "                y_test = y_test.to(device)\n",
    "                self.model.eval()\n",
    "                \n",
    "                # We manually reset the hidden states and cells after an entire sequence is processed\n",
    "                if (t % self.num_sub_sequences == 0):\n",
    "                    print(f'The hidden states and cells are resetted at the beginning batch {t} of test_loader')\n",
    "                    self.reset_states()\n",
    "                    \n",
    "                # forward pass: compute predicted outputs by passing inputs to the model\n",
    "                y_pred = self.model(x_test) # output shape is [batch_size, 1] and contains logits\n",
    "                \n",
    "                self.get_predictions_binary_model(y_pred, train=False, val=False, test=True)\n",
    "                    \n",
    "                if len(self.test_predictions) == self.num_sub_sequences:\n",
    "                    mean_prob = np.mean(np.stack(self.test_probabilities, axis=0), axis=0)\n",
    "                    true_label = y_test.cpu().data.numpy()\n",
    "                    correct_test_entire_seq, mean_pred_test = self.obtain_correct_classified_instances(y_test, t, 0, \n",
    "                                                                                                       train=False, \n",
    "                                                                                                       val=False, \n",
    "                                                                                                       test=True)\n",
    "\n",
    "                    correct_test += correct_test_entire_seq\n",
    "                    precision_test, recall_test, _ = precision_recall_curve(true_label, mean_prob)\n",
    "                    self.plot_prec_recall_curve(recall_test, precision_test)\n",
    "\n",
    "                    print(precision_score(true_label, mean_pred_test))\n",
    "                    print(recall_score(true_label, mean_pred_test))\n",
    "                    print(f1_score(true_label, mean_pred_test))\n",
    "                    # We clear the list with the predictions for the next batch which contains the sequences of new rec ids\n",
    "                    self.test_predictions.clear()  \n",
    "\n",
    "    \n",
    "    def plot_losses(self):\n",
    "        plt.plot(self.train_losses, label=\"Training loss\")\n",
    "        plt.plot(self.val_losses, label=\"Validation loss\")\n",
    "        plt.legend()\n",
    "        plt.title(\"Losses\")\n",
    "        plt.show()\n",
    "        plt.close()\n",
    "        \n",
    "    def plot_prec_recall_curve(self, recall, precision):\n",
    "        plt.plot(recall, precision, marker='.', label='Test set')\n",
    "        plt.xlabel('Recall')\n",
    "        plt.ylabel('Precision')\n",
    "        plt.legend()\n",
    "        plt.show()\n",
    "        plt.close()"
   ]
  },
  {
   "cell_type": "code",
   "execution_count": 69,
   "id": "4d9c401b",
   "metadata": {},
   "outputs": [
    {
     "data": {
      "text/plain": [
       "432"
      ]
     },
     "execution_count": 69,
     "metadata": {},
     "output_type": "execute_result"
    }
   ],
   "source": [
    "len(custom_train_loader_orig)"
   ]
  },
  {
   "cell_type": "code",
   "execution_count": 71,
   "id": "f112b990",
   "metadata": {},
   "outputs": [
    {
     "data": {
      "text/plain": [
       "144"
      ]
     },
     "execution_count": 71,
     "metadata": {},
     "output_type": "execute_result"
    }
   ],
   "source": [
    "len(custom_val_loader_orig)"
   ]
  },
  {
   "cell_type": "code",
   "execution_count": 70,
   "id": "fb3f2962",
   "metadata": {},
   "outputs": [
    {
     "data": {
      "text/plain": [
       "144"
      ]
     },
     "execution_count": 70,
     "metadata": {},
     "output_type": "execute_result"
    }
   ],
   "source": [
    "len(custom_test_loader_orig)"
   ]
  },
  {
   "cell_type": "code",
   "execution_count": 77,
   "id": "bd1ec987",
   "metadata": {},
   "outputs": [],
   "source": [
    "device = torch.device('cuda' if torch.cuda.is_available() else 'cpu')"
   ]
  },
  {
   "cell_type": "code",
   "execution_count": 78,
   "id": "1e97b10a",
   "metadata": {},
   "outputs": [],
   "source": [
    "# This model is now defined with a sequence length of 1 and a batch size of 64. We need to convert this to a model\n",
    "# with a longer sequence length (and in the end create stateful LSTM) \n",
    "\n",
    "#device = torch.device(\"cpu\")\n",
    "input_dim = len(features_to_use)\n",
    "output_dim = 1\n",
    "hidden_dim = 2\n",
    "layer_dim = 3\n",
    "batch_size = 60\n",
    "total_sequence_length = 28800\n",
    "sub_sequence_length = 200\n",
    "# The num_sub_sequences variable is the number of sub_sequences necessary to complete an entire sequence\n",
    "num_sub_sequences = total_sequence_length / sub_sequence_length \n",
    "dropout = 0.2\n",
    "n_epochs = 2\n",
    "learning_rate = 1e-3\n",
    "weight_decay = 1e-6\n",
    "\n",
    "model_params = {'input_dim': input_dim,\n",
    "                'hidden_dim' : hidden_dim,\n",
    "                'layer_dim' : layer_dim,\n",
    "                'output_dim' : output_dim,\n",
    "                'dropout_prob' : dropout}\n",
    "\n",
    "#model = get_model('lstm', model_params)\n",
    "#model.to(device)"
   ]
  },
  {
   "cell_type": "code",
   "execution_count": 79,
   "id": "71ef05c2",
   "metadata": {},
   "outputs": [
    {
     "data": {
      "text/plain": [
       "device(type='cuda')"
      ]
     },
     "execution_count": 79,
     "metadata": {},
     "output_type": "execute_result"
    }
   ],
   "source": [
    "device"
   ]
  },
  {
   "cell_type": "code",
   "execution_count": 80,
   "id": "d5d9aa1c",
   "metadata": {},
   "outputs": [
    {
     "data": {
      "text/plain": [
       "LSTMStatefulClassification(\n",
       "  (lstm): LSTMStateful(\n",
       "    (lstm): LSTM(3, 2, num_layers=3, batch_first=True)\n",
       "  )\n",
       "  (linear): Linear(in_features=2, out_features=1, bias=True)\n",
       ")"
      ]
     },
     "execution_count": 80,
     "metadata": {},
     "output_type": "execute_result"
    }
   ],
   "source": [
    "model = LSTMStatefulClassification(input_size=input_dim, hidden_size=hidden_dim, output_size=output_dim, \n",
    "                                   batch_size=batch_size, device=device, num_layers=layer_dim, batch_first=True)\n",
    "model.to(device)"
   ]
  },
  {
   "cell_type": "code",
   "execution_count": 81,
   "id": "00a4253b",
   "metadata": {},
   "outputs": [
    {
     "data": {
      "text/plain": [
       "LSTMStateful(\n",
       "  (lstm): LSTM(3, 2, num_layers=3, batch_first=True)\n",
       ")"
      ]
     },
     "execution_count": 81,
     "metadata": {},
     "output_type": "execute_result"
    }
   ],
   "source": [
    "model.lstm"
   ]
  },
  {
   "cell_type": "code",
   "execution_count": 82,
   "id": "5761c3a0",
   "metadata": {},
   "outputs": [
    {
     "data": {
      "text/plain": [
       "60"
      ]
     },
     "execution_count": 82,
     "metadata": {},
     "output_type": "execute_result"
    }
   ],
   "source": [
    "model.lstm._batch_size"
   ]
  },
  {
   "cell_type": "code",
   "execution_count": 83,
   "id": "10b6048a",
   "metadata": {},
   "outputs": [
    {
     "data": {
      "text/plain": [
       "144.0"
      ]
     },
     "execution_count": 83,
     "metadata": {},
     "output_type": "execute_result"
    }
   ],
   "source": [
    "len(custom_train_loader_orig) / (180 / model.lstm._batch_size)"
   ]
  },
  {
   "cell_type": "code",
   "execution_count": 84,
   "id": "9e32c036",
   "metadata": {},
   "outputs": [],
   "source": [
    "# This loss combines a Sigmoid layer and the BCELoss in one single class. This version is more numerically stable than \n",
    "# using a plain Sigmoid followed by a BCELoss as, by combining the operations into one layer, we take advantage of the \n",
    "# log-sum-exp trick for numerical stability. Source: https://discuss.pytorch.org/t/bceloss-vs-bcewithlogitsloss/33586 and \n",
    "# https://pytorch.org/docs/stable/generated/torch.nn.BCEWithLogitsLoss.html\n",
    "loss_fn = nn.BCEWithLogitsLoss()\n",
    "\n",
    "optimizer = optim.Adam(model.parameters(), lr=learning_rate, weight_decay=weight_decay)\n",
    "\n",
    "opt = OptimizationStatefulModel(model=model, num_sub_sequences=num_sub_sequences, loss_fn=loss_fn, optimizer=optimizer)"
   ]
  },
  {
   "cell_type": "code",
   "execution_count": 85,
   "id": "62597ebd",
   "metadata": {
    "scrolled": false
   },
   "outputs": [
    {
     "name": "stdout",
     "output_type": "stream",
     "text": [
      "The hidden states and cells are resetted at the beginning of epoch 1, batch 0 of train_loader\n",
      "The percentage of change in prediction within the entire sequence is: 0.0% in epoch 1 and batch 143\n",
      "The hidden states and cells are resetted at the beginning of epoch 1, batch 144 of train_loader\n",
      "The percentage of change in prediction within the entire sequence is: 0.0% in epoch 1 and batch 287\n",
      "The hidden states and cells are resetted at the beginning of epoch 1, batch 288 of train_loader\n",
      "The percentage of change in prediction within the entire sequence is: 0.0% in epoch 1 and batch 431\n"
     ]
    },
    {
     "data": {
      "image/png": "[encoded data removed]",
      "text/plain": [
       "<Figure size 432x288 with 1 Axes>"
      ]
     },
     "metadata": {
      "needs_background": "light"
     },
     "output_type": "display_data"
    },
    {
     "name": "stdout",
     "output_type": "stream",
     "text": [
      "The hidden states and cells are resetted at the beginning of epoch 1, batch 0 of val_loader\n",
      "The percentage of change in prediction within the entire sequence is: 0.0% in epoch 1 and batch 143\n"
     ]
    },
    {
     "data": {
      "image/png": "[encoded data removed]",
      "text/plain": [
       "<Figure size 432x288 with 1 Axes>"
      ]
     },
     "metadata": {
      "needs_background": "light"
     },
     "output_type": "display_data"
    },
    {
     "name": "stdout",
     "output_type": "stream",
     "text": [
      "Epoch [1/2] Training loss: 0.5556244659\t Validation loss: 0.4176550077 \t Acc: 0.0\n",
      "The hidden states and cells are resetted at the beginning of epoch 2, batch 0 of train_loader\n",
      "The percentage of change in prediction within the entire sequence is: 0.0% in epoch 2 and batch 143\n",
      "The hidden states and cells are resetted at the beginning of epoch 2, batch 144 of train_loader\n",
      "The percentage of change in prediction within the entire sequence is: 0.0% in epoch 2 and batch 287\n",
      "The hidden states and cells are resetted at the beginning of epoch 2, batch 288 of train_loader\n",
      "The percentage of change in prediction within the entire sequence is: 0.0% in epoch 2 and batch 431\n"
     ]
    },
    {
     "data": {
      "image/png": "[encoded data removed]",
      "text/plain": [
       "<Figure size 432x288 with 1 Axes>"
      ]
     },
     "metadata": {
      "needs_background": "light"
     },
     "output_type": "display_data"
    },
    {
     "name": "stdout",
     "output_type": "stream",
     "text": [
      "The hidden states and cells are resetted at the beginning of epoch 2, batch 0 of val_loader\n",
      "The percentage of change in prediction within the entire sequence is: 0.0% in epoch 2 and batch 143\n"
     ]
    },
    {
     "data": {
      "image/png": "[encoded data removed]",
      "text/plain": [
       "<Figure size 432x288 with 1 Axes>"
      ]
     },
     "metadata": {
      "needs_background": "light"
     },
     "output_type": "display_data"
    },
    {
     "name": "stdout",
     "output_type": "stream",
     "text": [
      "Epoch [2/2] Training loss: 0.4062870264\t Validation loss: 0.3755819402 \t Acc: 0.0\n"
     ]
    },
    {
     "data": {
      "image/png": "[encoded data removed]",
      "text/plain": [
       "<Figure size 432x288 with 1 Axes>"
      ]
     },
     "metadata": {
      "needs_background": "light"
     },
     "output_type": "display_data"
    }
   ],
   "source": [
    "opt.train(custom_train_loader_orig, custom_val_loader_orig, batch_size=60, n_epochs=n_epochs)\n",
    "opt.plot_losses()"
   ]
  },
  {
   "cell_type": "code",
   "execution_count": 86,
   "id": "96d56a4e",
   "metadata": {
    "scrolled": false
   },
   "outputs": [
    {
     "name": "stdout",
     "output_type": "stream",
     "text": [
      "The hidden states and cells are resetted at the beginning batch 0 of test_loader\n",
      "The percentage of change in prediction within the entire sequence is: 0.0% in epoch 0 and batch 143\n"
     ]
    },
    {
     "data": {
      "image/png": "[encoded data removed]",
      "text/plain": [
       "<Figure size 432x288 with 1 Axes>"
      ]
     },
     "metadata": {
      "needs_background": "light"
     },
     "output_type": "display_data"
    },
    {
     "name": "stdout",
     "output_type": "stream",
     "text": [
      "0.0\n",
      "0.0\n",
      "0.0\n"
     ]
    },
    {
     "name": "stderr",
     "output_type": "stream",
     "text": [
      "C:\\Users\\AFischer\\PycharmProjects\\term_preterm_database\\venv\\lib\\site-packages\\sklearn\\metrics\\_classification.py:1248: UndefinedMetricWarning:\n",
      "\n",
      "Precision is ill-defined and being set to 0.0 due to no predicted samples. Use `zero_division` parameter to control this behavior.\n",
      "\n"
     ]
    }
   ],
   "source": [
    "test_prob = opt.evaluate(custom_test_loader_orig, batch_size=60)"
   ]
  },
  {
   "cell_type": "markdown",
   "id": "65612c82",
   "metadata": {},
   "source": [
    "## This part is to build a LSTM model with the reduced sequence length"
   ]
  },
  {
   "cell_type": "markdown",
   "id": "ed3d4f11",
   "metadata": {},
   "source": [
    "We first need to replace the NA and inf values in df_samp_en with zeros. The reason for having NA/inf values is that for some sub sequences you had $log(0)$, which is ill defined. We now convert these values to zero, as the limit of $log(0)$ -> 0 (Source: https://dsp.stackexchange.com/questions/74057/value-of-0-log0-in-entropy-formula)"
   ]
  },
  {
   "cell_type": "code",
   "execution_count": 33,
   "id": "a7368e7a",
   "metadata": {},
   "outputs": [
    {
     "name": "stdout",
     "output_type": "stream",
     "text": [
      "The number of rows with infinite numbers that will be replaced with zero is: 691\n"
     ]
    }
   ],
   "source": [
    "df_samp_en = replace_inf_with_zero(df_samp_en)"
   ]
  },
  {
   "cell_type": "code",
   "execution_count": 34,
   "id": "f1c08fbf",
   "metadata": {},
   "outputs": [
    {
     "name": "stdout",
     "output_type": "stream",
     "text": [
      "The number of rows with infinite numbers that will be replaced with zero is: 22\n"
     ]
    }
   ],
   "source": [
    "df_samp_en = replace_na_with_zero(df_samp_en)"
   ]
  },
  {
   "cell_type": "code",
   "execution_count": 35,
   "id": "16a19320",
   "metadata": {},
   "outputs": [],
   "source": [
    "# These dfs contain the sample entropy data\n",
    "X_train_samp_en = df_samp_en[df_samp_en['rec_id'].isin(X_train['rec_id'].unique())].reset_index(drop=True)\n",
    "X_val_samp_en= df_samp_en[df_samp_en['rec_id'].isin(X_val['rec_id'].unique())].reset_index(drop=True)\n",
    "X_test_samp_en = df_samp_en[df_samp_en['rec_id'].isin(X_test['rec_id'].unique())].reset_index(drop=True)"
   ]
  },
  {
   "cell_type": "code",
   "execution_count": 36,
   "id": "5ee65289",
   "metadata": {},
   "outputs": [
    {
     "data": {
      "text/html": [
       "<div>\n",
       "<style scoped>\n",
       "    .dataframe tbody tr th:only-of-type {\n",
       "        vertical-align: middle;\n",
       "    }\n",
       "\n",
       "    .dataframe tbody tr th {\n",
       "        vertical-align: top;\n",
       "    }\n",
       "\n",
       "    .dataframe thead th {\n",
       "        text-align: right;\n",
       "    }\n",
       "</style>\n",
       "<table border=\"1\" class=\"dataframe\">\n",
       "  <thead>\n",
       "    <tr style=\"text-align: right;\">\n",
       "      <th></th>\n",
       "      <th>rec_id</th>\n",
       "      <th>channel_1</th>\n",
       "      <th>channel_1_filt_0.08_4_hz</th>\n",
       "      <th>channel_1_filt_0.3_3_hz</th>\n",
       "      <th>channel_1_filt_0.3_4_hz</th>\n",
       "      <th>channel_2</th>\n",
       "      <th>channel_2_filt_0.08_4_hz</th>\n",
       "      <th>channel_2_filt_0.3_3_hz</th>\n",
       "      <th>channel_2_filt_0.3_4_hz</th>\n",
       "      <th>channel_3</th>\n",
       "      <th>channel_3_filt_0.08_4_hz</th>\n",
       "      <th>channel_3_filt_0.3_3_hz</th>\n",
       "      <th>channel_3_filt_0.3_4_hz</th>\n",
       "      <th>premature</th>\n",
       "    </tr>\n",
       "  </thead>\n",
       "  <tbody>\n",
       "    <tr>\n",
       "      <th>0</th>\n",
       "      <td>1021</td>\n",
       "      <td>0.397026</td>\n",
       "      <td>0.374693</td>\n",
       "      <td>0.505844</td>\n",
       "      <td>0.732368</td>\n",
       "      <td>0.247899</td>\n",
       "      <td>0.193251</td>\n",
       "      <td>0.530628</td>\n",
       "      <td>0.591515</td>\n",
       "      <td>0.335149</td>\n",
       "      <td>0.198747</td>\n",
       "      <td>0.346665</td>\n",
       "      <td>0.396333</td>\n",
       "      <td>0</td>\n",
       "    </tr>\n",
       "    <tr>\n",
       "      <th>1</th>\n",
       "      <td>1021</td>\n",
       "      <td>0.972319</td>\n",
       "      <td>0.413869</td>\n",
       "      <td>0.666191</td>\n",
       "      <td>0.805943</td>\n",
       "      <td>0.306374</td>\n",
       "      <td>0.295689</td>\n",
       "      <td>0.704576</td>\n",
       "      <td>0.852996</td>\n",
       "      <td>0.325268</td>\n",
       "      <td>0.400478</td>\n",
       "      <td>0.450138</td>\n",
       "      <td>0.572195</td>\n",
       "      <td>0</td>\n",
       "    </tr>\n",
       "    <tr>\n",
       "      <th>2</th>\n",
       "      <td>1021</td>\n",
       "      <td>0.881009</td>\n",
       "      <td>0.888892</td>\n",
       "      <td>0.640503</td>\n",
       "      <td>0.808217</td>\n",
       "      <td>0.604817</td>\n",
       "      <td>0.536177</td>\n",
       "      <td>0.716404</td>\n",
       "      <td>0.721160</td>\n",
       "      <td>0.344707</td>\n",
       "      <td>0.244404</td>\n",
       "      <td>0.389292</td>\n",
       "      <td>0.474894</td>\n",
       "      <td>0</td>\n",
       "    </tr>\n",
       "    <tr>\n",
       "      <th>3</th>\n",
       "      <td>1021</td>\n",
       "      <td>0.752571</td>\n",
       "      <td>0.452661</td>\n",
       "      <td>0.841788</td>\n",
       "      <td>1.147883</td>\n",
       "      <td>0.455297</td>\n",
       "      <td>0.252923</td>\n",
       "      <td>0.505749</td>\n",
       "      <td>0.580124</td>\n",
       "      <td>0.250641</td>\n",
       "      <td>0.219095</td>\n",
       "      <td>0.458697</td>\n",
       "      <td>0.489919</td>\n",
       "      <td>0</td>\n",
       "    </tr>\n",
       "    <tr>\n",
       "      <th>4</th>\n",
       "      <td>1021</td>\n",
       "      <td>0.631778</td>\n",
       "      <td>0.406761</td>\n",
       "      <td>0.645291</td>\n",
       "      <td>1.164752</td>\n",
       "      <td>0.812099</td>\n",
       "      <td>0.439951</td>\n",
       "      <td>0.572735</td>\n",
       "      <td>0.542324</td>\n",
       "      <td>0.454665</td>\n",
       "      <td>0.333698</td>\n",
       "      <td>0.530628</td>\n",
       "      <td>0.687756</td>\n",
       "      <td>0</td>\n",
       "    </tr>\n",
       "  </tbody>\n",
       "</table>\n",
       "</div>"
      ],
      "text/plain": [
       "   rec_id  channel_1  channel_1_filt_0.08_4_hz  channel_1_filt_0.3_3_hz  \\\n",
       "0    1021   0.397026                  0.374693                 0.505844   \n",
       "1    1021   0.972319                  0.413869                 0.666191   \n",
       "2    1021   0.881009                  0.888892                 0.640503   \n",
       "3    1021   0.752571                  0.452661                 0.841788   \n",
       "4    1021   0.631778                  0.406761                 0.645291   \n",
       "\n",
       "   channel_1_filt_0.3_4_hz  channel_2  channel_2_filt_0.08_4_hz  \\\n",
       "0                 0.732368   0.247899                  0.193251   \n",
       "1                 0.805943   0.306374                  0.295689   \n",
       "2                 0.808217   0.604817                  0.536177   \n",
       "3                 1.147883   0.455297                  0.252923   \n",
       "4                 1.164752   0.812099                  0.439951   \n",
       "\n",
       "   channel_2_filt_0.3_3_hz  channel_2_filt_0.3_4_hz  channel_3  \\\n",
       "0                 0.530628                 0.591515   0.335149   \n",
       "1                 0.704576                 0.852996   0.325268   \n",
       "2                 0.716404                 0.721160   0.344707   \n",
       "3                 0.505749                 0.580124   0.250641   \n",
       "4                 0.572735                 0.542324   0.454665   \n",
       "\n",
       "   channel_3_filt_0.08_4_hz  channel_3_filt_0.3_3_hz  channel_3_filt_0.3_4_hz  \\\n",
       "0                  0.198747                 0.346665                 0.396333   \n",
       "1                  0.400478                 0.450138                 0.572195   \n",
       "2                  0.244404                 0.389292                 0.474894   \n",
       "3                  0.219095                 0.458697                 0.489919   \n",
       "4                  0.333698                 0.530628                 0.687756   \n",
       "\n",
       "   premature  \n",
       "0          0  \n",
       "1          0  \n",
       "2          0  \n",
       "3          0  \n",
       "4          0  "
      ]
     },
     "execution_count": 36,
     "metadata": {},
     "output_type": "execute_result"
    }
   ],
   "source": [
    "X_train_samp_en.head()"
   ]
  },
  {
   "cell_type": "code",
   "execution_count": 37,
   "id": "7e76fc76",
   "metadata": {},
   "outputs": [],
   "source": [
    "# We need to re-do this step because the X dataframes now contain the label column\n",
    "X_train_samp_en, y_train_samp_en = feature_label_split(X_train_samp_en, 'premature')\n",
    "X_val_samp_en, y_val_samp_en = feature_label_split(X_val_samp_en, 'premature')\n",
    "X_test_samp_en, y_test_samp_en = feature_label_split(X_test_samp_en, 'premature')"
   ]
  },
  {
   "cell_type": "code",
   "execution_count": 38,
   "id": "fb024dd0",
   "metadata": {},
   "outputs": [
    {
     "data": {
      "text/html": [
       "<div>\n",
       "<style scoped>\n",
       "    .dataframe tbody tr th:only-of-type {\n",
       "        vertical-align: middle;\n",
       "    }\n",
       "\n",
       "    .dataframe tbody tr th {\n",
       "        vertical-align: top;\n",
       "    }\n",
       "\n",
       "    .dataframe thead th {\n",
       "        text-align: right;\n",
       "    }\n",
       "</style>\n",
       "<table border=\"1\" class=\"dataframe\">\n",
       "  <thead>\n",
       "    <tr style=\"text-align: right;\">\n",
       "      <th></th>\n",
       "      <th>rec_id</th>\n",
       "      <th>channel_1</th>\n",
       "      <th>channel_1_filt_0.08_4_hz</th>\n",
       "      <th>channel_1_filt_0.3_3_hz</th>\n",
       "      <th>channel_1_filt_0.3_4_hz</th>\n",
       "      <th>channel_2</th>\n",
       "      <th>channel_2_filt_0.08_4_hz</th>\n",
       "      <th>channel_2_filt_0.3_3_hz</th>\n",
       "      <th>channel_2_filt_0.3_4_hz</th>\n",
       "      <th>channel_3</th>\n",
       "      <th>channel_3_filt_0.08_4_hz</th>\n",
       "      <th>channel_3_filt_0.3_3_hz</th>\n",
       "      <th>channel_3_filt_0.3_4_hz</th>\n",
       "    </tr>\n",
       "  </thead>\n",
       "  <tbody>\n",
       "    <tr>\n",
       "      <th>0</th>\n",
       "      <td>1022</td>\n",
       "      <td>0.647338</td>\n",
       "      <td>0.410355</td>\n",
       "      <td>0.475846</td>\n",
       "      <td>0.672944</td>\n",
       "      <td>0.393560</td>\n",
       "      <td>0.328633</td>\n",
       "      <td>0.522298</td>\n",
       "      <td>0.547730</td>\n",
       "      <td>0.902561</td>\n",
       "      <td>0.469400</td>\n",
       "      <td>0.488847</td>\n",
       "      <td>0.743791</td>\n",
       "    </tr>\n",
       "    <tr>\n",
       "      <th>1</th>\n",
       "      <td>1022</td>\n",
       "      <td>0.515876</td>\n",
       "      <td>0.265531</td>\n",
       "      <td>0.617798</td>\n",
       "      <td>0.863046</td>\n",
       "      <td>0.470004</td>\n",
       "      <td>0.294800</td>\n",
       "      <td>0.319851</td>\n",
       "      <td>0.589894</td>\n",
       "      <td>0.672827</td>\n",
       "      <td>0.571868</td>\n",
       "      <td>0.658462</td>\n",
       "      <td>0.865860</td>\n",
       "    </tr>\n",
       "    <tr>\n",
       "      <th>2</th>\n",
       "      <td>1022</td>\n",
       "      <td>0.384013</td>\n",
       "      <td>0.401341</td>\n",
       "      <td>0.481451</td>\n",
       "      <td>0.542324</td>\n",
       "      <td>0.549253</td>\n",
       "      <td>0.437622</td>\n",
       "      <td>0.619039</td>\n",
       "      <td>0.772344</td>\n",
       "      <td>1.372689</td>\n",
       "      <td>0.714201</td>\n",
       "      <td>0.610704</td>\n",
       "      <td>0.875469</td>\n",
       "    </tr>\n",
       "    <tr>\n",
       "      <th>3</th>\n",
       "      <td>1022</td>\n",
       "      <td>0.377027</td>\n",
       "      <td>0.294018</td>\n",
       "      <td>0.586114</td>\n",
       "      <td>0.879249</td>\n",
       "      <td>0.367428</td>\n",
       "      <td>0.335553</td>\n",
       "      <td>0.453848</td>\n",
       "      <td>0.616651</td>\n",
       "      <td>0.624154</td>\n",
       "      <td>0.249630</td>\n",
       "      <td>0.482426</td>\n",
       "      <td>0.693147</td>\n",
       "    </tr>\n",
       "    <tr>\n",
       "      <th>4</th>\n",
       "      <td>1022</td>\n",
       "      <td>0.364643</td>\n",
       "      <td>0.414598</td>\n",
       "      <td>0.474330</td>\n",
       "      <td>0.680244</td>\n",
       "      <td>0.309385</td>\n",
       "      <td>0.332440</td>\n",
       "      <td>0.568748</td>\n",
       "      <td>0.651937</td>\n",
       "      <td>0.268582</td>\n",
       "      <td>0.366786</td>\n",
       "      <td>0.678332</td>\n",
       "      <td>0.769911</td>\n",
       "    </tr>\n",
       "  </tbody>\n",
       "</table>\n",
       "</div>"
      ],
      "text/plain": [
       "   rec_id  channel_1  channel_1_filt_0.08_4_hz  channel_1_filt_0.3_3_hz  \\\n",
       "0    1022   0.647338                  0.410355                 0.475846   \n",
       "1    1022   0.515876                  0.265531                 0.617798   \n",
       "2    1022   0.384013                  0.401341                 0.481451   \n",
       "3    1022   0.377027                  0.294018                 0.586114   \n",
       "4    1022   0.364643                  0.414598                 0.474330   \n",
       "\n",
       "   channel_1_filt_0.3_4_hz  channel_2  channel_2_filt_0.08_4_hz  \\\n",
       "0                 0.672944   0.393560                  0.328633   \n",
       "1                 0.863046   0.470004                  0.294800   \n",
       "2                 0.542324   0.549253                  0.437622   \n",
       "3                 0.879249   0.367428                  0.335553   \n",
       "4                 0.680244   0.309385                  0.332440   \n",
       "\n",
       "   channel_2_filt_0.3_3_hz  channel_2_filt_0.3_4_hz  channel_3  \\\n",
       "0                 0.522298                 0.547730   0.902561   \n",
       "1                 0.319851                 0.589894   0.672827   \n",
       "2                 0.619039                 0.772344   1.372689   \n",
       "3                 0.453848                 0.616651   0.624154   \n",
       "4                 0.568748                 0.651937   0.268582   \n",
       "\n",
       "   channel_3_filt_0.08_4_hz  channel_3_filt_0.3_3_hz  channel_3_filt_0.3_4_hz  \n",
       "0                  0.469400                 0.488847                 0.743791  \n",
       "1                  0.571868                 0.658462                 0.865860  \n",
       "2                  0.714201                 0.610704                 0.875469  \n",
       "3                  0.249630                 0.482426                 0.693147  \n",
       "4                  0.366786                 0.678332                 0.769911  "
      ]
     },
     "execution_count": 38,
     "metadata": {},
     "output_type": "execute_result"
    }
   ],
   "source": [
    "X_val_samp_en.head()"
   ]
  },
  {
   "cell_type": "code",
   "execution_count": 39,
   "id": "ee6644a0",
   "metadata": {},
   "outputs": [
    {
     "data": {
      "text/html": [
       "<div>\n",
       "<style scoped>\n",
       "    .dataframe tbody tr th:only-of-type {\n",
       "        vertical-align: middle;\n",
       "    }\n",
       "\n",
       "    .dataframe tbody tr th {\n",
       "        vertical-align: top;\n",
       "    }\n",
       "\n",
       "    .dataframe thead th {\n",
       "        text-align: right;\n",
       "    }\n",
       "</style>\n",
       "<table border=\"1\" class=\"dataframe\">\n",
       "  <thead>\n",
       "    <tr style=\"text-align: right;\">\n",
       "      <th></th>\n",
       "      <th>rec_id</th>\n",
       "      <th>channel_1</th>\n",
       "      <th>channel_1_filt_0.08_4_hz</th>\n",
       "      <th>channel_1_filt_0.3_3_hz</th>\n",
       "      <th>channel_1_filt_0.3_4_hz</th>\n",
       "      <th>channel_2</th>\n",
       "      <th>channel_2_filt_0.08_4_hz</th>\n",
       "      <th>channel_2_filt_0.3_3_hz</th>\n",
       "      <th>channel_2_filt_0.3_4_hz</th>\n",
       "      <th>channel_3</th>\n",
       "      <th>channel_3_filt_0.08_4_hz</th>\n",
       "      <th>channel_3_filt_0.3_3_hz</th>\n",
       "      <th>channel_3_filt_0.3_4_hz</th>\n",
       "    </tr>\n",
       "  </thead>\n",
       "  <tbody>\n",
       "    <tr>\n",
       "      <th>0</th>\n",
       "      <td>1007</td>\n",
       "      <td>0.634408</td>\n",
       "      <td>0.433720</td>\n",
       "      <td>0.324358</td>\n",
       "      <td>0.425987</td>\n",
       "      <td>0.448845</td>\n",
       "      <td>0.359795</td>\n",
       "      <td>0.370261</td>\n",
       "      <td>0.408861</td>\n",
       "      <td>0.922722</td>\n",
       "      <td>0.629159</td>\n",
       "      <td>0.828693</td>\n",
       "      <td>1.751754</td>\n",
       "    </tr>\n",
       "    <tr>\n",
       "      <th>1</th>\n",
       "      <td>1007</td>\n",
       "      <td>0.530628</td>\n",
       "      <td>0.537462</td>\n",
       "      <td>0.528217</td>\n",
       "      <td>0.632059</td>\n",
       "      <td>0.639080</td>\n",
       "      <td>0.397459</td>\n",
       "      <td>0.315609</td>\n",
       "      <td>0.360103</td>\n",
       "      <td>1.386294</td>\n",
       "      <td>0.565634</td>\n",
       "      <td>0.753772</td>\n",
       "      <td>0.994934</td>\n",
       "    </tr>\n",
       "    <tr>\n",
       "      <th>2</th>\n",
       "      <td>1007</td>\n",
       "      <td>0.613341</td>\n",
       "      <td>0.360560</td>\n",
       "      <td>0.508718</td>\n",
       "      <td>0.685050</td>\n",
       "      <td>0.256462</td>\n",
       "      <td>0.251314</td>\n",
       "      <td>0.433903</td>\n",
       "      <td>0.453784</td>\n",
       "      <td>1.284512</td>\n",
       "      <td>0.697237</td>\n",
       "      <td>0.512176</td>\n",
       "      <td>0.998529</td>\n",
       "    </tr>\n",
       "    <tr>\n",
       "      <th>3</th>\n",
       "      <td>1007</td>\n",
       "      <td>0.228706</td>\n",
       "      <td>0.149781</td>\n",
       "      <td>0.342286</td>\n",
       "      <td>0.372840</td>\n",
       "      <td>0.201273</td>\n",
       "      <td>0.174210</td>\n",
       "      <td>0.219886</td>\n",
       "      <td>0.235280</td>\n",
       "      <td>0.284194</td>\n",
       "      <td>0.239059</td>\n",
       "      <td>0.244985</td>\n",
       "      <td>0.369533</td>\n",
       "    </tr>\n",
       "    <tr>\n",
       "      <th>4</th>\n",
       "      <td>1007</td>\n",
       "      <td>0.536016</td>\n",
       "      <td>0.570890</td>\n",
       "      <td>0.741937</td>\n",
       "      <td>0.719464</td>\n",
       "      <td>0.288990</td>\n",
       "      <td>0.230822</td>\n",
       "      <td>0.495943</td>\n",
       "      <td>0.621174</td>\n",
       "      <td>0.400402</td>\n",
       "      <td>0.702717</td>\n",
       "      <td>0.523806</td>\n",
       "      <td>0.875469</td>\n",
       "    </tr>\n",
       "  </tbody>\n",
       "</table>\n",
       "</div>"
      ],
      "text/plain": [
       "   rec_id  channel_1  channel_1_filt_0.08_4_hz  channel_1_filt_0.3_3_hz  \\\n",
       "0    1007   0.634408                  0.433720                 0.324358   \n",
       "1    1007   0.530628                  0.537462                 0.528217   \n",
       "2    1007   0.613341                  0.360560                 0.508718   \n",
       "3    1007   0.228706                  0.149781                 0.342286   \n",
       "4    1007   0.536016                  0.570890                 0.741937   \n",
       "\n",
       "   channel_1_filt_0.3_4_hz  channel_2  channel_2_filt_0.08_4_hz  \\\n",
       "0                 0.425987   0.448845                  0.359795   \n",
       "1                 0.632059   0.639080                  0.397459   \n",
       "2                 0.685050   0.256462                  0.251314   \n",
       "3                 0.372840   0.201273                  0.174210   \n",
       "4                 0.719464   0.288990                  0.230822   \n",
       "\n",
       "   channel_2_filt_0.3_3_hz  channel_2_filt_0.3_4_hz  channel_3  \\\n",
       "0                 0.370261                 0.408861   0.922722   \n",
       "1                 0.315609                 0.360103   1.386294   \n",
       "2                 0.433903                 0.453784   1.284512   \n",
       "3                 0.219886                 0.235280   0.284194   \n",
       "4                 0.495943                 0.621174   0.400402   \n",
       "\n",
       "   channel_3_filt_0.08_4_hz  channel_3_filt_0.3_3_hz  channel_3_filt_0.3_4_hz  \n",
       "0                  0.629159                 0.828693                 1.751754  \n",
       "1                  0.565634                 0.753772                 0.994934  \n",
       "2                  0.697237                 0.512176                 0.998529  \n",
       "3                  0.239059                 0.244985                 0.369533  \n",
       "4                  0.702717                 0.523806                 0.875469  "
      ]
     },
     "execution_count": 39,
     "metadata": {},
     "output_type": "execute_result"
    }
   ],
   "source": [
    "X_test_samp_en.head()"
   ]
  },
  {
   "cell_type": "code",
   "execution_count": 40,
   "id": "5015c31d",
   "metadata": {},
   "outputs": [],
   "source": [
    "new_column_names_signal = ['channel_1', 'channel_1_filt_0.08_4_hz', 'channel_1_filt_0.3_3_hz', 'channel_1_filt_0.3_4_hz', \n",
    "                           'channel_2', 'channel_2_filt_0.08_4_hz', 'channel_2_filt_0.3_3_hz', 'channel_2_filt_0.3_4_hz', \n",
    "                           'channel_3', 'channel_3_filt_0.08_4_hz', 'channel_3_filt_0.3_3_hz', 'channel_3_filt_0.3_4_hz']"
   ]
  },
  {
   "cell_type": "code",
   "execution_count": 41,
   "id": "13cea3d5",
   "metadata": {},
   "outputs": [],
   "source": [
    "features_to_use = ['channel_1_filt_0.08_4_hz', 'channel_2_filt_0.08_4_hz', 'channel_3_filt_0.08_4_hz']"
   ]
  },
  {
   "cell_type": "code",
   "execution_count": 42,
   "id": "8cd93734",
   "metadata": {},
   "outputs": [],
   "source": [
    "# We don't want to have the rec_ids scaled\n",
    "preprocessor_features = ColumnTransformer(\n",
    "        remainder='drop', #passthough features not listed\n",
    "        transformers=[\n",
    "            ('standard', StandardScaler(), features_to_use)\n",
    "        ])"
   ]
  },
  {
   "cell_type": "code",
   "execution_count": 43,
   "id": "b0444775",
   "metadata": {},
   "outputs": [],
   "source": [
    "X_train_arr_samp_en = preprocessor_features.fit_transform(X_train_samp_en)\n",
    "X_val_arr_samp_en = preprocessor_features.transform(X_val_samp_en)\n",
    "X_test_arr_samp_en = preprocessor_features.transform(X_test_samp_en)\n",
    "\n",
    "y_train_arr_samp_en = lb.fit_transform(y_train_samp_en['premature'])\n",
    "y_val_arr_samp_en = lb.transform(y_val_samp_en['premature'])\n",
    "y_test_arr_samp_en = lb.transform(y_test_samp_en['premature'])"
   ]
  },
  {
   "cell_type": "markdown",
   "id": "be7dcd3d",
   "metadata": {},
   "source": [
    "We do not need to pad/truncate the sequences as we've reduced the sequence length of each rec id to a fixed window size by calculating the sample entropy of subsequent time windows."
   ]
  },
  {
   "cell_type": "markdown",
   "id": "c722d1f5",
   "metadata": {},
   "source": [
    "Create tensors of the X and y data. BCEWithLogitsLoss requires its target to be a float tensor, not long."
   ]
  },
  {
   "cell_type": "code",
   "execution_count": 44,
   "id": "a268c061",
   "metadata": {},
   "outputs": [],
   "source": [
    "train_features_samp_en = torch.from_numpy(X_train_arr_samp_en)\n",
    "train_targets_samp_en = torch.from_numpy(y_train_arr_samp_en).float().view(-1, 1)\n",
    "val_features_samp_en = torch.from_numpy(X_val_arr_samp_en)\n",
    "val_targets_samp_en = torch.from_numpy(y_val_arr_samp_en).float().view(-1, 1)\n",
    "test_features_samp_en = torch.from_numpy(X_test_arr_samp_en)\n",
    "test_targets_samp_en = torch.from_numpy(y_test_arr_samp_en).float().view(-1, 1)"
   ]
  },
  {
   "cell_type": "code",
   "execution_count": 45,
   "id": "861c6065",
   "metadata": {},
   "outputs": [
    {
     "data": {
      "text/plain": [
       "54000"
      ]
     },
     "execution_count": 45,
     "metadata": {},
     "output_type": "execute_result"
    }
   ],
   "source": [
    "len(train_features_samp_en)"
   ]
  },
  {
   "cell_type": "code",
   "execution_count": 46,
   "id": "72b76cf8",
   "metadata": {},
   "outputs": [
    {
     "data": {
      "text/plain": [
       "array([[-1.13045443, -1.32978695, -1.64067822],\n",
       "       [-1.00387496, -0.94842364, -0.96805355],\n",
       "       [ 0.53098354, -0.05311468, -1.48844653],\n",
       "       ...,\n",
       "       [ 1.62883401,  1.59347784,  0.51495456],\n",
       "       [ 0.7974179 ,  2.01036893,  1.0260111 ],\n",
       "       [ 1.08667272,  2.27455971,  1.09547758]])"
      ]
     },
     "execution_count": 46,
     "metadata": {},
     "output_type": "execute_result"
    }
   ],
   "source": [
    "X_train_arr_samp_en"
   ]
  },
  {
   "cell_type": "markdown",
   "id": "41e6291f",
   "metadata": {},
   "source": [
    "We put the features and targets in TensorDataset format"
   ]
  },
  {
   "cell_type": "code",
   "execution_count": 47,
   "id": "7c46a9d1",
   "metadata": {
    "scrolled": true
   },
   "outputs": [],
   "source": [
    "train_dataset_samp_en = TensorDataset(train_features_samp_en, train_targets_samp_en)"
   ]
  },
  {
   "cell_type": "code",
   "execution_count": 48,
   "id": "c8fd9eb6",
   "metadata": {},
   "outputs": [],
   "source": [
    "val_dataset_samp_en = TensorDataset(val_features_samp_en, val_targets_samp_en)"
   ]
  },
  {
   "cell_type": "code",
   "execution_count": 49,
   "id": "8663e38c",
   "metadata": {},
   "outputs": [],
   "source": [
    "test_dataset_samp_en = TensorDataset(test_features_samp_en, test_targets_samp_en)"
   ]
  },
  {
   "cell_type": "code",
   "execution_count": 50,
   "id": "c4576223",
   "metadata": {},
   "outputs": [
    {
     "data": {
      "text/plain": [
       "tensor([[0.],\n",
       "        [0.],\n",
       "        [0.],\n",
       "        ...,\n",
       "        [0.],\n",
       "        [0.],\n",
       "        [0.]])"
      ]
     },
     "execution_count": 50,
     "metadata": {},
     "output_type": "execute_result"
    }
   ],
   "source": [
    "train_targets_samp_en"
   ]
  },
  {
   "cell_type": "code",
   "execution_count": 51,
   "id": "b4ebb607",
   "metadata": {},
   "outputs": [
    {
     "name": "stdout",
     "output_type": "stream",
     "text": [
      "tensor([-1.1305, -1.3298, -1.6407], dtype=torch.float64) torch.Size([3]) torch.Size([1])\n"
     ]
    }
   ],
   "source": [
    "for x, y in train_dataset_samp_en:\n",
    "    print(x, x.shape, y.shape)\n",
    "    break"
   ]
  },
  {
   "cell_type": "markdown",
   "id": "08dcee22",
   "metadata": {},
   "source": [
    "At this moment, each time step is a separate dedicated tensor. We want to merge together the time steps in chunks of 300 time steps. The time steps in a chunk must have no overlap with other chunks, as each rec id only has 300 time steps and the time steps of different rec ids must not be mixed.\n",
    "\n",
    "The features will have the shape [sub_seq_length (=300), num_features] and the target will have the shape [num_targets]."
   ]
  },
  {
   "cell_type": "code",
   "execution_count": 52,
   "id": "cd11129e",
   "metadata": {},
   "outputs": [],
   "source": [
    "# Create custom Datasets with non-overlapping sequences of length 300\n",
    "custom_non_overlap_train_dataset_samp_en = NonOverlappingSequencesDataset(train_dataset_samp_en, 300, len(features_to_use), 1, 0)\n",
    "custom_non_overlap_val_dataset_samp_en = NonOverlappingSequencesDataset(val_dataset_samp_en, 300, len(features_to_use), 1, 0)\n",
    "custom_non_overlap_test_dataset_samp_en = NonOverlappingSequencesDataset(test_dataset_samp_en, 300, len(features_to_use), 1, 0)"
   ]
  },
  {
   "cell_type": "markdown",
   "id": "c5d2d20a",
   "metadata": {},
   "source": [
    "The custom_non_overlap_train_dataset will have length len(train_dataset) / sub_seq_length"
   ]
  },
  {
   "cell_type": "code",
   "execution_count": 53,
   "id": "7123c4f0",
   "metadata": {},
   "outputs": [
    {
     "data": {
      "text/plain": [
       "180"
      ]
     },
     "execution_count": 53,
     "metadata": {},
     "output_type": "execute_result"
    }
   ],
   "source": [
    "len(custom_non_overlap_train_dataset_samp_en)"
   ]
  },
  {
   "cell_type": "code",
   "execution_count": 54,
   "id": "75c67524",
   "metadata": {},
   "outputs": [
    {
     "name": "stdout",
     "output_type": "stream",
     "text": [
      "tensor([[-1.1305, -1.3298, -1.6407],\n",
      "        [-1.0039, -0.9484, -0.9681],\n",
      "        [ 0.5310, -0.0531, -1.4884],\n",
      "        [-0.8785, -1.1076, -1.5728],\n",
      "        [-1.0268, -0.4114, -1.1907],\n",
      "        [-1.3474, -0.6921, -1.6093],\n",
      "        [-1.3455, -0.3828, -1.5302],\n",
      "        [-1.1458, -1.5925, -2.0264],\n",
      "        [-0.7867, -0.5906, -1.6294],\n",
      "        [ 1.2679, -0.1369,  0.6987],\n",
      "        [-0.6089, -0.2443, -1.2871],\n",
      "        [-0.3208, -1.3947, -1.8477],\n",
      "        [-0.7078, -0.6698, -1.6864],\n",
      "        [-1.3994, -0.5397, -2.0708],\n",
      "        [-1.3292, -1.2361, -1.6564],\n",
      "        [-1.0310, -1.2312, -1.5919],\n",
      "        [-1.4522,  0.0958, -1.4978],\n",
      "        [-0.9970,  0.4118, -1.0154],\n",
      "        [ 0.6005, -0.9007, -1.6611],\n",
      "        [-1.2170,  0.6984, -1.5683],\n",
      "        [-1.1387, -0.2259, -1.6395],\n",
      "        [-1.5313, -0.7738, -0.6416],\n",
      "        [-0.0669, -0.6135, -1.2402],\n",
      "        [-1.6438, -1.0627, -1.6570],\n",
      "        [-0.5761, -0.9407, -0.4118],\n",
      "        [-1.4805, -1.1105, -1.8652],\n",
      "        [ 0.2362, -0.8866, -1.7698],\n",
      "        [-1.8103, -1.5658, -1.9759],\n",
      "        [-1.7816, -0.5103, -1.6248],\n",
      "        [-1.2202, -1.4207, -1.1590],\n",
      "        [ 0.3755,  0.2873, -0.4243],\n",
      "        [-0.1152, -0.7592, -1.3070],\n",
      "        [-1.0942, -0.9700, -1.4021],\n",
      "        [-1.4368, -0.9506, -1.8055],\n",
      "        [-1.5670,  0.2579, -1.5610],\n",
      "        [-1.7397, -0.5945, -1.4275],\n",
      "        [-1.0578, -0.9190, -1.7017],\n",
      "        [-1.6030, -1.2535, -1.6786],\n",
      "        [-1.2269, -1.6779, -1.9430],\n",
      "        [-1.7800, -1.7347, -1.4240],\n",
      "        [-1.8929, -1.7230, -2.0756],\n",
      "        [-1.0393, -0.8541, -1.9971],\n",
      "        [-1.7747, -0.9012, -1.7525],\n",
      "        [-1.4868, -1.4040, -0.9138],\n",
      "        [-0.8840, -0.3207, -0.7615],\n",
      "        [ 0.4911, -0.4805, -1.5308],\n",
      "        [-1.7146, -1.0590, -1.5334],\n",
      "        [-1.0212, -0.6450,  1.7110],\n",
      "        [-1.6448, -1.1673, -1.5386],\n",
      "        [-2.0618, -1.5521, -1.3597],\n",
      "        [ 0.3841, -0.0752, -0.0407],\n",
      "        [-0.8279, -1.4578, -1.7903],\n",
      "        [-1.6497, -1.0556,  0.3633],\n",
      "        [-1.7872, -1.2825, -0.2742],\n",
      "        [-2.0487, -1.5107, -0.4784],\n",
      "        [-1.6058, -1.3481, -1.6511],\n",
      "        [-2.0403, -1.1460, -1.3703],\n",
      "        [-2.1962, -1.7209, -1.9546],\n",
      "        [-1.9554, -1.3931, -1.4272],\n",
      "        [-0.4793, -0.2327, -0.9965],\n",
      "        [-1.8829, -1.6015, -0.3701],\n",
      "        [-1.3579, -1.3173, -1.2654],\n",
      "        [-1.8771, -0.7299, -1.3909],\n",
      "        [-1.6587, -1.2831, -1.5812],\n",
      "        [-1.6182, -1.0191, -1.6461],\n",
      "        [-1.4300, -0.9809, -1.2998],\n",
      "        [-1.7499, -1.4295, -1.9690],\n",
      "        [-1.7341, -1.1340, -1.3951],\n",
      "        [-1.6015, -0.8398, -1.5470],\n",
      "        [-1.2472, -1.4399, -1.6659],\n",
      "        [-1.5941, -1.1990, -2.1104],\n",
      "        [-1.4534, -0.1630, -1.3120],\n",
      "        [-0.4891, -1.1031, -0.7301],\n",
      "        [-1.7554, -1.6978, -1.7786],\n",
      "        [-1.3948, -1.8081, -1.3919],\n",
      "        [-1.9552, -1.5843, -2.0106],\n",
      "        [-1.5464, -1.9100, -1.8718],\n",
      "        [-1.3012, -1.3412, -1.2405],\n",
      "        [-1.3607, -1.7340, -1.5395],\n",
      "        [-1.4237, -1.9487, -1.6820],\n",
      "        [-1.9729, -1.4842, -2.0936],\n",
      "        [-1.3659, -0.7368, -1.4970],\n",
      "        [-1.5097, -1.2531, -1.2624],\n",
      "        [-1.9396, -1.5254, -1.6814],\n",
      "        [-1.7255, -1.8813, -1.7430],\n",
      "        [-0.4521, -0.8649, -1.0231],\n",
      "        [-0.9265, -0.3332,  0.3675],\n",
      "        [ 0.3370, -0.6246, -0.6451],\n",
      "        [ 0.3722, -1.1161, -1.2480],\n",
      "        [-0.1741, -0.9270,  0.0243],\n",
      "        [-1.7377, -1.4827,  0.2691],\n",
      "        [-1.2031, -0.5075, -1.5736],\n",
      "        [-1.6398, -0.7203, -1.1096],\n",
      "        [-1.2499, -0.6975, -1.0178],\n",
      "        [-1.6076, -0.8883, -1.3521],\n",
      "        [-1.5498, -0.9634, -1.4148],\n",
      "        [ 0.3755, -0.3696, -0.0089],\n",
      "        [-0.2298, -0.2850, -1.2883],\n",
      "        [-0.3826, -1.1358,  0.2940],\n",
      "        [-0.0755, -0.5825, -0.2713],\n",
      "        [-1.4367, -1.5594, -0.9514],\n",
      "        [-0.6708, -1.2401, -1.5908],\n",
      "        [-1.6733, -0.2660, -0.7720],\n",
      "        [-1.2730, -1.4008, -1.2655],\n",
      "        [-0.0565, -0.6454, -0.8421],\n",
      "        [ 0.5044,  0.3325,  0.7287],\n",
      "        [-1.5895, -1.3804, -1.2314],\n",
      "        [-0.7704, -0.9436, -0.6884],\n",
      "        [-1.1626, -0.7634, -1.1014],\n",
      "        [-1.1999, -0.7883, -1.2408],\n",
      "        [-1.3213, -0.7521, -0.2166],\n",
      "        [-1.4022, -0.8065, -0.2955],\n",
      "        [-1.3519, -0.5740, -1.3967],\n",
      "        [-1.5723, -0.4899, -0.8364],\n",
      "        [-1.8276, -0.2447, -1.3695],\n",
      "        [-1.4363, -1.5190, -0.9731],\n",
      "        [-1.5081, -1.3130, -1.5850],\n",
      "        [-1.8386, -1.4165, -1.2717],\n",
      "        [-1.8096, -1.1570, -0.2697],\n",
      "        [-0.4584, -0.2011, -0.1418],\n",
      "        [-1.2141, -0.7677, -0.9946],\n",
      "        [ 0.7415, -0.4346, -1.0567],\n",
      "        [-0.1668, -0.7371, -0.9424],\n",
      "        [-0.5583, -0.5523, -0.6518],\n",
      "        [-1.3788, -0.7186, -0.6737],\n",
      "        [-1.3732, -0.1831, -0.2376],\n",
      "        [ 0.7370, -0.3962,  0.0944],\n",
      "        [ 0.0367, -0.8689, -0.3955],\n",
      "        [-1.2910, -0.8685, -1.4818],\n",
      "        [-1.8070, -0.6358,  0.2611],\n",
      "        [-1.1071, -0.3680,  0.6485],\n",
      "        [-0.4540, -0.8377, -0.6857],\n",
      "        [ 1.4743, -1.3347, -0.8440],\n",
      "        [-1.3505, -1.1863, -0.6044],\n",
      "        [-1.8104, -1.5354,  0.5400],\n",
      "        [ 1.1150, -0.1012, -0.7344],\n",
      "        [-1.0047, -0.0426, -1.5668],\n",
      "        [-0.3222, -0.1849, -1.6120],\n",
      "        [-1.0733, -0.5188, -0.2093],\n",
      "        [-0.7703,  0.3793, -0.4000],\n",
      "        [-1.0675, -0.9267, -0.9557],\n",
      "        [-0.5840, -0.5580, -0.5166],\n",
      "        [ 1.3405, -0.8026,  0.2230],\n",
      "        [-1.7121, -0.2937, -1.5197],\n",
      "        [-0.8928, -0.2737, -0.8961],\n",
      "        [-0.6987, -0.6834, -1.3770],\n",
      "        [-1.1501, -0.3734, -1.3249],\n",
      "        [-1.8360, -0.6949, -0.8857],\n",
      "        [-1.2376, -1.2081, -1.6363],\n",
      "        [-1.6099, -0.2031, -1.3765],\n",
      "        [-1.9046, -1.4629, -1.6894],\n",
      "        [-1.9599, -1.4268, -1.4325],\n",
      "        [-2.0403, -0.7177, -1.2306],\n",
      "        [-1.8420, -1.0103, -1.1959],\n",
      "        [-1.1512, -0.9062, -0.4058],\n",
      "        [ 0.3872, -0.4069, -1.2634],\n",
      "        [-0.3423, -0.6135, -0.4197],\n",
      "        [-0.4956, -0.3830, -0.3799],\n",
      "        [-0.5297, -0.8219,  0.4289],\n",
      "        [-1.1462, -0.8329,  0.2466],\n",
      "        [-1.1639, -0.7507, -1.0891],\n",
      "        [-0.4441, -0.1660,  0.4966],\n",
      "        [-1.0016, -0.7199, -1.2905],\n",
      "        [-0.5725, -0.1386, -1.7550],\n",
      "        [ 1.4898, -0.8401, -0.8989],\n",
      "        [-0.9773, -0.6988, -1.4546],\n",
      "        [-0.9011, -0.5350, -1.0039],\n",
      "        [-0.9865, -0.2158, -0.3069],\n",
      "        [-0.8043, -0.9438, -0.6331],\n",
      "        [-0.8127, -0.9613, -1.2037],\n",
      "        [ 0.0524, -1.0848, -0.3724],\n",
      "        [-0.8856, -0.5515,  0.1026],\n",
      "        [-0.7804, -0.6408, -1.3306],\n",
      "        [-1.1649, -1.3402, -0.3533],\n",
      "        [-1.0671, -1.0266, -0.5355],\n",
      "        [-0.7782, -0.7862, -0.4374],\n",
      "        [-1.2285, -1.4520,  0.2580],\n",
      "        [-1.7816, -0.8144, -1.5009],\n",
      "        [-1.9517, -1.0511, -0.8252],\n",
      "        [-1.5367, -1.1851, -1.7080],\n",
      "        [-1.6098, -0.8671, -1.3795],\n",
      "        [-1.9888, -1.1535, -1.3090],\n",
      "        [-1.7844, -1.0345, -0.8497],\n",
      "        [-1.8582, -1.4973, -1.6597],\n",
      "        [-1.4901, -0.9042, -1.1156],\n",
      "        [-1.9238, -1.4128, -1.5935],\n",
      "        [-1.6201, -1.0981, -1.7804],\n",
      "        [-1.9494, -1.4564, -1.6704],\n",
      "        [-1.7782, -0.3369, -1.4363],\n",
      "        [-1.6219, -1.3176, -1.8603],\n",
      "        [-2.0857, -1.3799, -2.0078],\n",
      "        [-0.9668, -0.4102, -0.5560],\n",
      "        [-1.4588, -1.2027, -1.6800],\n",
      "        [-1.2854, -0.9855, -1.3101],\n",
      "        [-0.3476, -0.9530, -1.9733],\n",
      "        [-0.0709, -0.9839, -1.3956],\n",
      "        [-0.7871, -1.2433,  2.2059],\n",
      "        [-1.4829, -1.2173,  1.4536],\n",
      "        [-2.1380, -1.7138, -1.2098],\n",
      "        [-2.0442, -1.9446, -1.7903],\n",
      "        [-1.2170, -0.3329,  0.3163],\n",
      "        [ 0.1728, -0.4145, -0.4787],\n",
      "        [ 0.6385,  0.0262, -0.0497],\n",
      "        [ 0.1380, -0.6887, -0.4820],\n",
      "        [ 0.1692, -0.8952,  0.1350],\n",
      "        [-0.0302,  0.0042, -0.6043],\n",
      "        [-0.8489, -0.7354, -0.2968],\n",
      "        [-1.6741, -1.3236, -1.5593],\n",
      "        [-1.4739, -1.4283, -1.1690],\n",
      "        [-2.0109, -1.7675, -1.8803],\n",
      "        [-1.5213, -1.1354, -1.5822],\n",
      "        [-1.1311, -1.2688, -0.2141],\n",
      "        [-0.4630, -0.1138,  0.0959],\n",
      "        [-0.2493, -0.7543, -0.9471],\n",
      "        [-0.5841, -0.2674,  0.7820],\n",
      "        [ 1.7977,  0.2894,  0.6617],\n",
      "        [-0.8103, -0.3914,  0.6355],\n",
      "        [-1.0275, -0.9558,  0.8592],\n",
      "        [-0.7194, -0.5604, -1.4463],\n",
      "        [-0.8280, -0.4079,  0.0957],\n",
      "        [ 0.2435,  0.8537, -0.1968],\n",
      "        [-1.8045, -1.6015, -0.2090],\n",
      "        [-1.9778, -1.7275, -1.2561],\n",
      "        [-1.5519, -1.3795, -1.0009],\n",
      "        [-1.7915, -1.2585, -1.7537],\n",
      "        [-1.9311, -1.5928, -1.7575],\n",
      "        [-1.3304, -0.9991, -0.8442],\n",
      "        [-1.7163, -0.5669, -1.6893],\n",
      "        [-1.6253, -0.6411, -1.5958],\n",
      "        [-1.6237, -0.7076, -1.4980],\n",
      "        [-1.1560, -0.4800, -1.5232],\n",
      "        [-0.8777, -0.9650, -1.0558],\n",
      "        [-1.7889,  0.0478, -1.6899],\n",
      "        [-1.0939, -1.5490, -1.0373],\n",
      "        [-1.6186, -1.4745, -1.5693],\n",
      "        [-1.5518, -1.2411, -1.4857],\n",
      "        [-0.9127, -0.1236, -0.6691],\n",
      "        [-1.3158, -0.7323, -1.0438],\n",
      "        [-1.0103,  0.1808, -0.8655],\n",
      "        [-1.3347, -0.9865, -1.1815],\n",
      "        [-1.3966, -1.7298, -1.8854],\n",
      "        [-1.8854, -0.7438, -1.3898],\n",
      "        [-1.2396, -1.2692, -1.6570],\n",
      "        [-1.6478, -1.7048, -1.8500],\n",
      "        [-1.8172, -1.3109, -1.4800],\n",
      "        [ 0.3300, -1.0615, -1.8017],\n",
      "        [ 0.0715, -1.5590, -1.5353],\n",
      "        [-0.0712, -1.3044, -1.5208],\n",
      "        [-1.5417, -0.8004, -1.0493],\n",
      "        [-1.9392, -0.8263, -1.8288],\n",
      "        [-1.7608, -0.1616, -1.0653],\n",
      "        [-0.9907, -0.8467, -0.4256],\n",
      "        [-1.1810, -1.5228, -1.8351],\n",
      "        [-1.8504, -1.1768, -0.9805],\n",
      "        [-1.7142, -1.0706, -1.8191],\n",
      "        [-1.8421, -1.0793, -1.4718],\n",
      "        [-1.4608, -1.0379, -1.8121],\n",
      "        [-1.7746, -1.4754, -1.6608],\n",
      "        [-1.9214, -1.7519, -2.0162],\n",
      "        [-1.3184, -1.7342, -1.7572],\n",
      "        [-2.1651, -0.6641, -0.8351],\n",
      "        [-1.8532, -1.0959, -0.6557],\n",
      "        [-1.8778, -1.4303, -1.5270],\n",
      "        [-2.1445, -1.3057, -1.6752],\n",
      "        [-1.8131, -1.3353, -2.0238],\n",
      "        [-1.4779, -1.1936, -2.1059],\n",
      "        [-1.4435, -1.4797, -2.0949],\n",
      "        [-1.3464, -1.3486, -1.4272],\n",
      "        [-1.8048, -1.3052, -2.0482],\n",
      "        [-2.0380, -1.4616, -1.5675],\n",
      "        [-2.0373, -1.4942, -1.7041],\n",
      "        [-0.0543, -1.0062, -1.4831],\n",
      "        [-1.4157, -1.3383, -2.0882],\n",
      "        [-2.0233, -0.8648, -1.7145],\n",
      "        [-1.8466, -0.6504, -1.2000],\n",
      "        [-1.4824, -0.8231, -0.3084],\n",
      "        [-1.6015, -0.8801, -1.5593],\n",
      "        [-1.9085, -0.9384, -1.7778],\n",
      "        [-1.8521, -1.5363, -1.4148],\n",
      "        [-1.8972, -1.3282, -1.2790],\n",
      "        [-1.7520, -1.3679, -1.4247],\n",
      "        [-1.9718, -0.4186, -1.5550],\n",
      "        [-1.7119, -1.3309, -1.1494],\n",
      "        [-1.8351, -0.3824, -0.8706],\n",
      "        [-1.3087, -1.4673, -1.8017],\n",
      "        [-1.5001, -1.1245, -1.5554],\n",
      "        [-1.8070, -0.6243, -0.9565],\n",
      "        [-0.4110, -1.1792, -1.7678],\n",
      "        [-1.9059, -1.4376, -1.6393],\n",
      "        [-1.9648, -1.3432, -1.7684],\n",
      "        [-1.8738, -1.5323, -1.8803],\n",
      "        [-1.5308, -1.0095, -1.6172],\n",
      "        [-1.9567, -1.4535, -1.8593],\n",
      "        [-1.8980, -0.7839, -1.7235],\n",
      "        [-1.3362, -0.5547, -1.4736],\n",
      "        [-1.8530, -1.0771, -1.6924],\n",
      "        [-1.5451, -1.4262, -1.9146],\n",
      "        [-0.3709, -1.3214, -1.1179],\n",
      "        [-1.6963, -1.1657, -0.8039],\n",
      "        [ 0.6905, -0.3798, -1.3740]]) tensor([0.]) 300 torch.Size([300, 3]) torch.Size([1])\n"
     ]
    }
   ],
   "source": [
    "for x, y in custom_non_overlap_train_dataset_samp_en:\n",
    "    print(x, y, x.size(0), x.size(), y.size())\n",
    "    break"
   ]
  },
  {
   "cell_type": "markdown",
   "id": "340b2ca9",
   "metadata": {},
   "source": [
    "We now create a DataLoader object that wraps an iterable around the Dataset to enable easy access to the samples. The DataLoader features will have shape [batch_size, sub_seq_length, num_features] and the target will have shape [batch_size, num_targets]"
   ]
  },
  {
   "cell_type": "code",
   "execution_count": 55,
   "id": "e65b189b",
   "metadata": {},
   "outputs": [],
   "source": [
    "# Please note that the batch_size must be <= len(data) / sub_seq_length. Otherwise there are too few\n",
    "# datapoints to fit in the number of batches. \n",
    "custom_train_loader_samp_en = DataLoader(custom_non_overlap_train_dataset_samp_en, batch_size=60, shuffle=False, drop_last=False)\n",
    "custom_val_loader_samp_en = DataLoader(custom_non_overlap_val_dataset_samp_en, batch_size=60, shuffle=False, drop_last=False)\n",
    "custom_test_loader_samp_en = DataLoader(custom_non_overlap_test_dataset_samp_en, batch_size=60, shuffle=False, drop_last=False)"
   ]
  },
  {
   "cell_type": "code",
   "execution_count": 60,
   "id": "4e83952a",
   "metadata": {},
   "outputs": [
    {
     "data": {
      "text/html": [
       "<div>\n",
       "<style scoped>\n",
       "    .dataframe tbody tr th:only-of-type {\n",
       "        vertical-align: middle;\n",
       "    }\n",
       "\n",
       "    .dataframe tbody tr th {\n",
       "        vertical-align: top;\n",
       "    }\n",
       "\n",
       "    .dataframe thead th {\n",
       "        text-align: right;\n",
       "    }\n",
       "</style>\n",
       "<table border=\"1\" class=\"dataframe\">\n",
       "  <thead>\n",
       "    <tr style=\"text-align: right;\">\n",
       "      <th></th>\n",
       "      <th>0</th>\n",
       "      <th>1</th>\n",
       "      <th>2</th>\n",
       "    </tr>\n",
       "  </thead>\n",
       "  <tbody>\n",
       "    <tr>\n",
       "      <th>290</th>\n",
       "      <td>-1.873759</td>\n",
       "      <td>-1.532255</td>\n",
       "      <td>-1.880346</td>\n",
       "    </tr>\n",
       "    <tr>\n",
       "      <th>291</th>\n",
       "      <td>-1.530758</td>\n",
       "      <td>-1.009480</td>\n",
       "      <td>-1.617178</td>\n",
       "    </tr>\n",
       "    <tr>\n",
       "      <th>292</th>\n",
       "      <td>-1.956678</td>\n",
       "      <td>-1.453533</td>\n",
       "      <td>-1.859349</td>\n",
       "    </tr>\n",
       "    <tr>\n",
       "      <th>293</th>\n",
       "      <td>-1.897982</td>\n",
       "      <td>-0.783950</td>\n",
       "      <td>-1.723539</td>\n",
       "    </tr>\n",
       "    <tr>\n",
       "      <th>294</th>\n",
       "      <td>-1.336181</td>\n",
       "      <td>-0.554721</td>\n",
       "      <td>-1.473624</td>\n",
       "    </tr>\n",
       "    <tr>\n",
       "      <th>295</th>\n",
       "      <td>-1.852976</td>\n",
       "      <td>-1.077107</td>\n",
       "      <td>-1.692426</td>\n",
       "    </tr>\n",
       "    <tr>\n",
       "      <th>296</th>\n",
       "      <td>-1.545103</td>\n",
       "      <td>-1.426204</td>\n",
       "      <td>-1.914563</td>\n",
       "    </tr>\n",
       "    <tr>\n",
       "      <th>297</th>\n",
       "      <td>-0.370907</td>\n",
       "      <td>-1.321353</td>\n",
       "      <td>-1.117852</td>\n",
       "    </tr>\n",
       "    <tr>\n",
       "      <th>298</th>\n",
       "      <td>-1.696310</td>\n",
       "      <td>-1.165692</td>\n",
       "      <td>-0.803938</td>\n",
       "    </tr>\n",
       "    <tr>\n",
       "      <th>299</th>\n",
       "      <td>0.690530</td>\n",
       "      <td>-0.379823</td>\n",
       "      <td>-1.374048</td>\n",
       "    </tr>\n",
       "  </tbody>\n",
       "</table>\n",
       "</div>"
      ],
      "text/plain": [
       "            0         1         2\n",
       "290 -1.873759 -1.532255 -1.880346\n",
       "291 -1.530758 -1.009480 -1.617178\n",
       "292 -1.956678 -1.453533 -1.859349\n",
       "293 -1.897982 -0.783950 -1.723539\n",
       "294 -1.336181 -0.554721 -1.473624\n",
       "295 -1.852976 -1.077107 -1.692426\n",
       "296 -1.545103 -1.426204 -1.914563\n",
       "297 -0.370907 -1.321353 -1.117852\n",
       "298 -1.696310 -1.165692 -0.803938\n",
       "299  0.690530 -0.379823 -1.374048"
      ]
     },
     "execution_count": 60,
     "metadata": {},
     "output_type": "execute_result"
    }
   ],
   "source": [
    "pd.DataFrame(X_train_arr_samp_en)[290:300]"
   ]
  },
  {
   "cell_type": "code",
   "execution_count": 62,
   "id": "a4c5109a",
   "metadata": {},
   "outputs": [
    {
     "data": {
      "text/html": [
       "<div>\n",
       "<style scoped>\n",
       "    .dataframe tbody tr th:only-of-type {\n",
       "        vertical-align: middle;\n",
       "    }\n",
       "\n",
       "    .dataframe tbody tr th {\n",
       "        vertical-align: top;\n",
       "    }\n",
       "\n",
       "    .dataframe thead th {\n",
       "        text-align: right;\n",
       "    }\n",
       "</style>\n",
       "<table border=\"1\" class=\"dataframe\">\n",
       "  <thead>\n",
       "    <tr style=\"text-align: right;\">\n",
       "      <th></th>\n",
       "      <th>0</th>\n",
       "      <th>1</th>\n",
       "      <th>2</th>\n",
       "    </tr>\n",
       "  </thead>\n",
       "  <tbody>\n",
       "    <tr>\n",
       "      <th>17990</th>\n",
       "      <td>-0.720103</td>\n",
       "      <td>0.194292</td>\n",
       "      <td>-0.391664</td>\n",
       "    </tr>\n",
       "    <tr>\n",
       "      <th>17991</th>\n",
       "      <td>-0.800135</td>\n",
       "      <td>-0.088866</td>\n",
       "      <td>-0.233934</td>\n",
       "    </tr>\n",
       "    <tr>\n",
       "      <th>17992</th>\n",
       "      <td>-0.861083</td>\n",
       "      <td>-0.384518</td>\n",
       "      <td>0.181034</td>\n",
       "    </tr>\n",
       "    <tr>\n",
       "      <th>17993</th>\n",
       "      <td>-0.469173</td>\n",
       "      <td>0.202934</td>\n",
       "      <td>0.426254</td>\n",
       "    </tr>\n",
       "    <tr>\n",
       "      <th>17994</th>\n",
       "      <td>-0.803320</td>\n",
       "      <td>-0.198521</td>\n",
       "      <td>0.380529</td>\n",
       "    </tr>\n",
       "    <tr>\n",
       "      <th>17995</th>\n",
       "      <td>-0.447767</td>\n",
       "      <td>0.477309</td>\n",
       "      <td>-0.056959</td>\n",
       "    </tr>\n",
       "    <tr>\n",
       "      <th>17996</th>\n",
       "      <td>-0.799140</td>\n",
       "      <td>-0.578419</td>\n",
       "      <td>-0.864492</td>\n",
       "    </tr>\n",
       "    <tr>\n",
       "      <th>17997</th>\n",
       "      <td>0.003473</td>\n",
       "      <td>0.272628</td>\n",
       "      <td>2.832906</td>\n",
       "    </tr>\n",
       "    <tr>\n",
       "      <th>17998</th>\n",
       "      <td>-0.101491</td>\n",
       "      <td>-0.432212</td>\n",
       "      <td>0.023046</td>\n",
       "    </tr>\n",
       "    <tr>\n",
       "      <th>17999</th>\n",
       "      <td>0.750926</td>\n",
       "      <td>-0.236418</td>\n",
       "      <td>-0.165784</td>\n",
       "    </tr>\n",
       "  </tbody>\n",
       "</table>\n",
       "</div>"
      ],
      "text/plain": [
       "              0         1         2\n",
       "17990 -0.720103  0.194292 -0.391664\n",
       "17991 -0.800135 -0.088866 -0.233934\n",
       "17992 -0.861083 -0.384518  0.181034\n",
       "17993 -0.469173  0.202934  0.426254\n",
       "17994 -0.803320 -0.198521  0.380529\n",
       "17995 -0.447767  0.477309 -0.056959\n",
       "17996 -0.799140 -0.578419 -0.864492\n",
       "17997  0.003473  0.272628  2.832906\n",
       "17998 -0.101491 -0.432212  0.023046\n",
       "17999  0.750926 -0.236418 -0.165784"
      ]
     },
     "execution_count": 62,
     "metadata": {},
     "output_type": "execute_result"
    }
   ],
   "source": [
    "pd.DataFrame(X_train_arr_samp_en)[(300*60-10):(300*60)]"
   ]
  },
  {
   "cell_type": "code",
   "execution_count": 56,
   "id": "fefbbb48",
   "metadata": {},
   "outputs": [
    {
     "name": "stdout",
     "output_type": "stream",
     "text": [
      "torch.Size([60, 300, 3]) torch.Size([60, 1])\n",
      "tensor([[[-1.1305e+00, -1.3298e+00, -1.6407e+00],\n",
      "         [-1.0039e+00, -9.4842e-01, -9.6805e-01],\n",
      "         [ 5.3098e-01, -5.3115e-02, -1.4884e+00],\n",
      "         ...,\n",
      "         [-3.7091e-01, -1.3214e+00, -1.1179e+00],\n",
      "         [-1.6963e+00, -1.1657e+00, -8.0394e-01],\n",
      "         [ 6.9053e-01, -3.7982e-01, -1.3740e+00]],\n",
      "\n",
      "        [[ 1.0932e+00, -4.5171e-04,  2.4071e+00],\n",
      "         [ 2.5972e-01, -5.3715e-02,  2.0590e+00],\n",
      "         [-2.8618e-01, -9.4864e-01,  1.3597e+00],\n",
      "         ...,\n",
      "         [-5.3001e-01,  1.5204e+00, -1.4349e-01],\n",
      "         [ 4.2681e-01,  9.0180e-01,  9.8269e-01],\n",
      "         [ 3.2723e-01, -1.0016e+00,  5.6840e-01]],\n",
      "\n",
      "        [[ 1.3261e+00, -1.5982e-01,  1.7644e+00],\n",
      "         [ 7.1054e-01, -1.1431e+00,  2.0992e-01],\n",
      "         [ 6.1040e-01, -1.0397e+00,  2.5296e+00],\n",
      "         ...,\n",
      "         [-1.1331e+00, -1.2621e+00,  2.0156e+00],\n",
      "         [-1.7010e-01, -4.2086e-01,  2.1977e+00],\n",
      "         [-4.8776e-01, -1.1149e+00,  5.1616e-01]],\n",
      "\n",
      "        ...,\n",
      "\n",
      "        [[ 8.7522e-01,  1.0989e+00,  9.8468e-01],\n",
      "         [ 2.9536e-01,  8.0188e-01,  7.2572e-01],\n",
      "         [-1.0149e-01,  1.0733e+00,  7.6069e-01],\n",
      "         ...,\n",
      "         [ 3.9659e-01,  1.1492e+00,  3.0998e+00],\n",
      "         [ 9.2171e-01,  1.7904e+00,  1.6087e+00],\n",
      "         [-4.0435e-01,  1.6220e+00,  1.0696e+00]],\n",
      "\n",
      "        [[-2.6953e-01,  1.4185e-01, -6.4549e-01],\n",
      "         [-1.1836e+00,  4.7920e-01, -8.5437e-01],\n",
      "         [-9.8484e-01,  8.7454e-01, -6.4989e-01],\n",
      "         ...,\n",
      "         [-2.1806e-01,  1.4416e+00, -1.0237e+00],\n",
      "         [-4.9489e-01,  3.4380e-01, -1.2398e+00],\n",
      "         [ 1.6805e+00,  1.9441e+00, -2.8233e-01]],\n",
      "\n",
      "        [[-1.0149e-01, -7.7632e-01,  1.7960e+00],\n",
      "         [-6.6760e-01, -6.1465e-01, -2.6506e-01],\n",
      "         [ 2.9965e-01, -1.5499e-01,  1.6806e-01],\n",
      "         ...,\n",
      "         [ 3.4732e-03,  2.7263e-01,  2.8329e+00],\n",
      "         [-1.0149e-01, -4.3221e-01,  2.3046e-02],\n",
      "         [ 7.5093e-01, -2.3642e-01, -1.6578e-01]]]) tensor([[0.],\n",
      "        [0.],\n",
      "        [0.],\n",
      "        [0.],\n",
      "        [0.],\n",
      "        [0.],\n",
      "        [0.],\n",
      "        [0.],\n",
      "        [0.],\n",
      "        [0.],\n",
      "        [0.],\n",
      "        [0.],\n",
      "        [0.],\n",
      "        [0.],\n",
      "        [0.],\n",
      "        [0.],\n",
      "        [0.],\n",
      "        [0.],\n",
      "        [0.],\n",
      "        [0.],\n",
      "        [0.],\n",
      "        [0.],\n",
      "        [1.],\n",
      "        [0.],\n",
      "        [0.],\n",
      "        [0.],\n",
      "        [0.],\n",
      "        [1.],\n",
      "        [0.],\n",
      "        [0.],\n",
      "        [0.],\n",
      "        [0.],\n",
      "        [0.],\n",
      "        [0.],\n",
      "        [0.],\n",
      "        [0.],\n",
      "        [0.],\n",
      "        [0.],\n",
      "        [0.],\n",
      "        [0.],\n",
      "        [0.],\n",
      "        [0.],\n",
      "        [0.],\n",
      "        [0.],\n",
      "        [0.],\n",
      "        [0.],\n",
      "        [0.],\n",
      "        [0.],\n",
      "        [1.],\n",
      "        [0.],\n",
      "        [0.],\n",
      "        [0.],\n",
      "        [0.],\n",
      "        [0.],\n",
      "        [0.],\n",
      "        [0.],\n",
      "        [0.],\n",
      "        [1.],\n",
      "        [0.],\n",
      "        [0.]])\n"
     ]
    }
   ],
   "source": [
    "for index, (data, target) in enumerate(custom_train_loader_samp_en):\n",
    "    print(data.shape, target.shape)\n",
    "    print(data, target)\n",
    "    break"
   ]
  },
  {
   "cell_type": "code",
   "execution_count": 76,
   "id": "41528b68",
   "metadata": {},
   "outputs": [],
   "source": [
    "# Source: https://towardsdatascience.com/building-rnn-lstm-and-gru-for-time-series-using-pytorch-a46e5b094e7b\n",
    "class LSTMModel(nn.Module):\n",
    "    def __init__(self, input_dim, hidden_dim, layer_dim, output_dim, dropout_prob):\n",
    "        super(LSTMModel, self).__init__()\n",
    "\n",
    "        # Defining the number of layers and the nodes in each layer\n",
    "        self.hidden_dim = hidden_dim\n",
    "        self.layer_dim = layer_dim\n",
    "\n",
    "        # LSTM layers\n",
    "        # batch first: If True, then the input and output tensors are provided as (batch, seq_len, n_features) instead of \n",
    "        # (seq_len, batch, n_features). Note that this does not apply to hidden or cell states.\n",
    "        self.lstm = nn.LSTM(\n",
    "            input_dim, hidden_dim, layer_dim, batch_first=True, dropout=dropout_prob\n",
    "        )\n",
    "\n",
    "        # Fully connected layer\n",
    "        self.fc = nn.Linear(hidden_dim, output_dim)\n",
    "        \n",
    "\n",
    "    def forward(self, x):\n",
    "        # Initializing hidden state for first input with zeros\n",
    "        h0 = torch.zeros(self.layer_dim, x.size(0), self.hidden_dim).requires_grad_()\n",
    "\n",
    "        # Initializing cell state for first input with zeros\n",
    "        c0 = torch.zeros(self.layer_dim, x.size(0), self.hidden_dim).requires_grad_()\n",
    "\n",
    "        # We need to detach as we are doing truncated backpropagation through time (BPTT)\n",
    "        # If we don't, we'll backprop all the way to the start even after going through another batch\n",
    "        # Forward propagation by passing in the input, hidden state, and cell state into the model\n",
    "        out, (hn, cn) = self.lstm(x, (h0.detach(), c0.detach()))\n",
    "\n",
    "        # Decode the hidden state of the last time step. The output shape will be [batch_size, output_dim]. We only\n",
    "        # want to know the hidden state of the last time step, as we're only interested in computing the loss after\n",
    "        # the entire sequence length has been processed. \n",
    "        out = self.fc(out[:, -1, :]) \n",
    "\n",
    "        return out"
   ]
  }
 ],
 "metadata": {
  "kernelspec": {
   "display_name": "term_preterm_database",
   "language": "python",
   "name": "term_preterm_database"
  },
  "language_info": {
   "codemirror_mode": {
    "name": "ipython",
    "version": 3
   },
   "file_extension": ".py",
   "mimetype": "text/x-python",
   "name": "python",
   "nbconvert_exporter": "python",
   "pygments_lexer": "ipython3",
   "version": "3.8.8"
  }
 },
 "nbformat": 4,
 "nbformat_minor": 5
}
