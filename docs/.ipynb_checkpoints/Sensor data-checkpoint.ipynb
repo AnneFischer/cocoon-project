{
 "cells": [
  {
   "cell_type": "code",
   "execution_count": 1,
   "id": "aedaa574",
   "metadata": {},
   "outputs": [],
   "source": [
    "import sys\n",
    "sys.path.append('/Users/AFischer/PycharmProjects/cocoon-project')\n",
    "sys.path.append('/Users/AFischer/PycharmProjects/cocoon-project/src_pre_term_database')"
   ]
  },
  {
   "cell_type": "code",
   "execution_count": 2,
   "id": "2c08ddfb",
   "metadata": {},
   "outputs": [],
   "source": [
    "import scipy.io\n",
    "import numpy as np\n",
    "import plotly.graph_objs as go\n",
    "from plotly.offline import iplot, init_notebook_mode\n",
    "from plotly.subplots import make_subplots\n",
    "import json\n",
    "from io import StringIO\n",
    "import pandas as pd\n",
    "from sklearn.pipeline import Pipeline\n",
    "from sklearn.compose import ColumnTransformer\n",
    "from src_pre_term_database.data_processing_and_feature_engineering import butter_bandpass_filter\n",
    "from src_pre_term_database.ehg_record import EHGRecord"
   ]
  },
  {
   "cell_type": "code",
   "execution_count": 3,
   "id": "97146d06",
   "metadata": {},
   "outputs": [],
   "source": [
    "data_path = '/Users/AFischer/Documents/PhD_onderzoek/data_cocoon_studie/mat_files'"
   ]
  },
  {
   "cell_type": "code",
   "execution_count": 4,
   "id": "e241b0ae",
   "metadata": {},
   "outputs": [],
   "source": [
    "# This is very computationally expensive as about 400.000 data points have to be plotted\n",
    "def plot_ehg_data(path_to_data: str, \n",
    "                  time_units: str, **kwargs):\n",
    "    \"\"\"\"Plot the EHG signal data of one patient (rec_id).\n",
    "\n",
    "    Parameters\n",
    "    ----------\n",
    "    path_to_data : str\n",
    "        Path to folder with the term-preterm database files.\n",
    "    time_units : str\n",
    "        The x axis unit. Allowed options are: 'samples', 'seconds', 'minutes',\n",
    "        and 'hours'.\n",
    "    kwargs:\n",
    "        Dictionary of parameters to pass to make_subplots.update_xaxes()\n",
    "\n",
    "    Returns\n",
    "    -------\n",
    "    type : plotly.graph_objs\n",
    "        Line plot of the EHG signal data of one record id.\n",
    "    \"\"\"\n",
    "    record = EHGRecord(path_to_data)\n",
    "\n",
    "    # TO DO: Write functionality to input a flexible number of channels you want to plot and create\n",
    "    # the color codes and grid accordingly\n",
    "    colors = ['rgb(67,67,67)', 'rgb(115,115,115)', 'rgb(49,130,189)']\n",
    "\n",
    "    channel_data = ['channel_1', \n",
    "                    'channel_2', \n",
    "                    'channel_3']\n",
    "\n",
    "    min_value_signal = -0.5\n",
    "    max_value_signal = 0.7\n",
    "\n",
    "    line_size = 2\n",
    "    grid = [(1, 1), (2, 1), (3, 1)]\n",
    "\n",
    "    # Construct time indices for the x-axis\n",
    "    if time_units == 'samples':\n",
    "        t = np.linspace(0, record.sig_len_ehg-1, record.sig_len_ehg)\n",
    "    else:\n",
    "        downsample_factor = {'seconds': record.fs_ehg, 'minutes': record.fs_ehg * 60,\n",
    "                             'hours': record.fs_ehg * 3600}\n",
    "        t = np.linspace(0, record.sig_len_ehg-1, record.sig_len_ehg) / downsample_factor[time_units]\n",
    "\n",
    "    # We plot each channel in a separate subplot\n",
    "    fig = make_subplots(rows=3, cols=1,\n",
    "                        subplot_titles=channel_data)\n",
    "\n",
    "    for index, name in enumerate(channel_data):\n",
    "        fig.add_trace(go.Scatter(x=t, y=record.ehg_signals[:, index]/1000000, mode='lines',\n",
    "                                 name=name, line=dict(color=colors[index], width=line_size),\n",
    "                                 connectgaps=True),\n",
    "                      row=grid[index][0],\n",
    "                      col=grid[index][1])\n",
    "        fig.update_yaxes(title_text=record.unit_ehg)\n",
    "\n",
    "    fig.update_layout(template='plotly_white', height=1100, showlegend=False,\n",
    "                      title=dict(\n",
    "                          text=f'<b>EHG data</b>',\n",
    "                          x=0.5,\n",
    "                          y=0.98,\n",
    "                          font=dict(\n",
    "                              family=\"Arial\",\n",
    "                              size=20,\n",
    "                              color='#000000'\n",
    "                          )\n",
    "                      )\n",
    "                      )\n",
    "    # dtick indicates the tick step and is set in such way that we have approx. 5 ticks on the x axis\n",
    "    if 'range' in kwargs:\n",
    "        dtick = int(np.diff(kwargs['range']) / 5)\n",
    "    else:\n",
    "        dtick = int(max(t) / 5)\n",
    "\n",
    "    fig.update_xaxes(title_text=f'{time_units}', tick0=0, dtick=dtick, **kwargs)\n",
    "    fig.show()"
   ]
  },
  {
   "cell_type": "code",
   "execution_count": 49,
   "id": "8946d053",
   "metadata": {},
   "outputs": [],
   "source": [
    "test_record1 = data_path + \"/Hopper-2021_09_07_14_13_48-0000010181-0003.mat\"\n",
    "test_record2 = data_path + \"/Hopper-2021_09_26_09_08_04-0000010090-0003.mat\"\n",
    "test_record3 = data_path + \"/Hopper-2021_09_30_12_50_40-0000010090-0004.mat\"\n",
    "test_record4 = data_path + \"/Hopper-2021_10_09_18_11_08-0000010090-0005.mat\""
   ]
  },
  {
   "cell_type": "code",
   "execution_count": 50,
   "id": "550e2ad8",
   "metadata": {},
   "outputs": [],
   "source": [
    "test_record5 = data_path + \"/Hopper-2021_11_08_10_21_56-0000010090-0002.mat\"\n",
    "test_record6 = data_path + \"/Hopper-2021_11_18_15_50_57-0000010090-0004.mat\"\n",
    "test_record7 = data_path + \"/Hopper-2021_11_19_13_42_44-0000010090-0005.mat\"\n",
    "test_record8 = data_path + \"/Hopper-2021_11_17_01_37_39-0000010090-0003.mat\""
   ]
  },
  {
   "cell_type": "code",
   "execution_count": 26,
   "id": "65b2576c",
   "metadata": {},
   "outputs": [],
   "source": [
    "test_record9 = data_path + \"/Hopper-2021_11_25_11_02_15-0000010181-0004.mat\"\n",
    "test_record10 = data_path + \"/Hopper-2021_11_26_20_26_59-0000010181-0006.mat\"\n",
    "test_record11 = data_path + \"/Hopper-2022_02_07_09_47_42-0000010181-0010.mat\"\n",
    "test_record12 = data_path + \"/Hopper-2022_02_08_15_07_31-0000010181-0011.mat\""
   ]
  },
  {
   "cell_type": "code",
   "execution_count": 10,
   "id": "e8323550",
   "metadata": {},
   "outputs": [],
   "source": [
    "# This is a very large file, probably the recording has not been stopped after an hour\n",
    "test_record13 = data_path + \"/Hopper-2022_02_10_06_02_17-0000010181-0012.mat\""
   ]
  },
  {
   "cell_type": "code",
   "execution_count": null,
   "id": "bc5a2b48",
   "metadata": {},
   "outputs": [],
   "source": [
    "test_record16 = data_path + \"/Hopper-\""
   ]
  },
  {
   "cell_type": "code",
   "execution_count": 5,
   "id": "0411998c",
   "metadata": {},
   "outputs": [],
   "source": [
    "# This is a very large file, probably the recording has not been stopped after an hour\n",
    "test_record22 = data_path + \"/Hopper-2022_03_29_14_08_51-0000010090-0003.mat\""
   ]
  },
  {
   "cell_type": "code",
   "execution_count": 16,
   "id": "5de340aa",
   "metadata": {},
   "outputs": [],
   "source": [
    "test_record1 = EHGRecord(test_record1, bandwidth = [0.08, 4], order=4)\n",
    "test_record2 = EHGRecord(test_record2, bandwidth = [0.08, 4], order=4)\n",
    "test_record3 = EHGRecord(test_record3, bandwidth = [0.08, 4], order=4)\n",
    "test_record4 = EHGRecord(test_record4, bandwidth = [0.08, 4], order=4)"
   ]
  },
  {
   "cell_type": "code",
   "execution_count": 6,
   "id": "0421e323",
   "metadata": {},
   "outputs": [],
   "source": [
    "test_record22 = EHGRecord(test_record22, bandwidth = [0.08, 4], order=4)"
   ]
  },
  {
   "cell_type": "code",
   "execution_count": 12,
   "id": "7826b3e2",
   "metadata": {},
   "outputs": [
    {
     "data": {
      "text/plain": [
       "12593536"
      ]
     },
     "execution_count": 12,
     "metadata": {},
     "output_type": "execute_result"
    }
   ],
   "source": [
    "len(test_record13.ehg_signals)"
   ]
  },
  {
   "cell_type": "code",
   "execution_count": 7,
   "id": "04952452",
   "metadata": {},
   "outputs": [
    {
     "data": {
      "text/plain": [
       "11366528"
      ]
     },
     "execution_count": 7,
     "metadata": {},
     "output_type": "execute_result"
    }
   ],
   "source": [
    "len(test_record22.ehg_signals)"
   ]
  },
  {
   "cell_type": "code",
   "execution_count": 7,
   "id": "9828090f",
   "metadata": {},
   "outputs": [
    {
     "data": {
      "text/plain": [
       "array([[ 0.00000000e+00, -1.14440918e-01,  0.00000000e+00,\n",
       "         0.00000000e+00, -1.14440918e-01,  1.14440918e-01],\n",
       "       [-8.01086426e+00,  9.84191895e+00, -1.00708008e+01,\n",
       "        -2.05993652e+00,  1.78527832e+01, -1.99127197e+01],\n",
       "       [-1.04141235e+01,  1.32751465e+01, -1.33895874e+01,\n",
       "        -2.97546387e+00,  2.36892700e+01, -2.66647339e+01],\n",
       "       ...,\n",
       "       [-2.40325928e+02, -2.37236023e+02, -1.78413391e+02,\n",
       "         6.19125366e+01,  3.08990479e+00,  5.88226318e+01],\n",
       "       [-5.80215454e+01, -5.47027588e+01, -1.16729736e+02,\n",
       "        -5.87081909e+01,  3.31878662e+00, -6.20269775e+01],\n",
       "       [-1.64909363e+02, -1.65710449e+02, -1.33323669e+02,\n",
       "         3.15856934e+01, -8.01086426e-01,  3.23867798e+01]], dtype=float32)"
      ]
     },
     "execution_count": 7,
     "metadata": {},
     "output_type": "execute_result"
    }
   ],
   "source": [
    "test_record1.ehg_signals"
   ]
  },
  {
   "cell_type": "code",
   "execution_count": 26,
   "id": "06a87cfd",
   "metadata": {},
   "outputs": [
    {
     "data": {
      "text/plain": [
       "array([[ 0.00000000e+00, -1.14440918e-01,  0.00000000e+00,\n",
       "         0.00000000e+00, -1.14440918e-01,  1.14440918e-01],\n",
       "       [-8.01086426e+00,  9.84191895e+00, -1.00708008e+01,\n",
       "        -2.05993652e+00,  1.78527832e+01, -1.99127197e+01],\n",
       "       [-1.04141235e+01,  1.32751465e+01, -1.33895874e+01,\n",
       "        -2.97546387e+00,  2.36892700e+01, -2.66647339e+01],\n",
       "       ...,\n",
       "       [-2.40325928e+02, -2.37236023e+02, -1.78413391e+02,\n",
       "         6.19125366e+01,  3.08990479e+00,  5.88226318e+01],\n",
       "       [-5.80215454e+01, -5.47027588e+01, -1.16729736e+02,\n",
       "        -5.87081909e+01,  3.31878662e+00, -6.20269775e+01],\n",
       "       [-1.64909363e+02, -1.65710449e+02, -1.33323669e+02,\n",
       "         3.15856934e+01, -8.01086426e-01,  3.23867798e+01]], dtype=float32)"
      ]
     },
     "execution_count": 26,
     "metadata": {},
     "output_type": "execute_result"
    }
   ],
   "source": [
    "test_record1.ehg_signals"
   ]
  },
  {
   "cell_type": "code",
   "execution_count": 51,
   "id": "bbc8f844",
   "metadata": {},
   "outputs": [],
   "source": [
    "test_record2 = EHGRecord(test_record2, bandwidth = [0.34, 1], order=4)\n",
    "test_record3 = EHGRecord(test_record3, bandwidth = [0.34, 1], order=4)\n",
    "test_record5 = EHGRecord(test_record5, bandwidth = [0.34, 1], order=4)\n",
    "#test_record6 = EHGRecord(test_record6, bandwidth = [0.34, 1], order=4)\n",
    "#test_record7 = EHGRecord(test_record7, bandwidth = [0.34, 1], order=4)\n",
    "#test_record8 = EHGRecord(test_record8, bandwidth = [0.34, 1], order=4)"
   ]
  },
  {
   "cell_type": "code",
   "execution_count": 10,
   "id": "9ae8bff9",
   "metadata": {},
   "outputs": [
    {
     "data": {
      "text/plain": [
       "array([[ 0.00000000e+00, -1.14440918e-04,  0.00000000e+00],\n",
       "       [-8.01086426e-03,  9.84191895e-03, -1.00708008e-02],\n",
       "       [-1.04141235e-02,  1.32751465e-02, -1.33895874e-02],\n",
       "       ...,\n",
       "       [-2.40325928e-01, -2.37236023e-01, -1.78413391e-01],\n",
       "       [-5.80215454e-02, -5.47027588e-02, -1.16729736e-01],\n",
       "       [-1.64909363e-01, -1.65710449e-01, -1.33323669e-01]], dtype=float32)"
      ]
     },
     "execution_count": 10,
     "metadata": {},
     "output_type": "execute_result"
    }
   ],
   "source": [
    "test_record1.ehg_signals"
   ]
  },
  {
   "cell_type": "code",
   "execution_count": 28,
   "id": "07417127",
   "metadata": {},
   "outputs": [],
   "source": [
    "test_record11 = EHGRecord(test_record11, bandwidth = [0.08, 4], order=4)\n",
    "test_record12 = EHGRecord(test_record12, bandwidth = [0.08, 4], order=4)"
   ]
  },
  {
   "cell_type": "markdown",
   "id": "c2ffc9eb",
   "metadata": {},
   "source": [
    "Opname wegens contracties: 110001, 110009, 110010, 110019\n",
    "\n",
    "Opname wegens PPROM: 110005, 110009, 110011, 110019, 110022 \n",
    "\n",
    "Opname met cvx lengte < 10 mm: 110002, 110003, 110005, 110016, 110019, 110022"
   ]
  },
  {
   "cell_type": "code",
   "execution_count": 29,
   "id": "9fd560bb",
   "metadata": {},
   "outputs": [],
   "source": [
    "test_record1 = data_path + \"/Hopper-2021_09_07_14_13_48-0000010181-0003.mat\"\n",
    "test_record9 = data_path + \"/Hopper-2021_11_25_11_02_15-0000010181-0004.mat\"\n",
    "test_record10 = data_path + \"/Hopper-2021_11_26_20_26_59-0000010181-0006.mat\"\n",
    "test_record19 = data_path + \"/Hopper-2022_03_08_07_52_29-0000010090-0006.mat\""
   ]
  },
  {
   "cell_type": "code",
   "execution_count": 30,
   "id": "d543c004",
   "metadata": {},
   "outputs": [],
   "source": [
    "test_record1 = EHGRecord(test_record1, bandwidth = [0.34, 1], order=4)\n",
    "test_record9 = EHGRecord(test_record9, bandwidth = [0.34, 1], order=4)\n",
    "test_record10 = EHGRecord(test_record10, bandwidth = [0.34, 1], order=4)\n",
    "test_record19 = EHGRecord(test_record19, bandwidth = [0.34, 1], order=4)"
   ]
  },
  {
   "cell_type": "code",
   "execution_count": null,
   "id": "aa0f2f15",
   "metadata": {},
   "outputs": [],
   "source": []
  },
  {
   "cell_type": "code",
   "execution_count": 38,
   "id": "f0422de8",
   "metadata": {},
   "outputs": [],
   "source": [
    "test_record5 = data_path + \"/Hopper-2021_11_08_10_21_56-0000010090-0002.mat\"\n",
    "test_record9 = data_path + \"/Hopper-2021_11_25_11_02_15-0000010181-0004.mat\"\n",
    "test_record11 = data_path + \"/Hopper-2022_02_07_09_47_42-0000010181-0010.mat\"\n",
    "test_record19 = data_path + \"/Hopper-2022_03_08_07_52_29-0000010090-0006.mat\"\n",
    "test_record22 = data_path + \"/Hopper-2022_03_29_14_08_51-0000010090-0003.mat\" # recording has not been stopped aftr one hour\n"
   ]
  },
  {
   "cell_type": "code",
   "execution_count": 40,
   "id": "6268cf3d",
   "metadata": {},
   "outputs": [],
   "source": [
    "test_record22 = EHGRecord(test_record22, bandwidth = [0.34, 1], order=4)"
   ]
  },
  {
   "cell_type": "code",
   "execution_count": 23,
   "id": "8bdb1947",
   "metadata": {},
   "outputs": [],
   "source": [
    "test_record5 = EHGRecord(test_record5, bandwidth = [0.34, 1], order=4)\n",
    "\n"
   ]
  },
  {
   "cell_type": "code",
   "execution_count": 9,
   "id": "c9426d2b",
   "metadata": {},
   "outputs": [
    {
     "data": {
      "text/plain": [
       "array([[-1.35917408e+02,  8.02147634e+01, -1.53197335e+02,\n",
       "        -1.79021612e+01,  2.16875633e+02, -2.38268863e+02],\n",
       "       [-1.63647551e+02,  1.24272681e+02, -1.96929648e+02,\n",
       "        -3.38972418e+01,  2.88737437e+02, -3.26055471e+02],\n",
       "       [-1.91257616e+02,  1.68276421e+02, -2.40554264e+02,\n",
       "        -4.99046390e+01,  3.60424879e+02, -4.13678059e+02],\n",
       "       ...,\n",
       "       [-3.59055355e-01, -3.41614692e-01, -3.21885453e-01,\n",
       "         3.68004189e-02,  1.54607924e-02,  2.14337312e-02],\n",
       "       [-3.08390699e-01, -2.93572714e-01, -2.76523936e-01,\n",
       "         3.15532700e-02,  1.31248031e-02,  1.85087379e-02],\n",
       "       [-2.63123710e-01, -2.50616674e-01, -2.35984767e-01,\n",
       "         2.68747041e-02,  1.10685041e-02,  1.58742245e-02]])"
      ]
     },
     "execution_count": 9,
     "metadata": {},
     "output_type": "execute_result"
    }
   ],
   "source": [
    "test_record1.ehg_signals_filt"
   ]
  },
  {
   "cell_type": "code",
   "execution_count": 6,
   "id": "d23f28eb",
   "metadata": {},
   "outputs": [],
   "source": [
    "def create_df_ehg_signals(record, time_units: str):\n",
    "    \n",
    "    # Construct time indices for the x-axis\n",
    "    if time_units == 'samples':\n",
    "        t = np.linspace(0, record.sig_len_ehg-1, record.sig_len_ehg)\n",
    "    else:\n",
    "        downsample_factor = {'seconds': record.fs_ehg, 'minutes': record.fs_ehg * 60,\n",
    "                             'hours': record.fs_ehg * 3600}\n",
    "        t = np.linspace(0, record.sig_len_ehg-1, record.sig_len_ehg) / downsample_factor[time_units]\n",
    "\n",
    "    df_record = pd.concat([pd.DataFrame(record.ehg_signals, columns=['Channel 1', 'Channel 2', 'Channel 3', \n",
    "                                                                     'Channel 4', 'Channel 5', 'Channel 6']), \n",
    "                           pd.DataFrame(record.ehg_signals_filt, columns=['Channel 1 filt', 'Channel 2 filt', \n",
    "                                                                          'Channel 3 filt', 'Channel 4 filt', \n",
    "                                                                          'Channel 5 filt', 'Channel 6 filt']),\n",
    "                           pd.DataFrame(t, columns=['minutes'])], axis=1)\n",
    "    \n",
    "    return df_record\n",
    "    "
   ]
  },
  {
   "cell_type": "code",
   "execution_count": 26,
   "id": "5acbe23e",
   "metadata": {},
   "outputs": [],
   "source": [
    "test_record30 = data_path + \"/Hopper-2022_05_20_07_00_31-0000010181-0006.mat\"\n",
    "test_record31 = data_path + \"/Hopper-2022_05_19_15_52_29-0000010181-0005.mat\"\n",
    "test_record32 = data_path + \"/Hopper-2022_04_27_18_22_22-0000010090-0002.mat\"\n",
    "test_record33 = data_path + \"/Hopper-2022_04_06_20_55_55-0000010181-0002.mat\""
   ]
  },
  {
   "cell_type": "code",
   "execution_count": 27,
   "id": "6e90f5fb",
   "metadata": {},
   "outputs": [],
   "source": [
    "test_record30_3Hz = EHGRecord(test_record30, bandwidth = [0.3, 3], order=4)\n",
    "test_record31_3Hz = EHGRecord(test_record31, bandwidth = [0.3, 3], order=4)\n",
    "test_record33_3Hz = EHGRecord(test_record33, bandwidth = [0.3, 3], order=4)"
   ]
  },
  {
   "cell_type": "code",
   "execution_count": 28,
   "id": "b2ca20ef",
   "metadata": {},
   "outputs": [],
   "source": [
    "df_test_record30_3Hz = create_df_ehg_signals(test_record30_3Hz, 'minutes')\n",
    "df_test_record31_3Hz = create_df_ehg_signals(test_record31_3Hz, 'minutes')\n",
    "df_test_record33_3Hz = create_df_ehg_signals(test_record33_3Hz, 'minutes')"
   ]
  },
  {
   "cell_type": "code",
   "execution_count": 29,
   "id": "195cff1f",
   "metadata": {},
   "outputs": [],
   "source": [
    "df_test_record30_3Hz.to_csv('/Users/AFischer/Documents/PhD_onderzoek/data_cocoon_studie/csv_files/df_record30_3Hz.csv')\n",
    "df_test_record31_3Hz.to_csv('/Users/AFischer/Documents/PhD_onderzoek/data_cocoon_studie/csv_files/df_record31_3Hz.csv')\n",
    "df_test_record33_3Hz.to_csv('/Users/AFischer/Documents/PhD_onderzoek/data_cocoon_studie/csv_files/df_record33_3Hz.csv')"
   ]
  },
  {
   "cell_type": "code",
   "execution_count": 4,
   "id": "e47aeaa3",
   "metadata": {},
   "outputs": [],
   "source": [
    "test_record34 = data_path + \"/Hopper-2022_05_31_16_33_27-0000010181-0002.mat\"\n",
    "test_record34 = EHGRecord(test_record34, bandwidth = [0.34, 1], order=4)"
   ]
  },
  {
   "cell_type": "code",
   "execution_count": 7,
   "id": "1a694507",
   "metadata": {},
   "outputs": [],
   "source": [
    "df_test_record34 = create_df_ehg_signals(test_record34, 'minutes')\n",
    "df_test_record34.to_csv('/Users/AFischer/Documents/PhD_onderzoek/data_cocoon_studie/csv_files/df_record34.csv')"
   ]
  },
  {
   "cell_type": "code",
   "execution_count": null,
   "id": "7781a6a9",
   "metadata": {},
   "outputs": [],
   "source": []
  },
  {
   "cell_type": "code",
   "execution_count": 23,
   "id": "ac623920",
   "metadata": {},
   "outputs": [],
   "source": [
    "test_record30_4Hz = EHGRecord(test_record30, bandwidth = [0.08, 4], order=4)\n",
    "test_record31_4Hz = EHGRecord(test_record31, bandwidth = [0.08, 4], order=4)\n",
    "test_record33_4Hz = EHGRecord(test_record33, bandwidth = [0.08, 4], order=4)"
   ]
  },
  {
   "cell_type": "code",
   "execution_count": 24,
   "id": "71fdcb0b",
   "metadata": {},
   "outputs": [],
   "source": [
    "df_test_record30_4Hz = create_df_ehg_signals(test_record30_4Hz, 'minutes')\n",
    "df_test_record31_4Hz = create_df_ehg_signals(test_record31_4Hz, 'minutes')\n",
    "df_test_record33_4Hz = create_df_ehg_signals(test_record33_4Hz, 'minutes')"
   ]
  },
  {
   "cell_type": "code",
   "execution_count": 25,
   "id": "8e05dc49",
   "metadata": {},
   "outputs": [],
   "source": [
    "df_test_record30_4Hz.to_csv('/Users/AFischer/Documents/PhD_onderzoek/data_cocoon_studie/csv_files/df_record30_4Hz.csv')\n",
    "df_test_record31_4Hz.to_csv('/Users/AFischer/Documents/PhD_onderzoek/data_cocoon_studie/csv_files/df_record31_4Hz.csv')\n",
    "df_test_record33_4Hz.to_csv('/Users/AFischer/Documents/PhD_onderzoek/data_cocoon_studie/csv_files/df_record33_4Hz.csv')"
   ]
  },
  {
   "cell_type": "code",
   "execution_count": null,
   "id": "12193254",
   "metadata": {},
   "outputs": [],
   "source": []
  },
  {
   "cell_type": "code",
   "execution_count": null,
   "id": "fa436469",
   "metadata": {},
   "outputs": [],
   "source": []
  },
  {
   "cell_type": "code",
   "execution_count": null,
   "id": "5394fc6b",
   "metadata": {},
   "outputs": [],
   "source": []
  },
  {
   "cell_type": "code",
   "execution_count": null,
   "id": "4a13a91a",
   "metadata": {},
   "outputs": [],
   "source": []
  },
  {
   "cell_type": "code",
   "execution_count": 20,
   "id": "75391b29",
   "metadata": {},
   "outputs": [],
   "source": [
    "test_record30 = EHGRecord(test_record30, bandwidth = [0.34, 1], order=4)\n",
    "test_record31 = EHGRecord(test_record31, bandwidth = [0.34, 1], order=4)\n",
    "test_record32 = EHGRecord(test_record32, bandwidth = [0.34, 1], order=4)\n",
    "test_record33 = EHGRecord(test_record33, bandwidth = [0.34, 1], order=4)"
   ]
  },
  {
   "cell_type": "code",
   "execution_count": 9,
   "id": "b960540a",
   "metadata": {},
   "outputs": [],
   "source": [
    "df_test_record30 = create_df_ehg_signals(test_record30, 'minutes')\n",
    "df_test_record31 = create_df_ehg_signals(test_record31, 'minutes')\n",
    "df_test_record32 = create_df_ehg_signals(test_record32, 'minutes')\n",
    "df_test_record33 = create_df_ehg_signals(test_record33, 'minutes')"
   ]
  },
  {
   "cell_type": "code",
   "execution_count": 15,
   "id": "b3be3ef1",
   "metadata": {},
   "outputs": [
    {
     "data": {
      "text/html": [
       "<div>\n",
       "<style scoped>\n",
       "    .dataframe tbody tr th:only-of-type {\n",
       "        vertical-align: middle;\n",
       "    }\n",
       "\n",
       "    .dataframe tbody tr th {\n",
       "        vertical-align: top;\n",
       "    }\n",
       "\n",
       "    .dataframe thead th {\n",
       "        text-align: right;\n",
       "    }\n",
       "</style>\n",
       "<table border=\"1\" class=\"dataframe\">\n",
       "  <thead>\n",
       "    <tr style=\"text-align: right;\">\n",
       "      <th></th>\n",
       "      <th>Channel 1</th>\n",
       "      <th>Channel 2</th>\n",
       "      <th>Channel 3</th>\n",
       "      <th>Channel 4</th>\n",
       "      <th>Channel 5</th>\n",
       "      <th>Channel 6</th>\n",
       "      <th>Channel 1 filt</th>\n",
       "      <th>Channel 2 filt</th>\n",
       "      <th>Channel 3 filt</th>\n",
       "      <th>Channel 4 filt</th>\n",
       "      <th>Channel 5 filt</th>\n",
       "      <th>Channel 6 filt</th>\n",
       "      <th>minutes</th>\n",
       "    </tr>\n",
       "  </thead>\n",
       "  <tbody>\n",
       "    <tr>\n",
       "      <th>0</th>\n",
       "      <td>0.000000</td>\n",
       "      <td>0.000000</td>\n",
       "      <td>-0.114441</td>\n",
       "      <td>-0.114441</td>\n",
       "      <td>0.0</td>\n",
       "      <td>-0.114441</td>\n",
       "      <td>1.803884</td>\n",
       "      <td>1.010778</td>\n",
       "      <td>0.166309</td>\n",
       "      <td>-4.951420</td>\n",
       "      <td>0.622475</td>\n",
       "      <td>-4.991909</td>\n",
       "      <td>0.000000</td>\n",
       "    </tr>\n",
       "    <tr>\n",
       "      <th>1</th>\n",
       "      <td>-10.070801</td>\n",
       "      <td>-10.070801</td>\n",
       "      <td>9.841919</td>\n",
       "      <td>19.912720</td>\n",
       "      <td>0.0</td>\n",
       "      <td>19.912720</td>\n",
       "      <td>-37.677176</td>\n",
       "      <td>-38.461905</td>\n",
       "      <td>39.504158</td>\n",
       "      <td>73.809088</td>\n",
       "      <td>0.635771</td>\n",
       "      <td>73.724408</td>\n",
       "      <td>0.000130</td>\n",
       "    </tr>\n",
       "    <tr>\n",
       "      <th>2</th>\n",
       "      <td>-13.389587</td>\n",
       "      <td>-13.389587</td>\n",
       "      <td>13.275146</td>\n",
       "      <td>26.664734</td>\n",
       "      <td>0.0</td>\n",
       "      <td>26.664734</td>\n",
       "      <td>-77.109983</td>\n",
       "      <td>-77.886122</td>\n",
       "      <td>78.793114</td>\n",
       "      <td>152.472813</td>\n",
       "      <td>0.648953</td>\n",
       "      <td>152.344284</td>\n",
       "      <td>0.000260</td>\n",
       "    </tr>\n",
       "    <tr>\n",
       "      <th>3</th>\n",
       "      <td>29.869080</td>\n",
       "      <td>29.869080</td>\n",
       "      <td>-29.754639</td>\n",
       "      <td>-59.623718</td>\n",
       "      <td>0.0</td>\n",
       "      <td>-59.623718</td>\n",
       "      <td>-116.445923</td>\n",
       "      <td>-117.213264</td>\n",
       "      <td>117.984775</td>\n",
       "      <td>230.942788</td>\n",
       "      <td>0.662017</td>\n",
       "      <td>230.770772</td>\n",
       "      <td>0.000391</td>\n",
       "    </tr>\n",
       "    <tr>\n",
       "      <th>4</th>\n",
       "      <td>-62.141418</td>\n",
       "      <td>-62.141418</td>\n",
       "      <td>61.798096</td>\n",
       "      <td>123.939514</td>\n",
       "      <td>0.0</td>\n",
       "      <td>123.939514</td>\n",
       "      <td>-155.636547</td>\n",
       "      <td>-156.394887</td>\n",
       "      <td>157.030912</td>\n",
       "      <td>309.122383</td>\n",
       "      <td>0.674957</td>\n",
       "      <td>308.907263</td>\n",
       "      <td>0.000521</td>\n",
       "    </tr>\n",
       "  </tbody>\n",
       "</table>\n",
       "</div>"
      ],
      "text/plain": [
       "   Channel 1  Channel 2  Channel 3   Channel 4  Channel 5   Channel 6  \\\n",
       "0   0.000000   0.000000  -0.114441   -0.114441        0.0   -0.114441   \n",
       "1 -10.070801 -10.070801   9.841919   19.912720        0.0   19.912720   \n",
       "2 -13.389587 -13.389587  13.275146   26.664734        0.0   26.664734   \n",
       "3  29.869080  29.869080 -29.754639  -59.623718        0.0  -59.623718   \n",
       "4 -62.141418 -62.141418  61.798096  123.939514        0.0  123.939514   \n",
       "\n",
       "   Channel 1 filt  Channel 2 filt  Channel 3 filt  Channel 4 filt  \\\n",
       "0        1.803884        1.010778        0.166309       -4.951420   \n",
       "1      -37.677176      -38.461905       39.504158       73.809088   \n",
       "2      -77.109983      -77.886122       78.793114      152.472813   \n",
       "3     -116.445923     -117.213264      117.984775      230.942788   \n",
       "4     -155.636547     -156.394887      157.030912      309.122383   \n",
       "\n",
       "   Channel 5 filt  Channel 6 filt   minutes  \n",
       "0        0.622475       -4.991909  0.000000  \n",
       "1        0.635771       73.724408  0.000130  \n",
       "2        0.648953      152.344284  0.000260  \n",
       "3        0.662017      230.770772  0.000391  \n",
       "4        0.674957      308.907263  0.000521  "
      ]
     },
     "execution_count": 15,
     "metadata": {},
     "output_type": "execute_result"
    }
   ],
   "source": [
    "df_test_record30.head()"
   ]
  },
  {
   "cell_type": "code",
   "execution_count": 10,
   "id": "e8e033b5",
   "metadata": {},
   "outputs": [],
   "source": [
    "df_test_record30.to_csv('/Users/AFischer/Documents/PhD_onderzoek/data_cocoon_studie/csv_files/df_record30.csv')\n",
    "df_test_record31.to_csv('/Users/AFischer/Documents/PhD_onderzoek/data_cocoon_studie/csv_files/df_record31.csv')\n",
    "df_test_record32.to_csv('/Users/AFischer/Documents/PhD_onderzoek/data_cocoon_studie/csv_files/df_record32.csv')\n",
    "df_test_record33.to_csv('/Users/AFischer/Documents/PhD_onderzoek/data_cocoon_studie/csv_files/df_record33.csv')"
   ]
  },
  {
   "cell_type": "code",
   "execution_count": null,
   "id": "8b97fd86",
   "metadata": {},
   "outputs": [],
   "source": []
  },
  {
   "cell_type": "code",
   "execution_count": 11,
   "id": "5e254d11",
   "metadata": {},
   "outputs": [],
   "source": [
    "def create_df_acc_signals(record, time_units: str):\n",
    "    \n",
    "    # Construct time indices for the x-axis\n",
    "    if time_units == 'samples':\n",
    "        t = np.linspace(0, record.sig_len_acc-1, record.sig_len_acc)\n",
    "    else:\n",
    "        downsample_factor = {'seconds': record.fs_acc, 'minutes': record.fs_acc * 60,\n",
    "                             'hours': record.fs_acc * 3600}\n",
    "        t = np.linspace(0, record.sig_len_acc-1, record.sig_len_acc) / downsample_factor[time_units]\n",
    "\n",
    "    df_record = pd.concat([pd.DataFrame(record.acc_signals, columns=['x axis', 'y axis', 'z axis']), pd.DataFrame(t, columns=['minutes'])], axis=1)\n",
    "    \n",
    "    return df_record"
   ]
  },
  {
   "cell_type": "code",
   "execution_count": 12,
   "id": "891a57d9",
   "metadata": {},
   "outputs": [],
   "source": [
    "df_acc_record30 = create_df_acc_signals(test_record30, 'minutes')\n",
    "df_acc_record31 = create_df_acc_signals(test_record31, 'minutes')\n",
    "df_acc_record32 = create_df_acc_signals(test_record32, 'minutes')\n",
    "df_acc_record33 = create_df_acc_signals(test_record33, 'minutes')"
   ]
  },
  {
   "cell_type": "code",
   "execution_count": 14,
   "id": "80d7c1a4",
   "metadata": {},
   "outputs": [],
   "source": [
    "df_acc_record30.to_csv('/Users/AFischer/Documents/PhD_onderzoek/data_cocoon_studie/csv_files/df_acc_record30.csv')\n",
    "df_acc_record31.to_csv('/Users/AFischer/Documents/PhD_onderzoek/data_cocoon_studie/csv_files/df_acc_record31.csv')\n",
    "df_acc_record32.to_csv('/Users/AFischer/Documents/PhD_onderzoek/data_cocoon_studie/csv_files/df_acc_record32.csv')\n",
    "df_acc_record33.to_csv('/Users/AFischer/Documents/PhD_onderzoek/data_cocoon_studie/csv_files/df_acc_record33.csv')"
   ]
  },
  {
   "cell_type": "code",
   "execution_count": null,
   "id": "10ccc812",
   "metadata": {},
   "outputs": [],
   "source": []
  },
  {
   "cell_type": "code",
   "execution_count": null,
   "id": "395c732f",
   "metadata": {},
   "outputs": [],
   "source": []
  },
  {
   "cell_type": "code",
   "execution_count": null,
   "id": "4eafab9e",
   "metadata": {},
   "outputs": [],
   "source": []
  },
  {
   "cell_type": "code",
   "execution_count": null,
   "id": "43292d4f",
   "metadata": {},
   "outputs": [],
   "source": []
  },
  {
   "cell_type": "code",
   "execution_count": 11,
   "id": "62a4db39",
   "metadata": {},
   "outputs": [],
   "source": [
    "df_test_record1 = create_df_ehg_signals(test_record1, 'minutes')"
   ]
  },
  {
   "cell_type": "code",
   "execution_count": 12,
   "id": "8e107d69",
   "metadata": {},
   "outputs": [
    {
     "data": {
      "text/html": [
       "<div>\n",
       "<style scoped>\n",
       "    .dataframe tbody tr th:only-of-type {\n",
       "        vertical-align: middle;\n",
       "    }\n",
       "\n",
       "    .dataframe tbody tr th {\n",
       "        vertical-align: top;\n",
       "    }\n",
       "\n",
       "    .dataframe thead th {\n",
       "        text-align: right;\n",
       "    }\n",
       "</style>\n",
       "<table border=\"1\" class=\"dataframe\">\n",
       "  <thead>\n",
       "    <tr style=\"text-align: right;\">\n",
       "      <th></th>\n",
       "      <th>Channel 1</th>\n",
       "      <th>Channel 2</th>\n",
       "      <th>Channel 3</th>\n",
       "      <th>Channel 4</th>\n",
       "      <th>Channel 5</th>\n",
       "      <th>Channel 6</th>\n",
       "      <th>Channel 1 filt</th>\n",
       "      <th>Channel 2 filt</th>\n",
       "      <th>Channel 3 filt</th>\n",
       "      <th>Channel 4 filt</th>\n",
       "      <th>Channel 5 filt</th>\n",
       "      <th>Channel 6 filt</th>\n",
       "      <th>minutes</th>\n",
       "    </tr>\n",
       "  </thead>\n",
       "  <tbody>\n",
       "    <tr>\n",
       "      <th>0</th>\n",
       "      <td>0.000000</td>\n",
       "      <td>-0.114441</td>\n",
       "      <td>0.000000</td>\n",
       "      <td>0.000000</td>\n",
       "      <td>-0.114441</td>\n",
       "      <td>0.114441</td>\n",
       "      <td>-135.917408</td>\n",
       "      <td>80.214763</td>\n",
       "      <td>-153.197335</td>\n",
       "      <td>-17.902161</td>\n",
       "      <td>216.875633</td>\n",
       "      <td>-238.268863</td>\n",
       "      <td>0.000000</td>\n",
       "    </tr>\n",
       "    <tr>\n",
       "      <th>1</th>\n",
       "      <td>-8.010864</td>\n",
       "      <td>9.841919</td>\n",
       "      <td>-10.070801</td>\n",
       "      <td>-2.059937</td>\n",
       "      <td>17.852783</td>\n",
       "      <td>-19.912720</td>\n",
       "      <td>-163.647551</td>\n",
       "      <td>124.272681</td>\n",
       "      <td>-196.929648</td>\n",
       "      <td>-33.897242</td>\n",
       "      <td>288.737437</td>\n",
       "      <td>-326.055471</td>\n",
       "      <td>0.000130</td>\n",
       "    </tr>\n",
       "    <tr>\n",
       "      <th>2</th>\n",
       "      <td>-10.414124</td>\n",
       "      <td>13.275146</td>\n",
       "      <td>-13.389587</td>\n",
       "      <td>-2.975464</td>\n",
       "      <td>23.689270</td>\n",
       "      <td>-26.664734</td>\n",
       "      <td>-191.257616</td>\n",
       "      <td>168.276421</td>\n",
       "      <td>-240.554264</td>\n",
       "      <td>-49.904639</td>\n",
       "      <td>360.424879</td>\n",
       "      <td>-413.678059</td>\n",
       "      <td>0.000260</td>\n",
       "    </tr>\n",
       "    <tr>\n",
       "      <th>3</th>\n",
       "      <td>23.117065</td>\n",
       "      <td>-29.754639</td>\n",
       "      <td>29.869080</td>\n",
       "      <td>6.752014</td>\n",
       "      <td>-52.871704</td>\n",
       "      <td>59.623718</td>\n",
       "      <td>-218.712115</td>\n",
       "      <td>212.172772</td>\n",
       "      <td>-284.017216</td>\n",
       "      <td>-65.905877</td>\n",
       "      <td>431.849231</td>\n",
       "      <td>-501.029446</td>\n",
       "      <td>0.000391</td>\n",
       "    </tr>\n",
       "    <tr>\n",
       "      <th>4</th>\n",
       "      <td>-48.408508</td>\n",
       "      <td>61.798096</td>\n",
       "      <td>-62.141418</td>\n",
       "      <td>-13.732910</td>\n",
       "      <td>110.206604</td>\n",
       "      <td>-123.939514</td>\n",
       "      <td>-245.975749</td>\n",
       "      <td>255.908635</td>\n",
       "      <td>-327.264702</td>\n",
       "      <td>-81.882453</td>\n",
       "      <td>502.922072</td>\n",
       "      <td>-588.002733</td>\n",
       "      <td>0.000521</td>\n",
       "    </tr>\n",
       "  </tbody>\n",
       "</table>\n",
       "</div>"
      ],
      "text/plain": [
       "   Channel 1  Channel 2  Channel 3  Channel 4   Channel 5   Channel 6  \\\n",
       "0   0.000000  -0.114441   0.000000   0.000000   -0.114441    0.114441   \n",
       "1  -8.010864   9.841919 -10.070801  -2.059937   17.852783  -19.912720   \n",
       "2 -10.414124  13.275146 -13.389587  -2.975464   23.689270  -26.664734   \n",
       "3  23.117065 -29.754639  29.869080   6.752014  -52.871704   59.623718   \n",
       "4 -48.408508  61.798096 -62.141418 -13.732910  110.206604 -123.939514   \n",
       "\n",
       "   Channel 1 filt  Channel 2 filt  Channel 3 filt  Channel 4 filt  \\\n",
       "0     -135.917408       80.214763     -153.197335      -17.902161   \n",
       "1     -163.647551      124.272681     -196.929648      -33.897242   \n",
       "2     -191.257616      168.276421     -240.554264      -49.904639   \n",
       "3     -218.712115      212.172772     -284.017216      -65.905877   \n",
       "4     -245.975749      255.908635     -327.264702      -81.882453   \n",
       "\n",
       "   Channel 5 filt  Channel 6 filt   minutes  \n",
       "0      216.875633     -238.268863  0.000000  \n",
       "1      288.737437     -326.055471  0.000130  \n",
       "2      360.424879     -413.678059  0.000260  \n",
       "3      431.849231     -501.029446  0.000391  \n",
       "4      502.922072     -588.002733  0.000521  "
      ]
     },
     "execution_count": 12,
     "metadata": {},
     "output_type": "execute_result"
    }
   ],
   "source": [
    "df_test_record1.head()"
   ]
  },
  {
   "cell_type": "code",
   "execution_count": 18,
   "id": "ee41048b",
   "metadata": {},
   "outputs": [],
   "source": [
    "df_test_record1.to_csv('/Users/AFischer/Documents/PhD_onderzoek/data_cocoon_studie/csv_files/df_record1.csv')"
   ]
  },
  {
   "cell_type": "code",
   "execution_count": 52,
   "id": "74d37a97",
   "metadata": {},
   "outputs": [],
   "source": [
    "df_test_record2 = create_df_ehg_signals(test_record2, 'minutes')"
   ]
  },
  {
   "cell_type": "code",
   "execution_count": 53,
   "id": "c36cc50a",
   "metadata": {},
   "outputs": [],
   "source": [
    "df_test_record2.to_csv('/Users/AFischer/Documents/PhD_onderzoek/data_cocoon_studie/csv_files/df_record2.csv')"
   ]
  },
  {
   "cell_type": "code",
   "execution_count": 54,
   "id": "347f5691",
   "metadata": {},
   "outputs": [],
   "source": [
    "df_test_record3 = create_df_ehg_signals(test_record3, 'minutes')"
   ]
  },
  {
   "cell_type": "code",
   "execution_count": 55,
   "id": "f70104ea",
   "metadata": {},
   "outputs": [],
   "source": [
    "df_test_record3.to_csv('/Users/AFischer/Documents/PhD_onderzoek/data_cocoon_studie/csv_files/df_record3.csv')"
   ]
  },
  {
   "cell_type": "code",
   "execution_count": 31,
   "id": "39a5252a",
   "metadata": {},
   "outputs": [],
   "source": [
    "df_test_record4 = create_df_ehg_signals(test_record4, 'minutes')"
   ]
  },
  {
   "cell_type": "code",
   "execution_count": 24,
   "id": "2bb58250",
   "metadata": {},
   "outputs": [],
   "source": [
    "df_test_record5 = create_df_ehg_signals(test_record5, 'minutes')"
   ]
  },
  {
   "cell_type": "code",
   "execution_count": 25,
   "id": "333c215d",
   "metadata": {},
   "outputs": [],
   "source": [
    "df_test_record5.to_csv('/Users/AFischer/Documents/PhD_onderzoek/data_cocoon_studie/csv_files/df_record5.csv')"
   ]
  },
  {
   "cell_type": "code",
   "execution_count": 35,
   "id": "bed74b8b",
   "metadata": {},
   "outputs": [],
   "source": [
    "df_test_record6 = create_df_ehg_signals(test_record6, 'minutes')"
   ]
  },
  {
   "cell_type": "code",
   "execution_count": 36,
   "id": "fd7ede1e",
   "metadata": {},
   "outputs": [],
   "source": [
    "df_test_record7 = create_df_ehg_signals(test_record7, 'minutes')"
   ]
  },
  {
   "cell_type": "code",
   "execution_count": 37,
   "id": "2b17302a",
   "metadata": {},
   "outputs": [],
   "source": [
    "df_test_record8 = create_df_ehg_signals(test_record8, 'minutes')"
   ]
  },
  {
   "cell_type": "code",
   "execution_count": 31,
   "id": "122f206e",
   "metadata": {},
   "outputs": [],
   "source": [
    "df_test_record9 = create_df_ehg_signals(test_record9, 'minutes')"
   ]
  },
  {
   "cell_type": "code",
   "execution_count": 32,
   "id": "fab1e29b",
   "metadata": {},
   "outputs": [],
   "source": [
    "df_test_record9.to_csv('/Users/AFischer/Documents/PhD_onderzoek/data_cocoon_studie/csv_files/df_record9.csv')"
   ]
  },
  {
   "cell_type": "code",
   "execution_count": 33,
   "id": "85aa5e10",
   "metadata": {},
   "outputs": [],
   "source": [
    "df_test_record10 = create_df_ehg_signals(test_record10, 'minutes')"
   ]
  },
  {
   "cell_type": "code",
   "execution_count": 34,
   "id": "e9871347",
   "metadata": {},
   "outputs": [],
   "source": [
    "df_test_record10.to_csv('/Users/AFischer/Documents/PhD_onderzoek/data_cocoon_studie/csv_files/df_record10.csv')\n"
   ]
  },
  {
   "cell_type": "code",
   "execution_count": 29,
   "id": "82a51e5e",
   "metadata": {},
   "outputs": [],
   "source": [
    "df_test_record11 = create_df_ehg_signals(test_record11, 'minutes')"
   ]
  },
  {
   "cell_type": "code",
   "execution_count": 30,
   "id": "efa2e366",
   "metadata": {},
   "outputs": [],
   "source": [
    "df_test_record12 = create_df_ehg_signals(test_record12, 'minutes')"
   ]
  },
  {
   "cell_type": "code",
   "execution_count": 16,
   "id": "5ce28e4d",
   "metadata": {},
   "outputs": [],
   "source": [
    "df_test_record13 = create_df_ehg_signals(test_record13, 'minutes')"
   ]
  },
  {
   "cell_type": "markdown",
   "id": "497391fa",
   "metadata": {},
   "source": [
    "The recording of record13 has not been properly detached after the recording was done. The total recording is now 26 hours, we keep the first 3 hours."
   ]
  },
  {
   "cell_type": "code",
   "execution_count": 24,
   "id": "96ff02f6",
   "metadata": {},
   "outputs": [],
   "source": [
    "df_test_record13 = df_test_record13[df_test_record13['minutes']<=180].reset_index(drop=True)"
   ]
  },
  {
   "cell_type": "markdown",
   "id": "3c494643",
   "metadata": {},
   "source": [
    "The recording of record22 has not been properly detached after the recording was done. Based on the notes in the EHR the recording took 1.5 hours (from 16:00-17:30). This is supported by the accelerometer data, which shows a flat line after 90 minutes. We keep the first 1.5 hours of the recording."
   ]
  },
  {
   "cell_type": "code",
   "execution_count": 35,
   "id": "a779e928",
   "metadata": {},
   "outputs": [],
   "source": [
    "df_test_record19 = create_df_ehg_signals(test_record19, 'minutes')"
   ]
  },
  {
   "cell_type": "code",
   "execution_count": 36,
   "id": "bf1fc35e",
   "metadata": {},
   "outputs": [],
   "source": [
    "df_test_record19.to_csv('/Users/AFischer/Documents/PhD_onderzoek/data_cocoon_studie/csv_files/df_record19.csv')\n"
   ]
  },
  {
   "cell_type": "code",
   "execution_count": 41,
   "id": "78d00483",
   "metadata": {},
   "outputs": [],
   "source": [
    "df_test_record22 = create_df_ehg_signals(test_record22, 'minutes')"
   ]
  },
  {
   "cell_type": "code",
   "execution_count": 42,
   "id": "8d13be3d",
   "metadata": {},
   "outputs": [],
   "source": [
    "df_test_record22 = df_test_record22[df_test_record22['minutes']<=90].reset_index(drop=True)"
   ]
  },
  {
   "cell_type": "code",
   "execution_count": 43,
   "id": "335d48ff",
   "metadata": {},
   "outputs": [],
   "source": [
    "df_test_record22.to_csv('/Users/AFischer/Documents/PhD_onderzoek/data_cocoon_studie/csv_files/df_record22.csv')\n",
    "\n"
   ]
  },
  {
   "cell_type": "code",
   "execution_count": 25,
   "id": "78a2591d",
   "metadata": {},
   "outputs": [
    {
     "data": {
      "text/plain": [
       "128.0"
      ]
     },
     "execution_count": 25,
     "metadata": {},
     "output_type": "execute_result"
    }
   ],
   "source": [
    "test_record22.fs_ehg"
   ]
  },
  {
   "cell_type": "code",
   "execution_count": 27,
   "id": "92f504e4",
   "metadata": {},
   "outputs": [],
   "source": [
    "from plotnine import *"
   ]
  },
  {
   "cell_type": "code",
   "execution_count": 41,
   "id": "c8dff494",
   "metadata": {},
   "outputs": [
    {
     "data": {
      "image/png": "[encoded data removed]",
      "text/plain": [
       "<Figure size 640x480 with 1 Axes>"
      ]
     },
     "metadata": {},
     "output_type": "display_data"
    },
    {
     "data": {
      "text/plain": [
       "<ggplot: (8774647192742)>"
      ]
     },
     "execution_count": 41,
     "metadata": {},
     "output_type": "execute_result"
    }
   ],
   "source": [
    "(\n",
    "    ggplot(df_test_record22.query('minutes < 90'), aes(x='minutes', y='Channel 1'))\n",
    "    + geom_line() # line plot\n",
    "    + labs(x='Minutes', y='uV')\n",
    "    + ylim(-250, 250)\n",
    ")"
   ]
  },
  {
   "cell_type": "code",
   "execution_count": 42,
   "id": "3b3d6973",
   "metadata": {},
   "outputs": [
    {
     "data": {
      "image/png": "[encoded data removed]",
      "text/plain": [
       "<Figure size 640x480 with 1 Axes>"
      ]
     },
     "metadata": {},
     "output_type": "display_data"
    },
    {
     "data": {
      "text/plain": [
       "<ggplot: (8774695058294)>"
      ]
     },
     "execution_count": 42,
     "metadata": {},
     "output_type": "execute_result"
    }
   ],
   "source": [
    "(\n",
    "    ggplot(df_test_record22.query('minutes < 90'), aes(x='minutes', y='Channel 2'))\n",
    "    + geom_line() # line plot\n",
    "    + labs(x='Minutes', y='uV')\n",
    "    + ylim(-250, 250)\n",
    ")"
   ]
  },
  {
   "cell_type": "code",
   "execution_count": 43,
   "id": "c409ae40",
   "metadata": {},
   "outputs": [
    {
     "data": {
      "image/png": "[encoded data removed]",
      "text/plain": [
       "<Figure size 640x480 with 1 Axes>"
      ]
     },
     "metadata": {},
     "output_type": "display_data"
    },
    {
     "data": {
      "text/plain": [
       "<ggplot: (8774593062545)>"
      ]
     },
     "execution_count": 43,
     "metadata": {},
     "output_type": "execute_result"
    }
   ],
   "source": [
    "(\n",
    "    ggplot(df_test_record22.query('minutes < 90'), aes(x='minutes', y='Channel 3'))\n",
    "    + geom_line() # line plot\n",
    "    + labs(x='Minutes', y='uV')\n",
    "    + ylim(-250, 250)\n",
    ")"
   ]
  },
  {
   "cell_type": "code",
   "execution_count": 44,
   "id": "4066d200",
   "metadata": {},
   "outputs": [
    {
     "data": {
      "image/png": "[encoded data removed]",
      "text/plain": [
       "<Figure size 640x480 with 1 Axes>"
      ]
     },
     "metadata": {},
     "output_type": "display_data"
    },
    {
     "data": {
      "text/plain": [
       "<ggplot: (8774073030765)>"
      ]
     },
     "execution_count": 44,
     "metadata": {},
     "output_type": "execute_result"
    }
   ],
   "source": [
    "(\n",
    "    ggplot(df_test_record22.query('minutes < 90'), aes(x='minutes', y='Channel 4'))\n",
    "    + geom_line() # line plot\n",
    "    + labs(x='Minutes', y='uV')\n",
    "    + ylim(-250, 250)\n",
    ")"
   ]
  },
  {
   "cell_type": "code",
   "execution_count": 45,
   "id": "43f4f12a",
   "metadata": {},
   "outputs": [
    {
     "data": {
      "image/png": "[encoded data removed]",
      "text/plain": [
       "<Figure size 640x480 with 1 Axes>"
      ]
     },
     "metadata": {},
     "output_type": "display_data"
    },
    {
     "data": {
      "text/plain": [
       "<ggplot: (8773984806464)>"
      ]
     },
     "execution_count": 45,
     "metadata": {},
     "output_type": "execute_result"
    }
   ],
   "source": [
    "(\n",
    "    ggplot(df_test_record22.query('minutes < 90'), aes(x='minutes', y='Channel 5'))\n",
    "    + geom_line() # line plot\n",
    "    + labs(x='Minutes', y='uV')\n",
    "    + ylim(-250, 250)\n",
    ")"
   ]
  },
  {
   "cell_type": "code",
   "execution_count": 51,
   "id": "1a9df152",
   "metadata": {},
   "outputs": [
    {
     "data": {
      "image/png": "[encoded data removed]",
      "text/plain": [
       "<Figure size 640x480 with 1 Axes>"
      ]
     },
     "metadata": {},
     "output_type": "display_data"
    },
    {
     "data": {
      "text/plain": [
       "<ggplot: (8773992461011)>"
      ]
     },
     "execution_count": 51,
     "metadata": {},
     "output_type": "execute_result"
    }
   ],
   "source": [
    "(\n",
    "    ggplot(df_acc_record22, aes(x='minutes', y='x axis'))\n",
    "    + geom_line() # line plot\n",
    "    + labs(x='Minutes')\n",
    ")"
   ]
  },
  {
   "cell_type": "code",
   "execution_count": 19,
   "id": "963ab4ca",
   "metadata": {},
   "outputs": [],
   "source": [
    "CSV_DATA_PATH = '/Users/AFischer/Documents/PhD_onderzoek/data_cocoon_studie/csv_files/'"
   ]
  },
  {
   "cell_type": "code",
   "execution_count": 41,
   "id": "3d3cf5b8",
   "metadata": {},
   "outputs": [],
   "source": [
    "df_test_record1.to_csv('C:/Users/AFischer/Documents/PhD_onderzoek/data_cocoon_studie/df_record1.csv')\n",
    "df_test_record2.to_csv('C:/Users/AFischer/Documents/PhD_onderzoek/data_cocoon_studie/df_record2.csv')\n",
    "df_test_record3.to_csv('C:/Users/AFischer/Documents/PhD_onderzoek/data_cocoon_studie/df_record3.csv')\n",
    "df_test_record4.to_csv('C:/Users/AFischer/Documents/PhD_onderzoek/data_cocoon_studie/df_record4.csv')"
   ]
  },
  {
   "cell_type": "code",
   "execution_count": 42,
   "id": "33c1a6de",
   "metadata": {},
   "outputs": [],
   "source": [
    "df_test_record5.to_csv('C:/Users/AFischer/Documents/PhD_onderzoek/data_cocoon_studie/df_record5.csv')\n",
    "df_test_record6.to_csv('C:/Users/AFischer/Documents/PhD_onderzoek/data_cocoon_studie/df_record6.csv')\n",
    "df_test_record7.to_csv('C:/Users/AFischer/Documents/PhD_onderzoek/data_cocoon_studie/df_record7.csv')\n",
    "df_test_record8.to_csv('C:/Users/AFischer/Documents/PhD_onderzoek/data_cocoon_studie/df_record8.csv')"
   ]
  },
  {
   "cell_type": "code",
   "execution_count": 31,
   "id": "41ecf638",
   "metadata": {},
   "outputs": [],
   "source": [
    "df_test_record11.to_csv(f'{CSV_DATA_PATH}df_record11.csv')\n",
    "df_test_record12.to_csv(f'{CSV_DATA_PATH}df_record12.csv')"
   ]
  },
  {
   "cell_type": "code",
   "execution_count": 25,
   "id": "dcc8afd4",
   "metadata": {},
   "outputs": [],
   "source": [
    "df_test_record13.to_csv(f'{CSV_DATA_PATH}df_record13.csv')"
   ]
  },
  {
   "cell_type": "code",
   "execution_count": 19,
   "id": "2cd45505",
   "metadata": {},
   "outputs": [
    {
     "data": {
      "text/plain": [
       "309568"
      ]
     },
     "execution_count": 19,
     "metadata": {},
     "output_type": "execute_result"
    }
   ],
   "source": [
    "test_record1.acc_signals[:, 0]"
   ]
  },
  {
   "cell_type": "code",
   "execution_count": 25,
   "id": "6973c813",
   "metadata": {},
   "outputs": [
    {
     "data": {
      "text/plain": [
       "64.0"
      ]
     },
     "execution_count": 25,
     "metadata": {},
     "output_type": "execute_result"
    }
   ],
   "source": [
    "test_record5.fs_acc"
   ]
  },
  {
   "cell_type": "code",
   "execution_count": 19,
   "id": "36efd3f4",
   "metadata": {},
   "outputs": [],
   "source": [
    "df_acc_record1 = create_df_acc_signals(test_record1, 'minutes')\n",
    "df_acc_record2 = create_df_acc_signals(test_record2, 'minutes')\n",
    "df_acc_record3 = create_df_acc_signals(test_record3, 'minutes')\n",
    "df_acc_record4 = create_df_acc_signals(test_record4, 'minutes')"
   ]
  },
  {
   "cell_type": "code",
   "execution_count": 49,
   "id": "b38327ca",
   "metadata": {},
   "outputs": [],
   "source": [
    "df_acc_record22 = create_df_acc_signals(test_record22, 'minutes')"
   ]
  },
  {
   "cell_type": "code",
   "execution_count": 20,
   "id": "b754230f",
   "metadata": {},
   "outputs": [
    {
     "data": {
      "text/html": [
       "<div>\n",
       "<style scoped>\n",
       "    .dataframe tbody tr th:only-of-type {\n",
       "        vertical-align: middle;\n",
       "    }\n",
       "\n",
       "    .dataframe tbody tr th {\n",
       "        vertical-align: top;\n",
       "    }\n",
       "\n",
       "    .dataframe thead th {\n",
       "        text-align: right;\n",
       "    }\n",
       "</style>\n",
       "<table border=\"1\" class=\"dataframe\">\n",
       "  <thead>\n",
       "    <tr style=\"text-align: right;\">\n",
       "      <th></th>\n",
       "      <th>x axis</th>\n",
       "      <th>y axis</th>\n",
       "      <th>z axis</th>\n",
       "      <th>minutes</th>\n",
       "    </tr>\n",
       "  </thead>\n",
       "  <tbody>\n",
       "    <tr>\n",
       "      <th>0</th>\n",
       "      <td>-0.000488</td>\n",
       "      <td>-0.000488</td>\n",
       "      <td>0.000488</td>\n",
       "      <td>0.000000</td>\n",
       "    </tr>\n",
       "    <tr>\n",
       "      <th>1</th>\n",
       "      <td>0.005859</td>\n",
       "      <td>0.000488</td>\n",
       "      <td>-0.002441</td>\n",
       "      <td>0.000260</td>\n",
       "    </tr>\n",
       "    <tr>\n",
       "      <th>2</th>\n",
       "      <td>-0.019531</td>\n",
       "      <td>-0.004395</td>\n",
       "      <td>0.010254</td>\n",
       "      <td>0.000521</td>\n",
       "    </tr>\n",
       "    <tr>\n",
       "      <th>3</th>\n",
       "      <td>0.054199</td>\n",
       "      <td>0.015625</td>\n",
       "      <td>-0.033691</td>\n",
       "      <td>0.000781</td>\n",
       "    </tr>\n",
       "    <tr>\n",
       "      <th>4</th>\n",
       "      <td>-0.139648</td>\n",
       "      <td>-0.118164</td>\n",
       "      <td>-0.024414</td>\n",
       "      <td>0.001042</td>\n",
       "    </tr>\n",
       "    <tr>\n",
       "      <th>...</th>\n",
       "      <td>...</td>\n",
       "      <td>...</td>\n",
       "      <td>...</td>\n",
       "      <td>...</td>\n",
       "    </tr>\n",
       "    <tr>\n",
       "      <th>309563</th>\n",
       "      <td>0.201660</td>\n",
       "      <td>-0.685547</td>\n",
       "      <td>-0.719727</td>\n",
       "      <td>80.615365</td>\n",
       "    </tr>\n",
       "    <tr>\n",
       "      <th>309564</th>\n",
       "      <td>0.264648</td>\n",
       "      <td>-0.794433</td>\n",
       "      <td>-0.687988</td>\n",
       "      <td>80.615625</td>\n",
       "    </tr>\n",
       "    <tr>\n",
       "      <th>309565</th>\n",
       "      <td>0.295898</td>\n",
       "      <td>-0.837891</td>\n",
       "      <td>-0.647461</td>\n",
       "      <td>80.615885</td>\n",
       "    </tr>\n",
       "    <tr>\n",
       "      <th>309566</th>\n",
       "      <td>0.238281</td>\n",
       "      <td>-0.741211</td>\n",
       "      <td>-0.592773</td>\n",
       "      <td>80.616146</td>\n",
       "    </tr>\n",
       "    <tr>\n",
       "      <th>309567</th>\n",
       "      <td>0.168457</td>\n",
       "      <td>-0.743652</td>\n",
       "      <td>-0.506348</td>\n",
       "      <td>80.616406</td>\n",
       "    </tr>\n",
       "  </tbody>\n",
       "</table>\n",
       "<p>309568 rows × 4 columns</p>\n",
       "</div>"
      ],
      "text/plain": [
       "          x axis    y axis    z axis    minutes\n",
       "0      -0.000488 -0.000488  0.000488   0.000000\n",
       "1       0.005859  0.000488 -0.002441   0.000260\n",
       "2      -0.019531 -0.004395  0.010254   0.000521\n",
       "3       0.054199  0.015625 -0.033691   0.000781\n",
       "4      -0.139648 -0.118164 -0.024414   0.001042\n",
       "...          ...       ...       ...        ...\n",
       "309563  0.201660 -0.685547 -0.719727  80.615365\n",
       "309564  0.264648 -0.794433 -0.687988  80.615625\n",
       "309565  0.295898 -0.837891 -0.647461  80.615885\n",
       "309566  0.238281 -0.741211 -0.592773  80.616146\n",
       "309567  0.168457 -0.743652 -0.506348  80.616406\n",
       "\n",
       "[309568 rows x 4 columns]"
      ]
     },
     "execution_count": 20,
     "metadata": {},
     "output_type": "execute_result"
    }
   ],
   "source": [
    "df_acc_record1"
   ]
  },
  {
   "cell_type": "code",
   "execution_count": 22,
   "id": "2c995831",
   "metadata": {},
   "outputs": [],
   "source": [
    "df_acc_record1.to_csv('C:/Users/AFischer/Documents/PhD_onderzoek/data_cocoon_studie/df_acc_record1.csv')\n",
    "df_acc_record2.to_csv('C:/Users/AFischer/Documents/PhD_onderzoek/data_cocoon_studie/df_acc_record2.csv')\n",
    "df_acc_record3.to_csv('C:/Users/AFischer/Documents/PhD_onderzoek/data_cocoon_studie/df_acc_record3.csv')\n",
    "df_acc_record4.to_csv('C:/Users/AFischer/Documents/PhD_onderzoek/data_cocoon_studie/df_acc_record4.csv')"
   ]
  },
  {
   "cell_type": "code",
   "execution_count": 27,
   "id": "f36500b9",
   "metadata": {},
   "outputs": [],
   "source": [
    "def plot_acc_data(path_to_data: str, \n",
    "                  time_units: str, **kwargs):\n",
    "    \"\"\"\"Plot the EHG signal data of one patient (rec_id).\n",
    "\n",
    "    Parameters\n",
    "    ----------\n",
    "    path_to_data : str\n",
    "        Path to folder with the term-preterm database files.\n",
    "    time_units : str\n",
    "        The x axis unit. Allowed options are: 'samples', 'seconds', 'minutes',\n",
    "        and 'hours'.\n",
    "    kwargs:\n",
    "        Dictionary of parameters to pass to make_subplots.update_xaxes()\n",
    "\n",
    "    Returns\n",
    "    -------\n",
    "    type : plotly.graph_objs\n",
    "        Line plot of the EHG signal data of one record id.\n",
    "    \"\"\"\n",
    "    record = EHGRecord(path_to_data)\n",
    "\n",
    "    # TO DO: Write functionality to input a flexible number of channels you want to plot and create\n",
    "    # the color codes and grid accordingly\n",
    "    colors = ['rgb(67,67,67)', 'rgb(115,115,115)', 'rgb(49,130,189)']\n",
    "\n",
    "    axis_data = ['x axis', 'y axis', 'z axis']\n",
    "\n",
    "    min_value_signal = -0.5\n",
    "    max_value_signal = 0.7\n",
    "\n",
    "    line_size = 2\n",
    "    grid = [(1, 1), (2, 1), (3, 1)]\n",
    "\n",
    "    # Construct time indices for the x-axis\n",
    "    if time_units == 'samples':\n",
    "        t = np.linspace(0, record.sig_len_acc-1, record.sig_len_acc)\n",
    "    else:\n",
    "        downsample_factor = {'seconds': record.fs_acc, 'minutes': record.fs_acc * 60,\n",
    "                             'hours': record.fs_acc * 3600}\n",
    "        t = np.linspace(0, record.sig_len_acc-1, record.sig_len_acc) / downsample_factor[time_units]\n",
    "\n",
    "    # We plot each channel in a separate subplot\n",
    "    fig = make_subplots(rows=3, cols=1, subplot_titles=axis_data)\n",
    "\n",
    "    for index, axis in enumerate(axis_data):\n",
    "        fig.add_trace(go.Scatter(x=t, y=record.acc_signals[:, index], mode='lines',\n",
    "                                 name=axis, line=dict(color=colors[index], width=line_size),\n",
    "                                 connectgaps=True),\n",
    "                      row=grid[index][0],\n",
    "                      col=grid[index][1])\n",
    "        fig.update_yaxes(title_text=record.unit_acc)\n",
    "\n",
    "    fig.update_layout(template='plotly_white', height=1100, showlegend=False,\n",
    "                      title=dict(\n",
    "                          text=f'<b>Accelerometer</b>',\n",
    "                          x=0.5,\n",
    "                          y=0.98,\n",
    "                          font=dict(\n",
    "                              family=\"Arial\",\n",
    "                              size=20,\n",
    "                              color='#000000'\n",
    "                          )\n",
    "                      )\n",
    "                      )\n",
    "    # dtick indicates the tick step and is set in such way that we have approx. 5 ticks on the x axis\n",
    "    if 'range' in kwargs:\n",
    "        dtick = int(np.diff(kwargs['range']) / 5)\n",
    "    else:\n",
    "        dtick = int(max(t) / 5)\n",
    "\n",
    "    fig.update_xaxes(title_text=f'{time_units}', tick0=0, dtick=dtick, **kwargs)\n",
    "    fig.show()"
   ]
  },
  {
   "cell_type": "code",
   "execution_count": null,
   "id": "4129ce0d",
   "metadata": {},
   "outputs": [],
   "source": [
    "test_record1 = data_path + \"/Hopper-2021_09_07_14_13_48-0000010181-0003.mat\"\n",
    "plot_acc_data(test_record1, 'minutes')"
   ]
  },
  {
   "cell_type": "code",
   "execution_count": 197,
   "id": "68c80a43",
   "metadata": {},
   "outputs": [],
   "source": [
    "fs = {}\n",
    "for i, signal_spec in enumerate(signals_specs_list):\n",
    "    signals_dict = signals_specs_list[i]\n",
    "    \n",
    "    if signals_dict.get('name') == 'exg':\n",
    "        fs_ehg_dict = signals_dict['sample_rate']\n",
    "        fs_ehg = fs_ehg_dict['numerator'] / fs_ehg_dict['denominator']\n",
    "        fs['fs_ehg'] = fs_ehg\n",
    "        \n",
    "    elif signals_dict.get('name') == 'acceleration':\n",
    "        fs_acc_dict = signals_dict['sample_rate']\n",
    "        fs_acc = fs_acc_dict['numerator'] / fs_acc_dict['denominator']\n",
    "        fs['fs_acc'] = fs_acc\n",
    "    \n",
    "    elif signals_dict.get('name') == 'clipping':\n",
    "        fs_clipping_dict = signals_dict['sample_rate']\n",
    "        fs_clipping = fs_clipping_dict['numerator'] / fs_clipping_dict['denominator']\n",
    "        fs['fs_clipping'] = fs_clipping\n",
    "\n",
    "    "
   ]
  },
  {
   "cell_type": "code",
   "execution_count": 198,
   "id": "e4966424",
   "metadata": {},
   "outputs": [
    {
     "data": {
      "text/plain": [
       "{'fs_ehg': 128.0, 'fs_acc': 64.0, 'fs_clipping': 4.0}"
      ]
     },
     "execution_count": 198,
     "metadata": {},
     "output_type": "execute_result"
    }
   ],
   "source": [
    "fs"
   ]
  },
  {
   "cell_type": "code",
   "execution_count": 192,
   "id": "1b27b424",
   "metadata": {},
   "outputs": [
    {
     "data": {
      "text/plain": [
       "{'numerator': 128, 'denominator': 1}"
      ]
     },
     "execution_count": 192,
     "metadata": {},
     "output_type": "execute_result"
    }
   ],
   "source": [
    "fs_ehg_dict"
   ]
  },
  {
   "cell_type": "code",
   "execution_count": 194,
   "id": "a9a84097",
   "metadata": {},
   "outputs": [
    {
     "data": {
      "text/plain": [
       "128.0"
      ]
     },
     "execution_count": 194,
     "metadata": {},
     "output_type": "execute_result"
    }
   ],
   "source": [
    "fs_ehg"
   ]
  },
  {
   "cell_type": "code",
   "execution_count": 98,
   "id": "0c8c28c4",
   "metadata": {},
   "outputs": [
    {
     "data": {
      "text/plain": [
       "array([[-4.8828119e-04, -4.8828119e-04,  4.8828119e-04],\n",
       "       [ 5.8593741e-03,  4.8828119e-04, -2.4414060e-03],\n",
       "       [-1.9531248e-02, -4.3945308e-03,  1.0253905e-02],\n",
       "       ...,\n",
       "       [ 2.9589841e-01, -8.3789051e-01, -6.4746088e-01],\n",
       "       [ 2.3828122e-01, -7.4121088e-01, -5.9277338e-01],\n",
       "       [ 1.6845702e-01, -7.4365228e-01, -5.0634760e-01]], dtype=float32)"
      ]
     },
     "execution_count": 98,
     "metadata": {},
     "output_type": "execute_result"
    }
   ],
   "source": [
    "mat['acceleration_adxl362']"
   ]
  },
  {
   "cell_type": "code",
   "execution_count": 101,
   "id": "5b4519ea",
   "metadata": {},
   "outputs": [
    {
     "data": {
      "text/plain": [
       "array([[0.4392552 , 0.4453602 , 0.44627595, 0.43894994],\n",
       "       [0.46672773, 0.47222224, 0.47283274, 0.46703297],\n",
       "       [0.48137975, 0.48717952, 0.48779002, 0.4822955 ],\n",
       "       ...,\n",
       "       [0.5100733 , 0.51159954, 0.5180098 , 0.50427353],\n",
       "       [0.509768  , 0.5112943 , 0.518315  , 0.50427353],\n",
       "       [0.5094628 , 0.510989  , 0.5180098 , 0.504884  ]], dtype=float32)"
      ]
     },
     "execution_count": 101,
     "metadata": {},
     "output_type": "execute_result"
    }
   ],
   "source": [
    "mat['polarization_voltage_sam4sd32c_adc']"
   ]
  },
  {
   "cell_type": "code",
   "execution_count": 30,
   "id": "3766adfa",
   "metadata": {},
   "outputs": [
    {
     "data": {
      "text/plain": [
       "numpy.ndarray"
      ]
     },
     "execution_count": 30,
     "metadata": {},
     "output_type": "execute_result"
    }
   ],
   "source": [
    "type(mat['exg_afe2q'])"
   ]
  },
  {
   "cell_type": "code",
   "execution_count": 69,
   "id": "45b27543",
   "metadata": {
    "scrolled": true
   },
   "outputs": [
    {
     "data": {
      "text/plain": [
       "'{\"data_file_header\": {\"id\": 3, \"time\": {\"utc_time\": 1631024028, \"utc_time_offset\": 7200}, \"sensor_info\": {\"sensor\": {\"hardware_part\": \"100-0044-02\", \"hardware_revision\": \"A\", \"serial_number\": \"0000010181\", \"maxim_hs_sd_reader_serial_number\": \"\"}, \"version\": {\"firmware_version\": \"1.15.0\", \"algorithm_version\": \"2.10.4\", \"softdevice_version\": \"\", \"bootloader_version\": \"\"}, \"hardware\": {\"backend_processor_id\": [1395994880, 1346455374, 875574577, 959721520], \"frontend_processor_id\": [0, 0, 0, 0]}}, \"sensor_config\": {\"created\": {\"utc_time\": 1630678310, \"utc_time_offset\": 7200}, \"mode\": \"data_logger\", \"maximum_session_duration_seconds\": 0, \"firestore\": {\"user_id\": \"\", \"pregnancy_id\": \"\", \"email\": \"\", \"procedure_id\": \"\"}, \"study\": {\"study_id\": \"\", \"participant_id\": \"\"}, \"maximum_session_count\": 0}, \"payload_info\": {\"block_duration_seconds\": {\"numerator\": 1, \"denominator\": 1}, \"bytes_per_block\": 1182, \"signals\": [{\"name\": \"exg\", \"source\": \"afe2q\", \"unit\": \"volt\", \"power\": \"micro\", \"data_type\": \"i16\", \"bits_to_unit_gain\": 1.00000000, \"unit_offset\": 0.00000000e-308, \"byte_offset\": 0, \"number_of_channels\": 3, \"sample_rate\": {\"numerator\": 128, \"denominator\": 1}, \"delay\": 0.0462646480, \"unit_range\": {\"min\": 0.00000000e-308, \"max\": 0.00000000e-308}, \"input_bandwidth\": {\"min\": 0.0500000010, \"max\": 64.0000000}}, {\"name\": \"acceleration\", \"source\": \"adxl362\", \"unit\": \"gravity\", \"power\": \"unit\", \"data_type\": \"i16\", \"bits_to_unit_gain\": 1.00000000, \"unit_offset\": 0.00000000e-308, \"byte_offset\": 768, \"number_of_channels\": 3, \"sample_rate\": {\"numerator\": 64, \"denominator\": 1}, \"delay\": 0.0625000000, \"unit_range\": {\"min\": -2.00000000, \"max\": 2.00000000}, \"input_bandwidth\": {\"min\": 0.00000000e-308, \"max\": 32.0000000}}, {\"name\": \"clipping\", \"source\": \"afe2q\", \"unit\": \"logic\", \"power\": \"unit\", \"data_type\": \"u8\", \"bits_to_unit_gain\": 1.00000000, \"unit_offset\": 0.00000000e-308, \"byte_offset\": 1152, \"number_of_channels\": 3, \"sample_rate\": {\"numerator\": 4, \"denominator\": 1}, \"delay\": 0.125000000, \"unit_range\": {\"min\": 0.00000000e-308, \"max\": 1.00000000}, \"input_bandwidth\": {\"min\": 0.00000000e-308, \"max\": 0.00000000e-308}}, {\"name\": \"temperature\", \"source\": \"adxl362\", \"unit\": \"logic\", \"power\": \"unit\", \"data_type\": \"i16\", \"bits_to_unit_gain\": 1.00000000, \"unit_offset\": 0.00000000e-308, \"byte_offset\": 1164, \"number_of_channels\": 1, \"sample_rate\": {\"numerator\": 1, \"denominator\": 1}, \"delay\": 0.00000000e-308, \"unit_range\": {\"min\": 0.00000000e-308, \"max\": 0.00000000e-308}, \"input_bandwidth\": {\"min\": 0.00000000e-308, \"max\": 0.00000000e-308}}, {\"name\": \"battery\", \"source\": \"sam4sd32c_adc\", \"unit\": \"volt\", \"power\": \"unit\", \"data_type\": \"i16\", \"bits_to_unit_gain\": 1.00000000, \"unit_offset\": 0.00000000e-308, \"byte_offset\": 1166, \"number_of_channels\": 1, \"sample_rate\": {\"numerator\": 1, \"denominator\": 1}, \"delay\": 0.00000000e-308, \"unit_range\": {\"min\": 3.59999990, \"max\": 4.17999983}, \"input_bandwidth\": {\"min\": 0.00000000e-308, \"max\": 0.500000000}}, {\"name\": \"temperature\", \"source\": \"sam4sd32c_adc\", \"unit\": \"logic\", \"power\": \"unit\", \"data_type\": \"i16\", \"bits_to_unit_gain\": 1.00000000, \"unit_offset\": 0.00000000e-308, \"byte_offset\": 1168, \"number_of_channels\": 1, \"sample_rate\": {\"numerator\": 1, \"denominator\": 1}, \"delay\": 0.00000000e-308, \"unit_range\": {\"min\": 0.00000000e-308, \"max\": 0.00000000e-308}, \"input_bandwidth\": {\"min\": 0.00000000e-308, \"max\": 0.00000000e-308}}, {\"name\": \"polarization_voltage\", \"source\": \"sam4sd32c_adc\", \"unit\": \"volt\", \"power\": \"unit\", \"data_type\": \"u16\", \"bits_to_unit_gain\": 1.00000000, \"unit_offset\": 0.00000000e-308, \"byte_offset\": 1170, \"number_of_channels\": 4, \"sample_rate\": {\"numerator\": 1, \"denominator\": 1}, \"delay\": 0.00000000e-308, \"unit_range\": {\"min\": 0.00000000e-308, \"max\": 1.20000005}, \"input_bandwidth\": {\"min\": 0.00000000e-308, \"max\": 0.500000000}}, {\"name\": \"electrode_off\", \"source\": \"algo\", \"unit\": \"logic\", \"power\": \"unit\", \"data_type\": \"u8\", \"bits_to_unit_gain\": 1.00000000, \"unit_offset\": 0.00000000e-308, \"byte_offset\": 1178, \"number_of_channels\": 4, \"sample_rate\": {\"numerator\": 1, \"denominator\": 1}, \"delay\": 0.00000000e-308, \"unit_range\": {\"min\": 0.00000000e-308, \"max\": 3.00000000}, \"input_bandwidth\": {\"min\": 0.00000000e-308, \"max\": 0.00000000e-308}}]}, \"csid\": \"Hopper-2021_09_07_14_13_48-0000010181-0003\"}}'"
      ]
     },
     "execution_count": 69,
     "metadata": {},
     "output_type": "execute_result"
    }
   ],
   "source": [
    "mat['header'][0]"
   ]
  }
 ],
 "metadata": {
  "kernelspec": {
   "display_name": "Python 3 (ipykernel)",
   "language": "python",
   "name": "python3"
  },
  "language_info": {
   "codemirror_mode": {
    "name": "ipython",
    "version": 3
   },
   "file_extension": ".py",
   "mimetype": "text/x-python",
   "name": "python",
   "nbconvert_exporter": "python",
   "pygments_lexer": "ipython3",
   "version": "3.8.8"
  }
 },
 "nbformat": 4,
 "nbformat_minor": 5
}
