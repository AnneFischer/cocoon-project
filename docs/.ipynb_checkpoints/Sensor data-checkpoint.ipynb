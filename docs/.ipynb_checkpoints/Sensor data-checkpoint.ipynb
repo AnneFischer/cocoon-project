{
 "cells": [
  {
   "cell_type": "code",
   "execution_count": 1,
   "metadata": {},
   "outputs": [],
   "source": [
    "import sys\n",
    "sys.path.append('C:\\\\Users\\\\AFischer\\\\PycharmProjects\\\\cocoon-project')\n",
    "sys.path.append('C:\\\\Users\\\\AFischer\\\\PycharmProjects\\\\cocoon-project\\\\src_pre_term_database')"
   ]
  },
  {
   "cell_type": "code",
   "execution_count": 2,
   "metadata": {},
   "outputs": [],
   "source": [
    "import scipy.io\n",
    "import numpy as np\n",
    "import plotly.graph_objs as go\n",
    "from plotly.offline import iplot, init_notebook_mode\n",
    "from plotly.subplots import make_subplots\n",
    "import json\n",
    "from io import StringIO\n",
    "import pandas as pd\n",
    "from src_pre_term_database.data_processing_and_feature_engineering import butter_bandpass_filter\n",
    "from src_pre_term_database.ehg_record import EHGRecord"
   ]
  },
  {
   "cell_type": "code",
   "execution_count": 3,
   "metadata": {},
   "outputs": [],
   "source": [
    "data_path = 'C:/Users/AFischer/Documents/PhD_onderzoek/data_cocoon_studie'"
   ]
  },
  {
   "cell_type": "code",
   "execution_count": 7,
   "metadata": {},
   "outputs": [],
   "source": [
    "# This is very computationally expensive as about 400.000 data points have to be plotted\n",
    "def plot_ehg_data(path_to_data: str, \n",
    "                  time_units: str, **kwargs):\n",
    "    \"\"\"\"Plot the EHG signal data of one patient (rec_id).\n",
    "\n",
    "    Parameters\n",
    "    ----------\n",
    "    path_to_data : str\n",
    "        Path to folder with the term-preterm database files.\n",
    "    time_units : str\n",
    "        The x axis unit. Allowed options are: 'samples', 'seconds', 'minutes',\n",
    "        and 'hours'.\n",
    "    kwargs:\n",
    "        Dictionary of parameters to pass to make_subplots.update_xaxes()\n",
    "\n",
    "    Returns\n",
    "    -------\n",
    "    type : plotly.graph_objs\n",
    "        Line plot of the EHG signal data of one record id.\n",
    "    \"\"\"\n",
    "    record = EHGRecord(path_to_data)\n",
    "\n",
    "    # TO DO: Write functionality to input a flexible number of channels you want to plot and create\n",
    "    # the color codes and grid accordingly\n",
    "    colors = ['rgb(67,67,67)', 'rgb(115,115,115)', 'rgb(49,130,189)']\n",
    "\n",
    "    channel_data = ['channel_1', \n",
    "                    'channel_2', \n",
    "                    'channel_3']\n",
    "\n",
    "    min_value_signal = -0.5\n",
    "    max_value_signal = 0.7\n",
    "\n",
    "    line_size = 2\n",
    "    grid = [(1, 1), (2, 1), (3, 1)]\n",
    "\n",
    "    # Construct time indices for the x-axis\n",
    "    if time_units == 'samples':\n",
    "        t = np.linspace(0, record.sig_len_ehg-1, record.sig_len_ehg)\n",
    "    else:\n",
    "        downsample_factor = {'seconds': record.fs_ehg, 'minutes': record.fs_ehg * 60,\n",
    "                             'hours': record.fs_ehg * 3600}\n",
    "        t = np.linspace(0, record.sig_len_ehg-1, record.sig_len_ehg) / downsample_factor[time_units]\n",
    "\n",
    "    # We plot each channel in a separate subplot\n",
    "    fig = make_subplots(rows=3, cols=1,\n",
    "                        subplot_titles=channel_data)\n",
    "\n",
    "    for index, name in enumerate(channel_data):\n",
    "        fig.add_trace(go.Scatter(x=t, y=record.ehg_signals[:, index]/1000000, mode='lines',\n",
    "                                 name=name, line=dict(color=colors[index], width=line_size),\n",
    "                                 connectgaps=True),\n",
    "                      row=grid[index][0],\n",
    "                      col=grid[index][1])\n",
    "        fig.update_yaxes(title_text=record.unit_ehg)\n",
    "\n",
    "    fig.update_layout(template='plotly_white', height=1100, showlegend=False,\n",
    "                      title=dict(\n",
    "                          text=f'<b>EHG data</b>',\n",
    "                          x=0.5,\n",
    "                          y=0.98,\n",
    "                          font=dict(\n",
    "                              family=\"Arial\",\n",
    "                              size=20,\n",
    "                              color='#000000'\n",
    "                          )\n",
    "                      )\n",
    "                      )\n",
    "    # dtick indicates the tick step and is set in such way that we have approx. 5 ticks on the x axis\n",
    "    if 'range' in kwargs:\n",
    "        dtick = int(np.diff(kwargs['range']) / 5)\n",
    "    else:\n",
    "        dtick = int(max(t) / 5)\n",
    "\n",
    "    fig.update_xaxes(title_text=f'{time_units}', tick0=0, dtick=dtick, **kwargs)\n",
    "    fig.show()"
   ]
  },
  {
   "cell_type": "code",
   "execution_count": 4,
   "metadata": {},
   "outputs": [],
   "source": [
    "test_record1 = data_path + \"/Hopper-2021_09_07_14_13_48-0000010181-0003.mat\"\n",
    "test_record2 = data_path + \"/Hopper-2021_09_26_09_08_04-0000010090-0003.mat\"\n",
    "test_record3 = data_path + \"/Hopper-2021_09_30_12_50_40-0000010090-0004.mat\"\n",
    "test_record4 = data_path + \"/Hopper-2021_10_09_18_11_08-0000010090-0005.mat\""
   ]
  },
  {
   "cell_type": "code",
   "execution_count": 5,
   "metadata": {},
   "outputs": [],
   "source": [
    "test_record5 = data_path + \"/Hopper-2021_11_08_10_21_56-0000010090-0002.mat\"\n",
    "test_record6 = data_path + \"/Hopper-2021_11_18_15_50_57-0000010090-0004.mat\"\n",
    "test_record7 = data_path + \"/Hopper-2021_11_19_13_42_44-0000010090-0005.mat\"\n",
    "test_record8 = data_path + \"/Hopper-2021_11_17_01_37_39-0000010090-0003.mat\""
   ]
  },
  {
   "cell_type": "code",
   "execution_count": 7,
   "metadata": {},
   "outputs": [],
   "source": [
    "test_record1 = EHGRecord(test_record1, bandwidth = [0.08, 4], order=4)\n",
    "test_record2 = EHGRecord(test_record2, bandwidth = [0.08, 4], order=4)\n",
    "test_record3 = EHGRecord(test_record3, bandwidth = [0.08, 4], order=4)\n",
    "test_record4 = EHGRecord(test_record4, bandwidth = [0.08, 4], order=4)"
   ]
  },
  {
   "cell_type": "code",
   "execution_count": 7,
   "metadata": {},
   "outputs": [
    {
     "data": {
      "text/plain": [
       "array([[ 0.00000000e+00, -1.14440918e-01,  0.00000000e+00,\n",
       "         0.00000000e+00, -1.14440918e-01,  1.14440918e-01],\n",
       "       [-8.01086426e+00,  9.84191895e+00, -1.00708008e+01,\n",
       "        -2.05993652e+00,  1.78527832e+01, -1.99127197e+01],\n",
       "       [-1.04141235e+01,  1.32751465e+01, -1.33895874e+01,\n",
       "        -2.97546387e+00,  2.36892700e+01, -2.66647339e+01],\n",
       "       ...,\n",
       "       [-2.40325928e+02, -2.37236023e+02, -1.78413391e+02,\n",
       "         6.19125366e+01,  3.08990479e+00,  5.88226318e+01],\n",
       "       [-5.80215454e+01, -5.47027588e+01, -1.16729736e+02,\n",
       "        -5.87081909e+01,  3.31878662e+00, -6.20269775e+01],\n",
       "       [-1.64909363e+02, -1.65710449e+02, -1.33323669e+02,\n",
       "         3.15856934e+01, -8.01086426e-01,  3.23867798e+01]], dtype=float32)"
      ]
     },
     "execution_count": 7,
     "metadata": {},
     "output_type": "execute_result"
    }
   ],
   "source": [
    "test_record1.ehg_signals"
   ]
  },
  {
   "cell_type": "code",
   "execution_count": 9,
   "metadata": {},
   "outputs": [
    {
     "data": {
      "text/plain": [
       "numpy.ndarray"
      ]
     },
     "execution_count": 9,
     "metadata": {},
     "output_type": "execute_result"
    }
   ],
   "source": [
    "type(test_record1.ehg_signals_filt)"
   ]
  },
  {
   "cell_type": "code",
   "execution_count": 26,
   "metadata": {},
   "outputs": [
    {
     "data": {
      "text/plain": [
       "array([[ 0.00000000e+00, -1.14440918e-01,  0.00000000e+00,\n",
       "         0.00000000e+00, -1.14440918e-01,  1.14440918e-01],\n",
       "       [-8.01086426e+00,  9.84191895e+00, -1.00708008e+01,\n",
       "        -2.05993652e+00,  1.78527832e+01, -1.99127197e+01],\n",
       "       [-1.04141235e+01,  1.32751465e+01, -1.33895874e+01,\n",
       "        -2.97546387e+00,  2.36892700e+01, -2.66647339e+01],\n",
       "       ...,\n",
       "       [-2.40325928e+02, -2.37236023e+02, -1.78413391e+02,\n",
       "         6.19125366e+01,  3.08990479e+00,  5.88226318e+01],\n",
       "       [-5.80215454e+01, -5.47027588e+01, -1.16729736e+02,\n",
       "        -5.87081909e+01,  3.31878662e+00, -6.20269775e+01],\n",
       "       [-1.64909363e+02, -1.65710449e+02, -1.33323669e+02,\n",
       "         3.15856934e+01, -8.01086426e-01,  3.23867798e+01]], dtype=float32)"
      ]
     },
     "execution_count": 26,
     "metadata": {},
     "output_type": "execute_result"
    }
   ],
   "source": [
    "test_record1.ehg_signals"
   ]
  },
  {
   "cell_type": "code",
   "execution_count": 13,
   "metadata": {},
   "outputs": [
    {
     "data": {
      "text/plain": [
       "array([ 0.        , -0.00801086, -0.01041412, ..., -0.24032593,\n",
       "       -0.05802155, -0.16490936], dtype=float32)"
      ]
     },
     "execution_count": 13,
     "metadata": {},
     "output_type": "execute_result"
    }
   ],
   "source": [
    "test_record1.ehg_signals[:,0] #Channel 1\n",
    "test_record1.ehg_signals[:,1] #Channel 2\n",
    "test_record1.ehg_signals[:,2] #Channel 3"
   ]
  },
  {
   "cell_type": "code",
   "execution_count": 15,
   "metadata": {},
   "outputs": [
    {
     "data": {
      "text/plain": [
       "-0.13332367"
      ]
     },
     "execution_count": 15,
     "metadata": {},
     "output_type": "execute_result"
    }
   ],
   "source": [
    "test_record1.ehg_signals[:,2][-1]"
   ]
  },
  {
   "cell_type": "code",
   "execution_count": 16,
   "metadata": {},
   "outputs": [
    {
     "data": {
      "text/plain": [
       "-0.16490936"
      ]
     },
     "execution_count": 16,
     "metadata": {},
     "output_type": "execute_result"
    }
   ],
   "source": [
    "test_record1.ehg_signals[:,0][-1]"
   ]
  },
  {
   "cell_type": "code",
   "execution_count": 10,
   "metadata": {},
   "outputs": [],
   "source": [
    "channel4 = test_record1.ehg_signals[:,2] - test_record1.ehg_signals[:,0] #Channel 4\n",
    "channel5 = test_record1.ehg_signals[:,1] - test_record1.ehg_signals[:,0] #Channel 5\n",
    "channel6 = test_record1.ehg_signals[:,2] - test_record1.ehg_signals[:,1] #Channel 6"
   ]
  },
  {
   "cell_type": "code",
   "execution_count": 14,
   "metadata": {},
   "outputs": [
    {
     "data": {
      "text/plain": [
       "array([[ 0.        ],\n",
       "       [-0.00205994],\n",
       "       [-0.00297546],\n",
       "       ...,\n",
       "       [ 0.06191254],\n",
       "       [-0.05870819],\n",
       "       [ 0.03158569]], dtype=float32)"
      ]
     },
     "execution_count": 14,
     "metadata": {},
     "output_type": "execute_result"
    }
   ],
   "source": [
    "channel4.reshape(-1, 1)"
   ]
  },
  {
   "cell_type": "code",
   "execution_count": 16,
   "metadata": {},
   "outputs": [
    {
     "data": {
      "text/plain": [
       "array([[ 0.00000000e+00, -1.14440918e-04,  0.00000000e+00],\n",
       "       [-8.01086426e-03,  9.84191895e-03, -1.00708008e-02],\n",
       "       [-1.04141235e-02,  1.32751465e-02, -1.33895874e-02],\n",
       "       ...,\n",
       "       [-2.40325928e-01, -2.37236023e-01, -1.78413391e-01],\n",
       "       [-5.80215454e-02, -5.47027588e-02, -1.16729736e-01],\n",
       "       [-1.64909363e-01, -1.65710449e-01, -1.33323669e-01]], dtype=float32)"
      ]
     },
     "execution_count": 16,
     "metadata": {},
     "output_type": "execute_result"
    }
   ],
   "source": [
    "test_record1.ehg_signals"
   ]
  },
  {
   "cell_type": "code",
   "execution_count": 15,
   "metadata": {},
   "outputs": [
    {
     "data": {
      "text/plain": [
       "array([[ 0.00000000e+00, -1.14440918e-04,  0.00000000e+00,\n",
       "         0.00000000e+00],\n",
       "       [-8.01086426e-03,  9.84191895e-03, -1.00708008e-02,\n",
       "        -2.05993652e-03],\n",
       "       [-1.04141235e-02,  1.32751465e-02, -1.33895874e-02,\n",
       "        -2.97546387e-03],\n",
       "       ...,\n",
       "       [-2.40325928e-01, -2.37236023e-01, -1.78413391e-01,\n",
       "         6.19125366e-02],\n",
       "       [-5.80215454e-02, -5.47027588e-02, -1.16729736e-01,\n",
       "        -5.87081909e-02],\n",
       "       [-1.64909363e-01, -1.65710449e-01, -1.33323669e-01,\n",
       "         3.15856934e-02]], dtype=float32)"
      ]
     },
     "execution_count": 15,
     "metadata": {},
     "output_type": "execute_result"
    }
   ],
   "source": [
    "np.concatenate((test_record1.ehg_signals, channel4.reshape(-1, 1)), axis=1)"
   ]
  },
  {
   "cell_type": "code",
   "execution_count": 33,
   "metadata": {},
   "outputs": [],
   "source": [
    "test_record5 = EHGRecord(test_record5)\n",
    "test_record6 = EHGRecord(test_record6)\n",
    "test_record7 = EHGRecord(test_record7)\n",
    "test_record8 = EHGRecord(test_record8)"
   ]
  },
  {
   "cell_type": "code",
   "execution_count": 10,
   "metadata": {},
   "outputs": [
    {
     "data": {
      "text/plain": [
       "array([[ 0.00000000e+00, -1.14440918e-04,  0.00000000e+00],\n",
       "       [-8.01086426e-03,  9.84191895e-03, -1.00708008e-02],\n",
       "       [-1.04141235e-02,  1.32751465e-02, -1.33895874e-02],\n",
       "       ...,\n",
       "       [-2.40325928e-01, -2.37236023e-01, -1.78413391e-01],\n",
       "       [-5.80215454e-02, -5.47027588e-02, -1.16729736e-01],\n",
       "       [-1.64909363e-01, -1.65710449e-01, -1.33323669e-01]], dtype=float32)"
      ]
     },
     "execution_count": 10,
     "metadata": {},
     "output_type": "execute_result"
    }
   ],
   "source": [
    "test_record1.ehg_signals"
   ]
  },
  {
   "cell_type": "code",
   "execution_count": 9,
   "metadata": {},
   "outputs": [
    {
     "data": {
      "text/plain": [
       "array([[ 0.00000000e+00, -1.14440918e-01,  0.00000000e+00],\n",
       "       [-8.01086426e+00,  9.84191895e+00, -1.00708008e+01],\n",
       "       [-1.04141235e+01,  1.32751465e+01, -1.33895874e+01],\n",
       "       ...,\n",
       "       [-2.40325928e+02, -2.37236023e+02, -1.78413391e+02],\n",
       "       [-5.80215454e+01, -5.47027588e+01, -1.16729736e+02],\n",
       "       [-1.64909363e+02, -1.65710449e+02, -1.33323669e+02]], dtype=float32)"
      ]
     },
     "execution_count": 9,
     "metadata": {},
     "output_type": "execute_result"
    }
   ],
   "source": [
    "test_record1.ehg_signals"
   ]
  },
  {
   "cell_type": "code",
   "execution_count": 17,
   "metadata": {},
   "outputs": [
    {
     "data": {
      "text/plain": [
       "array([[-0.34813799,  0.55882088, -0.52836116],\n",
       "       [-0.48951283,  0.73813244, -0.70850385],\n",
       "       [-0.62935621,  0.9156863 , -0.88682449],\n",
       "       ...,\n",
       "       [ 0.06334432,  0.06201048,  0.05400862],\n",
       "       [ 0.0582885 ,  0.05701265,  0.0499658 ],\n",
       "       [ 0.05314145,  0.05192824,  0.0458972 ]])"
      ]
     },
     "execution_count": 17,
     "metadata": {},
     "output_type": "execute_result"
    }
   ],
   "source": [
    "test_record1.ehg_signals_filt"
   ]
  },
  {
   "cell_type": "code",
   "execution_count": 8,
   "metadata": {},
   "outputs": [
    {
     "data": {
      "text/plain": [
       "array([[-348.1747415 ,  558.91820501, -527.77556775],\n",
       "       [-489.54928735,  738.23001477, -707.91837562],\n",
       "       [-629.39237289,  915.7841353 , -886.23914728],\n",
       "       ...,\n",
       "       [  63.34525897,   62.00268271,   54.00315334],\n",
       "       [  58.28938821,   57.00539509,   49.96070625],\n",
       "       [  53.14227354,   51.92152639,   45.89247865]])"
      ]
     },
     "execution_count": 8,
     "metadata": {},
     "output_type": "execute_result"
    }
   ],
   "source": [
    "test_record1.ehg_signals_filt"
   ]
  },
  {
   "cell_type": "code",
   "execution_count": 27,
   "metadata": {},
   "outputs": [],
   "source": [
    "def create_df_ehg_signals(record, time_units: str):\n",
    "    \n",
    "    # Construct time indices for the x-axis\n",
    "    if time_units == 'samples':\n",
    "        t = np.linspace(0, record.sig_len_ehg-1, record.sig_len_ehg)\n",
    "    else:\n",
    "        downsample_factor = {'seconds': record.fs_ehg, 'minutes': record.fs_ehg * 60,\n",
    "                             'hours': record.fs_ehg * 3600}\n",
    "        t = np.linspace(0, record.sig_len_ehg-1, record.sig_len_ehg) / downsample_factor[time_units]\n",
    "\n",
    "    df_record = pd.concat([pd.DataFrame(record.ehg_signals, columns=['Channel 1', 'Channel 2', 'Channel 3', \n",
    "                                                                     'Channel 4', 'Channel 5', 'Channel 6']), \n",
    "                           pd.DataFrame(t, columns=['minutes'])], axis=1)\n",
    "    \n",
    "    return df_record\n",
    "    "
   ]
  },
  {
   "cell_type": "code",
   "execution_count": 28,
   "metadata": {},
   "outputs": [],
   "source": [
    "df_test_record1 = create_df_ehg_signals(test_record1, 'minutes')"
   ]
  },
  {
   "cell_type": "code",
   "execution_count": 29,
   "metadata": {},
   "outputs": [],
   "source": [
    "df_test_record2 = create_df_ehg_signals(test_record2, 'minutes')"
   ]
  },
  {
   "cell_type": "code",
   "execution_count": 30,
   "metadata": {},
   "outputs": [],
   "source": [
    "df_test_record3 = create_df_ehg_signals(test_record3, 'minutes')"
   ]
  },
  {
   "cell_type": "code",
   "execution_count": 31,
   "metadata": {},
   "outputs": [],
   "source": [
    "df_test_record4 = create_df_ehg_signals(test_record4, 'minutes')"
   ]
  },
  {
   "cell_type": "code",
   "execution_count": 34,
   "metadata": {},
   "outputs": [],
   "source": [
    "df_test_record5 = create_df_ehg_signals(test_record5, 'minutes')"
   ]
  },
  {
   "cell_type": "code",
   "execution_count": 35,
   "metadata": {},
   "outputs": [],
   "source": [
    "df_test_record6 = create_df_ehg_signals(test_record6, 'minutes')"
   ]
  },
  {
   "cell_type": "code",
   "execution_count": 36,
   "metadata": {},
   "outputs": [],
   "source": [
    "df_test_record7 = create_df_ehg_signals(test_record7, 'minutes')"
   ]
  },
  {
   "cell_type": "code",
   "execution_count": 37,
   "metadata": {},
   "outputs": [],
   "source": [
    "df_test_record8 = create_df_ehg_signals(test_record8, 'minutes')"
   ]
  },
  {
   "cell_type": "code",
   "execution_count": 38,
   "metadata": {},
   "outputs": [
    {
     "data": {
      "text/plain": [
       "576768"
      ]
     },
     "execution_count": 38,
     "metadata": {},
     "output_type": "execute_result"
    }
   ],
   "source": [
    "len(df_test_record8)"
   ]
  },
  {
   "cell_type": "code",
   "execution_count": 39,
   "metadata": {},
   "outputs": [
    {
     "data": {
      "text/html": [
       "<div>\n",
       "<style scoped>\n",
       "    .dataframe tbody tr th:only-of-type {\n",
       "        vertical-align: middle;\n",
       "    }\n",
       "\n",
       "    .dataframe tbody tr th {\n",
       "        vertical-align: top;\n",
       "    }\n",
       "\n",
       "    .dataframe thead th {\n",
       "        text-align: right;\n",
       "    }\n",
       "</style>\n",
       "<table border=\"1\" class=\"dataframe\">\n",
       "  <thead>\n",
       "    <tr style=\"text-align: right;\">\n",
       "      <th></th>\n",
       "      <th>Channel 1</th>\n",
       "      <th>Channel 2</th>\n",
       "      <th>Channel 3</th>\n",
       "      <th>Channel 4</th>\n",
       "      <th>Channel 5</th>\n",
       "      <th>Channel 6</th>\n",
       "      <th>minutes</th>\n",
       "    </tr>\n",
       "  </thead>\n",
       "  <tbody>\n",
       "    <tr>\n",
       "      <th>0</th>\n",
       "      <td>0.000000</td>\n",
       "      <td>-0.114441</td>\n",
       "      <td>-0.114441</td>\n",
       "      <td>-0.114441</td>\n",
       "      <td>-0.114441</td>\n",
       "      <td>0.000000</td>\n",
       "      <td>0.000000</td>\n",
       "    </tr>\n",
       "    <tr>\n",
       "      <th>1</th>\n",
       "      <td>-10.070801</td>\n",
       "      <td>9.956360</td>\n",
       "      <td>9.841919</td>\n",
       "      <td>19.912720</td>\n",
       "      <td>20.027161</td>\n",
       "      <td>-0.114441</td>\n",
       "      <td>0.000130</td>\n",
       "    </tr>\n",
       "    <tr>\n",
       "      <th>2</th>\n",
       "      <td>-13.389587</td>\n",
       "      <td>13.275146</td>\n",
       "      <td>13.160706</td>\n",
       "      <td>26.550293</td>\n",
       "      <td>26.664734</td>\n",
       "      <td>-0.114441</td>\n",
       "      <td>0.000260</td>\n",
       "    </tr>\n",
       "    <tr>\n",
       "      <th>3</th>\n",
       "      <td>29.869080</td>\n",
       "      <td>-29.869080</td>\n",
       "      <td>-29.640198</td>\n",
       "      <td>-59.509277</td>\n",
       "      <td>-59.738159</td>\n",
       "      <td>0.228882</td>\n",
       "      <td>0.000391</td>\n",
       "    </tr>\n",
       "    <tr>\n",
       "      <th>4</th>\n",
       "      <td>-62.141418</td>\n",
       "      <td>61.912537</td>\n",
       "      <td>61.569214</td>\n",
       "      <td>123.710632</td>\n",
       "      <td>124.053955</td>\n",
       "      <td>-0.343323</td>\n",
       "      <td>0.000521</td>\n",
       "    </tr>\n",
       "    <tr>\n",
       "      <th>...</th>\n",
       "      <td>...</td>\n",
       "      <td>...</td>\n",
       "      <td>...</td>\n",
       "      <td>...</td>\n",
       "      <td>...</td>\n",
       "      <td>...</td>\n",
       "      <td>...</td>\n",
       "    </tr>\n",
       "    <tr>\n",
       "      <th>474491</th>\n",
       "      <td>-221.099854</td>\n",
       "      <td>-206.336975</td>\n",
       "      <td>-232.543945</td>\n",
       "      <td>-11.444092</td>\n",
       "      <td>14.762878</td>\n",
       "      <td>-26.206970</td>\n",
       "      <td>61.782682</td>\n",
       "    </tr>\n",
       "    <tr>\n",
       "      <th>474492</th>\n",
       "      <td>-231.742859</td>\n",
       "      <td>-194.892883</td>\n",
       "      <td>-250.854492</td>\n",
       "      <td>-19.111633</td>\n",
       "      <td>36.849976</td>\n",
       "      <td>-55.961609</td>\n",
       "      <td>61.782812</td>\n",
       "    </tr>\n",
       "    <tr>\n",
       "      <th>474493</th>\n",
       "      <td>-250.167847</td>\n",
       "      <td>-177.726746</td>\n",
       "      <td>-234.146118</td>\n",
       "      <td>16.021729</td>\n",
       "      <td>72.441101</td>\n",
       "      <td>-56.419373</td>\n",
       "      <td>61.782943</td>\n",
       "    </tr>\n",
       "    <tr>\n",
       "      <th>474494</th>\n",
       "      <td>-258.064270</td>\n",
       "      <td>-177.040100</td>\n",
       "      <td>-224.075317</td>\n",
       "      <td>33.988953</td>\n",
       "      <td>81.024170</td>\n",
       "      <td>-47.035217</td>\n",
       "      <td>61.783073</td>\n",
       "    </tr>\n",
       "    <tr>\n",
       "      <th>474495</th>\n",
       "      <td>-240.783691</td>\n",
       "      <td>-170.516968</td>\n",
       "      <td>-213.890076</td>\n",
       "      <td>26.893616</td>\n",
       "      <td>70.266724</td>\n",
       "      <td>-43.373108</td>\n",
       "      <td>61.783203</td>\n",
       "    </tr>\n",
       "  </tbody>\n",
       "</table>\n",
       "<p>474496 rows × 7 columns</p>\n",
       "</div>"
      ],
      "text/plain": [
       "         Channel 1   Channel 2   Channel 3   Channel 4   Channel 5  Channel 6  \\\n",
       "0         0.000000   -0.114441   -0.114441   -0.114441   -0.114441   0.000000   \n",
       "1       -10.070801    9.956360    9.841919   19.912720   20.027161  -0.114441   \n",
       "2       -13.389587   13.275146   13.160706   26.550293   26.664734  -0.114441   \n",
       "3        29.869080  -29.869080  -29.640198  -59.509277  -59.738159   0.228882   \n",
       "4       -62.141418   61.912537   61.569214  123.710632  124.053955  -0.343323   \n",
       "...            ...         ...         ...         ...         ...        ...   \n",
       "474491 -221.099854 -206.336975 -232.543945  -11.444092   14.762878 -26.206970   \n",
       "474492 -231.742859 -194.892883 -250.854492  -19.111633   36.849976 -55.961609   \n",
       "474493 -250.167847 -177.726746 -234.146118   16.021729   72.441101 -56.419373   \n",
       "474494 -258.064270 -177.040100 -224.075317   33.988953   81.024170 -47.035217   \n",
       "474495 -240.783691 -170.516968 -213.890076   26.893616   70.266724 -43.373108   \n",
       "\n",
       "          minutes  \n",
       "0        0.000000  \n",
       "1        0.000130  \n",
       "2        0.000260  \n",
       "3        0.000391  \n",
       "4        0.000521  \n",
       "...           ...  \n",
       "474491  61.782682  \n",
       "474492  61.782812  \n",
       "474493  61.782943  \n",
       "474494  61.783073  \n",
       "474495  61.783203  \n",
       "\n",
       "[474496 rows x 7 columns]"
      ]
     },
     "execution_count": 39,
     "metadata": {},
     "output_type": "execute_result"
    }
   ],
   "source": [
    "df_test_record5"
   ]
  },
  {
   "cell_type": "code",
   "execution_count": 40,
   "metadata": {},
   "outputs": [
    {
     "data": {
      "text/html": [
       "<div>\n",
       "<style scoped>\n",
       "    .dataframe tbody tr th:only-of-type {\n",
       "        vertical-align: middle;\n",
       "    }\n",
       "\n",
       "    .dataframe tbody tr th {\n",
       "        vertical-align: top;\n",
       "    }\n",
       "\n",
       "    .dataframe thead th {\n",
       "        text-align: right;\n",
       "    }\n",
       "</style>\n",
       "<table border=\"1\" class=\"dataframe\">\n",
       "  <thead>\n",
       "    <tr style=\"text-align: right;\">\n",
       "      <th></th>\n",
       "      <th>Channel 1</th>\n",
       "      <th>Channel 2</th>\n",
       "      <th>Channel 3</th>\n",
       "      <th>Channel 4</th>\n",
       "      <th>Channel 5</th>\n",
       "      <th>Channel 6</th>\n",
       "      <th>minutes</th>\n",
       "    </tr>\n",
       "  </thead>\n",
       "  <tbody>\n",
       "    <tr>\n",
       "      <th>0</th>\n",
       "      <td>0.000000</td>\n",
       "      <td>-0.114441</td>\n",
       "      <td>0.000000</td>\n",
       "      <td>0.000000</td>\n",
       "      <td>-0.114441</td>\n",
       "      <td>0.114441</td>\n",
       "      <td>0.000000</td>\n",
       "    </tr>\n",
       "    <tr>\n",
       "      <th>1</th>\n",
       "      <td>-8.010864</td>\n",
       "      <td>9.841919</td>\n",
       "      <td>-10.070801</td>\n",
       "      <td>-2.059937</td>\n",
       "      <td>17.852783</td>\n",
       "      <td>-19.912720</td>\n",
       "      <td>0.000130</td>\n",
       "    </tr>\n",
       "    <tr>\n",
       "      <th>2</th>\n",
       "      <td>-10.414124</td>\n",
       "      <td>13.275146</td>\n",
       "      <td>-13.389587</td>\n",
       "      <td>-2.975464</td>\n",
       "      <td>23.689270</td>\n",
       "      <td>-26.664734</td>\n",
       "      <td>0.000260</td>\n",
       "    </tr>\n",
       "    <tr>\n",
       "      <th>3</th>\n",
       "      <td>23.117065</td>\n",
       "      <td>-29.754639</td>\n",
       "      <td>29.869080</td>\n",
       "      <td>6.752014</td>\n",
       "      <td>-52.871704</td>\n",
       "      <td>59.623718</td>\n",
       "      <td>0.000391</td>\n",
       "    </tr>\n",
       "    <tr>\n",
       "      <th>4</th>\n",
       "      <td>-48.408508</td>\n",
       "      <td>61.798096</td>\n",
       "      <td>-62.141418</td>\n",
       "      <td>-13.732910</td>\n",
       "      <td>110.206604</td>\n",
       "      <td>-123.939514</td>\n",
       "      <td>0.000521</td>\n",
       "    </tr>\n",
       "    <tr>\n",
       "      <th>...</th>\n",
       "      <td>...</td>\n",
       "      <td>...</td>\n",
       "      <td>...</td>\n",
       "      <td>...</td>\n",
       "      <td>...</td>\n",
       "      <td>...</td>\n",
       "      <td>...</td>\n",
       "    </tr>\n",
       "    <tr>\n",
       "      <th>619131</th>\n",
       "      <td>-144.309998</td>\n",
       "      <td>-143.966675</td>\n",
       "      <td>-144.882202</td>\n",
       "      <td>-0.572205</td>\n",
       "      <td>0.343323</td>\n",
       "      <td>-0.915527</td>\n",
       "      <td>80.616016</td>\n",
       "    </tr>\n",
       "    <tr>\n",
       "      <th>619132</th>\n",
       "      <td>-50.582886</td>\n",
       "      <td>-47.492981</td>\n",
       "      <td>-76.675415</td>\n",
       "      <td>-26.092529</td>\n",
       "      <td>3.089905</td>\n",
       "      <td>-29.182434</td>\n",
       "      <td>80.616146</td>\n",
       "    </tr>\n",
       "    <tr>\n",
       "      <th>619133</th>\n",
       "      <td>-240.325928</td>\n",
       "      <td>-237.236023</td>\n",
       "      <td>-178.413391</td>\n",
       "      <td>61.912537</td>\n",
       "      <td>3.089905</td>\n",
       "      <td>58.822632</td>\n",
       "      <td>80.616276</td>\n",
       "    </tr>\n",
       "    <tr>\n",
       "      <th>619134</th>\n",
       "      <td>-58.021545</td>\n",
       "      <td>-54.702759</td>\n",
       "      <td>-116.729736</td>\n",
       "      <td>-58.708191</td>\n",
       "      <td>3.318787</td>\n",
       "      <td>-62.026978</td>\n",
       "      <td>80.616406</td>\n",
       "    </tr>\n",
       "    <tr>\n",
       "      <th>619135</th>\n",
       "      <td>-164.909363</td>\n",
       "      <td>-165.710449</td>\n",
       "      <td>-133.323669</td>\n",
       "      <td>31.585693</td>\n",
       "      <td>-0.801086</td>\n",
       "      <td>32.386780</td>\n",
       "      <td>80.616536</td>\n",
       "    </tr>\n",
       "  </tbody>\n",
       "</table>\n",
       "<p>619136 rows × 7 columns</p>\n",
       "</div>"
      ],
      "text/plain": [
       "         Channel 1   Channel 2   Channel 3  Channel 4   Channel 5   Channel 6  \\\n",
       "0         0.000000   -0.114441    0.000000   0.000000   -0.114441    0.114441   \n",
       "1        -8.010864    9.841919  -10.070801  -2.059937   17.852783  -19.912720   \n",
       "2       -10.414124   13.275146  -13.389587  -2.975464   23.689270  -26.664734   \n",
       "3        23.117065  -29.754639   29.869080   6.752014  -52.871704   59.623718   \n",
       "4       -48.408508   61.798096  -62.141418 -13.732910  110.206604 -123.939514   \n",
       "...            ...         ...         ...        ...         ...         ...   \n",
       "619131 -144.309998 -143.966675 -144.882202  -0.572205    0.343323   -0.915527   \n",
       "619132  -50.582886  -47.492981  -76.675415 -26.092529    3.089905  -29.182434   \n",
       "619133 -240.325928 -237.236023 -178.413391  61.912537    3.089905   58.822632   \n",
       "619134  -58.021545  -54.702759 -116.729736 -58.708191    3.318787  -62.026978   \n",
       "619135 -164.909363 -165.710449 -133.323669  31.585693   -0.801086   32.386780   \n",
       "\n",
       "          minutes  \n",
       "0        0.000000  \n",
       "1        0.000130  \n",
       "2        0.000260  \n",
       "3        0.000391  \n",
       "4        0.000521  \n",
       "...           ...  \n",
       "619131  80.616016  \n",
       "619132  80.616146  \n",
       "619133  80.616276  \n",
       "619134  80.616406  \n",
       "619135  80.616536  \n",
       "\n",
       "[619136 rows x 7 columns]"
      ]
     },
     "execution_count": 40,
     "metadata": {},
     "output_type": "execute_result"
    }
   ],
   "source": [
    "df_test_record1"
   ]
  },
  {
   "cell_type": "code",
   "execution_count": 41,
   "metadata": {},
   "outputs": [],
   "source": [
    "df_test_record1.to_csv('C:/Users/AFischer/Documents/PhD_onderzoek/data_cocoon_studie/df_record1.csv')\n",
    "df_test_record2.to_csv('C:/Users/AFischer/Documents/PhD_onderzoek/data_cocoon_studie/df_record2.csv')\n",
    "df_test_record3.to_csv('C:/Users/AFischer/Documents/PhD_onderzoek/data_cocoon_studie/df_record3.csv')\n",
    "df_test_record4.to_csv('C:/Users/AFischer/Documents/PhD_onderzoek/data_cocoon_studie/df_record4.csv')"
   ]
  },
  {
   "cell_type": "code",
   "execution_count": 42,
   "metadata": {},
   "outputs": [],
   "source": [
    "df_test_record5.to_csv('C:/Users/AFischer/Documents/PhD_onderzoek/data_cocoon_studie/df_record5.csv')\n",
    "df_test_record6.to_csv('C:/Users/AFischer/Documents/PhD_onderzoek/data_cocoon_studie/df_record6.csv')\n",
    "df_test_record7.to_csv('C:/Users/AFischer/Documents/PhD_onderzoek/data_cocoon_studie/df_record7.csv')\n",
    "df_test_record8.to_csv('C:/Users/AFischer/Documents/PhD_onderzoek/data_cocoon_studie/df_record8.csv')"
   ]
  },
  {
   "cell_type": "code",
   "execution_count": 19,
   "metadata": {},
   "outputs": [
    {
     "data": {
      "text/plain": [
       "309568"
      ]
     },
     "execution_count": 19,
     "metadata": {},
     "output_type": "execute_result"
    }
   ],
   "source": [
    "test_record1.acc_signals[:, 0]"
   ]
  },
  {
   "cell_type": "code",
   "execution_count": 25,
   "metadata": {},
   "outputs": [
    {
     "data": {
      "text/plain": [
       "64.0"
      ]
     },
     "execution_count": 25,
     "metadata": {},
     "output_type": "execute_result"
    }
   ],
   "source": [
    "test_record5.fs_acc"
   ]
  },
  {
   "cell_type": "code",
   "execution_count": 18,
   "metadata": {},
   "outputs": [],
   "source": [
    "def create_df_acc_signals(record, time_units: str):\n",
    "    \n",
    "    # Construct time indices for the x-axis\n",
    "    if time_units == 'samples':\n",
    "        t = np.linspace(0, record.sig_len_acc-1, record.sig_len_acc)\n",
    "    else:\n",
    "        downsample_factor = {'seconds': record.fs_acc, 'minutes': record.fs_acc * 60,\n",
    "                             'hours': record.fs_acc * 3600}\n",
    "        t = np.linspace(0, record.sig_len_acc-1, record.sig_len_acc) / downsample_factor[time_units]\n",
    "\n",
    "    df_record = pd.concat([pd.DataFrame(record.acc_signals, columns=['x axis', 'y axis', 'z axis']), pd.DataFrame(t, columns=['minutes'])], axis=1)\n",
    "    \n",
    "    return df_record"
   ]
  },
  {
   "cell_type": "code",
   "execution_count": 19,
   "metadata": {},
   "outputs": [],
   "source": [
    "df_acc_record1 = create_df_acc_signals(test_record1, 'minutes')\n",
    "df_acc_record2 = create_df_acc_signals(test_record2, 'minutes')\n",
    "df_acc_record3 = create_df_acc_signals(test_record3, 'minutes')\n",
    "df_acc_record4 = create_df_acc_signals(test_record4, 'minutes')"
   ]
  },
  {
   "cell_type": "code",
   "execution_count": 20,
   "metadata": {},
   "outputs": [
    {
     "data": {
      "text/html": [
       "<div>\n",
       "<style scoped>\n",
       "    .dataframe tbody tr th:only-of-type {\n",
       "        vertical-align: middle;\n",
       "    }\n",
       "\n",
       "    .dataframe tbody tr th {\n",
       "        vertical-align: top;\n",
       "    }\n",
       "\n",
       "    .dataframe thead th {\n",
       "        text-align: right;\n",
       "    }\n",
       "</style>\n",
       "<table border=\"1\" class=\"dataframe\">\n",
       "  <thead>\n",
       "    <tr style=\"text-align: right;\">\n",
       "      <th></th>\n",
       "      <th>x axis</th>\n",
       "      <th>y axis</th>\n",
       "      <th>z axis</th>\n",
       "      <th>minutes</th>\n",
       "    </tr>\n",
       "  </thead>\n",
       "  <tbody>\n",
       "    <tr>\n",
       "      <th>0</th>\n",
       "      <td>-0.000488</td>\n",
       "      <td>-0.000488</td>\n",
       "      <td>0.000488</td>\n",
       "      <td>0.000000</td>\n",
       "    </tr>\n",
       "    <tr>\n",
       "      <th>1</th>\n",
       "      <td>0.005859</td>\n",
       "      <td>0.000488</td>\n",
       "      <td>-0.002441</td>\n",
       "      <td>0.000260</td>\n",
       "    </tr>\n",
       "    <tr>\n",
       "      <th>2</th>\n",
       "      <td>-0.019531</td>\n",
       "      <td>-0.004395</td>\n",
       "      <td>0.010254</td>\n",
       "      <td>0.000521</td>\n",
       "    </tr>\n",
       "    <tr>\n",
       "      <th>3</th>\n",
       "      <td>0.054199</td>\n",
       "      <td>0.015625</td>\n",
       "      <td>-0.033691</td>\n",
       "      <td>0.000781</td>\n",
       "    </tr>\n",
       "    <tr>\n",
       "      <th>4</th>\n",
       "      <td>-0.139648</td>\n",
       "      <td>-0.118164</td>\n",
       "      <td>-0.024414</td>\n",
       "      <td>0.001042</td>\n",
       "    </tr>\n",
       "    <tr>\n",
       "      <th>...</th>\n",
       "      <td>...</td>\n",
       "      <td>...</td>\n",
       "      <td>...</td>\n",
       "      <td>...</td>\n",
       "    </tr>\n",
       "    <tr>\n",
       "      <th>309563</th>\n",
       "      <td>0.201660</td>\n",
       "      <td>-0.685547</td>\n",
       "      <td>-0.719727</td>\n",
       "      <td>80.615365</td>\n",
       "    </tr>\n",
       "    <tr>\n",
       "      <th>309564</th>\n",
       "      <td>0.264648</td>\n",
       "      <td>-0.794433</td>\n",
       "      <td>-0.687988</td>\n",
       "      <td>80.615625</td>\n",
       "    </tr>\n",
       "    <tr>\n",
       "      <th>309565</th>\n",
       "      <td>0.295898</td>\n",
       "      <td>-0.837891</td>\n",
       "      <td>-0.647461</td>\n",
       "      <td>80.615885</td>\n",
       "    </tr>\n",
       "    <tr>\n",
       "      <th>309566</th>\n",
       "      <td>0.238281</td>\n",
       "      <td>-0.741211</td>\n",
       "      <td>-0.592773</td>\n",
       "      <td>80.616146</td>\n",
       "    </tr>\n",
       "    <tr>\n",
       "      <th>309567</th>\n",
       "      <td>0.168457</td>\n",
       "      <td>-0.743652</td>\n",
       "      <td>-0.506348</td>\n",
       "      <td>80.616406</td>\n",
       "    </tr>\n",
       "  </tbody>\n",
       "</table>\n",
       "<p>309568 rows × 4 columns</p>\n",
       "</div>"
      ],
      "text/plain": [
       "          x axis    y axis    z axis    minutes\n",
       "0      -0.000488 -0.000488  0.000488   0.000000\n",
       "1       0.005859  0.000488 -0.002441   0.000260\n",
       "2      -0.019531 -0.004395  0.010254   0.000521\n",
       "3       0.054199  0.015625 -0.033691   0.000781\n",
       "4      -0.139648 -0.118164 -0.024414   0.001042\n",
       "...          ...       ...       ...        ...\n",
       "309563  0.201660 -0.685547 -0.719727  80.615365\n",
       "309564  0.264648 -0.794433 -0.687988  80.615625\n",
       "309565  0.295898 -0.837891 -0.647461  80.615885\n",
       "309566  0.238281 -0.741211 -0.592773  80.616146\n",
       "309567  0.168457 -0.743652 -0.506348  80.616406\n",
       "\n",
       "[309568 rows x 4 columns]"
      ]
     },
     "execution_count": 20,
     "metadata": {},
     "output_type": "execute_result"
    }
   ],
   "source": [
    "df_acc_record1"
   ]
  },
  {
   "cell_type": "code",
   "execution_count": 22,
   "metadata": {},
   "outputs": [],
   "source": [
    "df_acc_record1.to_csv('C:/Users/AFischer/Documents/PhD_onderzoek/data_cocoon_studie/df_acc_record1.csv')\n",
    "df_acc_record2.to_csv('C:/Users/AFischer/Documents/PhD_onderzoek/data_cocoon_studie/df_acc_record2.csv')\n",
    "df_acc_record3.to_csv('C:/Users/AFischer/Documents/PhD_onderzoek/data_cocoon_studie/df_acc_record3.csv')\n",
    "df_acc_record4.to_csv('C:/Users/AFischer/Documents/PhD_onderzoek/data_cocoon_studie/df_acc_record4.csv')"
   ]
  },
  {
   "cell_type": "code",
   "execution_count": 27,
   "metadata": {},
   "outputs": [],
   "source": [
    "def plot_acc_data(path_to_data: str, \n",
    "                  time_units: str, **kwargs):\n",
    "    \"\"\"\"Plot the EHG signal data of one patient (rec_id).\n",
    "\n",
    "    Parameters\n",
    "    ----------\n",
    "    path_to_data : str\n",
    "        Path to folder with the term-preterm database files.\n",
    "    time_units : str\n",
    "        The x axis unit. Allowed options are: 'samples', 'seconds', 'minutes',\n",
    "        and 'hours'.\n",
    "    kwargs:\n",
    "        Dictionary of parameters to pass to make_subplots.update_xaxes()\n",
    "\n",
    "    Returns\n",
    "    -------\n",
    "    type : plotly.graph_objs\n",
    "        Line plot of the EHG signal data of one record id.\n",
    "    \"\"\"\n",
    "    record = EHGRecord(path_to_data)\n",
    "\n",
    "    # TO DO: Write functionality to input a flexible number of channels you want to plot and create\n",
    "    # the color codes and grid accordingly\n",
    "    colors = ['rgb(67,67,67)', 'rgb(115,115,115)', 'rgb(49,130,189)']\n",
    "\n",
    "    axis_data = ['x axis', 'y axis', 'z axis']\n",
    "\n",
    "    min_value_signal = -0.5\n",
    "    max_value_signal = 0.7\n",
    "\n",
    "    line_size = 2\n",
    "    grid = [(1, 1), (2, 1), (3, 1)]\n",
    "\n",
    "    # Construct time indices for the x-axis\n",
    "    if time_units == 'samples':\n",
    "        t = np.linspace(0, record.sig_len_acc-1, record.sig_len_acc)\n",
    "    else:\n",
    "        downsample_factor = {'seconds': record.fs_acc, 'minutes': record.fs_acc * 60,\n",
    "                             'hours': record.fs_acc * 3600}\n",
    "        t = np.linspace(0, record.sig_len_acc-1, record.sig_len_acc) / downsample_factor[time_units]\n",
    "\n",
    "    # We plot each channel in a separate subplot\n",
    "    fig = make_subplots(rows=3, cols=1, subplot_titles=axis_data)\n",
    "\n",
    "    for index, axis in enumerate(axis_data):\n",
    "        fig.add_trace(go.Scatter(x=t, y=record.acc_signals[:, index], mode='lines',\n",
    "                                 name=axis, line=dict(color=colors[index], width=line_size),\n",
    "                                 connectgaps=True),\n",
    "                      row=grid[index][0],\n",
    "                      col=grid[index][1])\n",
    "        fig.update_yaxes(title_text=record.unit_acc)\n",
    "\n",
    "    fig.update_layout(template='plotly_white', height=1100, showlegend=False,\n",
    "                      title=dict(\n",
    "                          text=f'<b>Accelerometer</b>',\n",
    "                          x=0.5,\n",
    "                          y=0.98,\n",
    "                          font=dict(\n",
    "                              family=\"Arial\",\n",
    "                              size=20,\n",
    "                              color='#000000'\n",
    "                          )\n",
    "                      )\n",
    "                      )\n",
    "    # dtick indicates the tick step and is set in such way that we have approx. 5 ticks on the x axis\n",
    "    if 'range' in kwargs:\n",
    "        dtick = int(np.diff(kwargs['range']) / 5)\n",
    "    else:\n",
    "        dtick = int(max(t) / 5)\n",
    "\n",
    "    fig.update_xaxes(title_text=f'{time_units}', tick0=0, dtick=dtick, **kwargs)\n",
    "    fig.show()"
   ]
  },
  {
   "cell_type": "code",
   "execution_count": null,
   "metadata": {},
   "outputs": [],
   "source": [
    "test_record1 = data_path + \"/Hopper-2021_09_07_14_13_48-0000010181-0003.mat\"\n",
    "plot_acc_data(test_record1, 'minutes')"
   ]
  },
  {
   "cell_type": "code",
   "execution_count": 197,
   "metadata": {},
   "outputs": [],
   "source": [
    "fs = {}\n",
    "for i, signal_spec in enumerate(signals_specs_list):\n",
    "    signals_dict = signals_specs_list[i]\n",
    "    \n",
    "    if signals_dict.get('name') == 'exg':\n",
    "        fs_ehg_dict = signals_dict['sample_rate']\n",
    "        fs_ehg = fs_ehg_dict['numerator'] / fs_ehg_dict['denominator']\n",
    "        fs['fs_ehg'] = fs_ehg\n",
    "        \n",
    "    elif signals_dict.get('name') == 'acceleration':\n",
    "        fs_acc_dict = signals_dict['sample_rate']\n",
    "        fs_acc = fs_acc_dict['numerator'] / fs_acc_dict['denominator']\n",
    "        fs['fs_acc'] = fs_acc\n",
    "    \n",
    "    elif signals_dict.get('name') == 'clipping':\n",
    "        fs_clipping_dict = signals_dict['sample_rate']\n",
    "        fs_clipping = fs_clipping_dict['numerator'] / fs_clipping_dict['denominator']\n",
    "        fs['fs_clipping'] = fs_clipping\n",
    "\n",
    "    "
   ]
  },
  {
   "cell_type": "code",
   "execution_count": 198,
   "metadata": {},
   "outputs": [
    {
     "data": {
      "text/plain": [
       "{'fs_ehg': 128.0, 'fs_acc': 64.0, 'fs_clipping': 4.0}"
      ]
     },
     "execution_count": 198,
     "metadata": {},
     "output_type": "execute_result"
    }
   ],
   "source": [
    "fs"
   ]
  },
  {
   "cell_type": "code",
   "execution_count": 192,
   "metadata": {},
   "outputs": [
    {
     "data": {
      "text/plain": [
       "{'numerator': 128, 'denominator': 1}"
      ]
     },
     "execution_count": 192,
     "metadata": {},
     "output_type": "execute_result"
    }
   ],
   "source": [
    "fs_ehg_dict"
   ]
  },
  {
   "cell_type": "code",
   "execution_count": 194,
   "metadata": {},
   "outputs": [
    {
     "data": {
      "text/plain": [
       "128.0"
      ]
     },
     "execution_count": 194,
     "metadata": {},
     "output_type": "execute_result"
    }
   ],
   "source": [
    "fs_ehg"
   ]
  },
  {
   "cell_type": "code",
   "execution_count": 98,
   "metadata": {},
   "outputs": [
    {
     "data": {
      "text/plain": [
       "array([[-4.8828119e-04, -4.8828119e-04,  4.8828119e-04],\n",
       "       [ 5.8593741e-03,  4.8828119e-04, -2.4414060e-03],\n",
       "       [-1.9531248e-02, -4.3945308e-03,  1.0253905e-02],\n",
       "       ...,\n",
       "       [ 2.9589841e-01, -8.3789051e-01, -6.4746088e-01],\n",
       "       [ 2.3828122e-01, -7.4121088e-01, -5.9277338e-01],\n",
       "       [ 1.6845702e-01, -7.4365228e-01, -5.0634760e-01]], dtype=float32)"
      ]
     },
     "execution_count": 98,
     "metadata": {},
     "output_type": "execute_result"
    }
   ],
   "source": [
    "mat['acceleration_adxl362']"
   ]
  },
  {
   "cell_type": "code",
   "execution_count": 101,
   "metadata": {},
   "outputs": [
    {
     "data": {
      "text/plain": [
       "array([[0.4392552 , 0.4453602 , 0.44627595, 0.43894994],\n",
       "       [0.46672773, 0.47222224, 0.47283274, 0.46703297],\n",
       "       [0.48137975, 0.48717952, 0.48779002, 0.4822955 ],\n",
       "       ...,\n",
       "       [0.5100733 , 0.51159954, 0.5180098 , 0.50427353],\n",
       "       [0.509768  , 0.5112943 , 0.518315  , 0.50427353],\n",
       "       [0.5094628 , 0.510989  , 0.5180098 , 0.504884  ]], dtype=float32)"
      ]
     },
     "execution_count": 101,
     "metadata": {},
     "output_type": "execute_result"
    }
   ],
   "source": [
    "mat['polarization_voltage_sam4sd32c_adc']"
   ]
  },
  {
   "cell_type": "code",
   "execution_count": 30,
   "metadata": {},
   "outputs": [
    {
     "data": {
      "text/plain": [
       "numpy.ndarray"
      ]
     },
     "execution_count": 30,
     "metadata": {},
     "output_type": "execute_result"
    }
   ],
   "source": [
    "type(mat['exg_afe2q'])"
   ]
  },
  {
   "cell_type": "code",
   "execution_count": 69,
   "metadata": {
    "scrolled": true
   },
   "outputs": [
    {
     "data": {
      "text/plain": [
       "'{\"data_file_header\": {\"id\": 3, \"time\": {\"utc_time\": 1631024028, \"utc_time_offset\": 7200}, \"sensor_info\": {\"sensor\": {\"hardware_part\": \"100-0044-02\", \"hardware_revision\": \"A\", \"serial_number\": \"0000010181\", \"maxim_hs_sd_reader_serial_number\": \"\"}, \"version\": {\"firmware_version\": \"1.15.0\", \"algorithm_version\": \"2.10.4\", \"softdevice_version\": \"\", \"bootloader_version\": \"\"}, \"hardware\": {\"backend_processor_id\": [1395994880, 1346455374, 875574577, 959721520], \"frontend_processor_id\": [0, 0, 0, 0]}}, \"sensor_config\": {\"created\": {\"utc_time\": 1630678310, \"utc_time_offset\": 7200}, \"mode\": \"data_logger\", \"maximum_session_duration_seconds\": 0, \"firestore\": {\"user_id\": \"\", \"pregnancy_id\": \"\", \"email\": \"\", \"procedure_id\": \"\"}, \"study\": {\"study_id\": \"\", \"participant_id\": \"\"}, \"maximum_session_count\": 0}, \"payload_info\": {\"block_duration_seconds\": {\"numerator\": 1, \"denominator\": 1}, \"bytes_per_block\": 1182, \"signals\": [{\"name\": \"exg\", \"source\": \"afe2q\", \"unit\": \"volt\", \"power\": \"micro\", \"data_type\": \"i16\", \"bits_to_unit_gain\": 1.00000000, \"unit_offset\": 0.00000000e-308, \"byte_offset\": 0, \"number_of_channels\": 3, \"sample_rate\": {\"numerator\": 128, \"denominator\": 1}, \"delay\": 0.0462646480, \"unit_range\": {\"min\": 0.00000000e-308, \"max\": 0.00000000e-308}, \"input_bandwidth\": {\"min\": 0.0500000010, \"max\": 64.0000000}}, {\"name\": \"acceleration\", \"source\": \"adxl362\", \"unit\": \"gravity\", \"power\": \"unit\", \"data_type\": \"i16\", \"bits_to_unit_gain\": 1.00000000, \"unit_offset\": 0.00000000e-308, \"byte_offset\": 768, \"number_of_channels\": 3, \"sample_rate\": {\"numerator\": 64, \"denominator\": 1}, \"delay\": 0.0625000000, \"unit_range\": {\"min\": -2.00000000, \"max\": 2.00000000}, \"input_bandwidth\": {\"min\": 0.00000000e-308, \"max\": 32.0000000}}, {\"name\": \"clipping\", \"source\": \"afe2q\", \"unit\": \"logic\", \"power\": \"unit\", \"data_type\": \"u8\", \"bits_to_unit_gain\": 1.00000000, \"unit_offset\": 0.00000000e-308, \"byte_offset\": 1152, \"number_of_channels\": 3, \"sample_rate\": {\"numerator\": 4, \"denominator\": 1}, \"delay\": 0.125000000, \"unit_range\": {\"min\": 0.00000000e-308, \"max\": 1.00000000}, \"input_bandwidth\": {\"min\": 0.00000000e-308, \"max\": 0.00000000e-308}}, {\"name\": \"temperature\", \"source\": \"adxl362\", \"unit\": \"logic\", \"power\": \"unit\", \"data_type\": \"i16\", \"bits_to_unit_gain\": 1.00000000, \"unit_offset\": 0.00000000e-308, \"byte_offset\": 1164, \"number_of_channels\": 1, \"sample_rate\": {\"numerator\": 1, \"denominator\": 1}, \"delay\": 0.00000000e-308, \"unit_range\": {\"min\": 0.00000000e-308, \"max\": 0.00000000e-308}, \"input_bandwidth\": {\"min\": 0.00000000e-308, \"max\": 0.00000000e-308}}, {\"name\": \"battery\", \"source\": \"sam4sd32c_adc\", \"unit\": \"volt\", \"power\": \"unit\", \"data_type\": \"i16\", \"bits_to_unit_gain\": 1.00000000, \"unit_offset\": 0.00000000e-308, \"byte_offset\": 1166, \"number_of_channels\": 1, \"sample_rate\": {\"numerator\": 1, \"denominator\": 1}, \"delay\": 0.00000000e-308, \"unit_range\": {\"min\": 3.59999990, \"max\": 4.17999983}, \"input_bandwidth\": {\"min\": 0.00000000e-308, \"max\": 0.500000000}}, {\"name\": \"temperature\", \"source\": \"sam4sd32c_adc\", \"unit\": \"logic\", \"power\": \"unit\", \"data_type\": \"i16\", \"bits_to_unit_gain\": 1.00000000, \"unit_offset\": 0.00000000e-308, \"byte_offset\": 1168, \"number_of_channels\": 1, \"sample_rate\": {\"numerator\": 1, \"denominator\": 1}, \"delay\": 0.00000000e-308, \"unit_range\": {\"min\": 0.00000000e-308, \"max\": 0.00000000e-308}, \"input_bandwidth\": {\"min\": 0.00000000e-308, \"max\": 0.00000000e-308}}, {\"name\": \"polarization_voltage\", \"source\": \"sam4sd32c_adc\", \"unit\": \"volt\", \"power\": \"unit\", \"data_type\": \"u16\", \"bits_to_unit_gain\": 1.00000000, \"unit_offset\": 0.00000000e-308, \"byte_offset\": 1170, \"number_of_channels\": 4, \"sample_rate\": {\"numerator\": 1, \"denominator\": 1}, \"delay\": 0.00000000e-308, \"unit_range\": {\"min\": 0.00000000e-308, \"max\": 1.20000005}, \"input_bandwidth\": {\"min\": 0.00000000e-308, \"max\": 0.500000000}}, {\"name\": \"electrode_off\", \"source\": \"algo\", \"unit\": \"logic\", \"power\": \"unit\", \"data_type\": \"u8\", \"bits_to_unit_gain\": 1.00000000, \"unit_offset\": 0.00000000e-308, \"byte_offset\": 1178, \"number_of_channels\": 4, \"sample_rate\": {\"numerator\": 1, \"denominator\": 1}, \"delay\": 0.00000000e-308, \"unit_range\": {\"min\": 0.00000000e-308, \"max\": 3.00000000}, \"input_bandwidth\": {\"min\": 0.00000000e-308, \"max\": 0.00000000e-308}}]}, \"csid\": \"Hopper-2021_09_07_14_13_48-0000010181-0003\"}}'"
      ]
     },
     "execution_count": 69,
     "metadata": {},
     "output_type": "execute_result"
    }
   ],
   "source": [
    "mat['header'][0]"
   ]
  }
 ],
 "metadata": {
  "kernelspec": {
   "display_name": "term_preterm_database",
   "language": "python",
   "name": "term_preterm_database"
  },
  "language_info": {
   "codemirror_mode": {
    "name": "ipython",
    "version": 3
   },
   "file_extension": ".py",
   "mimetype": "text/x-python",
   "name": "python",
   "nbconvert_exporter": "python",
   "pygments_lexer": "ipython3",
   "version": "3.8.8"
  }
 },
 "nbformat": 4,
 "nbformat_minor": 5
}
