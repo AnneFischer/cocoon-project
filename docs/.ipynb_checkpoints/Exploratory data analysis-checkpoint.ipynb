{
 "cells": [
  {
   "cell_type": "code",
   "execution_count": null,
   "metadata": {},
   "outputs": [],
   "source": [
    "import sys\n",
    "sys.path.append('C:\\\\Users\\\\AFischer\\\\PycharmProjects\\\\term_preterm_database')\n",
    "sys.path.append('C:\\\\Users\\\\AFischer\\\\PycharmProjects\\\\term_preterm_database\\\\src_pre_term_database')"
   ]
  },
  {
   "cell_type": "code",
   "execution_count": null,
   "metadata": {},
   "outputs": [],
   "source": [
    "import wfdb\n",
    "import numpy as np\n",
    "from chart_studio import plotly as py\n",
    "import plotly.graph_objs as go\n",
    "from plotly.offline import iplot, init_notebook_mode\n",
    "from plotly.subplots import make_subplots\n",
    "import cufflinks \n",
    "from pathlib import Path\n",
    "cufflinks.go_offline(connected=True)\n",
    "init_notebook_mode(connected=True)"
   ]
  },
  {
   "cell_type": "code",
   "execution_count": null,
   "metadata": {},
   "outputs": [],
   "source": [
    "import constants as c\n",
    "from src_pre_term_database.load_dataset import build_signal_dataframe, build_demographics_dataframe, build_clinical_information_dataframe, split_term_preterm_rec_ids\n",
    "from src_pre_term_database.visualizing import create_missing_values_plot, plot_distribution_feature, plot_histogram, plot_boxplot, plot_multiple_boxplots, plot_differences_preterm_and_term_patients, plot_mean_and_std_variables, plot_ehg_data\n",
    "from utils import read_settings, calculate_percentage"
   ]
  },
  {
   "cell_type": "code",
   "execution_count": null,
   "metadata": {},
   "outputs": [],
   "source": [
    "settings_path = 'C:/Users/AFischer/PycharmProjects/term_preterm_database/references/settings'\n",
    "\n",
    "file_paths = read_settings(settings_path, 'file_paths')\n",
    "\n",
    "#logging.basicConfig(filename='example.log', level=logging.INFO)\n",
    "\n",
    "SIGNAL_COLUMN_NAMES = ['1', '1_DOCFILT-4-0.08-4', '1_DOCFILT-4-0.3-3', '1_DOCFILT-4-0.3-4',\n",
    "                      '2', '2_DOCFILT-4-0.08-4', '2_DOCFILT-4-0.3-3', '2_DOCFILT-4-0.3-4',\n",
    "                      '3', '3_DOCFILT-4-0.08-4', '3_DOCFILT-4-0.3-3', '3_DOCFILT-4-0.3-4']\n",
    "\n",
    "VARIABLE_CONSTANTS_LIST = ['RecID', 'Age', 'Parity', 'Abortions', 'Weight',\n",
    "                           'Hypertension', 'Diabetes', 'Placental_position', 'Bleeding_first_trimester',\n",
    "                           'Bleeding_second_trimester', 'Funneling', 'Smoker']"
   ]
  },
  {
   "cell_type": "code",
   "execution_count": null,
   "metadata": {},
   "outputs": [],
   "source": [
    "data_path = file_paths['data_path']"
   ]
  },
  {
   "cell_type": "code",
   "execution_count": null,
   "metadata": {},
   "outputs": [],
   "source": [
    "data_path"
   ]
  },
  {
   "cell_type": "code",
   "execution_count": null,
   "metadata": {},
   "outputs": [],
   "source": [
    "df_signals = build_signal_dataframe(data_path, settings_path)"
   ]
  },
  {
   "cell_type": "code",
   "execution_count": null,
   "metadata": {},
   "outputs": [],
   "source": [
    "df_signals.head()"
   ]
  },
  {
   "cell_type": "code",
   "execution_count": null,
   "metadata": {},
   "outputs": [],
   "source": [
    "len(df_signals)"
   ]
  },
  {
   "cell_type": "code",
   "execution_count": null,
   "metadata": {},
   "outputs": [],
   "source": [
    "df_demographics = build_demographics_dataframe(data_path, settings_path)"
   ]
  },
  {
   "cell_type": "code",
   "execution_count": null,
   "metadata": {},
   "outputs": [],
   "source": [
    "df_demographics.head()"
   ]
  },
  {
   "cell_type": "code",
   "execution_count": null,
   "metadata": {},
   "outputs": [],
   "source": [
    "df_clinical_information = build_clinical_information_dataframe(data_path, settings_path)"
   ]
  },
  {
   "cell_type": "code",
   "execution_count": null,
   "metadata": {},
   "outputs": [],
   "source": [
    "df_clinical_information.head()"
   ]
  },
  {
   "cell_type": "code",
   "execution_count": null,
   "metadata": {},
   "outputs": [],
   "source": [
    "df_static_information = df_demographics.merge(df_clinical_information, how='left', on=c.REC_ID_NAME)"
   ]
  },
  {
   "cell_type": "code",
   "execution_count": null,
   "metadata": {},
   "outputs": [],
   "source": [
    "df_static_information.head()"
   ]
  },
  {
   "cell_type": "code",
   "execution_count": null,
   "metadata": {},
   "outputs": [],
   "source": [
    "df_static_information['time_between_rec_and_birth'] = df_static_information['gestation']-df_static_information['gestation_at_rec_time']"
   ]
  },
  {
   "cell_type": "code",
   "execution_count": null,
   "metadata": {},
   "outputs": [],
   "source": [
    "df_preterm, df_term = split_term_preterm_rec_ids(df_static_information, preterm_threshold=37.0)"
   ]
  },
  {
   "cell_type": "code",
   "execution_count": null,
   "metadata": {
    "scrolled": true
   },
   "outputs": [],
   "source": [
    "categorical_features = ['group', c.HYPERTENSION_NAME, c.DIABETES_NAME, c.PLACENTAL_NAME,\n",
    "                            c.BLEEDING_FIRST_TRI_NAME, c.BLEEDING_SEC_TRI_NAME,\n",
    "                            c.FUNNELING_NAME, c.SMOKER_NAME]\n",
    "\n",
    "for cat_feature in categorical_features:\n",
    "    plot_distribution_feature(df_static_information, f'{cat_feature}', categorical=True)\n",
    "    "
   ]
  },
  {
   "cell_type": "code",
   "execution_count": null,
   "metadata": {},
   "outputs": [],
   "source": [
    "output_path = Path(file_paths['output_path'])\n",
    "intermediate_path = output_path / \"intermediate_datafiles\" / 'df_static.csv'"
   ]
  },
  {
   "cell_type": "code",
   "execution_count": null,
   "metadata": {},
   "outputs": [],
   "source": [
    "df_static_information.to_csv(intermediate_path, sep=';')"
   ]
  },
  {
   "cell_type": "code",
   "execution_count": null,
   "metadata": {},
   "outputs": [],
   "source": [
    "plot_distribution_feature(df_static_information, 'group', categorical=True)"
   ]
  },
  {
   "cell_type": "code",
   "execution_count": null,
   "metadata": {},
   "outputs": [],
   "source": [
    "plot_distribution_feature(df_static_information, 'abortions', categorical=False)"
   ]
  },
  {
   "cell_type": "code",
   "execution_count": null,
   "metadata": {},
   "outputs": [],
   "source": [
    "plot_distribution_feature(df_static_information, 'age', categorical=False)"
   ]
  },
  {
   "cell_type": "code",
   "execution_count": null,
   "metadata": {},
   "outputs": [],
   "source": [
    "plot_distribution_feature(df_static_information, 'weight', categorical=False)"
   ]
  },
  {
   "cell_type": "code",
   "execution_count": null,
   "metadata": {},
   "outputs": [],
   "source": [
    "plot_histogram(df_static_information, 'gestation')"
   ]
  },
  {
   "cell_type": "code",
   "execution_count": null,
   "metadata": {},
   "outputs": [],
   "source": [
    "plot_histogram(df_static_information, 'gestation_at_rec_time')"
   ]
  },
  {
   "cell_type": "code",
   "execution_count": null,
   "metadata": {},
   "outputs": [],
   "source": [
    "4/7"
   ]
  },
  {
   "cell_type": "code",
   "execution_count": null,
   "metadata": {},
   "outputs": [],
   "source": [
    "plot_boxplot(df_static_information, 'gestation_at_rec_time')"
   ]
  },
  {
   "cell_type": "code",
   "execution_count": null,
   "metadata": {
    "scrolled": false
   },
   "outputs": [],
   "source": [
    "plot_boxplot(df_static_information, 'gestation')"
   ]
  },
  {
   "cell_type": "code",
   "execution_count": null,
   "metadata": {},
   "outputs": [],
   "source": [
    "plot_boxplot(df_static_information, 'age')"
   ]
  },
  {
   "cell_type": "code",
   "execution_count": null,
   "metadata": {},
   "outputs": [],
   "source": [
    "plot_multiple_boxplots(df_static_information, ['weight', 'age', 'gestation', 'gestation_at_rec_time'])"
   ]
  },
  {
   "cell_type": "code",
   "execution_count": null,
   "metadata": {},
   "outputs": [],
   "source": [
    "plot_differences_preterm_and_term_patients(df_preterm, df_term, 'abortions', categorical=False)"
   ]
  },
  {
   "cell_type": "code",
   "execution_count": null,
   "metadata": {},
   "outputs": [],
   "source": [
    "plot_differences_preterm_and_term_patients(df_preterm, df_term, 'smoker', categorical=True)"
   ]
  },
  {
   "cell_type": "code",
   "execution_count": null,
   "metadata": {},
   "outputs": [],
   "source": [
    "plot_differences_preterm_and_term_patients(df_preterm, df_term, 'parity', categorical=False)"
   ]
  },
  {
   "cell_type": "code",
   "execution_count": null,
   "metadata": {},
   "outputs": [],
   "source": [
    "plot_differences_preterm_and_term_patients(df_preterm, df_term, 'hypertension', categorical=True)"
   ]
  },
  {
   "cell_type": "code",
   "execution_count": null,
   "metadata": {},
   "outputs": [],
   "source": [
    "plot_differences_preterm_and_term_patients(df_preterm, df_term, 'placental_position', categorical=True)"
   ]
  },
  {
   "cell_type": "code",
   "execution_count": null,
   "metadata": {},
   "outputs": [],
   "source": [
    "plot_mean_and_std_variables(df_preterm, df_term, ['age', 'weight', 'gestation', 'gestation_at_rec_time'])"
   ]
  },
  {
   "cell_type": "code",
   "execution_count": null,
   "metadata": {},
   "outputs": [],
   "source": [
    "numeric_features = [c.AGE_NAME, c.PARITY_NAME, c.ABORTIONS_NAME, c.WEIGHT_NAME]\n",
    "categorical_features = [c.HYPERTENSION_NAME, c.DIABETES_NAME, c.PLACENTAL_NAME,\n",
    "                            c.BLEEDING_FIRST_TRI_NAME, c.BLEEDING_SEC_TRI_NAME,\n",
    "                            c.FUNNELING_NAME, c.SMOKER_NAME]\n",
    "create_missing_values_plot(df_static_information, numeric_features, categorical_features)"
   ]
  },
  {
   "cell_type": "markdown",
   "metadata": {},
   "source": [
    "## SIGNAL exploratory data analysis"
   ]
  },
  {
   "cell_type": "code",
   "execution_count": null,
   "metadata": {},
   "outputs": [],
   "source": [
    "test_record = wfdb.rdrecord('C:/Users/AFischer/Documents/PhD_onderzoek/term_preterm_database/term-preterm-ehg-database-1.0.1/term-preterm-ehg-database-1.0.1/tpehgdb/tpehg546')"
   ]
  },
  {
   "cell_type": "code",
   "execution_count": null,
   "metadata": {},
   "outputs": [],
   "source": [
    "display(test_record.__dict__)"
   ]
  },
  {
   "cell_type": "code",
   "execution_count": null,
   "metadata": {},
   "outputs": [],
   "source": [
    "plot_ehg_data(data_path, 'tpehg1007', 'minutes', df_static_information)"
   ]
  },
  {
   "cell_type": "code",
   "execution_count": null,
   "metadata": {},
   "outputs": [],
   "source": [
    "df_preterm.head()"
   ]
  },
  {
   "cell_type": "code",
   "execution_count": null,
   "metadata": {},
   "outputs": [],
   "source": [
    "df_static_information.head()"
   ]
  },
  {
   "cell_type": "code",
   "execution_count": null,
   "metadata": {},
   "outputs": [],
   "source": [
    "list(map(lambda word: f\"tpehg{word}\", df_preterm['rec_id'].unique()))"
   ]
  },
  {
   "cell_type": "code",
   "execution_count": null,
   "metadata": {},
   "outputs": [],
   "source": [
    "round(df_static_information['time_between_rec_and_birth'],2).astype(str) + 'weeks'"
   ]
  },
  {
   "cell_type": "code",
   "execution_count": null,
   "metadata": {},
   "outputs": [],
   "source": [
    "import pandas as pd"
   ]
  },
  {
   "cell_type": "code",
   "execution_count": null,
   "metadata": {},
   "outputs": [],
   "source": [
    "def plot_ehg_data2(path_to_data: str, rec_id: str,\n",
    "                  time_units: str, df_static_information: pd.DataFrame, **kwargs):\n",
    "    \"\"\"\"Plot the EHG signal data of one patient (rec_id).\n",
    "\n",
    "    Parameters\n",
    "    ----------\n",
    "    path_to_data : str\n",
    "        Path to folder with the term-preterm database files.\n",
    "    rec_id : str\n",
    "        Name of the record id.\n",
    "    time_units : str\n",
    "        The x axis unit. Allowed options are: 'samples', 'seconds', 'minutes',\n",
    "        and 'hours'.\n",
    "    df_static_information : pd.DataFrame\n",
    "        Dataframe that contains the demographic data of the record id.\n",
    "    kwargs:\n",
    "        Dictionary of parameters to pass to make_subplots.update_xaxes()\n",
    "\n",
    "    Returns\n",
    "    -------\n",
    "    type : plotly.graph_objs\n",
    "        Line plot of the EHG signal data of one record id.\n",
    "    \"\"\"\n",
    "    data_path = Path(f'{path_to_data}')\n",
    "    path_to_signals = data_path / \"tpehgdb\"\n",
    "\n",
    "    colors = ['rgb(67,67,67)', 'rgb(115,115,115)', 'rgb(49,130,189)']\n",
    "\n",
    "    channel_data = ['Channel 1', \n",
    "                    'Channel 2', \n",
    "                    'Channel 3']\n",
    "\n",
    "    min_value_signal = -0.5\n",
    "    max_value_signal = 0.7\n",
    "\n",
    "    line_size = 2\n",
    "    grid = [(1, 1), (2, 1), (3, 1)]\n",
    "\n",
    "    # This record object contains all signal data and its properties (such as sampling rate, etc.) of\n",
    "    # one record id.\n",
    "    record = wfdb.rdrecord(f'{path_to_signals}/{rec_id}')\n",
    "    rec_id = int(record.record_name.split('tpehg')[1])\n",
    "\n",
    "    # The preterm_term_gestation variable contains the gestation length\n",
    "    preterm_term_gestation = df_static_information.query('rec_id==@rec_id')['gestation'].iloc[0]\n",
    "    preterm_term_rec_moment = df_static_information.query('rec_id==@rec_id')['gestation_at_rec_time'].iloc[0]\n",
    "\n",
    "    # Construct time indices for the x-axis\n",
    "    if time_units == 'samples':\n",
    "        t = np.linspace(0, record.sig_len-1, record.sig_len)\n",
    "    else:\n",
    "        downsample_factor = {'seconds': record.fs, 'minutes': record.fs * 60,\n",
    "                             'hours': record.fs * 3600}\n",
    "        t = np.linspace(0, record.sig_len-1, record.sig_len) / downsample_factor[time_units]\n",
    "\n",
    "    # We plot each channel in a separate subplot\n",
    "    fig = make_subplots(rows=3, cols=1,\n",
    "                        subplot_titles=channel_data)\n",
    "\n",
    "\n",
    "    fig.add_trace(go.Scatter(x=t, y=record.p_signal[:, 0], mode='lines',\n",
    "                                 name='</b>Channel 1</b>', line=dict(color=colors[0], width=line_size),\n",
    "                                 connectgaps=True),\n",
    "                      row=grid[0][0],\n",
    "                      col=grid[0][1])\n",
    "    fig.update_yaxes(title_text=record.units[0], range=[min_value_signal, max_value_signal])\n",
    "    \n",
    "    \n",
    "    \n",
    "    fig.add_trace(go.Scatter(x=t, y=record.p_signal[:, 4], mode='lines',\n",
    "                                 name='Channel 2', line=dict(color=colors[1], width=line_size),\n",
    "                                 connectgaps=True),\n",
    "                      row=grid[1][0],\n",
    "                      col=grid[1][1])\n",
    "    fig.update_yaxes(title_text=record.units[4], range=[min_value_signal, max_value_signal])\n",
    "    \n",
    "    \n",
    "    \n",
    "    fig.add_trace(go.Scatter(x=t, y=record.p_signal[:, 8], mode='lines',\n",
    "                                 name='Channel 3', line=dict(color=colors[2], width=line_size),\n",
    "                                 connectgaps=True),\n",
    "                      row=grid[2][0],\n",
    "                      col=grid[2][1])\n",
    "    fig.update_yaxes(title_text=record.units[8], range=[min_value_signal, max_value_signal], tickfont_family=\"Arial Black\")\n",
    "\n",
    "    fig.update_layout(template='plotly_white', height=1100, showlegend=False,\n",
    "                      title=dict(\n",
    "                          text=f'<b>EHG data of patient {rec_id}, gestation: {preterm_term_gestation} wks, '\n",
    "                               f'recording moment: {preterm_term_rec_moment} wks</b>',\n",
    "                          x=0.5,\n",
    "                          y=0.98,\n",
    "                          font=dict(\n",
    "                              family=\"Arial\",\n",
    "                              size=20,\n",
    "                              color='#000000'\n",
    "                          )\n",
    "                      )\n",
    "\n",
    "   )\n",
    "                      \n",
    "    # dtick indicates the tick step and is set in such way that we have approx. 5 ticks on the x axis\n",
    "    if 'range' in kwargs:\n",
    "        dtick = int(np.diff(kwargs['range']) / 5)\n",
    "    else:\n",
    "        dtick = int(max(t) / 5)\n",
    "\n",
    "    fig.update_xaxes(title_text=f'{time_units}', tick0=0, dtick=dtick, tickfont_family=\"Arial Black\", **kwargs)\n",
    "    fig.show()"
   ]
  },
  {
   "cell_type": "code",
   "execution_count": null,
   "metadata": {},
   "outputs": [],
   "source": [
    "data_path = Path(f'{data_path}')\n",
    "path_to_signals = data_path / \"tpehgdb\"\n",
    "record = wfdb.rdrecord(f'{path_to_signals}/tpehg1022')"
   ]
  },
  {
   "cell_type": "code",
   "execution_count": null,
   "metadata": {},
   "outputs": [],
   "source": [
    "record.sig_name"
   ]
  },
  {
   "cell_type": "code",
   "execution_count": null,
   "metadata": {},
   "outputs": [],
   "source": [
    "plot_ehg_data2(data_path, 'tpehg1022', 'minutes', df_static_information)"
   ]
  },
  {
   "cell_type": "code",
   "execution_count": null,
   "metadata": {},
   "outputs": [],
   "source": [
    "plot_ehg_data(data_path, 'tpehg873', 'minutes', df_static_information)"
   ]
  },
  {
   "cell_type": "code",
   "execution_count": null,
   "metadata": {},
   "outputs": [],
   "source": [
    "plot_ehg_data(data_path, 'tpehg1022', 'minutes', df_static_information)"
   ]
  },
  {
   "cell_type": "code",
   "execution_count": null,
   "metadata": {},
   "outputs": [],
   "source": [
    "plot_ehg_data(data_path, 'tpehg1007', 'minutes', df_static_information)"
   ]
  },
  {
   "cell_type": "code",
   "execution_count": null,
   "metadata": {},
   "outputs": [],
   "source": [
    "plot_ehg_data(data_path, 'tpehg1202', 'minutes', df_static_information)"
   ]
  },
  {
   "cell_type": "code",
   "execution_count": null,
   "metadata": {},
   "outputs": [],
   "source": [
    "plot_ehg_data(data_path, 'tpehg1202', 'minutes', df_static_information, range=[7, 10])"
   ]
  },
  {
   "cell_type": "code",
   "execution_count": null,
   "metadata": {},
   "outputs": [],
   "source": [
    "preterm_rec_ids = list(map(lambda word: f\"tpehg{word}\", df_preterm['rec_id'].unique()))"
   ]
  },
  {
   "cell_type": "code",
   "execution_count": null,
   "metadata": {
    "scrolled": true
   },
   "outputs": [],
   "source": [
    "for pre_rec_id in preterm_rec_ids:\n",
    "    plot_ehg_data(data_path, pre_rec_id, 'minutes', df_static_information)"
   ]
  },
  {
   "cell_type": "code",
   "execution_count": null,
   "metadata": {},
   "outputs": [],
   "source": [
    "plot_histogram(df_static_information, 'time_between_rec_and_birth')"
   ]
  },
  {
   "cell_type": "code",
   "execution_count": null,
   "metadata": {},
   "outputs": [],
   "source": [
    "plot_differences_preterm_and_term_patients(df_preterm, df_term, 'time_between_rec_and_birth', categorical=False)"
   ]
  },
  {
   "cell_type": "code",
   "execution_count": null,
   "metadata": {},
   "outputs": [],
   "source": [
    "plot_mean_and_std_variables(df_preterm, df_term, ['time_between_rec_and_birth'])"
   ]
  },
  {
   "cell_type": "code",
   "execution_count": null,
   "metadata": {},
   "outputs": [],
   "source": [
    "plot_distribution_feature(df_static_information, 'time_between_rec_and_birth', categorical=False)"
   ]
  },
  {
   "cell_type": "code",
   "execution_count": null,
   "metadata": {
    "scrolled": false
   },
   "outputs": [],
   "source": [
    "short_time_rec_ids = df_static_information.query('time_between_rec_and_birth < 3')['rec_id'].unique()\n",
    "\n",
    "short_time_rec_ids = list(map(lambda word: f\"tpehg{word}\", short_time_rec_ids))\n",
    "\n",
    "for rec_id in short_time_rec_ids:\n",
    "    plot_ehg_data(data_path, rec_id, 'minutes', df_static_information)"
   ]
  }
 ],
 "metadata": {
  "kernelspec": {
   "display_name": "term_preterm_database",
   "language": "python",
   "name": "term_preterm_database"
  },
  "language_info": {
   "codemirror_mode": {
    "name": "ipython",
    "version": 3
   },
   "file_extension": ".py",
   "mimetype": "text/x-python",
   "name": "python",
   "nbconvert_exporter": "python",
   "pygments_lexer": "ipython3",
   "version": "3.8.8"
  }
 },
 "nbformat": 4,
 "nbformat_minor": 2
}
