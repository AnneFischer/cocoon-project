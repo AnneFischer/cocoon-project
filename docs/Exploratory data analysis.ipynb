{
 "cells": [
  {
   "cell_type": "code",
   "execution_count": null,
   "metadata": {},
   "outputs": [],
   "source": [
    "import sys\n",
    "sys.path.append('/Users/AFischer/PycharmProjects/cocoon-project')\n",
    "sys.path.append('/Users/AFischer/PycharmProjects/cocoon-project/src_pre_term_database')"
   ]
  },
  {
   "cell_type": "code",
   "execution_count": null,
   "metadata": {},
   "outputs": [],
   "source": [
    "import wfdb\n",
    "import numpy as np\n",
    "from chart_studio import plotly as py\n",
    "import plotly.graph_objs as go\n",
    "from plotly.offline import iplot, init_notebook_mode\n",
    "from plotly.subplots import make_subplots\n",
    "import cufflinks \n",
    "from pathlib import Path\n",
    "import pandas as pd\n",
    "cufflinks.go_offline(connected=True)\n",
    "init_notebook_mode(connected=True)"
   ]
  },
  {
   "cell_type": "code",
   "execution_count": null,
   "metadata": {},
   "outputs": [],
   "source": [
    "import constants as c\n",
    "from src_pre_term_database.load_dataset import build_signal_dataframe, build_demographics_dataframe, build_clinical_information_dataframe, split_term_preterm_rec_ids\n",
    "from src_pre_term_database.visualizing import create_missing_values_plot, plot_distribution_feature, plot_histogram, plot_boxplot, plot_multiple_boxplots, plot_differences_preterm_and_term_patients, plot_mean_and_std_variables, plot_ehg_data, plot_ehg_data_filtered\n",
    "from src_pre_term_database.data_processing_and_feature_engineering import create_filtered_channels, remove_first_n_samples_of_signals, remove_last_n_samples_of_signals, calculate_feature_over_fixed_time_window\n",
    "from utils import read_settings, calculate_percentage"
   ]
  },
  {
   "cell_type": "code",
   "execution_count": null,
   "metadata": {},
   "outputs": [],
   "source": [
    "settings_path = '/Users/AFischer/PycharmProjects/cocoon-project/references/settings'\n",
    "\n",
    "file_paths = read_settings(settings_path, 'file_paths')\n",
    "\n",
    "#logging.basicConfig(filename='example.log', level=logging.INFO)\n",
    "\n",
    "SIGNAL_COLUMN_NAMES = ['1', '1_DOCFILT-4-0.08-4', '1_DOCFILT-4-0.3-3', '1_DOCFILT-4-0.3-4',\n",
    "                      '2', '2_DOCFILT-4-0.08-4', '2_DOCFILT-4-0.3-3', '2_DOCFILT-4-0.3-4',\n",
    "                      '3', '3_DOCFILT-4-0.08-4', '3_DOCFILT-4-0.3-3', '3_DOCFILT-4-0.3-4']\n",
    "\n",
    "VARIABLE_CONSTANTS_LIST = ['RecID', 'Age', 'Parity', 'Abortions', 'Weight',\n",
    "                           'Hypertension', 'Diabetes', 'Placental_position', 'Bleeding_first_trimester',\n",
    "                           'Bleeding_second_trimester', 'Funneling', 'Smoker']"
   ]
  },
  {
   "cell_type": "code",
   "execution_count": null,
   "metadata": {},
   "outputs": [],
   "source": [
    "data_path = file_paths['data_path']"
   ]
  },
  {
   "cell_type": "code",
   "execution_count": null,
   "metadata": {},
   "outputs": [],
   "source": [
    "data_path"
   ]
  },
  {
   "cell_type": "code",
   "execution_count": null,
   "metadata": {},
   "outputs": [],
   "source": [
    "#df_signals = build_signal_dataframe(data_path, settings_path)"
   ]
  },
  {
   "cell_type": "code",
   "execution_count": null,
   "metadata": {},
   "outputs": [],
   "source": [
    "#df_signals.head()"
   ]
  },
  {
   "cell_type": "code",
   "execution_count": null,
   "metadata": {},
   "outputs": [],
   "source": [
    "# df_signals = create_filtered_channels(df_signals, ['channel_1', 'channel_2', 'channel_3'], \n",
    "#                                           [[0.34, 1], [0.08, 4], [0.3, 3], [0.3, 4]], fs=20, order=4)"
   ]
  },
  {
   "cell_type": "code",
   "execution_count": null,
   "metadata": {},
   "outputs": [],
   "source": [
    "#df_signals = remove_first_n_samples_of_signals(df_signals, n=3600)"
   ]
  },
  {
   "cell_type": "code",
   "execution_count": null,
   "metadata": {},
   "outputs": [],
   "source": [
    "#df_signals = remove_last_n_samples_of_signals(df_signals, n=3600)"
   ]
  },
  {
   "cell_type": "code",
   "execution_count": null,
   "metadata": {},
   "outputs": [],
   "source": [
    "df_signals_new = pd.read_csv(f'{data_path}/df_signals_filt.csv', sep=';')"
   ]
  },
  {
   "cell_type": "code",
   "execution_count": null,
   "metadata": {},
   "outputs": [],
   "source": [
    "df_demographics = build_demographics_dataframe(data_path, settings_path)"
   ]
  },
  {
   "cell_type": "code",
   "execution_count": null,
   "metadata": {},
   "outputs": [],
   "source": [
    "df_demographics.head()"
   ]
  },
  {
   "cell_type": "code",
   "execution_count": null,
   "metadata": {},
   "outputs": [],
   "source": [
    "df_clinical_information = build_clinical_information_dataframe(data_path, settings_path)"
   ]
  },
  {
   "cell_type": "code",
   "execution_count": null,
   "metadata": {},
   "outputs": [],
   "source": [
    "df_clinical_information.head()"
   ]
  },
  {
   "cell_type": "code",
   "execution_count": null,
   "metadata": {},
   "outputs": [],
   "source": [
    "df_static_information = df_demographics.merge(df_clinical_information, how='left', on=c.REC_ID_NAME)"
   ]
  },
  {
   "cell_type": "code",
   "execution_count": null,
   "metadata": {},
   "outputs": [],
   "source": [
    "df_static_information.head()"
   ]
  },
  {
   "cell_type": "code",
   "execution_count": null,
   "metadata": {},
   "outputs": [],
   "source": [
    "df_static_information['funneling'].describe()"
   ]
  },
  {
   "cell_type": "code",
   "execution_count": null,
   "metadata": {},
   "outputs": [],
   "source": [
    "df_static_information['gestation_at_rec_time'].describe()"
   ]
  },
  {
   "cell_type": "code",
   "execution_count": null,
   "metadata": {},
   "outputs": [],
   "source": [
    "df_static_information[df_static_information['gestation_at_rec_time']>=30]"
   ]
  },
  {
   "cell_type": "code",
   "execution_count": null,
   "metadata": {},
   "outputs": [],
   "source": [
    "df_static_information['time_between_rec_and_birth'] = df_static_information['gestation']-df_static_information['gestation_at_rec_time']"
   ]
  },
  {
   "cell_type": "code",
   "execution_count": null,
   "metadata": {},
   "outputs": [],
   "source": [
    "df_static_information['time_between_rec_and_birth'].describe()"
   ]
  },
  {
   "cell_type": "code",
   "execution_count": null,
   "metadata": {
    "scrolled": true
   },
   "outputs": [],
   "source": [
    "df_static_information[df_static_information['time_between_rec_and_birth']<6]"
   ]
  },
  {
   "cell_type": "code",
   "execution_count": null,
   "metadata": {
    "scrolled": true
   },
   "outputs": [],
   "source": [
    "# Assign new groups based on 30 weeks gestation recording moment\n",
    "df_static_information.loc[(df_static_information['gestation']<37) & (df_static_information['gestation_at_rec_time']<30), 'group_new']='<30-PRE'\n",
    "df_static_information.loc[(df_static_information['gestation']<37) & (df_static_information['gestation_at_rec_time']>=30), 'group_new']='>=30-PRE'\n",
    "df_static_information.loc[(df_static_information['gestation']>=37) & (df_static_information['gestation_at_rec_time']>=30), 'group_new']='>=30-TERM'\n",
    "df_static_information.loc[(df_static_information['gestation']>=37) & (df_static_information['gestation_at_rec_time']<30), 'group_new']='<30-TERM'"
   ]
  },
  {
   "cell_type": "code",
   "execution_count": null,
   "metadata": {},
   "outputs": [],
   "source": [
    "df_static_information"
   ]
  },
  {
   "cell_type": "code",
   "execution_count": null,
   "metadata": {},
   "outputs": [],
   "source": [
    "df_preterm, df_term = split_term_preterm_rec_ids(df_static_information, preterm_threshold=37.0)"
   ]
  },
  {
   "cell_type": "code",
   "execution_count": null,
   "metadata": {
    "scrolled": true
   },
   "outputs": [],
   "source": [
    "categorical_features = ['group', 'group_new', c.HYPERTENSION_NAME, c.DIABETES_NAME, c.PLACENTAL_NAME,\n",
    "                            c.BLEEDING_FIRST_TRI_NAME, c.BLEEDING_SEC_TRI_NAME,\n",
    "                            c.FUNNELING_NAME, c.SMOKER_NAME]\n",
    "\n",
    "for cat_feature in categorical_features:\n",
    "    plot_distribution_feature(df_static_information, f'{cat_feature}', categorical=True)\n",
    "    "
   ]
  },
  {
   "cell_type": "code",
   "execution_count": null,
   "metadata": {},
   "outputs": [],
   "source": [
    "output_path = Path(file_paths['output_path'])\n",
    "intermediate_path = output_path / \"intermediate_datafiles\" / 'df_static.csv'"
   ]
  },
  {
   "cell_type": "code",
   "execution_count": null,
   "metadata": {},
   "outputs": [],
   "source": [
    "df_static_information.to_csv(intermediate_path, sep=';')"
   ]
  },
  {
   "cell_type": "code",
   "execution_count": null,
   "metadata": {},
   "outputs": [],
   "source": [
    "plot_distribution_feature(df_static_information, 'group', categorical=True)"
   ]
  },
  {
   "cell_type": "code",
   "execution_count": null,
   "metadata": {},
   "outputs": [],
   "source": [
    "plot_distribution_feature(df_static_information, 'abortions', categorical=False)"
   ]
  },
  {
   "cell_type": "code",
   "execution_count": null,
   "metadata": {},
   "outputs": [],
   "source": [
    "plot_distribution_feature(df_static_information, 'age', categorical=False)"
   ]
  },
  {
   "cell_type": "code",
   "execution_count": null,
   "metadata": {},
   "outputs": [],
   "source": [
    "plot_distribution_feature(df_static_information, 'weight', categorical=False)"
   ]
  },
  {
   "cell_type": "code",
   "execution_count": null,
   "metadata": {},
   "outputs": [],
   "source": [
    "plot_histogram(df_static_information, 'gestation')"
   ]
  },
  {
   "cell_type": "code",
   "execution_count": null,
   "metadata": {},
   "outputs": [],
   "source": [
    "plot_histogram(df_static_information, 'gestation_at_rec_time')"
   ]
  },
  {
   "cell_type": "code",
   "execution_count": null,
   "metadata": {},
   "outputs": [],
   "source": [
    "4/7"
   ]
  },
  {
   "cell_type": "code",
   "execution_count": null,
   "metadata": {},
   "outputs": [],
   "source": [
    "plot_boxplot(df_static_information, 'gestation_at_rec_time')"
   ]
  },
  {
   "cell_type": "code",
   "execution_count": null,
   "metadata": {
    "scrolled": false
   },
   "outputs": [],
   "source": [
    "plot_boxplot(df_static_information, 'gestation')"
   ]
  },
  {
   "cell_type": "code",
   "execution_count": null,
   "metadata": {},
   "outputs": [],
   "source": [
    "plot_boxplot(df_static_information, 'age')"
   ]
  },
  {
   "cell_type": "code",
   "execution_count": null,
   "metadata": {},
   "outputs": [],
   "source": [
    "plot_multiple_boxplots(df_static_information, ['weight', 'age', 'gestation', 'gestation_at_rec_time'])"
   ]
  },
  {
   "cell_type": "code",
   "execution_count": null,
   "metadata": {},
   "outputs": [],
   "source": [
    "plot_differences_preterm_and_term_patients(df_preterm, df_term, 'abortions', categorical=False)"
   ]
  },
  {
   "cell_type": "code",
   "execution_count": null,
   "metadata": {},
   "outputs": [],
   "source": [
    "plot_differences_preterm_and_term_patients(df_preterm, df_term, 'smoker', categorical=True)"
   ]
  },
  {
   "cell_type": "code",
   "execution_count": null,
   "metadata": {},
   "outputs": [],
   "source": [
    "plot_differences_preterm_and_term_patients(df_preterm, df_term, 'parity', categorical=False)"
   ]
  },
  {
   "cell_type": "code",
   "execution_count": null,
   "metadata": {},
   "outputs": [],
   "source": [
    "plot_differences_preterm_and_term_patients(df_preterm, df_term, 'hypertension', categorical=True)"
   ]
  },
  {
   "cell_type": "code",
   "execution_count": null,
   "metadata": {},
   "outputs": [],
   "source": [
    "plot_differences_preterm_and_term_patients(df_preterm, df_term, 'placental_position', categorical=True)"
   ]
  },
  {
   "cell_type": "code",
   "execution_count": null,
   "metadata": {},
   "outputs": [],
   "source": [
    "plot_mean_and_std_variables(df_preterm, df_term, ['age', 'weight', 'gestation', 'gestation_at_rec_time'])"
   ]
  },
  {
   "cell_type": "code",
   "execution_count": null,
   "metadata": {},
   "outputs": [],
   "source": [
    "numeric_features = [c.AGE_NAME, c.PARITY_NAME, c.ABORTIONS_NAME, c.WEIGHT_NAME]\n",
    "categorical_features = [c.HYPERTENSION_NAME, c.DIABETES_NAME, c.PLACENTAL_NAME,\n",
    "                            c.BLEEDING_FIRST_TRI_NAME, c.BLEEDING_SEC_TRI_NAME,\n",
    "                            c.FUNNELING_NAME, c.SMOKER_NAME]\n",
    "create_missing_values_plot(df_static_information, numeric_features, categorical_features)"
   ]
  },
  {
   "cell_type": "markdown",
   "metadata": {},
   "source": [
    "## SIGNAL exploratory data analysis"
   ]
  },
  {
   "cell_type": "code",
   "execution_count": null,
   "metadata": {},
   "outputs": [],
   "source": [
    "test_record = wfdb.rdrecord('C:/Users/AFischer/Documents/PhD_onderzoek/term_preterm_database/term-preterm-ehg-database-1.0.1/term-preterm-ehg-database-1.0.1/tpehgdb/tpehg546')"
   ]
  },
  {
   "cell_type": "code",
   "execution_count": null,
   "metadata": {},
   "outputs": [],
   "source": [
    "display(test_record.__dict__)"
   ]
  },
  {
   "cell_type": "code",
   "execution_count": null,
   "metadata": {
    "scrolled": true
   },
   "outputs": [],
   "source": [
    "plot_ehg_data(data_path, 'tpehg858', 'minutes', df_static_information)"
   ]
  },
  {
   "cell_type": "code",
   "execution_count": null,
   "metadata": {},
   "outputs": [],
   "source": [
    "df_feature_peak = calculate_feature_over_fixed_time_window(df_signals_new,\n",
    "                                                          fixed_seq_length=50,\n",
    "                                                          column_list=['channel_1_filt_0.34_1_hz', \n",
    "                                                                       'channel_2_filt_0.34_1_hz', \n",
    "                                                                       'channel_3_filt_0.34_1_hz'],\n",
    "                                                          feature_name='peak_frequency',\n",
    "                                                          fs=20)"
   ]
  },
  {
   "cell_type": "code",
   "execution_count": null,
   "metadata": {},
   "outputs": [],
   "source": [
    "df_feature_peak"
   ]
  },
  {
   "cell_type": "code",
   "execution_count": null,
   "metadata": {},
   "outputs": [],
   "source": [
    "df_feature_peak[df_feature_peak['rec_id']==1139].iloc[10:20, :]"
   ]
  },
  {
   "cell_type": "code",
   "execution_count": null,
   "metadata": {
    "scrolled": true
   },
   "outputs": [],
   "source": [
    "df_feature_peak[df_feature_peak['rec_id']==1139]"
   ]
  },
  {
   "cell_type": "code",
   "execution_count": null,
   "metadata": {},
   "outputs": [],
   "source": []
  },
  {
   "cell_type": "code",
   "execution_count": null,
   "metadata": {},
   "outputs": [],
   "source": [
    "def plot_feature_data_filtered(path_to_data: str, rec_id: str, df_signals: pd.DataFrame, df_feature,\n",
    "                               time_units: str, channel_names, df_static_information: pd.DataFrame, \n",
    "                               feature_name: str, **kwargs):\n",
    "    \"\"\"\"Plot the EHG signal data of one patient (rec_id).\n",
    "\n",
    "    Parameters\n",
    "    ----------\n",
    "    path_to_data : str\n",
    "        Path to folder with the term-preterm database files.\n",
    "    rec_id : str\n",
    "        Name of the record id.\n",
    "    time_units : str\n",
    "        The x axis unit. Allowed options are: 'samples', 'seconds', 'minutes',\n",
    "        and 'hours'.\n",
    "    df_static_information : pd.DataFrame\n",
    "        Dataframe that contains the demographic data of the record id.\n",
    "    kwargs:\n",
    "        Dictionary of parameters to pass to make_subplots.update_xaxes()\n",
    "\n",
    "    Returns\n",
    "    -------\n",
    "    type : plotly.graph_objs\n",
    "        Line plot of the EHG signal data of one record id.\n",
    "    \"\"\"\n",
    "    data_path = Path(f'{path_to_data}')\n",
    "    path_to_signals = data_path / \"tpehgdb\"\n",
    "\n",
    "    # TO DO: Write functionality to input a flexible number of channels you want to plot and create\n",
    "    # the color codes and grid accordingly\n",
    "    colors = ['rgb(67,67,67)', 'rgb(115,115,115)', 'rgb(49,130,189)', 'rgb(189,189,189)',\n",
    "              'rgb(67,67,67)', 'rgb(115,115,115)', 'rgb(49,130,189)', 'rgb(189,189,189)',\n",
    "              'rgb(67,67,67)', 'rgb(115,115,115)', 'rgb(49,130,189)', 'rgb(189,189,189)']\n",
    "\n",
    "    channel_data = ['channel_1', 'channel_1_filt_0.08_4_hz', 'channel_1_filt_0.3_3_hz', 'channel_1_filt_0.3_4_hz',\n",
    "                    'channel_2', 'channel_2_filt_0.08_4_hz', 'channel_2_filt_0.3_3_hz', 'channel_2_filt_0.3_4_hz',\n",
    "                    'channel_3', 'channel_3_filt_0.08_4_hz', 'channel_3_filt_0.3_3_hz', 'channel_3_filt_0.3_4_hz']\n",
    "\n",
    "    min_value_signal = df_feature_peak[channel_names].min().min() - 0.05\n",
    "    max_value_signal = df_feature_peak[channel_names].max().max() + 0.05\n",
    "\n",
    "    line_size = 2\n",
    "    grid = [(1, 1), (2, 1), (3, 1)]\n",
    "\n",
    "    # This record object contains all signal data and its properties (such as sampling rate, etc.) of\n",
    "    # one record id.\n",
    "    record = wfdb.rdrecord(f'{path_to_signals}/{rec_id}')\n",
    "    rec_id = int(record.record_name.split('tpehg')[1])\n",
    "\n",
    "    record_length = len(df_signals.query('rec_id==@rec_id').reset_index(drop=True))\n",
    "\n",
    "    # The preterm_term_gestation variable contains the gestation length\n",
    "    preterm_term_gestation = df_static_information.query('rec_id==@rec_id')['gestation'].iloc[0]\n",
    "    preterm_term_rec_moment = df_static_information.query('rec_id==@rec_id')['gestation_at_rec_time'].iloc[0]\n",
    "\n",
    "    # We plot each channel in a separate subplot\n",
    "    fig = make_subplots(rows=3, cols=1,\n",
    "                        subplot_titles=channel_names)\n",
    "    \n",
    "    # Construct time indices for the x-axis\n",
    "    if time_units == 'samples':\n",
    "        t = np.linspace(0, record_length - 1, record_length)\n",
    "    else:\n",
    "        downsample_factor = {'seconds': record.fs, 'minutes': record.fs * 60,\n",
    "                             'hours': record.fs * 3600}\n",
    "        t = np.linspace(0, record_length - 1, record_length) / downsample_factor[time_units]\n",
    "        \n",
    "    x_axis = np.linspace(0, max(t), num=len(df_feature[df_feature['rec_id'] == rec_id]))\n",
    "\n",
    "    for index, name in enumerate(channel_names):\n",
    "        fig.add_trace(go.Scatter(x=x_axis, \n",
    "                                 y=df_feature[df_feature['rec_id'] == rec_id][f'{name}'].values, mode='lines',\n",
    "                                 name=name, line=dict(color=colors[index], width=line_size),\n",
    "                                 connectgaps=True),\n",
    "                      row=grid[index][0],\n",
    "                      col=grid[index][1])\n",
    "        fig.update_yaxes(title_text='Hz', range=[min_value_signal, max_value_signal])\n",
    "\n",
    "    fig.update_layout(template='plotly_white', height=1100, showlegend=False,\n",
    "                      title=dict(\n",
    "                          text=f'<b>{feature_name} of patient {rec_id}, gestation: {preterm_term_gestation} wks, '\n",
    "                               f'rec_moment: {preterm_term_rec_moment} wks</b>',\n",
    "                          x=0.5,\n",
    "                          y=0.98,\n",
    "                          font=dict(\n",
    "                              family=\"Arial\",\n",
    "                              size=20,\n",
    "                              color='#000000'\n",
    "                          )\n",
    "                      )\n",
    "                      )\n",
    "    # dtick indicates the tick step and is set in such way that we have approx. 5 ticks on the x axis\n",
    "    if 'range' in kwargs:\n",
    "        dtick = int(np.diff(kwargs['range']) / 5)\n",
    "    else:\n",
    "        dtick = int(max(t) / 5)\n",
    "\n",
    "    fig.update_xaxes(title_text=f'{time_units}', tick0=0, dtick=dtick, **kwargs)\n",
    "    fig.show()"
   ]
  },
  {
   "cell_type": "code",
   "execution_count": null,
   "metadata": {},
   "outputs": [],
   "source": [
    "def plot_feature_data_filtered_zoomed(path_to_data: str, rec_id: str, df_signals: pd.DataFrame, df_feature,\n",
    "                               time_units: str, channel_names, df_static_information: pd.DataFrame, \n",
    "                               feature_name: str, interval: str, reduced, **kwargs):\n",
    "    \"\"\"\"Plot the EHG signal data of one patient (rec_id).\n",
    "\n",
    "    Parameters\n",
    "    ----------\n",
    "    path_to_data : str\n",
    "        Path to folder with the term-preterm database files.\n",
    "    rec_id : str\n",
    "        Name of the record id.\n",
    "    time_units : str\n",
    "        The x axis unit. Allowed options are: 'samples', 'seconds', 'minutes',\n",
    "        and 'hours'.\n",
    "    df_static_information : pd.DataFrame\n",
    "        Dataframe that contains the demographic data of the record id.\n",
    "    kwargs:\n",
    "        Dictionary of parameters to pass to make_subplots.update_xaxes()\n",
    "\n",
    "    Returns\n",
    "    -------\n",
    "    type : plotly.graph_objs\n",
    "        Line plot of the EHG signal data of one record id.\n",
    "    \"\"\"\n",
    "    data_path = Path(f'{path_to_data}')\n",
    "    path_to_signals = data_path / \"tpehgdb\"\n",
    "\n",
    "    # TO DO: Write functionality to input a flexible number of channels you want to plot and create\n",
    "    # the color codes and grid accordingly\n",
    "    colors = ['rgb(67,67,67)', 'rgb(115,115,115)', 'rgb(49,130,189)', 'rgb(189,189,189)',\n",
    "              'rgb(67,67,67)', 'rgb(115,115,115)', 'rgb(49,130,189)', 'rgb(189,189,189)',\n",
    "              'rgb(67,67,67)', 'rgb(115,115,115)', 'rgb(49,130,189)', 'rgb(189,189,189)']\n",
    "\n",
    "    channel_data = ['channel_1', 'channel_1_filt_0.08_4_hz', 'channel_1_filt_0.3_3_hz', 'channel_1_filt_0.3_4_hz',\n",
    "                    'channel_2', 'channel_2_filt_0.08_4_hz', 'channel_2_filt_0.3_3_hz', 'channel_2_filt_0.3_4_hz',\n",
    "                    'channel_3', 'channel_3_filt_0.08_4_hz', 'channel_3_filt_0.3_3_hz', 'channel_3_filt_0.3_4_hz']\n",
    "\n",
    "\n",
    "\n",
    "    line_size = 2\n",
    "    grid = [(1, 1), (2, 1), (3, 1)]\n",
    "\n",
    "    # This record object contains all signal data and its properties (such as sampling rate, etc.) of\n",
    "    # one record id.\n",
    "    record = wfdb.rdrecord(f'{path_to_signals}/{rec_id}')\n",
    "    rec_id = int(record.record_name.split('tpehg')[1])\n",
    "\n",
    "    record_length = len(df_signals.query('rec_id==@rec_id').reset_index(drop=True))\n",
    "\n",
    "    # The preterm_term_gestation variable contains the gestation length\n",
    "    preterm_term_gestation = df_static_information.query('rec_id==@rec_id')['gestation'].iloc[0]\n",
    "    preterm_term_rec_moment = df_static_information.query('rec_id==@rec_id')['gestation_at_rec_time'].iloc[0]\n",
    "\n",
    "    # We plot each channel in a separate subplot\n",
    "    fig = make_subplots(rows=3, cols=1,\n",
    "                        subplot_titles=channel_names)\n",
    "    \n",
    "        \n",
    "    if reduced:\n",
    "        df_plot = df_feature.copy()\n",
    "        # Construct time indices for the x-axis\n",
    "        if time_units == 'samples':\n",
    "            t = np.linspace(0, record_length - 1, record_length)\n",
    "        else:\n",
    "            downsample_factor = {'seconds': record.fs, 'minutes': record.fs * 60,\n",
    "                                 'hours': record.fs * 3600}\n",
    "            t = np.linspace(0, record_length - 1, record_length) / downsample_factor[time_units]\n",
    "        min_value_signal = 0\n",
    "        max_value_signal = 1\n",
    "        \n",
    "        if interval == 'interval_1':\n",
    "            interval_zoomed = list(range(0, 10))\n",
    "        elif interval == 'interval_2':\n",
    "            interval_zoomed = list(range(10, 20))\n",
    "        elif interval == 'interval_3':\n",
    "            interval_zoomed = list(range(20, 30))\n",
    "        elif interval == 'interval_4':\n",
    "            interval_zoomed = list(range(30, 40))\n",
    "        elif interval == 'interval_5':\n",
    "            interval_zoomed = list(range(40, 50))\n",
    "            \n",
    "        x_axis = np.linspace(0, max(t), num=len(df_feature[df_feature['rec_id'] == rec_id]))[interval_zoomed]\n",
    "\n",
    "    if not reduced:\n",
    "        df_plot = df_signals.copy()\n",
    "        # Construct time indices for the x-axis\n",
    "        if time_units == 'samples':\n",
    "            t = np.linspace(0, record_length - 1, record_length)\n",
    "        else:\n",
    "            downsample_factor = {'seconds': record.fs, 'minutes': record.fs * 60,\n",
    "                                 'hours': record.fs * 3600}\n",
    "            t = np.linspace(0, record_length - 1, record_length) / downsample_factor[time_units]\n",
    "        min_value_signal = -0.1\n",
    "        max_value_signal = 0.1\n",
    "        \n",
    "        # 50 is the fixed_seq_length\n",
    "        chunked_rec_id = np.array_split(df_signals.loc[df_signals[c.REC_ID_NAME]==rec_id, :], 50)\n",
    "        \n",
    "        if interval == 'interval_1':\n",
    "            interval_zoomed = list(range(0, sum([len(ele) for ele in chunked_rec_id][0:10])))\n",
    "        elif interval == 'interval_2':\n",
    "            interval_zoomed = list(range(sum([len(ele) for ele in chunked_rec_id][0:10]), sum([len(ele) for ele in chunked_rec_id][0:20])))\n",
    "        elif interval == 'interval_3':\n",
    "            interval_zoomed = list(range(sum([len(ele) for ele in chunked_rec_id][0:20]), sum([len(ele) for ele in chunked_rec_id][0:30])))\n",
    "        elif interval == 'interval_4':\n",
    "            interval_zoomed = list(range(sum([len(ele) for ele in chunked_rec_id][0:30]), sum([len(ele) for ele in chunked_rec_id][0:40])))\n",
    "        elif interval == 'interval_5':\n",
    "            interval_zoomed = list(range(sum([len(ele) for ele in chunked_rec_id][0:40]), sum([len(ele) for ele in chunked_rec_id][0:50])))\n",
    "        \n",
    "        x_axis = np.linspace(0, max(t), num=len(df_signals[df_signals['rec_id'] == rec_id]))[interval_zoomed]\n",
    "\n",
    "\n",
    "    for index, name in enumerate(channel_names):\n",
    "        if reduced:\n",
    "            y = df_plot[df_plot['rec_id']==rec_id].reset_index(drop=True).iloc[interval_zoomed][f'{name}'].values\n",
    "            \n",
    "        if not reduced:\n",
    "            y = df_plot[df_plot['rec_id']==rec_id].iloc[interval_zoomed][f'{name}'].values                        \n",
    "\n",
    "        fig.add_trace(go.Scatter(x=x_axis, \n",
    "                                 y=y, mode='lines',\n",
    "                                 name=f'<b>{name}<b>', line=dict(color=colors[index], width=line_size),\n",
    "                                 connectgaps=True),\n",
    "                      row=grid[index][0],\n",
    "                      col=grid[index][1])\n",
    "        if reduced:\n",
    "            fig.update_yaxes(title_text='<b>Hz<b>', range=[min_value_signal, max_value_signal], \n",
    "                             tickprefix=\"<b>\",ticksuffix =\"</b><br>\", tickfont = dict(size=20))\n",
    "            fig.update_layout(template='plotly_white', height=1100, showlegend=False,\n",
    "                  title=dict(\n",
    "                      text=f'<b>{feature_name} patient {rec_id}, gestation: {preterm_term_gestation} wks, '\n",
    "                           f'rec_moment: {preterm_term_rec_moment} wks</b>',\n",
    "                      x=0.5,\n",
    "                      y=0.98,\n",
    "                      font=dict(\n",
    "                          family=\"Arial\",\n",
    "                          size=25,\n",
    "                          color='#000000'\n",
    "                      )\n",
    "                  )\n",
    "                  )\n",
    "\n",
    "        if not reduced:\n",
    "            fig.update_yaxes(title_text=record.units[index], range=[min_value_signal, max_value_signal], \n",
    "                             tickprefix=\"<b>\",ticksuffix =\"</b><br>\", tickfont = dict(size=20))\n",
    "            fig.update_layout(template='plotly_white', height=1100, showlegend=False,\n",
    "              title=dict(\n",
    "                  text=f'<b>EHG data patient {rec_id}, gestation: {preterm_term_gestation} wks, '\n",
    "                       f'rec_moment: {preterm_term_rec_moment} wks</b>',\n",
    "                  x=0.5,\n",
    "                  y=0.98,\n",
    "                  font=dict(\n",
    "                      family=\"Arial\",\n",
    "                      size=25,\n",
    "                      color='#000000'\n",
    "                  )\n",
    "              )\n",
    "              )\n",
    "\n",
    "\n",
    "    # dtick indicates the tick step and is set in such way that we have approx. 5 ticks on the x axis\n",
    "    if 'range' in kwargs:\n",
    "        dtick = int(np.diff(kwargs['range']) / 5)\n",
    "    else:\n",
    "        dtick = int(max(x_axis) / 5)\n",
    "\n",
    "    fig.update_xaxes(title_text=f'<b>{time_units}<b>', tick0=0, dtick=dtick, \n",
    "                     tickprefix=\"<b>\",ticksuffix =\"</b><br>\", tickfont = dict(size=20), **kwargs)\n",
    "    \n",
    "    if reduced:\n",
    "        fig.write_image(f'/Users/AFischer/Documents/PhD_onderzoek/AI_in_Medicine/Figures/{rec_id}_{feature_name}_{interval}_zoomed_in.png', width=1000)\n",
    "    if not reduced:\n",
    "        fig.write_image(f'/Users/AFischer/Documents/PhD_onderzoek/AI_in_Medicine/Figures/{rec_id}_{interval}_ehg_zoomed_in.png', width=1000)\n",
    "\n",
    "    fig.show()"
   ]
  },
  {
   "cell_type": "code",
   "execution_count": null,
   "metadata": {},
   "outputs": [],
   "source": [
    "# Prediction sequence: False, True, True, True, True\n",
    "plot_ehg_data_filtered(data_path, 'tpehg858', df_signals_new, 'minutes', \n",
    "                       ['channel_1_filt_0.34_1_hz', 'channel_2_filt_0.34_1_hz', 'channel_3_filt_0.34_1_hz'], \n",
    "                       df_static_information)"
   ]
  },
  {
   "cell_type": "code",
   "execution_count": null,
   "metadata": {},
   "outputs": [],
   "source": [
    "# Cases with 6 weeks or less between moment of recording and birth in test set: 858, 1532, 553, 1007, 914"
   ]
  },
  {
   "cell_type": "code",
   "execution_count": null,
   "metadata": {
    "scrolled": true
   },
   "outputs": [],
   "source": [
    "# Prediction sequence: False, True, True, True, True\n",
    "# 0.456896\t0.612274\t0.550081\t0.521483\t0.507764\n",
    "plot_ehg_data_filtered(data_path, 'tpehg858', df_signals_new, 'minutes', \n",
    "                       ['channel_1_filt_0.34_1_hz', 'channel_2_filt_0.34_1_hz', 'channel_3_filt_0.34_1_hz'], \n",
    "                       df_static_information)"
   ]
  },
  {
   "cell_type": "code",
   "execution_count": null,
   "metadata": {},
   "outputs": [],
   "source": [
    "intervals = ['interval_1', 'interval_2', 'interval_3', 'interval_4', 'interval_5']\n",
    "\n",
    "for interval in intervals:\n",
    "    plot_feature_data_filtered_zoomed(data_path, 'tpehg858', df_signals_new, df_feature_peak, 'minutes', \n",
    "                               ['channel_1_filt_0.34_1_hz', 'channel_2_filt_0.34_1_hz', 'channel_3_filt_0.34_1_hz'], \n",
    "                               df_static_information, feature_name='Peak frequency', interval=interval, \n",
    "                                      reduced=False)"
   ]
  },
  {
   "cell_type": "code",
   "execution_count": null,
   "metadata": {
    "scrolled": true
   },
   "outputs": [],
   "source": [
    "# Prediction sequence: True, True, True, True, False\n",
    "# 0.708029\t0.598184\t0.652287\t0.631425\t0.497701\n",
    "plot_ehg_data_filtered(data_path, 'tpehg1532', df_signals_new, 'minutes', \n",
    "                       ['channel_1_filt_0.34_1_hz', 'channel_2_filt_0.34_1_hz', 'channel_3_filt_0.34_1_hz'], \n",
    "                       df_static_information)"
   ]
  },
  {
   "cell_type": "code",
   "execution_count": null,
   "metadata": {},
   "outputs": [],
   "source": [
    "intervals = ['interval_1', 'interval_2', 'interval_3', 'interval_4', 'interval_5']\n",
    "\n",
    "for interval in intervals:\n",
    "    plot_feature_data_filtered_zoomed(data_path, 'tpehg1532', df_signals_new, df_feature_peak, 'minutes', \n",
    "                               ['channel_1_filt_0.34_1_hz', 'channel_2_filt_0.34_1_hz', 'channel_3_filt_0.34_1_hz'], \n",
    "                               df_static_information, feature_name='Peak frequency', interval=interval, \n",
    "                                      reduced=False)"
   ]
  },
  {
   "cell_type": "code",
   "execution_count": null,
   "metadata": {
    "scrolled": true
   },
   "outputs": [],
   "source": [
    "# Prediction sequence: False, True, True, True, True\n",
    "# 0.495028\t0.739480\t0.692078\t0.622346\t0.564779\n",
    "plot_ehg_data_filtered(data_path, 'tpehg553', df_signals_new, 'minutes', \n",
    "                       ['channel_1_filt_0.34_1_hz', 'channel_2_filt_0.34_1_hz', 'channel_3_filt_0.34_1_hz'], \n",
    "                       df_static_information)"
   ]
  },
  {
   "cell_type": "code",
   "execution_count": null,
   "metadata": {
    "scrolled": true
   },
   "outputs": [],
   "source": [
    "# Highest prediction interval 2\n",
    "plot_feature_data_filtered_zoomed(data_path, 'tpehg553', df_signals_new, df_feature_peak, 'minutes', \n",
    "                               ['channel_1_filt_0.34_1_hz', 'channel_2_filt_0.34_1_hz', 'channel_3_filt_0.34_1_hz'], \n",
    "                               df_static_information, feature_name='Peak frequency', interval='interval_2', \n",
    "                                      reduced=True)"
   ]
  },
  {
   "cell_type": "code",
   "execution_count": null,
   "metadata": {},
   "outputs": [],
   "source": [
    "intervals = ['interval_1', 'interval_2', 'interval_3', 'interval_4', 'interval_5']\n",
    "\n",
    "for interval in intervals:\n",
    "    plot_feature_data_filtered_zoomed(data_path, 'tpehg553', df_signals_new, df_feature_peak, 'minutes', \n",
    "                               ['channel_1_filt_0.34_1_hz', 'channel_2_filt_0.34_1_hz', 'channel_3_filt_0.34_1_hz'], \n",
    "                               df_static_information, feature_name='Peak frequency', interval=interval, \n",
    "                                      reduced=False)"
   ]
  },
  {
   "cell_type": "code",
   "execution_count": null,
   "metadata": {
    "scrolled": true
   },
   "outputs": [],
   "source": [
    "# Prediction sequence: False, True, True, True, True\n",
    "# 0.466566\t0.589486\t0.718441\t0.659012\t0.572671\n",
    "plot_ehg_data_filtered(data_path, 'tpehg1007', df_signals_new, 'minutes', \n",
    "                       ['channel_1_filt_0.34_1_hz', 'channel_2_filt_0.34_1_hz', 'channel_3_filt_0.34_1_hz'], \n",
    "                       df_static_information)"
   ]
  },
  {
   "cell_type": "code",
   "execution_count": null,
   "metadata": {},
   "outputs": [],
   "source": [
    "intervals = ['interval_1', 'interval_2', 'interval_3', 'interval_4', 'interval_5']\n",
    "\n",
    "for interval in intervals:\n",
    "    plot_feature_data_filtered_zoomed(data_path, 'tpehg1007', df_signals_new, df_feature_peak, 'minutes', \n",
    "                               ['channel_1_filt_0.34_1_hz', 'channel_2_filt_0.34_1_hz', 'channel_3_filt_0.34_1_hz'], \n",
    "                               df_static_information, feature_name='Peak frequency', interval=interval, \n",
    "                                      reduced=False)"
   ]
  },
  {
   "cell_type": "code",
   "execution_count": null,
   "metadata": {
    "scrolled": true
   },
   "outputs": [],
   "source": [
    "# Prediction sequence: False, True, True, False, True\n",
    "# 0.476266\t0.515207\t0.601704\t0.449855\t0.510644\n",
    "plot_ehg_data_filtered(data_path, 'tpehg914', df_signals_new, 'minutes', \n",
    "                       ['channel_1_filt_0.34_1_hz', 'channel_2_filt_0.34_1_hz', 'channel_3_filt_0.34_1_hz'], \n",
    "                       df_static_information)"
   ]
  },
  {
   "cell_type": "code",
   "execution_count": null,
   "metadata": {},
   "outputs": [],
   "source": [
    "intervals = ['interval_1', 'interval_2', 'interval_3', 'interval_4', 'interval_5']\n",
    "\n",
    "for interval in intervals:\n",
    "    plot_feature_data_filtered_zoomed(data_path, 'tpehg914', df_signals_new, df_feature_peak, 'minutes', \n",
    "                               ['channel_1_filt_0.34_1_hz', 'channel_2_filt_0.34_1_hz', 'channel_3_filt_0.34_1_hz'], \n",
    "                               df_static_information, feature_name='Peak frequency', interval=interval, \n",
    "                                      reduced=False)"
   ]
  },
  {
   "cell_type": "code",
   "execution_count": null,
   "metadata": {},
   "outputs": [],
   "source": []
  },
  {
   "cell_type": "code",
   "execution_count": null,
   "metadata": {},
   "outputs": [],
   "source": [
    "rec_ids_test_preterm = [858, 641, 1532, 1436, 1007, 914, 1302, 1476]"
   ]
  },
  {
   "cell_type": "code",
   "execution_count": null,
   "metadata": {},
   "outputs": [],
   "source": [
    "# Rec ids and corresponding interval with the highest probability prediction from X_test\n",
    "# 966 - interval 4 (0.830007)\n",
    "# 1436 - interval 4 (0.809859)\n",
    "# 1630 - interval 5 (0.837803)\n",
    "# 1546 - interval 5 (0.829328)\n",
    "# 827 - interval 1 (0.892898)\n",
    "# 1626 - interval 2 (0.794634)\n",
    "# 1302 - interval 1 (0.802446)\n",
    "# 1089 - interval 1 (0.932795)\n",
    "# 1659 - interval 2 (0.836039)\n",
    "# 888 - interval 5 (0.884055)"
   ]
  },
  {
   "cell_type": "code",
   "execution_count": null,
   "metadata": {},
   "outputs": [],
   "source": [
    "rec_ids_highest_prob = [966, 1436, 1630, 1546, 827, 1626, 1302, 1089, 1659, 888]\n",
    "intervals_highest_prob = ['interval_4', 'interval_4', 'interval_5', 'interval_5', 'interval_1', 'interval_2', \n",
    "                         'interval_1', 'interval_1', 'interval_2', 'interval_5']"
   ]
  },
  {
   "cell_type": "code",
   "execution_count": null,
   "metadata": {},
   "outputs": [],
   "source": [
    "rec_ids_lowest_prob = [1360, 1228, 697, 697, 1089, 1492, 1653, 927, 1476, 1717]\n",
    "intervals_lowest_prob = ['interval_2', 'interval_5', 'interval_2', 'interval_5', 'interval_4', \n",
    "                         'interval_2', 'interval_1', 'interval_2', 'interval_4', 'interval_2']"
   ]
  },
  {
   "cell_type": "code",
   "execution_count": null,
   "metadata": {},
   "outputs": [],
   "source": []
  },
  {
   "cell_type": "code",
   "execution_count": null,
   "metadata": {},
   "outputs": [],
   "source": [
    "df_result_high_prob = pd.DataFrame(columns=['rec_id', 'channel', 'std'])\n",
    "channel_names = ['channel_1_filt_0.34_1_hz', 'channel_2_filt_0.34_1_hz', 'channel_3_filt_0.34_1_hz']\n",
    "for (rec_id, interval) in zip(rec_ids_highest_prob, intervals_highest_prob):\n",
    "    if interval == 'interval_1':\n",
    "        interval_zoomed = list(range(0, 10))\n",
    "    elif interval == 'interval_2':\n",
    "        interval_zoomed = list(range(10, 20))\n",
    "    elif interval == 'interval_3':\n",
    "        interval_zoomed = list(range(20, 30))\n",
    "    elif interval == 'interval_4':\n",
    "        interval_zoomed = list(range(30, 40))\n",
    "    elif interval == 'interval_5':\n",
    "        interval_zoomed = list(range(40, 50))\n",
    "    for channel in channel_names:\n",
    "        std_channel = df_feature_peak[df_feature_peak['rec_id']==rec_id].reset_index(drop=True).iloc[interval_zoomed][f'{channel}'].values.std()\n",
    "        df_result_high_prob.loc[len(df_result_high_prob)] = [rec_id, channel, std_channel]\n",
    "    "
   ]
  },
  {
   "cell_type": "code",
   "execution_count": null,
   "metadata": {},
   "outputs": [],
   "source": [
    "df_result_high_prob.head()"
   ]
  },
  {
   "cell_type": "code",
   "execution_count": null,
   "metadata": {},
   "outputs": [],
   "source": [
    "df_result_high_prob[df_result_high_prob['channel']=='channel_1_filt_0.34_1_hz']['std'].mean()"
   ]
  },
  {
   "cell_type": "code",
   "execution_count": null,
   "metadata": {},
   "outputs": [],
   "source": [
    "df_result_high_prob[df_result_high_prob['channel']=='channel_2_filt_0.34_1_hz']['std'].mean()"
   ]
  },
  {
   "cell_type": "code",
   "execution_count": null,
   "metadata": {},
   "outputs": [],
   "source": [
    "df_result_high_prob[df_result_high_prob['channel']=='channel_3_filt_0.34_1_hz']['std'].mean()"
   ]
  },
  {
   "cell_type": "code",
   "execution_count": null,
   "metadata": {},
   "outputs": [],
   "source": [
    "df_result_low_prob = pd.DataFrame(columns=['rec_id', 'channel', 'std'])\n",
    "channel_names = ['channel_1_filt_0.34_1_hz', 'channel_2_filt_0.34_1_hz', 'channel_3_filt_0.34_1_hz']\n",
    "for (rec_id, interval) in zip(rec_ids_lowest_prob, intervals_lowest_prob):\n",
    "    if interval == 'interval_1':\n",
    "        interval_zoomed = list(range(0, 10))\n",
    "    elif interval == 'interval_2':\n",
    "        interval_zoomed = list(range(10, 20))\n",
    "    elif interval == 'interval_3':\n",
    "        interval_zoomed = list(range(20, 30))\n",
    "    elif interval == 'interval_4':\n",
    "        interval_zoomed = list(range(30, 40))\n",
    "    elif interval == 'interval_5':\n",
    "        interval_zoomed = list(range(40, 50))\n",
    "    for channel in channel_names:\n",
    "        std_channel = df_feature_peak[df_feature_peak['rec_id']==rec_id].reset_index(drop=True).iloc[interval_zoomed][f'{channel}'].values.std()\n",
    "        df_result_low_prob.loc[len(df_result_low_prob)] = [rec_id, channel, std_channel]\n",
    "    "
   ]
  },
  {
   "cell_type": "code",
   "execution_count": null,
   "metadata": {
    "scrolled": true
   },
   "outputs": [],
   "source": [
    "df_result_low_prob[df_result_low_prob['channel']=='channel_1_filt_0.34_1_hz']['std'].mean()"
   ]
  },
  {
   "cell_type": "code",
   "execution_count": null,
   "metadata": {},
   "outputs": [],
   "source": [
    "df_result_low_prob[df_result_low_prob['channel']=='channel_2_filt_0.34_1_hz']['std'].mean()"
   ]
  },
  {
   "cell_type": "code",
   "execution_count": null,
   "metadata": {},
   "outputs": [],
   "source": [
    "df_result_low_prob[df_result_low_prob['channel']=='channel_3_filt_0.34_1_hz']['std'].mean()"
   ]
  },
  {
   "cell_type": "code",
   "execution_count": null,
   "metadata": {
    "scrolled": true
   },
   "outputs": [],
   "source": [
    "plot_feature_data_filtered_zoomed(data_path, 'tpehg966', df_signals_new, df_feature_peak, 'minutes', \n",
    "                           ['channel_1_filt_0.34_1_hz', 'channel_2_filt_0.34_1_hz', 'channel_3_filt_0.34_1_hz'], \n",
    "                           df_static_information, feature_name='Peak frequency', interval='interval_4', \n",
    "                                  reduced=True)\n"
   ]
  },
  {
   "cell_type": "code",
   "execution_count": null,
   "metadata": {
    "scrolled": true
   },
   "outputs": [],
   "source": [
    "plot_feature_data_filtered_zoomed(data_path, 'tpehg966', df_signals_new, df_feature_peak, 'minutes', \n",
    "                           ['channel_1_filt_0.34_1_hz', 'channel_2_filt_0.34_1_hz', 'channel_3_filt_0.34_1_hz'], \n",
    "                           df_static_information, feature_name='Peak frequency', interval='interval_4', \n",
    "                                  reduced=False)"
   ]
  },
  {
   "cell_type": "code",
   "execution_count": null,
   "metadata": {
    "scrolled": true
   },
   "outputs": [],
   "source": [
    "plot_feature_data_filtered_zoomed(data_path, 'tpehg1436', df_signals_new, df_feature_peak, 'minutes', \n",
    "                           ['channel_1_filt_0.34_1_hz', 'channel_2_filt_0.34_1_hz', 'channel_3_filt_0.34_1_hz'], \n",
    "                           df_static_information, feature_name='Peak frequency', interval='interval_4', reduced=True)"
   ]
  },
  {
   "cell_type": "code",
   "execution_count": null,
   "metadata": {
    "scrolled": true
   },
   "outputs": [],
   "source": [
    "plot_feature_data_filtered_zoomed(data_path, 'tpehg1436', df_signals_new, df_feature_peak, 'minutes', \n",
    "                           ['channel_1_filt_0.34_1_hz', 'channel_2_filt_0.34_1_hz', 'channel_3_filt_0.34_1_hz'], \n",
    "                           df_static_information, feature_name='Peak frequency', interval='interval_4', reduced=False)"
   ]
  },
  {
   "cell_type": "code",
   "execution_count": null,
   "metadata": {
    "scrolled": true
   },
   "outputs": [],
   "source": [
    "plot_feature_data_filtered_zoomed(data_path, 'tpehg1630', df_signals_new, df_feature_peak, 'minutes', \n",
    "                           ['channel_1_filt_0.34_1_hz', 'channel_2_filt_0.34_1_hz', 'channel_3_filt_0.34_1_hz'], \n",
    "                           df_static_information, feature_name='Peak frequency', interval='interval_5', reduced=True)"
   ]
  },
  {
   "cell_type": "code",
   "execution_count": null,
   "metadata": {
    "scrolled": true
   },
   "outputs": [],
   "source": [
    "plot_feature_data_filtered_zoomed(data_path, 'tpehg1630', df_signals_new, df_feature_peak, 'minutes', \n",
    "                           ['channel_1_filt_0.34_1_hz', 'channel_2_filt_0.34_1_hz', 'channel_3_filt_0.34_1_hz'], \n",
    "                           df_static_information, feature_name='Peak frequency', interval='interval_5', reduced=False)"
   ]
  },
  {
   "cell_type": "code",
   "execution_count": null,
   "metadata": {
    "scrolled": true
   },
   "outputs": [],
   "source": [
    "plot_feature_data_filtered_zoomed(data_path, 'tpehg1546', df_signals_new, df_feature_peak, 'minutes', \n",
    "                           ['channel_1_filt_0.34_1_hz', 'channel_2_filt_0.34_1_hz', 'channel_3_filt_0.34_1_hz'], \n",
    "                           df_static_information, feature_name='Peak frequency', interval='interval_5', reduced=True)"
   ]
  },
  {
   "cell_type": "code",
   "execution_count": null,
   "metadata": {
    "scrolled": true
   },
   "outputs": [],
   "source": [
    "plot_feature_data_filtered_zoomed(data_path, 'tpehg1546', df_signals_new, df_feature_peak, 'minutes', \n",
    "                           ['channel_1_filt_0.34_1_hz', 'channel_2_filt_0.34_1_hz', 'channel_3_filt_0.34_1_hz'], \n",
    "                           df_static_information, feature_name='Peak frequency', interval='interval_5', reduced=False)"
   ]
  },
  {
   "cell_type": "code",
   "execution_count": null,
   "metadata": {
    "scrolled": true
   },
   "outputs": [],
   "source": [
    "plot_feature_data_filtered_zoomed(data_path, 'tpehg827', df_signals_new, df_feature_peak, 'minutes', \n",
    "                           ['channel_1_filt_0.34_1_hz', 'channel_2_filt_0.34_1_hz', 'channel_3_filt_0.34_1_hz'], \n",
    "                           df_static_information, feature_name='Peak frequency', interval='interval_1', reduced=True)"
   ]
  },
  {
   "cell_type": "code",
   "execution_count": null,
   "metadata": {
    "scrolled": true
   },
   "outputs": [],
   "source": [
    "plot_feature_data_filtered_zoomed(data_path, 'tpehg827', df_signals_new, df_feature_peak, 'minutes', \n",
    "                           ['channel_1_filt_0.34_1_hz', 'channel_2_filt_0.34_1_hz', 'channel_3_filt_0.34_1_hz'], \n",
    "                           df_static_information, feature_name='Peak frequency', interval='interval_1', reduced=False)"
   ]
  },
  {
   "cell_type": "code",
   "execution_count": null,
   "metadata": {
    "scrolled": true
   },
   "outputs": [],
   "source": [
    "plot_feature_data_filtered_zoomed(data_path, 'tpehg1626', df_signals_new, df_feature_peak, 'minutes', \n",
    "                           ['channel_1_filt_0.34_1_hz', 'channel_2_filt_0.34_1_hz', 'channel_3_filt_0.34_1_hz'], \n",
    "                           df_static_information, feature_name='Peak frequency', interval='interval_2', reduced=True)"
   ]
  },
  {
   "cell_type": "code",
   "execution_count": null,
   "metadata": {
    "scrolled": true
   },
   "outputs": [],
   "source": [
    "plot_feature_data_filtered_zoomed(data_path, 'tpehg1626', df_signals_new, df_feature_peak, 'minutes', \n",
    "                           ['channel_1_filt_0.34_1_hz', 'channel_2_filt_0.34_1_hz', 'channel_3_filt_0.34_1_hz'], \n",
    "                           df_static_information, feature_name='Peak frequency', interval='interval_2', reduced=False)"
   ]
  },
  {
   "cell_type": "code",
   "execution_count": null,
   "metadata": {
    "scrolled": true
   },
   "outputs": [],
   "source": [
    "plot_feature_data_filtered_zoomed(data_path, 'tpehg1302', df_signals_new, df_feature_peak, 'minutes', \n",
    "                           ['channel_1_filt_0.34_1_hz', 'channel_2_filt_0.34_1_hz', 'channel_3_filt_0.34_1_hz'], \n",
    "                           df_static_information, feature_name='Peak frequency', interval='interval_1', reduced=True)"
   ]
  },
  {
   "cell_type": "code",
   "execution_count": null,
   "metadata": {
    "scrolled": true
   },
   "outputs": [],
   "source": [
    "plot_feature_data_filtered_zoomed(data_path, 'tpehg1302', df_signals_new, df_feature_peak, 'minutes', \n",
    "                           ['channel_1_filt_0.34_1_hz', 'channel_2_filt_0.34_1_hz', 'channel_3_filt_0.34_1_hz'], \n",
    "                           df_static_information, feature_name='Peak frequency', interval='interval_1', reduced=False)"
   ]
  },
  {
   "cell_type": "code",
   "execution_count": null,
   "metadata": {
    "scrolled": true
   },
   "outputs": [],
   "source": [
    "plot_feature_data_filtered_zoomed(data_path, 'tpehg1089', df_signals_new, df_feature_peak, 'minutes', \n",
    "                           ['channel_1_filt_0.34_1_hz', 'channel_2_filt_0.34_1_hz', 'channel_3_filt_0.34_1_hz'], \n",
    "                           df_static_information, feature_name='Peak frequency', interval='interval_1', reduced=True)"
   ]
  },
  {
   "cell_type": "code",
   "execution_count": null,
   "metadata": {
    "scrolled": false
   },
   "outputs": [],
   "source": [
    "plot_feature_data_filtered_zoomed(data_path, 'tpehg1089', df_signals_new, df_feature_peak, 'minutes', \n",
    "                           ['channel_1_filt_0.34_1_hz', 'channel_2_filt_0.34_1_hz', 'channel_3_filt_0.34_1_hz'], \n",
    "                           df_static_information, feature_name='Peak frequency', interval='interval_1', reduced=False)"
   ]
  },
  {
   "cell_type": "code",
   "execution_count": null,
   "metadata": {
    "scrolled": true
   },
   "outputs": [],
   "source": [
    "plot_feature_data_filtered_zoomed(data_path, 'tpehg1659', df_signals_new, df_feature_peak, 'minutes', \n",
    "                           ['channel_1_filt_0.34_1_hz', 'channel_2_filt_0.34_1_hz', 'channel_3_filt_0.34_1_hz'], \n",
    "                           df_static_information, feature_name='Peak frequency', interval='interval_2', reduced=True)"
   ]
  },
  {
   "cell_type": "code",
   "execution_count": null,
   "metadata": {
    "scrolled": true
   },
   "outputs": [],
   "source": [
    "plot_feature_data_filtered_zoomed(data_path, 'tpehg1659', df_signals_new, df_feature_peak, 'minutes', \n",
    "                           ['channel_1_filt_0.34_1_hz', 'channel_2_filt_0.34_1_hz', 'channel_3_filt_0.34_1_hz'], \n",
    "                           df_static_information, feature_name='Peak frequency', interval='interval_2', reduced=False)"
   ]
  },
  {
   "cell_type": "code",
   "execution_count": null,
   "metadata": {
    "scrolled": true
   },
   "outputs": [],
   "source": [
    "plot_feature_data_filtered_zoomed(data_path, 'tpehg888', df_signals_new, df_feature_peak, 'minutes', \n",
    "                           ['channel_1_filt_0.34_1_hz', 'channel_2_filt_0.34_1_hz', 'channel_3_filt_0.34_1_hz'], \n",
    "                           df_static_information, feature_name='Peak frequency', interval='interval_5', reduced=True)"
   ]
  },
  {
   "cell_type": "code",
   "execution_count": null,
   "metadata": {
    "scrolled": false
   },
   "outputs": [],
   "source": [
    "plot_feature_data_filtered_zoomed(data_path, 'tpehg888', df_signals_new, df_feature_peak, 'minutes', \n",
    "                           ['channel_1_filt_0.34_1_hz', 'channel_2_filt_0.34_1_hz', 'channel_3_filt_0.34_1_hz'], \n",
    "                           df_static_information, feature_name='Peak frequency', interval='interval_5', reduced=False)"
   ]
  },
  {
   "cell_type": "code",
   "execution_count": null,
   "metadata": {},
   "outputs": [],
   "source": []
  },
  {
   "cell_type": "code",
   "execution_count": null,
   "metadata": {},
   "outputs": [],
   "source": [
    "# Example for in ppt:\n",
    "\n",
    "plot_feature_data_filtered(data_path, 'tpehg1022', df_signals_new, df_feature_peak, 'minutes', \n",
    "                           ['channel_1_filt_0.34_1_hz', 'channel_2_filt_0.34_1_hz', 'channel_3_filt_0.34_1_hz'], \n",
    "                           df_static_information, feature_name='peak frequency')"
   ]
  },
  {
   "cell_type": "code",
   "execution_count": null,
   "metadata": {},
   "outputs": [],
   "source": [
    "# Rec ids and corresponding interval with the lowest probability prediction from X_test\n",
    "# 1360 - interval 2 (0.437269)\n",
    "# 1228 - interval 5 (0.390512)\n",
    "# 697 - interval 2 & 5 (0.351533 & 0.369880)\n",
    "# 1089 - interval 4 (0.420479)\n",
    "# 1492 - interval 2 (0.380132)\n",
    "# 1653 - interval 1 (0.436157)\n",
    "# 927 - interval 2 (0.421770)\n",
    "# 1476 - interval 4 (0.431186)\n",
    "# 1717 - interval 2 (0.402231)"
   ]
  },
  {
   "cell_type": "code",
   "execution_count": null,
   "metadata": {},
   "outputs": [],
   "source": []
  },
  {
   "cell_type": "code",
   "execution_count": null,
   "metadata": {
    "scrolled": true
   },
   "outputs": [],
   "source": [
    "plot_feature_data_filtered_zoomed(data_path, 'tpehg1360', df_signals_new, df_feature_peak, 'minutes', \n",
    "                           ['channel_1_filt_0.34_1_hz', 'channel_2_filt_0.34_1_hz', 'channel_3_filt_0.34_1_hz'], \n",
    "                           df_static_information, feature_name='Peak frequency', interval='interval_2', reduced=True)"
   ]
  },
  {
   "cell_type": "code",
   "execution_count": null,
   "metadata": {},
   "outputs": [],
   "source": [
    "plot_feature_data_filtered_zoomed(data_path, 'tpehg1360', df_signals_new, df_feature_peak, 'minutes', \n",
    "                           ['channel_1_filt_0.34_1_hz', 'channel_2_filt_0.34_1_hz', 'channel_3_filt_0.34_1_hz'], \n",
    "                           df_static_information, feature_name='Peak frequency', interval='interval_2', reduced=False)"
   ]
  },
  {
   "cell_type": "code",
   "execution_count": null,
   "metadata": {
    "scrolled": true
   },
   "outputs": [],
   "source": [
    "plot_feature_data_filtered_zoomed(data_path, 'tpehg1228', df_signals_new, df_feature_peak, 'minutes', \n",
    "                           ['channel_1_filt_0.34_1_hz', 'channel_2_filt_0.34_1_hz', 'channel_3_filt_0.34_1_hz'], \n",
    "                           df_static_information, feature_name='Peak frequency', interval='interval_5', reduced=True)"
   ]
  },
  {
   "cell_type": "code",
   "execution_count": null,
   "metadata": {},
   "outputs": [],
   "source": [
    "plot_feature_data_filtered_zoomed(data_path, 'tpehg1228', df_signals_new, df_feature_peak, 'minutes', \n",
    "                           ['channel_1_filt_0.34_1_hz', 'channel_2_filt_0.34_1_hz', 'channel_3_filt_0.34_1_hz'], \n",
    "                           df_static_information, feature_name='Peak frequency', interval='interval_5', reduced=False)"
   ]
  },
  {
   "cell_type": "code",
   "execution_count": null,
   "metadata": {
    "scrolled": true
   },
   "outputs": [],
   "source": [
    "plot_feature_data_filtered_zoomed(data_path, 'tpehg697', df_signals_new, df_feature_peak, 'minutes', \n",
    "                           ['channel_1_filt_0.34_1_hz', 'channel_2_filt_0.34_1_hz', 'channel_3_filt_0.34_1_hz'], \n",
    "                           df_static_information, feature_name='Peak frequency', interval='interval_2', reduced=True)"
   ]
  },
  {
   "cell_type": "code",
   "execution_count": null,
   "metadata": {},
   "outputs": [],
   "source": [
    "plot_feature_data_filtered_zoomed(data_path, 'tpehg697', df_signals_new, df_feature_peak, 'minutes', \n",
    "                           ['channel_1_filt_0.34_1_hz', 'channel_2_filt_0.34_1_hz', 'channel_3_filt_0.34_1_hz'], \n",
    "                           df_static_information, feature_name='Peak frequency', interval='interval_2', reduced=False)"
   ]
  },
  {
   "cell_type": "code",
   "execution_count": null,
   "metadata": {
    "scrolled": true
   },
   "outputs": [],
   "source": [
    "plot_feature_data_filtered_zoomed(data_path, 'tpehg697', df_signals_new, df_feature_peak, 'minutes', \n",
    "                           ['channel_1_filt_0.34_1_hz', 'channel_2_filt_0.34_1_hz', 'channel_3_filt_0.34_1_hz'], \n",
    "                           df_static_information, feature_name='Peak frequency', interval='interval_5', reduced=True)"
   ]
  },
  {
   "cell_type": "code",
   "execution_count": null,
   "metadata": {},
   "outputs": [],
   "source": [
    "plot_feature_data_filtered_zoomed(data_path, 'tpehg697', df_signals_new, df_feature_peak, 'minutes', \n",
    "                           ['channel_1_filt_0.34_1_hz', 'channel_2_filt_0.34_1_hz', 'channel_3_filt_0.34_1_hz'], \n",
    "                           df_static_information, feature_name='Peak frequency', interval='interval_5', reduced=False)"
   ]
  },
  {
   "cell_type": "code",
   "execution_count": null,
   "metadata": {},
   "outputs": [],
   "source": [
    "plot_feature_data_filtered_zoomed(data_path, 'tpehg1089', df_signals_new, df_feature_peak, 'minutes', \n",
    "                           ['channel_1_filt_0.34_1_hz', 'channel_2_filt_0.34_1_hz', 'channel_3_filt_0.34_1_hz'], \n",
    "                           df_static_information, feature_name='Peak frequency', interval='interval_4', reduced=True)"
   ]
  },
  {
   "cell_type": "code",
   "execution_count": null,
   "metadata": {},
   "outputs": [],
   "source": [
    "plot_feature_data_filtered_zoomed(data_path, 'tpehg1089', df_signals_new, df_feature_peak, 'minutes', \n",
    "                           ['channel_1_filt_0.34_1_hz', 'channel_2_filt_0.34_1_hz', 'channel_3_filt_0.34_1_hz'], \n",
    "                           df_static_information, feature_name='Peak frequency', interval='interval_4', reduced=False)"
   ]
  },
  {
   "cell_type": "code",
   "execution_count": null,
   "metadata": {
    "scrolled": true
   },
   "outputs": [],
   "source": [
    "plot_feature_data_filtered_zoomed(data_path, 'tpehg1492', df_signals_new, df_feature_peak, 'minutes', \n",
    "                           ['channel_1_filt_0.34_1_hz', 'channel_2_filt_0.34_1_hz', 'channel_3_filt_0.34_1_hz'], \n",
    "                           df_static_information, feature_name='Peak frequency', interval='interval_2', reduced=True)"
   ]
  },
  {
   "cell_type": "code",
   "execution_count": null,
   "metadata": {},
   "outputs": [],
   "source": [
    "plot_feature_data_filtered_zoomed(data_path, 'tpehg1492', df_signals_new, df_feature_peak, 'minutes', \n",
    "                           ['channel_1_filt_0.34_1_hz', 'channel_2_filt_0.34_1_hz', 'channel_3_filt_0.34_1_hz'], \n",
    "                           df_static_information, feature_name='Peak frequency', interval='interval_2', reduced=False)"
   ]
  },
  {
   "cell_type": "code",
   "execution_count": null,
   "metadata": {
    "scrolled": true
   },
   "outputs": [],
   "source": [
    "plot_feature_data_filtered_zoomed(data_path, 'tpehg1653', df_signals_new, df_feature_peak, 'minutes', \n",
    "                           ['channel_1_filt_0.34_1_hz', 'channel_2_filt_0.34_1_hz', 'channel_3_filt_0.34_1_hz'], \n",
    "                           df_static_information, feature_name='Peak frequency', interval='interval_1', reduced=True)"
   ]
  },
  {
   "cell_type": "code",
   "execution_count": null,
   "metadata": {
    "scrolled": true
   },
   "outputs": [],
   "source": [
    "plot_feature_data_filtered_zoomed(data_path, 'tpehg1653', df_signals_new, df_feature_peak, 'minutes', \n",
    "                           ['channel_1_filt_0.34_1_hz', 'channel_2_filt_0.34_1_hz', 'channel_3_filt_0.34_1_hz'], \n",
    "                           df_static_information, feature_name='Peak frequency', interval='interval_1', reduced=False)"
   ]
  },
  {
   "cell_type": "code",
   "execution_count": null,
   "metadata": {
    "scrolled": true
   },
   "outputs": [],
   "source": [
    "plot_feature_data_filtered_zoomed(data_path, 'tpehg927', df_signals_new, df_feature_peak, 'minutes', \n",
    "                           ['channel_1_filt_0.34_1_hz', 'channel_2_filt_0.34_1_hz', 'channel_3_filt_0.34_1_hz'], \n",
    "                           df_static_information, feature_name='Peak frequency', interval='interval_2', reduced=True)"
   ]
  },
  {
   "cell_type": "code",
   "execution_count": null,
   "metadata": {
    "scrolled": true
   },
   "outputs": [],
   "source": [
    "plot_feature_data_filtered_zoomed(data_path, 'tpehg927', df_signals_new, df_feature_peak, 'minutes', \n",
    "                           ['channel_1_filt_0.34_1_hz', 'channel_2_filt_0.34_1_hz', 'channel_3_filt_0.34_1_hz'], \n",
    "                           df_static_information, feature_name='Peak frequency', interval='interval_2', reduced=False)"
   ]
  },
  {
   "cell_type": "code",
   "execution_count": null,
   "metadata": {
    "scrolled": true
   },
   "outputs": [],
   "source": [
    "plot_feature_data_filtered_zoomed(data_path, 'tpehg1476', df_signals_new, df_feature_peak, 'minutes', \n",
    "                           ['channel_1_filt_0.34_1_hz', 'channel_2_filt_0.34_1_hz', 'channel_3_filt_0.34_1_hz'], \n",
    "                           df_static_information, feature_name='Peak frequency', interval='interval_4', reduced=True)"
   ]
  },
  {
   "cell_type": "code",
   "execution_count": null,
   "metadata": {},
   "outputs": [],
   "source": [
    "plot_feature_data_filtered_zoomed(data_path, 'tpehg1476', df_signals_new, df_feature_peak, 'minutes', \n",
    "                           ['channel_1_filt_0.34_1_hz', 'channel_2_filt_0.34_1_hz', 'channel_3_filt_0.34_1_hz'], \n",
    "                           df_static_information, feature_name='Peak frequency', interval='interval_4', reduced=False)"
   ]
  },
  {
   "cell_type": "code",
   "execution_count": null,
   "metadata": {
    "scrolled": true
   },
   "outputs": [],
   "source": [
    "plot_feature_data_filtered_zoomed(data_path, 'tpehg1717', df_signals_new, df_feature_peak, 'minutes', \n",
    "                           ['channel_1_filt_0.34_1_hz', 'channel_2_filt_0.34_1_hz', 'channel_3_filt_0.34_1_hz'], \n",
    "                           df_static_information, feature_name='Peak frequency', interval='interval_2', reduced=True)"
   ]
  },
  {
   "cell_type": "code",
   "execution_count": null,
   "metadata": {},
   "outputs": [],
   "source": [
    "plot_feature_data_filtered_zoomed(data_path, 'tpehg1717', df_signals_new, df_feature_peak, 'minutes', \n",
    "                           ['channel_1_filt_0.34_1_hz', 'channel_2_filt_0.34_1_hz', 'channel_3_filt_0.34_1_hz'], \n",
    "                           df_static_information, feature_name='Peak frequency', interval='interval_2', reduced=False)"
   ]
  },
  {
   "cell_type": "code",
   "execution_count": null,
   "metadata": {},
   "outputs": [],
   "source": []
  },
  {
   "cell_type": "code",
   "execution_count": null,
   "metadata": {},
   "outputs": [],
   "source": []
  },
  {
   "cell_type": "code",
   "execution_count": null,
   "metadata": {},
   "outputs": [],
   "source": []
  },
  {
   "cell_type": "code",
   "execution_count": null,
   "metadata": {
    "scrolled": false
   },
   "outputs": [],
   "source": [
    "# Prediction sequence: False, True, True, True, True\n",
    "plot_feature_data_filtered(data_path, 'tpehg858', df_signals, df_feature_peak, 'minutes', \n",
    "                           ['channel_1_filt_0.34_1_hz', 'channel_2_filt_0.34_1_hz', 'channel_3_filt_0.34_1_hz'], \n",
    "                           df_static_information, feature_name='Peak frequency')"
   ]
  },
  {
   "cell_type": "code",
   "execution_count": null,
   "metadata": {},
   "outputs": [],
   "source": [
    "# Prediction sequence: True, True, True, False, True\n",
    "plot_ehg_data_filtered(data_path, 'tpehg641', df_signals, 'minutes', \n",
    "                       ['channel_1_filt_0.34_1_hz', 'channel_2_filt_0.34_1_hz', 'channel_3_filt_0.34_1_hz'], \n",
    "                       df_static_information)"
   ]
  },
  {
   "cell_type": "code",
   "execution_count": null,
   "metadata": {
    "scrolled": false
   },
   "outputs": [],
   "source": [
    "# Prediction sequence: True, True, True, False, True\n",
    "plot_feature_data_filtered(data_path, 'tpehg641', df_signals, df_feature_peak, 'minutes', \n",
    "                       ['channel_1_filt_0.34_1_hz', 'channel_2_filt_0.34_1_hz', 'channel_3_filt_0.34_1_hz'], \n",
    "                       df_static_information, feature_name='Peak frequency')"
   ]
  },
  {
   "cell_type": "code",
   "execution_count": null,
   "metadata": {},
   "outputs": [],
   "source": [
    "# Prediction sequence: True, True, True, True, False\n",
    "plot_ehg_data_filtered(data_path, 'tpehg1532', df_signals, 'minutes', \n",
    "                       ['channel_1_filt_0.34_1_hz', 'channel_2_filt_0.34_1_hz', 'channel_3_filt_0.34_1_hz'], \n",
    "                       df_static_information)"
   ]
  },
  {
   "cell_type": "code",
   "execution_count": null,
   "metadata": {
    "scrolled": true
   },
   "outputs": [],
   "source": [
    "# Prediction sequence: True, True, True, True, False\n",
    "plot_feature_data_filtered(data_path, 'tpehg1532', df_signals, df_feature_peak, 'minutes', \n",
    "                       ['channel_1_filt_0.34_1_hz', 'channel_2_filt_0.34_1_hz', 'channel_3_filt_0.34_1_hz'], \n",
    "                       df_static_information, feature_name='Peak frequency')"
   ]
  },
  {
   "cell_type": "code",
   "execution_count": null,
   "metadata": {
    "scrolled": true
   },
   "outputs": [],
   "source": [
    "# Prediction sequence: True, True, False, True, True\n",
    "plot_ehg_data_filtered(data_path, 'tpehg1436', df_signals, 'minutes', \n",
    "                       ['channel_1_filt_0.34_1_hz', 'channel_2_filt_0.34_1_hz', 'channel_3_filt_0.34_1_hz'], \n",
    "                       df_static_information)"
   ]
  },
  {
   "cell_type": "code",
   "execution_count": null,
   "metadata": {
    "scrolled": true
   },
   "outputs": [],
   "source": [
    "# Prediction sequence: True, True, False, True, True\n",
    "plot_feature_data_filtered(data_path, 'tpehg1436', df_signals, df_feature_peak, 'minutes', \n",
    "                       ['channel_1_filt_0.34_1_hz', 'channel_2_filt_0.34_1_hz', 'channel_3_filt_0.34_1_hz'], \n",
    "                       df_static_information, feature_name='Peak frequency')"
   ]
  },
  {
   "cell_type": "code",
   "execution_count": null,
   "metadata": {},
   "outputs": [],
   "source": [
    "# Prediction sequence: False, True, True, True, True\n",
    "plot_ehg_data_filtered(data_path, 'tpehg1007', df_signals, 'minutes', \n",
    "                       ['channel_1_filt_0.34_1_hz', 'channel_2_filt_0.34_1_hz', 'channel_3_filt_0.34_1_hz'], \n",
    "                       df_static_information)"
   ]
  },
  {
   "cell_type": "code",
   "execution_count": null,
   "metadata": {
    "scrolled": true
   },
   "outputs": [],
   "source": [
    "# Prediction sequence: False, True, True, True, True\n",
    "plot_feature_data_filtered(data_path, 'tpehg1007', df_signals, df_feature_peak, 'minutes', \n",
    "                       ['channel_1_filt_0.34_1_hz', 'channel_2_filt_0.34_1_hz', 'channel_3_filt_0.34_1_hz'], \n",
    "                       df_static_information, feature_name='Peak frequency')"
   ]
  },
  {
   "cell_type": "code",
   "execution_count": null,
   "metadata": {},
   "outputs": [],
   "source": [
    "# Prediction sequence: False, True, True, False, True\n",
    "plot_ehg_data_filtered(data_path, 'tpehg914', df_signals, 'minutes', \n",
    "                       ['channel_1_filt_0.34_1_hz', 'channel_2_filt_0.34_1_hz', 'channel_3_filt_0.34_1_hz'], \n",
    "                       df_static_information)"
   ]
  },
  {
   "cell_type": "code",
   "execution_count": null,
   "metadata": {},
   "outputs": [],
   "source": [
    "# Prediction sequence: False, True, True, True, True\n",
    "plot_feature_data_filtered(data_path, 'tpehg914', df_signals, df_feature_peak, 'minutes', \n",
    "                       ['channel_1_filt_0.34_1_hz', 'channel_2_filt_0.34_1_hz', 'channel_3_filt_0.34_1_hz'], \n",
    "                       df_static_information, feature_name='Peak frequency')"
   ]
  },
  {
   "cell_type": "code",
   "execution_count": null,
   "metadata": {},
   "outputs": [],
   "source": [
    "# Prediction sequence: True, True, True, True, True\n",
    "plot_ehg_data_filtered(data_path, 'tpehg1302', df_signals, 'minutes', \n",
    "                       ['channel_1_filt_0.34_1_hz', 'channel_2_filt_0.34_1_hz', 'channel_3_filt_0.34_1_hz'], \n",
    "                       df_static_information)"
   ]
  },
  {
   "cell_type": "code",
   "execution_count": null,
   "metadata": {},
   "outputs": [],
   "source": [
    "# Prediction sequence: True, True, True, True, True\n",
    "plot_feature_data_filtered(data_path, 'tpehg1302', df_signals, df_feature_peak, 'minutes', \n",
    "                       ['channel_1_filt_0.34_1_hz', 'channel_2_filt_0.34_1_hz', 'channel_3_filt_0.34_1_hz'], \n",
    "                       df_static_information, feature_name='Peak frequency')"
   ]
  },
  {
   "cell_type": "code",
   "execution_count": null,
   "metadata": {},
   "outputs": [],
   "source": [
    "# Prediction sequence: True, True, True, False, True\n",
    "plot_ehg_data_filtered(data_path, 'tpehg1476', df_signals, 'minutes', \n",
    "                       ['channel_1_filt_0.34_1_hz', 'channel_2_filt_0.34_1_hz', 'channel_3_filt_0.34_1_hz'], \n",
    "                       df_static_information)"
   ]
  },
  {
   "cell_type": "code",
   "execution_count": null,
   "metadata": {},
   "outputs": [],
   "source": [
    "# Prediction sequence: True, True, True, False, True\n",
    "plot_feature_data_filtered(data_path, 'tpehg1476', df_signals, df_feature_peak, 'minutes', \n",
    "                       ['channel_1_filt_0.34_1_hz', 'channel_2_filt_0.34_1_hz', 'channel_3_filt_0.34_1_hz'], \n",
    "                       df_static_information, feature_name='Peak frequency')"
   ]
  },
  {
   "cell_type": "code",
   "execution_count": null,
   "metadata": {},
   "outputs": [],
   "source": []
  },
  {
   "cell_type": "code",
   "execution_count": null,
   "metadata": {},
   "outputs": [],
   "source": [
    "df_preterm.head()"
   ]
  },
  {
   "cell_type": "code",
   "execution_count": null,
   "metadata": {},
   "outputs": [],
   "source": [
    "df_static_information.head()"
   ]
  },
  {
   "cell_type": "code",
   "execution_count": null,
   "metadata": {},
   "outputs": [],
   "source": [
    "list(map(lambda word: f\"tpehg{word}\", df_preterm['rec_id'].unique()))"
   ]
  },
  {
   "cell_type": "code",
   "execution_count": null,
   "metadata": {},
   "outputs": [],
   "source": [
    "round(df_static_information['time_between_rec_and_birth'],2).astype(str) + 'weeks'"
   ]
  },
  {
   "cell_type": "code",
   "execution_count": null,
   "metadata": {},
   "outputs": [],
   "source": [
    "import pandas as pd"
   ]
  },
  {
   "cell_type": "code",
   "execution_count": null,
   "metadata": {},
   "outputs": [],
   "source": [
    "def plot_ehg_data2(path_to_data: str, rec_id: str,\n",
    "                  time_units: str, df_static_information: pd.DataFrame, **kwargs):\n",
    "    \"\"\"\"Plot the EHG signal data of one patient (rec_id).\n",
    "\n",
    "    Parameters\n",
    "    ----------\n",
    "    path_to_data : str\n",
    "        Path to folder with the term-preterm database files.\n",
    "    rec_id : str\n",
    "        Name of the record id.\n",
    "    time_units : str\n",
    "        The x axis unit. Allowed options are: 'samples', 'seconds', 'minutes',\n",
    "        and 'hours'.\n",
    "    df_static_information : pd.DataFrame\n",
    "        Dataframe that contains the demographic data of the record id.\n",
    "    kwargs:\n",
    "        Dictionary of parameters to pass to make_subplots.update_xaxes()\n",
    "\n",
    "    Returns\n",
    "    -------\n",
    "    type : plotly.graph_objs\n",
    "        Line plot of the EHG signal data of one record id.\n",
    "    \"\"\"\n",
    "    data_path = Path(f'{path_to_data}')\n",
    "    path_to_signals = data_path / \"tpehgdb\"\n",
    "\n",
    "    colors = ['rgb(67,67,67)', 'rgb(115,115,115)', 'rgb(49,130,189)']\n",
    "\n",
    "    channel_data = ['Channel 1']\n",
    "\n",
    "    min_value_signal = -0.5\n",
    "    max_value_signal = 0.7\n",
    "\n",
    "    line_size = 2\n",
    "    grid = [(1, 1), (2, 1), (3, 1)]\n",
    "\n",
    "    # This record object contains all signal data and its properties (such as sampling rate, etc.) of\n",
    "    # one record id.\n",
    "    record = wfdb.rdrecord(f'{path_to_signals}/{rec_id}')\n",
    "    rec_id = int(record.record_name.split('tpehg')[1])\n",
    "\n",
    "    # The preterm_term_gestation variable contains the gestation length\n",
    "    preterm_term_gestation = df_static_information.query('rec_id==@rec_id')['gestation'].iloc[0]\n",
    "    preterm_term_rec_moment = df_static_information.query('rec_id==@rec_id')['gestation_at_rec_time'].iloc[0]\n",
    "\n",
    "    # Construct time indices for the x-axis\n",
    "    if time_units == 'samples':\n",
    "        t = np.linspace(0, record.sig_len-1, record.sig_len)\n",
    "    else:\n",
    "        downsample_factor = {'seconds': record.fs, 'minutes': record.fs * 60,\n",
    "                             'hours': record.fs * 3600}\n",
    "        t = np.linspace(0, record.sig_len-1, record.sig_len) / downsample_factor[time_units]\n",
    "\n",
    "    # We plot each channel in a separate subplot\n",
    "    fig = make_subplots(rows=3, cols=1,\n",
    "                        subplot_titles=channel_data)\n",
    "\n",
    "\n",
    "    fig.add_trace(go.Scatter(x=t, y=record.p_signal[:, 0], mode='lines',\n",
    "                                 name='</b>Channel 1</b>', line=dict(color=colors[0], width=line_size),\n",
    "                                 connectgaps=True),\n",
    "                      row=grid[0][0],\n",
    "                      col=grid[0][1])\n",
    "    fig.update_yaxes(title_text=record.units[0], range=[min_value_signal, max_value_signal])\n",
    "    \n",
    "    \n",
    "    \n",
    "#     fig.add_trace(go.Scatter(x=t, y=record.p_signal[:, 4], mode='lines',\n",
    "#                                  name='Channel 2', line=dict(color=colors[1], width=line_size),\n",
    "#                                  connectgaps=True),\n",
    "#                       row=grid[1][0],\n",
    "#                       col=grid[1][1])\n",
    "#     fig.update_yaxes(title_text=record.units[4], range=[min_value_signal, max_value_signal])\n",
    "    \n",
    "    \n",
    "    \n",
    "#     fig.add_trace(go.Scatter(x=t, y=record.p_signal[:, 8], mode='lines',\n",
    "#                                  name='Channel 3', line=dict(color=colors[2], width=line_size),\n",
    "#                                  connectgaps=True),\n",
    "#                       row=grid[2][0],\n",
    "#                       col=grid[2][1])\n",
    "#     fig.update_yaxes(title_text=record.units[8], range=[min_value_signal, max_value_signal], tickfont_family=\"Arial Black\")\n",
    "\n",
    "    fig.update_layout(template='plotly_white', height=1100, showlegend=False,\n",
    "                      title=dict(\n",
    "                          text=f'<b>EHG data of patient {rec_id}, gestation: {preterm_term_gestation} wks, '\n",
    "                               f'recording moment: {preterm_term_rec_moment} wks</b>',\n",
    "                          x=0.5,\n",
    "                          y=0.98,\n",
    "                          font=dict(\n",
    "                              family=\"Arial\",\n",
    "                              size=20,\n",
    "                              color='#000000'\n",
    "                          )\n",
    "                      )\n",
    "\n",
    "   )\n",
    "                      \n",
    "    # dtick indicates the tick step and is set in such way that we have approx. 5 ticks on the x axis\n",
    "    if 'range' in kwargs:\n",
    "        dtick = int(np.diff(kwargs['range']) / 5)\n",
    "    else:\n",
    "        dtick = int(max(t) / 5)\n",
    "\n",
    "    fig.update_xaxes(title_text=f'{time_units}', tick0=0, dtick=dtick, tickfont_family=\"Arial Black\", **kwargs)\n",
    "    fig.show()"
   ]
  },
  {
   "cell_type": "code",
   "execution_count": null,
   "metadata": {},
   "outputs": [],
   "source": [
    "data_path = Path(f'{data_path}')\n",
    "path_to_signals = data_path / \"tpehgdb\"\n",
    "record = wfdb.rdrecord(f'{path_to_signals}/tpehg1022')"
   ]
  },
  {
   "cell_type": "code",
   "execution_count": null,
   "metadata": {},
   "outputs": [],
   "source": [
    "record.sig_name"
   ]
  },
  {
   "cell_type": "code",
   "execution_count": null,
   "metadata": {},
   "outputs": [],
   "source": [
    "plot_ehg_data2(data_path, 'tpehg1022', 'minutes', df_static_information)"
   ]
  },
  {
   "cell_type": "code",
   "execution_count": null,
   "metadata": {},
   "outputs": [],
   "source": [
    "plot_ehg_data(data_path, 'tpehg873', 'minutes', df_static_information)"
   ]
  },
  {
   "cell_type": "code",
   "execution_count": null,
   "metadata": {},
   "outputs": [],
   "source": [
    "plot_ehg_data(data_path, 'tpehg1022', 'minutes', df_static_information)"
   ]
  },
  {
   "cell_type": "code",
   "execution_count": null,
   "metadata": {},
   "outputs": [],
   "source": [
    "plot_ehg_data(data_path, 'tpehg1007', 'minutes', df_static_information)"
   ]
  },
  {
   "cell_type": "code",
   "execution_count": null,
   "metadata": {},
   "outputs": [],
   "source": [
    "plot_ehg_data(data_path, 'tpehg1202', 'minutes', df_static_information)"
   ]
  },
  {
   "cell_type": "code",
   "execution_count": null,
   "metadata": {},
   "outputs": [],
   "source": [
    "plot_ehg_data(data_path, 'tpehg1202', 'minutes', df_static_information, range=[7, 10])"
   ]
  },
  {
   "cell_type": "code",
   "execution_count": null,
   "metadata": {},
   "outputs": [],
   "source": [
    "preterm_rec_ids = list(map(lambda word: f\"tpehg{word}\", df_preterm['rec_id'].unique()))"
   ]
  },
  {
   "cell_type": "code",
   "execution_count": null,
   "metadata": {
    "scrolled": true
   },
   "outputs": [],
   "source": [
    "for pre_rec_id in preterm_rec_ids:\n",
    "    plot_ehg_data(data_path, pre_rec_id, 'minutes', df_static_information)"
   ]
  },
  {
   "cell_type": "code",
   "execution_count": null,
   "metadata": {},
   "outputs": [],
   "source": [
    "plot_histogram(df_static_information, 'time_between_rec_and_birth')"
   ]
  },
  {
   "cell_type": "code",
   "execution_count": null,
   "metadata": {},
   "outputs": [],
   "source": [
    "plot_differences_preterm_and_term_patients(df_preterm, df_term, 'time_between_rec_and_birth', categorical=False)"
   ]
  },
  {
   "cell_type": "code",
   "execution_count": null,
   "metadata": {},
   "outputs": [],
   "source": [
    "plot_mean_and_std_variables(df_preterm, df_term, ['time_between_rec_and_birth'])"
   ]
  },
  {
   "cell_type": "code",
   "execution_count": null,
   "metadata": {},
   "outputs": [],
   "source": [
    "plot_distribution_feature(df_static_information, 'time_between_rec_and_birth', categorical=False)"
   ]
  },
  {
   "cell_type": "code",
   "execution_count": null,
   "metadata": {},
   "outputs": [],
   "source": [
    "df_static_information.query('time_between_rec_and_birth < 2.1')"
   ]
  },
  {
   "cell_type": "code",
   "execution_count": null,
   "metadata": {
    "scrolled": false
   },
   "outputs": [],
   "source": [
    "short_time_rec_ids = df_static_information.query('time_between_rec_and_birth < 3')['rec_id'].unique()\n",
    "\n",
    "short_time_rec_ids = list(map(lambda word: f\"tpehg{word}\", short_time_rec_ids))\n",
    "\n",
    "for rec_id in short_time_rec_ids:\n",
    "    plot_ehg_data(data_path, rec_id, 'minutes', df_static_information)"
   ]
  }
 ],
 "metadata": {
  "kernelspec": {
   "display_name": "Python 3 (ipykernel)",
   "language": "python",
   "name": "python3"
  },
  "language_info": {
   "codemirror_mode": {
    "name": "ipython",
    "version": 3
   },
   "file_extension": ".py",
   "mimetype": "text/x-python",
   "name": "python",
   "nbconvert_exporter": "python",
   "pygments_lexer": "ipython3",
   "version": "3.8.8"
  }
 },
 "nbformat": 4,
 "nbformat_minor": 2
}
